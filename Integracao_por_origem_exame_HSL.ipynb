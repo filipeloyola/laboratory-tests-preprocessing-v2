{
  "cells": [
    {
      "cell_type": "markdown",
      "metadata": {
        "id": "I1a8Kg5Dqc7p"
      },
      "source": [
        "### **DADOS DO HOSPITAL SÍRIO-LIBANÊS (HSL)**\n",
        "\n",
        "### Data: 07/07/2025\n",
        "\n",
        "####Filipe Loyola Lopes\n",
        "\n",
        "\n",
        "Informativo: \n",
        "- Análise dos dados com a classificação de gravidade a partir da origem do exame. \n",
        "- Origens dos exames: pronto socorro, internação ou UTI.\n",
        "- Os pacientes foram divididos em quatro grupos e cada grupo classificado como GRAVE ou NÃO_GRAVE, conforme abaixo:\n",
        "\n",
        "GRUPO_0 - pacientes com exames provindos apenas do pronto socorro (NÃO_GRAVE); \n",
        "\n",
        "GRUPO_1 - pacientes com exames provindos do pronto socorro e internação (NÃO_GRAVE);\n",
        "\n",
        "GRUPO_2 - pacientes com exames provindos do pronto socorro e UTI (GRAVE).\n",
        "\n",
        "GRUPO_3 - pacientes com exames provindos do pronto socorro, internação e UTI (GRAVE)."
      ]
    },
    {
      "cell_type": "markdown",
      "metadata": {
        "id": "zTci9Lv09xUV"
      },
      "source": [
        "Links úteis:\n",
        "\n",
        "https://www.vooo.pro/insights/12-tecnicas-pandas-uteis-em-python-para-manipulacao-de-dados/\n",
        "\n",
        "\n",
        "https://medium.com/data-hackers/pandas-combinando-data-frames-com-merge-e-concat-10e7d07ca5ec\n",
        "\n",
        "https://minerandodados.com.br/analise-de-dados-com-python-usando-pandas/\n"
      ]
    },
    {
      "cell_type": "code",
      "execution_count": 192,
      "metadata": {
        "id": "q_7n85N4wtCC"
      },
      "outputs": [],
      "source": [
        "#Bibliotecas\n",
        "\n",
        "import numpy as np\n",
        "import pandas as pd\n",
        "from pandas import DataFrame\n",
        "import csv\n",
        "from numpy import mean\n",
        "from numpy import std\n",
        "from numpy import correlate\n",
        "from numpy.random import randn\n",
        "from numpy.random import seed\n",
        "from matplotlib import pyplot\n",
        "import matplotlib.pyplot as plt\n",
        "import seaborn as sns\n",
        "import pandas_profiling\n",
        "import datetime as dt\n",
        "from matplotlib import pyplot as plt\n",
        "plt.style.use('default')\n",
        "#%matplotlib inline\n",
        "import seaborn as sns\n",
        "import warnings\n",
        "import datetime as dt\n",
        "from datetime import date"
      ]
    },
    {
      "cell_type": "markdown",
      "metadata": {
        "id": "IAW7jQ5V4Ati"
      },
      "source": [
        "  ### **INTEGRAÇÃO DE DADOS**\n",
        "\n",
        "\n",
        "\n",
        "\n",
        "\n",
        "\n",
        "\n",
        "\n",
        "\n",
        "\n",
        "\n",
        "\n",
        "\n",
        "\n",
        "\n",
        "\n",
        "\n",
        "\n",
        "\n"
      ]
    },
    {
      "cell_type": "markdown",
      "metadata": {
        "id": "OzgerK35aXVH"
      },
      "source": [
        "#### **DATASET HSL_PACIENTES**"
      ]
    },
    {
      "cell_type": "code",
      "execution_count": 193,
      "metadata": {
        "colab": {
          "base_uri": "https://localhost:8080/",
          "height": 162
        },
        "id": "mofO09OdXHSU",
        "outputId": "170b71e2-bafb-4bee-e44c-eeec5f171827"
      },
      "outputs": [
        {
          "name": "stdout",
          "output_type": "stream",
          "text": [
            "(14673, 7)\n"
          ]
        },
        {
          "data": {
            "text/html": [
              "<div>\n",
              "<style scoped>\n",
              "    .dataframe tbody tr th:only-of-type {\n",
              "        vertical-align: middle;\n",
              "    }\n",
              "\n",
              "    .dataframe tbody tr th {\n",
              "        vertical-align: top;\n",
              "    }\n",
              "\n",
              "    .dataframe thead th {\n",
              "        text-align: right;\n",
              "    }\n",
              "</style>\n",
              "<table border=\"1\" class=\"dataframe\">\n",
              "  <thead>\n",
              "    <tr style=\"text-align: right;\">\n",
              "      <th></th>\n",
              "      <th>ID_PACIENTE</th>\n",
              "      <th>IC_SEXO</th>\n",
              "      <th>AA_NASCIMENTO</th>\n",
              "      <th>CD_PAIS</th>\n",
              "      <th>CD_UF</th>\n",
              "      <th>CD_MUNICIPIO</th>\n",
              "      <th>CD_CEPREDUZIDO</th>\n",
              "    </tr>\n",
              "  </thead>\n",
              "  <tbody>\n",
              "    <tr>\n",
              "      <th>0</th>\n",
              "      <td>CFF55DA6AFD2DBF06851795AB62AD6CD</td>\n",
              "      <td>M</td>\n",
              "      <td>1970</td>\n",
              "      <td>BR</td>\n",
              "      <td>SP</td>\n",
              "      <td>SAO PAULO</td>\n",
              "      <td>CCCC</td>\n",
              "    </tr>\n",
              "    <tr>\n",
              "      <th>1</th>\n",
              "      <td>E992F42A89FA4E7CE49E9533F14E0268</td>\n",
              "      <td>M</td>\n",
              "      <td>1939</td>\n",
              "      <td>BR</td>\n",
              "      <td>SP</td>\n",
              "      <td>SAO PAULO</td>\n",
              "      <td>CCCC</td>\n",
              "    </tr>\n",
              "    <tr>\n",
              "      <th>2</th>\n",
              "      <td>CC0CAC7E6F8DBC8EE4D3C409D18ACD6F</td>\n",
              "      <td>M</td>\n",
              "      <td>1960</td>\n",
              "      <td>BR</td>\n",
              "      <td>SP</td>\n",
              "      <td>SAO PAULO</td>\n",
              "      <td>CCCC</td>\n",
              "    </tr>\n",
              "  </tbody>\n",
              "</table>\n",
              "</div>"
            ],
            "text/plain": [
              "                        ID_PACIENTE IC_SEXO AA_NASCIMENTO CD_PAIS CD_UF  \\\n",
              "0  CFF55DA6AFD2DBF06851795AB62AD6CD       M          1970      BR    SP   \n",
              "1  E992F42A89FA4E7CE49E9533F14E0268       M          1939      BR    SP   \n",
              "2  CC0CAC7E6F8DBC8EE4D3C409D18ACD6F       M          1960      BR    SP   \n",
              "\n",
              "  CD_MUNICIPIO CD_CEPREDUZIDO  \n",
              "0    SAO PAULO           CCCC  \n",
              "1    SAO PAULO           CCCC  \n",
              "2    SAO PAULO           CCCC  "
            ]
          },
          "execution_count": 193,
          "metadata": {},
          "output_type": "execute_result"
        }
      ],
      "source": [
        "# arquivo \"HSL_Pacientes_3.csv\" referente a janeiro 2021\n",
        "pacientes = pd.read_csv('RawDatasets/HSL_Pacientes_4.csv', sep='|')\n",
        "print(pacientes.shape)\n",
        "pacientes.head(3)"
      ]
    },
    {
      "cell_type": "code",
      "execution_count": 194,
      "metadata": {
        "colab": {
          "base_uri": "https://localhost:8080/"
        },
        "id": "rNqxSTHPh9Q1",
        "outputId": "6ee8f70e-1908-4540-fb10-e1b87f3ad9d3"
      },
      "outputs": [
        {
          "data": {
            "text/plain": [
              "14673"
            ]
          },
          "execution_count": 194,
          "metadata": {},
          "output_type": "execute_result"
        }
      ],
      "source": [
        "#verificando a existência de valores duplicatos\n",
        "pacientes['ID_PACIENTE'].nunique()"
      ]
    },
    {
      "cell_type": "markdown",
      "metadata": {
        "id": "ZNTfwfntapfm"
      },
      "source": [
        "#### **DATASET HSL_EXAMES**"
      ]
    },
    {
      "cell_type": "code",
      "execution_count": 195,
      "metadata": {
        "colab": {
          "base_uri": "https://localhost:8080/",
          "height": 264
        },
        "id": "OAv4GJFFw6Va",
        "outputId": "26870c13-5123-4337-c574-0695544bf5a2"
      },
      "outputs": [
        {
          "name": "stdout",
          "output_type": "stream",
          "text": [
            "(2952999, 9)\n"
          ]
        },
        {
          "data": {
            "text/html": [
              "<div>\n",
              "<style scoped>\n",
              "    .dataframe tbody tr th:only-of-type {\n",
              "        vertical-align: middle;\n",
              "    }\n",
              "\n",
              "    .dataframe tbody tr th {\n",
              "        vertical-align: top;\n",
              "    }\n",
              "\n",
              "    .dataframe thead th {\n",
              "        text-align: right;\n",
              "    }\n",
              "</style>\n",
              "<table border=\"1\" class=\"dataframe\">\n",
              "  <thead>\n",
              "    <tr style=\"text-align: right;\">\n",
              "      <th></th>\n",
              "      <th>ID_PACIENTE</th>\n",
              "      <th>ID_ATENDIMENTO</th>\n",
              "      <th>DT_COLETA</th>\n",
              "      <th>DE_ORIGEM</th>\n",
              "      <th>DE_EXAME</th>\n",
              "      <th>DE_ANALITO</th>\n",
              "      <th>DE_RESULTADO</th>\n",
              "      <th>CD_UNIDADE</th>\n",
              "      <th>DE_VALOR_REFERENCIA</th>\n",
              "    </tr>\n",
              "  </thead>\n",
              "  <tbody>\n",
              "    <tr>\n",
              "      <th>0</th>\n",
              "      <td>9BB15EA1D912994DE467C71E953F6ACC</td>\n",
              "      <td>E7E88B60259AD5C9CF3A837260CB8CC7</td>\n",
              "      <td>22/01/2021</td>\n",
              "      <td>Hemodiálise</td>\n",
              "      <td>17 Hidroxipregnenolona</td>\n",
              "      <td>17-Hidroxi Pregnenolona</td>\n",
              "      <td>23</td>\n",
              "      <td>ng/dL</td>\n",
              "      <td>Ver resultado tradicional</td>\n",
              "    </tr>\n",
              "    <tr>\n",
              "      <th>1</th>\n",
              "      <td>FB48065512F8BFFAE3FC16530785BB57</td>\n",
              "      <td>E9E678082F3C9EA1C8F00DC5881049F6</td>\n",
              "      <td>24/09/2020</td>\n",
              "      <td>Laboratório de Patologia Clínica</td>\n",
              "      <td>17 Hidroxipregnenolona</td>\n",
              "      <td>17-Hidroxi Pregnenolona</td>\n",
              "      <td>27</td>\n",
              "      <td>ng/dL</td>\n",
              "      <td>Ver resultado tradicional</td>\n",
              "    </tr>\n",
              "  </tbody>\n",
              "</table>\n",
              "</div>"
            ],
            "text/plain": [
              "                        ID_PACIENTE                    ID_ATENDIMENTO  \\\n",
              "0  9BB15EA1D912994DE467C71E953F6ACC  E7E88B60259AD5C9CF3A837260CB8CC7   \n",
              "1  FB48065512F8BFFAE3FC16530785BB57  E9E678082F3C9EA1C8F00DC5881049F6   \n",
              "\n",
              "    DT_COLETA                         DE_ORIGEM                DE_EXAME  \\\n",
              "0  22/01/2021                       Hemodiálise  17 Hidroxipregnenolona   \n",
              "1  24/09/2020  Laboratório de Patologia Clínica  17 Hidroxipregnenolona   \n",
              "\n",
              "                DE_ANALITO DE_RESULTADO CD_UNIDADE        DE_VALOR_REFERENCIA  \n",
              "0  17-Hidroxi Pregnenolona           23      ng/dL  Ver resultado tradicional  \n",
              "1  17-Hidroxi Pregnenolona           27      ng/dL  Ver resultado tradicional  "
            ]
          },
          "execution_count": 195,
          "metadata": {},
          "output_type": "execute_result"
        }
      ],
      "source": [
        "# arquivo \"HSL_Exames_3.csv\" \n",
        "sirio_libanes = pd.read_csv('RawDatasets/HSL_Exames_4.csv', sep='|')\n",
        "print(sirio_libanes.shape)\n",
        "sirio_libanes.head(2)"
      ]
    },
    {
      "cell_type": "code",
      "execution_count": 196,
      "metadata": {
        "colab": {
          "base_uri": "https://localhost:8080/"
        },
        "id": "gzTOuE5njIGW",
        "outputId": "8ed55d8d-6d82-424f-9022-fd6da4582227"
      },
      "outputs": [
        {
          "data": {
            "text/plain": [
              "(2899573, 9)"
            ]
          },
          "execution_count": 196,
          "metadata": {},
          "output_type": "execute_result"
        }
      ],
      "source": [
        "#Eliminando exemplos repetidos\n",
        "sirio_libanes = sirio_libanes.drop_duplicates()\n",
        "sirio_libanes.shape"
      ]
    },
    {
      "cell_type": "code",
      "execution_count": 197,
      "metadata": {
        "colab": {
          "base_uri": "https://localhost:8080/"
        },
        "id": "feJz7mh6x-Ex",
        "outputId": "ca167f1c-2741-4f92-e502-7aeb841e9b64"
      },
      "outputs": [
        {
          "data": {
            "text/plain": [
              "1089"
            ]
          },
          "execution_count": 197,
          "metadata": {},
          "output_type": "execute_result"
        }
      ],
      "source": [
        "#verificando analitos unicos \n",
        "\n",
        "sirio_libanes['DE_ANALITO'].nunique()"
      ]
    },
    {
      "cell_type": "markdown",
      "metadata": {
        "id": "LrRNdLiDauxw"
      },
      "source": [
        "#### **DATASET HSL_DESFECHO**"
      ]
    },
    {
      "cell_type": "code",
      "execution_count": 198,
      "metadata": {
        "colab": {
          "base_uri": "https://localhost:8080/"
        },
        "id": "nEtCE4H7zOog",
        "outputId": "8bff8b98-cd11-49e8-a783-6ef7beb25843"
      },
      "outputs": [
        {
          "data": {
            "text/plain": [
              "(89937, 8)"
            ]
          },
          "execution_count": 198,
          "metadata": {},
          "output_type": "execute_result"
        }
      ],
      "source": [
        "# arquivo \"HSL_Desfechos_4.csv\"\n",
        "desfecho = pd.read_csv('RawDatasets/HSL_Desfechos_4.csv', sep='|')\n",
        "desfecho.shape"
      ]
    },
    {
      "cell_type": "code",
      "execution_count": 199,
      "metadata": {
        "colab": {
          "base_uri": "https://localhost:8080/"
        },
        "id": "xFURhoyPoPOD",
        "outputId": "e9563786-8203-4c91-9cd9-39122643b821"
      },
      "outputs": [
        {
          "data": {
            "text/plain": [
              "(89937, 8)"
            ]
          },
          "execution_count": 199,
          "metadata": {},
          "output_type": "execute_result"
        }
      ],
      "source": [
        "#Eliminando exemplos repetidos\n",
        "desfecho = desfecho.drop_duplicates()\n",
        "desfecho.shape"
      ]
    },
    {
      "cell_type": "code",
      "execution_count": 200,
      "metadata": {
        "colab": {
          "base_uri": "https://localhost:8080/",
          "height": 277
        },
        "id": "Ii43dD6_YyJ0",
        "outputId": "c4443fc8-fb1e-48eb-fef7-b92317b34d36"
      },
      "outputs": [
        {
          "data": {
            "text/html": [
              "<div>\n",
              "<style scoped>\n",
              "    .dataframe tbody tr th:only-of-type {\n",
              "        vertical-align: middle;\n",
              "    }\n",
              "\n",
              "    .dataframe tbody tr th {\n",
              "        vertical-align: top;\n",
              "    }\n",
              "\n",
              "    .dataframe thead th {\n",
              "        text-align: right;\n",
              "    }\n",
              "</style>\n",
              "<table border=\"1\" class=\"dataframe\">\n",
              "  <thead>\n",
              "    <tr style=\"text-align: right;\">\n",
              "      <th></th>\n",
              "      <th>ID_PACIENTE</th>\n",
              "      <th>ID_ATENDIMENTO</th>\n",
              "      <th>DT_ATENDIMENTO</th>\n",
              "      <th>DE_TIPO_ATENDIMENTO</th>\n",
              "      <th>ID_CLINICA</th>\n",
              "      <th>DE_CLINICA</th>\n",
              "      <th>DT_DESFECHO</th>\n",
              "      <th>DE_DESFECHO</th>\n",
              "    </tr>\n",
              "  </thead>\n",
              "  <tbody>\n",
              "    <tr>\n",
              "      <th>0</th>\n",
              "      <td>11B85F4A508BF2FA4DB48A6E530C2A5B</td>\n",
              "      <td>713BB4E254E57FA4AB267CF62D957FAF</td>\n",
              "      <td>26/02/2020</td>\n",
              "      <td>Pronto Atendimento</td>\n",
              "      <td>1</td>\n",
              "      <td>Clínica Médica</td>\n",
              "      <td>26/02/2020</td>\n",
              "      <td>Desistência do atendimento</td>\n",
              "    </tr>\n",
              "    <tr>\n",
              "      <th>1</th>\n",
              "      <td>DB7395E28629DF249E99ED182D0CAD24</td>\n",
              "      <td>7CF2CA5CE251F22855C0078E9C6B3314</td>\n",
              "      <td>27/03/2021</td>\n",
              "      <td>Pronto Atendimento</td>\n",
              "      <td>1</td>\n",
              "      <td>Clínica Médica</td>\n",
              "      <td>27/03/2021</td>\n",
              "      <td>Desistência do atendimento</td>\n",
              "    </tr>\n",
              "    <tr>\n",
              "      <th>2</th>\n",
              "      <td>C7EBDE1BD21A2CF01AF35FB00EB86497</td>\n",
              "      <td>4EBB4AB346FFC7C72174E71A6AAC3991</td>\n",
              "      <td>18/01/2021</td>\n",
              "      <td>Pronto Atendimento</td>\n",
              "      <td>42</td>\n",
              "      <td>CL Médica Síndromes Virais</td>\n",
              "      <td>18/01/2021</td>\n",
              "      <td>Desistência do atendimento</td>\n",
              "    </tr>\n",
              "  </tbody>\n",
              "</table>\n",
              "</div>"
            ],
            "text/plain": [
              "                        ID_PACIENTE                    ID_ATENDIMENTO  \\\n",
              "0  11B85F4A508BF2FA4DB48A6E530C2A5B  713BB4E254E57FA4AB267CF62D957FAF   \n",
              "1  DB7395E28629DF249E99ED182D0CAD24  7CF2CA5CE251F22855C0078E9C6B3314   \n",
              "2  C7EBDE1BD21A2CF01AF35FB00EB86497  4EBB4AB346FFC7C72174E71A6AAC3991   \n",
              "\n",
              "  DT_ATENDIMENTO DE_TIPO_ATENDIMENTO  ID_CLINICA                  DE_CLINICA  \\\n",
              "0     26/02/2020  Pronto Atendimento           1              Clínica Médica   \n",
              "1     27/03/2021  Pronto Atendimento           1              Clínica Médica   \n",
              "2     18/01/2021  Pronto Atendimento          42  CL Médica Síndromes Virais   \n",
              "\n",
              "  DT_DESFECHO                 DE_DESFECHO  \n",
              "0  26/02/2020  Desistência do atendimento  \n",
              "1  27/03/2021  Desistência do atendimento  \n",
              "2  18/01/2021  Desistência do atendimento  "
            ]
          },
          "execution_count": 200,
          "metadata": {},
          "output_type": "execute_result"
        }
      ],
      "source": [
        "desfecho.head(3)"
      ]
    },
    {
      "cell_type": "code",
      "execution_count": 201,
      "metadata": {
        "colab": {
          "base_uri": "https://localhost:8080/"
        },
        "id": "4mzK03aYtVpG",
        "outputId": "3e0e36c2-fe58-48bc-ab80-80fc9fc9600f"
      },
      "outputs": [
        {
          "data": {
            "text/plain": [
              "14672"
            ]
          },
          "execution_count": 201,
          "metadata": {},
          "output_type": "execute_result"
        }
      ],
      "source": [
        "desfecho['ID_PACIENTE'].nunique()"
      ]
    },
    {
      "cell_type": "code",
      "execution_count": 202,
      "metadata": {
        "colab": {
          "base_uri": "https://localhost:8080/"
        },
        "id": "urj4fhDs3Ff0",
        "outputId": "745010c2-4255-42b7-aeb9-189a5f22b8f7"
      },
      "outputs": [
        {
          "data": {
            "text/plain": [
              "DE_DESFECHO\n",
              "Alta Administrativa                                                 66908\n",
              "Alta médica melhorado                                               21702\n",
              "Desistência do atendimento                                            401\n",
              "Alta a pedido                                                         261\n",
              "Alta médica Inalterado                                                227\n",
              "Óbito após 48hs de internação sem necrópsia                           172\n",
              "Alta médica curado                                                    129\n",
              "Alta por abandono                                                      65\n",
              "Óbito nas primeiras 48hs de internação sem necrópsia não agônico       27\n",
              "Transferência Inter-Hospitalar Externa - Serviço de Ambulância         27\n",
              "Assistência Domiciliar                                                 11\n",
              "Transferência Inter-Hospitalar Externa - Transporte Próprio             4\n",
              "Óbito nas primeiras 48hs de internação sem necrópsia agônico            2\n",
              "Óbito após 48hs de internação com necrópsia                             1\n",
              "Name: count, dtype: int64"
            ]
          },
          "execution_count": 202,
          "metadata": {},
          "output_type": "execute_result"
        }
      ],
      "source": [
        "desfecho['DE_DESFECHO'].value_counts()"
      ]
    },
    {
      "cell_type": "code",
      "execution_count": 203,
      "metadata": {
        "colab": {
          "base_uri": "https://localhost:8080/"
        },
        "id": "PSQiDBmAqfhN",
        "outputId": "2b0bcb56-d647-4daf-f273-d59f8535a177"
      },
      "outputs": [
        {
          "data": {
            "text/plain": [
              "DE_TIPO_ATENDIMENTO\n",
              "Ambulatorial          39364\n",
              "Externo               26467\n",
              "Pronto Atendimento    19342\n",
              "Internado              4764\n",
              "Name: count, dtype: int64"
            ]
          },
          "execution_count": 203,
          "metadata": {},
          "output_type": "execute_result"
        }
      ],
      "source": [
        "desfecho['DE_TIPO_ATENDIMENTO'].value_counts()"
      ]
    },
    {
      "cell_type": "markdown",
      "metadata": {
        "id": "37iwiyj69lK-"
      },
      "source": [
        "  #### **JUNTANDO DATASET'S**\n",
        "\n",
        "  Exames e desfecho"
      ]
    },
    {
      "cell_type": "code",
      "execution_count": 204,
      "metadata": {
        "colab": {
          "base_uri": "https://localhost:8080/",
          "height": 329
        },
        "id": "6KVwdVcP3_7V",
        "outputId": "1b86990c-5ba8-471a-f91e-38ebd3572fbf"
      },
      "outputs": [
        {
          "data": {
            "text/html": [
              "<div>\n",
              "<style scoped>\n",
              "    .dataframe tbody tr th:only-of-type {\n",
              "        vertical-align: middle;\n",
              "    }\n",
              "\n",
              "    .dataframe tbody tr th {\n",
              "        vertical-align: top;\n",
              "    }\n",
              "\n",
              "    .dataframe thead th {\n",
              "        text-align: right;\n",
              "    }\n",
              "</style>\n",
              "<table border=\"1\" class=\"dataframe\">\n",
              "  <thead>\n",
              "    <tr style=\"text-align: right;\">\n",
              "      <th></th>\n",
              "      <th>ID_PACIENTE</th>\n",
              "      <th>ID_ATENDIMENTO</th>\n",
              "      <th>DT_COLETA</th>\n",
              "      <th>DE_ORIGEM</th>\n",
              "      <th>DE_EXAME</th>\n",
              "      <th>DE_ANALITO</th>\n",
              "      <th>DE_RESULTADO</th>\n",
              "      <th>CD_UNIDADE</th>\n",
              "      <th>DE_VALOR_REFERENCIA</th>\n",
              "      <th>DT_ATENDIMENTO</th>\n",
              "      <th>DE_TIPO_ATENDIMENTO</th>\n",
              "      <th>ID_CLINICA</th>\n",
              "      <th>DE_CLINICA</th>\n",
              "      <th>DT_DESFECHO</th>\n",
              "      <th>DE_DESFECHO</th>\n",
              "    </tr>\n",
              "  </thead>\n",
              "  <tbody>\n",
              "    <tr>\n",
              "      <th>0</th>\n",
              "      <td>9BB15EA1D912994DE467C71E953F6ACC</td>\n",
              "      <td>E7E88B60259AD5C9CF3A837260CB8CC7</td>\n",
              "      <td>22/01/2021</td>\n",
              "      <td>Hemodiálise</td>\n",
              "      <td>17 Hidroxipregnenolona</td>\n",
              "      <td>17-Hidroxi Pregnenolona</td>\n",
              "      <td>23</td>\n",
              "      <td>ng/dL</td>\n",
              "      <td>Ver resultado tradicional</td>\n",
              "      <td>18/01/2021</td>\n",
              "      <td>Ambulatorial</td>\n",
              "      <td>15.0</td>\n",
              "      <td>Hemodiálise</td>\n",
              "      <td>22/01/2021</td>\n",
              "      <td>Alta Administrativa</td>\n",
              "    </tr>\n",
              "    <tr>\n",
              "      <th>1</th>\n",
              "      <td>FB48065512F8BFFAE3FC16530785BB57</td>\n",
              "      <td>E9E678082F3C9EA1C8F00DC5881049F6</td>\n",
              "      <td>24/09/2020</td>\n",
              "      <td>Laboratório de Patologia Clínica</td>\n",
              "      <td>17 Hidroxipregnenolona</td>\n",
              "      <td>17-Hidroxi Pregnenolona</td>\n",
              "      <td>27</td>\n",
              "      <td>ng/dL</td>\n",
              "      <td>Ver resultado tradicional</td>\n",
              "      <td>24/09/2020</td>\n",
              "      <td>Externo</td>\n",
              "      <td>20.0</td>\n",
              "      <td>Procedimentos</td>\n",
              "      <td>24/09/2020</td>\n",
              "      <td>Alta Administrativa</td>\n",
              "    </tr>\n",
              "    <tr>\n",
              "      <th>2</th>\n",
              "      <td>5ABF34B0AE202F876BDAA0F338881BC1</td>\n",
              "      <td>248AD10D114DEC5A0FF184548FAD4EDA</td>\n",
              "      <td>25/02/2021</td>\n",
              "      <td>Recepção do Centro Diagnóstico</td>\n",
              "      <td>17 Hidroxipregnenolona</td>\n",
              "      <td>17-Hidroxi Pregnenolona</td>\n",
              "      <td>50</td>\n",
              "      <td>ng/dL</td>\n",
              "      <td>Ver resultado tradicional</td>\n",
              "      <td>25/02/2021</td>\n",
              "      <td>Externo</td>\n",
              "      <td>20.0</td>\n",
              "      <td>Procedimentos</td>\n",
              "      <td>25/02/2021</td>\n",
              "      <td>Alta Administrativa</td>\n",
              "    </tr>\n",
              "  </tbody>\n",
              "</table>\n",
              "</div>"
            ],
            "text/plain": [
              "                        ID_PACIENTE                    ID_ATENDIMENTO  \\\n",
              "0  9BB15EA1D912994DE467C71E953F6ACC  E7E88B60259AD5C9CF3A837260CB8CC7   \n",
              "1  FB48065512F8BFFAE3FC16530785BB57  E9E678082F3C9EA1C8F00DC5881049F6   \n",
              "2  5ABF34B0AE202F876BDAA0F338881BC1  248AD10D114DEC5A0FF184548FAD4EDA   \n",
              "\n",
              "    DT_COLETA                         DE_ORIGEM                DE_EXAME  \\\n",
              "0  22/01/2021                       Hemodiálise  17 Hidroxipregnenolona   \n",
              "1  24/09/2020  Laboratório de Patologia Clínica  17 Hidroxipregnenolona   \n",
              "2  25/02/2021    Recepção do Centro Diagnóstico  17 Hidroxipregnenolona   \n",
              "\n",
              "                DE_ANALITO DE_RESULTADO CD_UNIDADE        DE_VALOR_REFERENCIA  \\\n",
              "0  17-Hidroxi Pregnenolona           23      ng/dL  Ver resultado tradicional   \n",
              "1  17-Hidroxi Pregnenolona           27      ng/dL  Ver resultado tradicional   \n",
              "2  17-Hidroxi Pregnenolona           50      ng/dL  Ver resultado tradicional   \n",
              "\n",
              "  DT_ATENDIMENTO DE_TIPO_ATENDIMENTO  ID_CLINICA     DE_CLINICA DT_DESFECHO  \\\n",
              "0     18/01/2021        Ambulatorial        15.0    Hemodiálise  22/01/2021   \n",
              "1     24/09/2020             Externo        20.0  Procedimentos  24/09/2020   \n",
              "2     25/02/2021             Externo        20.0  Procedimentos  25/02/2021   \n",
              "\n",
              "           DE_DESFECHO  \n",
              "0  Alta Administrativa  \n",
              "1  Alta Administrativa  \n",
              "2  Alta Administrativa  "
            ]
          },
          "execution_count": 204,
          "metadata": {},
          "output_type": "execute_result"
        }
      ],
      "source": [
        "#adiciona colunas do dataset 'desfecho' na frente dos repectivos id_paciente e id_atendimento iguais\n",
        "sirio = sirio_libanes.merge(desfecho, on = [\"ID_PACIENTE\", \"ID_ATENDIMENTO\"], how = \"left\")\n",
        "sirio.head(3)"
      ]
    },
    {
      "cell_type": "code",
      "execution_count": 205,
      "metadata": {
        "colab": {
          "base_uri": "https://localhost:8080/"
        },
        "id": "e39nYB2iJ6k9",
        "outputId": "bb632b60-b5fb-4aa0-a09f-e652c1a9bf11"
      },
      "outputs": [
        {
          "data": {
            "text/plain": [
              "(2899573, 15)"
            ]
          },
          "execution_count": 205,
          "metadata": {},
          "output_type": "execute_result"
        }
      ],
      "source": [
        "sirio.shape"
      ]
    },
    {
      "cell_type": "code",
      "execution_count": 206,
      "metadata": {
        "colab": {
          "base_uri": "https://localhost:8080/",
          "height": 179
        },
        "id": "WaItjujiO6-u",
        "outputId": "937c6eb6-0659-4764-a783-a2039edc188d"
      },
      "outputs": [
        {
          "data": {
            "text/html": [
              "<div>\n",
              "<style scoped>\n",
              "    .dataframe tbody tr th:only-of-type {\n",
              "        vertical-align: middle;\n",
              "    }\n",
              "\n",
              "    .dataframe tbody tr th {\n",
              "        vertical-align: top;\n",
              "    }\n",
              "\n",
              "    .dataframe thead th {\n",
              "        text-align: right;\n",
              "    }\n",
              "</style>\n",
              "<table border=\"1\" class=\"dataframe\">\n",
              "  <thead>\n",
              "    <tr style=\"text-align: right;\">\n",
              "      <th></th>\n",
              "      <th>ID_PACIENTE</th>\n",
              "      <th>ID_ATENDIMENTO</th>\n",
              "      <th>DT_COLETA</th>\n",
              "      <th>DE_ORIGEM</th>\n",
              "      <th>DE_EXAME</th>\n",
              "      <th>DE_ANALITO</th>\n",
              "      <th>DE_RESULTADO</th>\n",
              "      <th>CD_UNIDADE</th>\n",
              "      <th>DE_VALOR_REFERENCIA</th>\n",
              "      <th>DT_ATENDIMENTO</th>\n",
              "      <th>DE_TIPO_ATENDIMENTO</th>\n",
              "      <th>ID_CLINICA</th>\n",
              "      <th>DE_CLINICA</th>\n",
              "      <th>DT_DESFECHO</th>\n",
              "      <th>DE_DESFECHO</th>\n",
              "    </tr>\n",
              "  </thead>\n",
              "  <tbody>\n",
              "    <tr>\n",
              "      <th>0</th>\n",
              "      <td>9BB15EA1D912994DE467C71E953F6ACC</td>\n",
              "      <td>E7E88B60259AD5C9CF3A837260CB8CC7</td>\n",
              "      <td>22/01/2021</td>\n",
              "      <td>Hemodiálise</td>\n",
              "      <td>17 Hidroxipregnenolona</td>\n",
              "      <td>17-Hidroxi Pregnenolona</td>\n",
              "      <td>23</td>\n",
              "      <td>ng/dL</td>\n",
              "      <td>Ver resultado tradicional</td>\n",
              "      <td>18/01/2021</td>\n",
              "      <td>Ambulatorial</td>\n",
              "      <td>15.0</td>\n",
              "      <td>Hemodiálise</td>\n",
              "      <td>22/01/2021</td>\n",
              "      <td>Alta Administrativa</td>\n",
              "    </tr>\n",
              "  </tbody>\n",
              "</table>\n",
              "</div>"
            ],
            "text/plain": [
              "                        ID_PACIENTE                    ID_ATENDIMENTO  \\\n",
              "0  9BB15EA1D912994DE467C71E953F6ACC  E7E88B60259AD5C9CF3A837260CB8CC7   \n",
              "\n",
              "    DT_COLETA    DE_ORIGEM                DE_EXAME               DE_ANALITO  \\\n",
              "0  22/01/2021  Hemodiálise  17 Hidroxipregnenolona  17-Hidroxi Pregnenolona   \n",
              "\n",
              "  DE_RESULTADO CD_UNIDADE        DE_VALOR_REFERENCIA DT_ATENDIMENTO  \\\n",
              "0           23      ng/dL  Ver resultado tradicional     18/01/2021   \n",
              "\n",
              "  DE_TIPO_ATENDIMENTO  ID_CLINICA   DE_CLINICA DT_DESFECHO  \\\n",
              "0        Ambulatorial        15.0  Hemodiálise  22/01/2021   \n",
              "\n",
              "           DE_DESFECHO  \n",
              "0  Alta Administrativa  "
            ]
          },
          "execution_count": 206,
          "metadata": {},
          "output_type": "execute_result"
        }
      ],
      "source": [
        "sirio.head(1)"
      ]
    },
    {
      "cell_type": "code",
      "execution_count": 207,
      "metadata": {
        "colab": {
          "base_uri": "https://localhost:8080/",
          "height": 81
        },
        "id": "CXqDz7WBO-NM",
        "outputId": "44779b55-ceb7-4bb4-c39f-10c78c5adb28"
      },
      "outputs": [
        {
          "data": {
            "text/html": [
              "<div>\n",
              "<style scoped>\n",
              "    .dataframe tbody tr th:only-of-type {\n",
              "        vertical-align: middle;\n",
              "    }\n",
              "\n",
              "    .dataframe tbody tr th {\n",
              "        vertical-align: top;\n",
              "    }\n",
              "\n",
              "    .dataframe thead th {\n",
              "        text-align: right;\n",
              "    }\n",
              "</style>\n",
              "<table border=\"1\" class=\"dataframe\">\n",
              "  <thead>\n",
              "    <tr style=\"text-align: right;\">\n",
              "      <th></th>\n",
              "      <th>ID_PACIENTE</th>\n",
              "      <th>IC_SEXO</th>\n",
              "      <th>AA_NASCIMENTO</th>\n",
              "      <th>CD_PAIS</th>\n",
              "      <th>CD_UF</th>\n",
              "      <th>CD_MUNICIPIO</th>\n",
              "      <th>CD_CEPREDUZIDO</th>\n",
              "    </tr>\n",
              "  </thead>\n",
              "  <tbody>\n",
              "    <tr>\n",
              "      <th>0</th>\n",
              "      <td>CFF55DA6AFD2DBF06851795AB62AD6CD</td>\n",
              "      <td>M</td>\n",
              "      <td>1970</td>\n",
              "      <td>BR</td>\n",
              "      <td>SP</td>\n",
              "      <td>SAO PAULO</td>\n",
              "      <td>CCCC</td>\n",
              "    </tr>\n",
              "  </tbody>\n",
              "</table>\n",
              "</div>"
            ],
            "text/plain": [
              "                        ID_PACIENTE IC_SEXO AA_NASCIMENTO CD_PAIS CD_UF  \\\n",
              "0  CFF55DA6AFD2DBF06851795AB62AD6CD       M          1970      BR    SP   \n",
              "\n",
              "  CD_MUNICIPIO CD_CEPREDUZIDO  \n",
              "0    SAO PAULO           CCCC  "
            ]
          },
          "execution_count": 207,
          "metadata": {},
          "output_type": "execute_result"
        }
      ],
      "source": [
        "pacientes.head(1)"
      ]
    },
    {
      "cell_type": "markdown",
      "metadata": {
        "id": "_EDUG4AhX-j1"
      },
      "source": [
        "https://medium.com/data-hackers/pandas-combinando-data-frames-com-merge-e-concat-10e7d07ca5ec\n",
        "\n"
      ]
    },
    {
      "cell_type": "markdown",
      "metadata": {
        "id": "r0sG1al_bEhO"
      },
      "source": [
        "Obtendo SEXO e Ano de nascimento da planilha HSL_PACIENTES"
      ]
    },
    {
      "cell_type": "code",
      "execution_count": 208,
      "metadata": {
        "colab": {
          "base_uri": "https://localhost:8080/",
          "height": 81
        },
        "id": "GqMRPNCYZAP2",
        "outputId": "2057f5c9-a956-4b7f-a010-3483f20bbcaf"
      },
      "outputs": [
        {
          "data": {
            "text/html": [
              "<div>\n",
              "<style scoped>\n",
              "    .dataframe tbody tr th:only-of-type {\n",
              "        vertical-align: middle;\n",
              "    }\n",
              "\n",
              "    .dataframe tbody tr th {\n",
              "        vertical-align: top;\n",
              "    }\n",
              "\n",
              "    .dataframe thead th {\n",
              "        text-align: right;\n",
              "    }\n",
              "</style>\n",
              "<table border=\"1\" class=\"dataframe\">\n",
              "  <thead>\n",
              "    <tr style=\"text-align: right;\">\n",
              "      <th></th>\n",
              "      <th>ID_PACIENTE</th>\n",
              "      <th>AA_NASCIMENTO</th>\n",
              "      <th>IC_SEXO</th>\n",
              "    </tr>\n",
              "  </thead>\n",
              "  <tbody>\n",
              "    <tr>\n",
              "      <th>0</th>\n",
              "      <td>CFF55DA6AFD2DBF06851795AB62AD6CD</td>\n",
              "      <td>1970</td>\n",
              "      <td>M</td>\n",
              "    </tr>\n",
              "  </tbody>\n",
              "</table>\n",
              "</div>"
            ],
            "text/plain": [
              "                        ID_PACIENTE AA_NASCIMENTO IC_SEXO\n",
              "0  CFF55DA6AFD2DBF06851795AB62AD6CD          1970       M"
            ]
          },
          "execution_count": 208,
          "metadata": {},
          "output_type": "execute_result"
        }
      ],
      "source": [
        "pacientes_2 = pacientes[['ID_PACIENTE','AA_NASCIMENTO','IC_SEXO']]\n",
        "\n",
        "pacientes_2.head(1)"
      ]
    },
    {
      "cell_type": "markdown",
      "metadata": {
        "id": "HJBnQjFW6bOX"
      },
      "source": [
        "#### **DATASET SIRIO**"
      ]
    },
    {
      "cell_type": "code",
      "execution_count": 209,
      "metadata": {
        "colab": {
          "base_uri": "https://localhost:8080/",
          "height": 329
        },
        "id": "kWeJ_oIgNsiu",
        "outputId": "4e3522d9-e547-4875-98a7-2a4b7d821862"
      },
      "outputs": [
        {
          "data": {
            "text/html": [
              "<div>\n",
              "<style scoped>\n",
              "    .dataframe tbody tr th:only-of-type {\n",
              "        vertical-align: middle;\n",
              "    }\n",
              "\n",
              "    .dataframe tbody tr th {\n",
              "        vertical-align: top;\n",
              "    }\n",
              "\n",
              "    .dataframe thead th {\n",
              "        text-align: right;\n",
              "    }\n",
              "</style>\n",
              "<table border=\"1\" class=\"dataframe\">\n",
              "  <thead>\n",
              "    <tr style=\"text-align: right;\">\n",
              "      <th></th>\n",
              "      <th>ID_PACIENTE</th>\n",
              "      <th>ID_ATENDIMENTO</th>\n",
              "      <th>DT_COLETA</th>\n",
              "      <th>DE_ORIGEM</th>\n",
              "      <th>DE_EXAME</th>\n",
              "      <th>DE_ANALITO</th>\n",
              "      <th>DE_RESULTADO</th>\n",
              "      <th>CD_UNIDADE</th>\n",
              "      <th>DE_VALOR_REFERENCIA</th>\n",
              "      <th>DT_ATENDIMENTO</th>\n",
              "      <th>DE_TIPO_ATENDIMENTO</th>\n",
              "      <th>ID_CLINICA</th>\n",
              "      <th>DE_CLINICA</th>\n",
              "      <th>DT_DESFECHO</th>\n",
              "      <th>DE_DESFECHO</th>\n",
              "      <th>AA_NASCIMENTO</th>\n",
              "      <th>IC_SEXO</th>\n",
              "    </tr>\n",
              "  </thead>\n",
              "  <tbody>\n",
              "    <tr>\n",
              "      <th>0</th>\n",
              "      <td>9BB15EA1D912994DE467C71E953F6ACC</td>\n",
              "      <td>E7E88B60259AD5C9CF3A837260CB8CC7</td>\n",
              "      <td>22/01/2021</td>\n",
              "      <td>Hemodiálise</td>\n",
              "      <td>17 Hidroxipregnenolona</td>\n",
              "      <td>17-Hidroxi Pregnenolona</td>\n",
              "      <td>23</td>\n",
              "      <td>ng/dL</td>\n",
              "      <td>Ver resultado tradicional</td>\n",
              "      <td>18/01/2021</td>\n",
              "      <td>Ambulatorial</td>\n",
              "      <td>15.0</td>\n",
              "      <td>Hemodiálise</td>\n",
              "      <td>22/01/2021</td>\n",
              "      <td>Alta Administrativa</td>\n",
              "      <td>1987</td>\n",
              "      <td>F</td>\n",
              "    </tr>\n",
              "    <tr>\n",
              "      <th>1</th>\n",
              "      <td>FB48065512F8BFFAE3FC16530785BB57</td>\n",
              "      <td>E9E678082F3C9EA1C8F00DC5881049F6</td>\n",
              "      <td>24/09/2020</td>\n",
              "      <td>Laboratório de Patologia Clínica</td>\n",
              "      <td>17 Hidroxipregnenolona</td>\n",
              "      <td>17-Hidroxi Pregnenolona</td>\n",
              "      <td>27</td>\n",
              "      <td>ng/dL</td>\n",
              "      <td>Ver resultado tradicional</td>\n",
              "      <td>24/09/2020</td>\n",
              "      <td>Externo</td>\n",
              "      <td>20.0</td>\n",
              "      <td>Procedimentos</td>\n",
              "      <td>24/09/2020</td>\n",
              "      <td>Alta Administrativa</td>\n",
              "      <td>1994</td>\n",
              "      <td>F</td>\n",
              "    </tr>\n",
              "    <tr>\n",
              "      <th>2</th>\n",
              "      <td>5ABF34B0AE202F876BDAA0F338881BC1</td>\n",
              "      <td>248AD10D114DEC5A0FF184548FAD4EDA</td>\n",
              "      <td>25/02/2021</td>\n",
              "      <td>Recepção do Centro Diagnóstico</td>\n",
              "      <td>17 Hidroxipregnenolona</td>\n",
              "      <td>17-Hidroxi Pregnenolona</td>\n",
              "      <td>50</td>\n",
              "      <td>ng/dL</td>\n",
              "      <td>Ver resultado tradicional</td>\n",
              "      <td>25/02/2021</td>\n",
              "      <td>Externo</td>\n",
              "      <td>20.0</td>\n",
              "      <td>Procedimentos</td>\n",
              "      <td>25/02/2021</td>\n",
              "      <td>Alta Administrativa</td>\n",
              "      <td>1979</td>\n",
              "      <td>F</td>\n",
              "    </tr>\n",
              "  </tbody>\n",
              "</table>\n",
              "</div>"
            ],
            "text/plain": [
              "                        ID_PACIENTE                    ID_ATENDIMENTO  \\\n",
              "0  9BB15EA1D912994DE467C71E953F6ACC  E7E88B60259AD5C9CF3A837260CB8CC7   \n",
              "1  FB48065512F8BFFAE3FC16530785BB57  E9E678082F3C9EA1C8F00DC5881049F6   \n",
              "2  5ABF34B0AE202F876BDAA0F338881BC1  248AD10D114DEC5A0FF184548FAD4EDA   \n",
              "\n",
              "    DT_COLETA                         DE_ORIGEM                DE_EXAME  \\\n",
              "0  22/01/2021                       Hemodiálise  17 Hidroxipregnenolona   \n",
              "1  24/09/2020  Laboratório de Patologia Clínica  17 Hidroxipregnenolona   \n",
              "2  25/02/2021    Recepção do Centro Diagnóstico  17 Hidroxipregnenolona   \n",
              "\n",
              "                DE_ANALITO DE_RESULTADO CD_UNIDADE        DE_VALOR_REFERENCIA  \\\n",
              "0  17-Hidroxi Pregnenolona           23      ng/dL  Ver resultado tradicional   \n",
              "1  17-Hidroxi Pregnenolona           27      ng/dL  Ver resultado tradicional   \n",
              "2  17-Hidroxi Pregnenolona           50      ng/dL  Ver resultado tradicional   \n",
              "\n",
              "  DT_ATENDIMENTO DE_TIPO_ATENDIMENTO  ID_CLINICA     DE_CLINICA DT_DESFECHO  \\\n",
              "0     18/01/2021        Ambulatorial        15.0    Hemodiálise  22/01/2021   \n",
              "1     24/09/2020             Externo        20.0  Procedimentos  24/09/2020   \n",
              "2     25/02/2021             Externo        20.0  Procedimentos  25/02/2021   \n",
              "\n",
              "           DE_DESFECHO AA_NASCIMENTO IC_SEXO  \n",
              "0  Alta Administrativa          1987       F  \n",
              "1  Alta Administrativa          1994       F  \n",
              "2  Alta Administrativa          1979       F  "
            ]
          },
          "execution_count": 209,
          "metadata": {},
          "output_type": "execute_result"
        }
      ],
      "source": [
        "#adiciona a coluna aa_nacimento do dataframe pacientes em sirio\n",
        "sirio = sirio.merge(pacientes_2, on=['ID_PACIENTE'], how='left')\n",
        "sirio.head(3)"
      ]
    },
    {
      "cell_type": "code",
      "execution_count": 210,
      "metadata": {
        "colab": {
          "base_uri": "https://localhost:8080/"
        },
        "id": "iUkX4q7dt4CD",
        "outputId": "4a2a92fe-07b8-4c62-9821-aa06d497383f"
      },
      "outputs": [
        {
          "data": {
            "text/plain": [
              "(2899573, 17)"
            ]
          },
          "execution_count": 210,
          "metadata": {},
          "output_type": "execute_result"
        }
      ],
      "source": [
        "sirio.shape"
      ]
    },
    {
      "cell_type": "code",
      "execution_count": 211,
      "metadata": {
        "colab": {
          "base_uri": "https://localhost:8080/"
        },
        "id": "gzqISfOC76Og",
        "outputId": "41842574-f83c-45a1-bf84-2e16b1490539"
      },
      "outputs": [
        {
          "data": {
            "text/plain": [
              "14673"
            ]
          },
          "execution_count": 211,
          "metadata": {},
          "output_type": "execute_result"
        }
      ],
      "source": [
        "sirio['ID_PACIENTE'].nunique()"
      ]
    },
    {
      "cell_type": "markdown",
      "metadata": {
        "id": "iG5P54WQagu0"
      },
      "source": [
        "---\n",
        "\n",
        "#### **VERIFICANDO VALORES NULOS**"
      ]
    },
    {
      "cell_type": "code",
      "execution_count": 212,
      "metadata": {
        "colab": {
          "base_uri": "https://localhost:8080/",
          "height": 162
        },
        "id": "Nw5KXqPyaf3V",
        "outputId": "9dc15b3a-e1eb-4bd5-d4aa-352ebb7f7c00"
      },
      "outputs": [
        {
          "name": "stdout",
          "output_type": "stream",
          "text": [
            "(2615071, 3)\n"
          ]
        },
        {
          "data": {
            "text/html": [
              "<div>\n",
              "<style scoped>\n",
              "    .dataframe tbody tr th:only-of-type {\n",
              "        vertical-align: middle;\n",
              "    }\n",
              "\n",
              "    .dataframe tbody tr th {\n",
              "        vertical-align: top;\n",
              "    }\n",
              "\n",
              "    .dataframe thead th {\n",
              "        text-align: right;\n",
              "    }\n",
              "</style>\n",
              "<table border=\"1\" class=\"dataframe\">\n",
              "  <thead>\n",
              "    <tr style=\"text-align: right;\">\n",
              "      <th></th>\n",
              "      <th>chave</th>\n",
              "      <th>analito</th>\n",
              "      <th>resultado</th>\n",
              "    </tr>\n",
              "  </thead>\n",
              "  <tbody>\n",
              "    <tr>\n",
              "      <th>0</th>\n",
              "      <td>000150DB429AFF026ECD130B0A076CEF.644998DCF29A2...</td>\n",
              "      <td>Coronavírus (2019-nCoV)</td>\n",
              "      <td>DETECTADO (POSITIVO)</td>\n",
              "    </tr>\n",
              "    <tr>\n",
              "      <th>1</th>\n",
              "      <td>000150DB429AFF026ECD130B0A076CEF.644998DCF29A2...</td>\n",
              "      <td>Material (2019-nCoV)</td>\n",
              "      <td>raspado de material do trato respiratório</td>\n",
              "    </tr>\n",
              "    <tr>\n",
              "      <th>2</th>\n",
              "      <td>00017961865C4F766FDBB3CD8FE0BFB0.B57529234B613...</td>\n",
              "      <td>ALT (TGP)</td>\n",
              "      <td>26</td>\n",
              "    </tr>\n",
              "  </tbody>\n",
              "</table>\n",
              "</div>"
            ],
            "text/plain": [
              "                                               chave                  analito  \\\n",
              "0  000150DB429AFF026ECD130B0A076CEF.644998DCF29A2...  Coronavírus (2019-nCoV)   \n",
              "1  000150DB429AFF026ECD130B0A076CEF.644998DCF29A2...     Material (2019-nCoV)   \n",
              "2  00017961865C4F766FDBB3CD8FE0BFB0.B57529234B613...                ALT (TGP)   \n",
              "\n",
              "                                   resultado  \n",
              "0                       DETECTADO (POSITIVO)  \n",
              "1  raspado de material do trato respiratório  \n",
              "2                                         26  "
            ]
          },
          "execution_count": 212,
          "metadata": {},
          "output_type": "execute_result"
        }
      ],
      "source": [
        "# cópia profunda do dataframe para não alterar o df original\n",
        "sirio2 = sirio.copy(deep=True)\n",
        "\n",
        "# Considera apenas o último exame no caso de repetidos no mesmo dia.\n",
        "sirio2 = sirio2.groupby(['ID_PACIENTE', 'ID_ATENDIMENTO','DT_COLETA','DE_ANALITO']).agg({'DE_RESULTADO' : ['last']}).reset_index()\n",
        "\n",
        "# solucionando nome colunas dois niveis\n",
        "sirio2.columns = [ '_'.join(x) for x in sirio2.columns ]\n",
        "\n",
        "# criando chave a partir de ID_PACIENTE, ID_ATENDIMENTO e DT_COLETA \n",
        "sirio2['chave'] = sirio2['ID_PACIENTE_']+'.'+sirio2['ID_ATENDIMENTO_']+'.'+sirio2['DT_COLETA_']\n",
        "\n",
        "sirio2 = sirio2[['chave','DE_ANALITO_','DE_RESULTADO_last']]\n",
        "\n",
        "sirio2.columns = ['chave', 'analito','resultado']\n",
        "\n",
        "print(sirio2.shape)\n",
        "\n",
        "sirio2.head(3)"
      ]
    },
    {
      "cell_type": "code",
      "execution_count": 213,
      "metadata": {
        "colab": {
          "base_uri": "https://localhost:8080/",
          "height": 370
        },
        "id": "YMCpCQIOc_WP",
        "outputId": "a5689307-69ca-43d8-9d58-fb65528613cf"
      },
      "outputs": [
        {
          "name": "stdout",
          "output_type": "stream",
          "text": [
            "(76084, 1090)\n"
          ]
        },
        {
          "data": {
            "text/html": [
              "<div>\n",
              "<style scoped>\n",
              "    .dataframe tbody tr th:only-of-type {\n",
              "        vertical-align: middle;\n",
              "    }\n",
              "\n",
              "    .dataframe tbody tr th {\n",
              "        vertical-align: top;\n",
              "    }\n",
              "\n",
              "    .dataframe thead th {\n",
              "        text-align: right;\n",
              "    }\n",
              "</style>\n",
              "<table border=\"1\" class=\"dataframe\">\n",
              "  <thead>\n",
              "    <tr style=\"text-align: right;\">\n",
              "      <th>analito</th>\n",
              "      <th>chave</th>\n",
              "      <th>11-Desoxicorticosterona</th>\n",
              "      <th>11-Desoxicortisol</th>\n",
              "      <th>17-Alfa-Hidroxiprog.</th>\n",
              "      <th>17-Hidroxi Pregnenolona</th>\n",
              "      <th>183</th>\n",
              "      <th>25OH-Vitamina D Total</th>\n",
              "      <th>25OH-Vitamina D2</th>\n",
              "      <th>25OH-Vitamina D3</th>\n",
              "      <th>5 Hidroxi-indolacetico</th>\n",
              "      <th>...</th>\n",
              "      <th>Ácido aspártico</th>\n",
              "      <th>Ácido fólico</th>\n",
              "      <th>Ácido glutâmico</th>\n",
              "      <th>Ácido metilmalonico, soro</th>\n",
              "      <th>Ácido Úrico</th>\n",
              "      <th>Ácido Úrico, urina</th>\n",
              "      <th>Ácido Úrico, urina isolada</th>\n",
              "      <th>Ácidos biliares totais</th>\n",
              "      <th>Ésteres de Carnitina (EC)</th>\n",
              "      <th>Índice de Green &amp; King</th>\n",
              "    </tr>\n",
              "  </thead>\n",
              "  <tbody>\n",
              "    <tr>\n",
              "      <th>0</th>\n",
              "      <td>000150DB429AFF026ECD130B0A076CEF.644998DCF29A2...</td>\n",
              "      <td>NaN</td>\n",
              "      <td>NaN</td>\n",
              "      <td>NaN</td>\n",
              "      <td>NaN</td>\n",
              "      <td>NaN</td>\n",
              "      <td>NaN</td>\n",
              "      <td>NaN</td>\n",
              "      <td>NaN</td>\n",
              "      <td>NaN</td>\n",
              "      <td>...</td>\n",
              "      <td>NaN</td>\n",
              "      <td>NaN</td>\n",
              "      <td>NaN</td>\n",
              "      <td>NaN</td>\n",
              "      <td>NaN</td>\n",
              "      <td>NaN</td>\n",
              "      <td>NaN</td>\n",
              "      <td>NaN</td>\n",
              "      <td>NaN</td>\n",
              "      <td>NaN</td>\n",
              "    </tr>\n",
              "    <tr>\n",
              "      <th>1</th>\n",
              "      <td>00017961865C4F766FDBB3CD8FE0BFB0.B57529234B613...</td>\n",
              "      <td>NaN</td>\n",
              "      <td>NaN</td>\n",
              "      <td>NaN</td>\n",
              "      <td>NaN</td>\n",
              "      <td>NaN</td>\n",
              "      <td>NaN</td>\n",
              "      <td>NaN</td>\n",
              "      <td>NaN</td>\n",
              "      <td>NaN</td>\n",
              "      <td>...</td>\n",
              "      <td>NaN</td>\n",
              "      <td>NaN</td>\n",
              "      <td>NaN</td>\n",
              "      <td>NaN</td>\n",
              "      <td>NaN</td>\n",
              "      <td>NaN</td>\n",
              "      <td>NaN</td>\n",
              "      <td>NaN</td>\n",
              "      <td>NaN</td>\n",
              "      <td>NaN</td>\n",
              "    </tr>\n",
              "    <tr>\n",
              "      <th>2</th>\n",
              "      <td>0003B368F65004E14332CD44BEE6E600.1E774FD413636...</td>\n",
              "      <td>NaN</td>\n",
              "      <td>NaN</td>\n",
              "      <td>NaN</td>\n",
              "      <td>NaN</td>\n",
              "      <td>NaN</td>\n",
              "      <td>NaN</td>\n",
              "      <td>NaN</td>\n",
              "      <td>NaN</td>\n",
              "      <td>NaN</td>\n",
              "      <td>...</td>\n",
              "      <td>NaN</td>\n",
              "      <td>NaN</td>\n",
              "      <td>NaN</td>\n",
              "      <td>NaN</td>\n",
              "      <td>NaN</td>\n",
              "      <td>NaN</td>\n",
              "      <td>NaN</td>\n",
              "      <td>NaN</td>\n",
              "      <td>NaN</td>\n",
              "      <td>NaN</td>\n",
              "    </tr>\n",
              "    <tr>\n",
              "      <th>3</th>\n",
              "      <td>000F0BC139D2846DB86AA32B8F05B215.25C5241311453...</td>\n",
              "      <td>NaN</td>\n",
              "      <td>NaN</td>\n",
              "      <td>NaN</td>\n",
              "      <td>NaN</td>\n",
              "      <td>NaN</td>\n",
              "      <td>NaN</td>\n",
              "      <td>NaN</td>\n",
              "      <td>NaN</td>\n",
              "      <td>NaN</td>\n",
              "      <td>...</td>\n",
              "      <td>NaN</td>\n",
              "      <td>NaN</td>\n",
              "      <td>NaN</td>\n",
              "      <td>NaN</td>\n",
              "      <td>6,9</td>\n",
              "      <td>NaN</td>\n",
              "      <td>NaN</td>\n",
              "      <td>NaN</td>\n",
              "      <td>NaN</td>\n",
              "      <td>NaN</td>\n",
              "    </tr>\n",
              "    <tr>\n",
              "      <th>4</th>\n",
              "      <td>000F0BC139D2846DB86AA32B8F05B215.9D6B251913C9B...</td>\n",
              "      <td>NaN</td>\n",
              "      <td>NaN</td>\n",
              "      <td>NaN</td>\n",
              "      <td>NaN</td>\n",
              "      <td>NaN</td>\n",
              "      <td>NaN</td>\n",
              "      <td>NaN</td>\n",
              "      <td>NaN</td>\n",
              "      <td>NaN</td>\n",
              "      <td>...</td>\n",
              "      <td>NaN</td>\n",
              "      <td>NaN</td>\n",
              "      <td>NaN</td>\n",
              "      <td>NaN</td>\n",
              "      <td>NaN</td>\n",
              "      <td>NaN</td>\n",
              "      <td>NaN</td>\n",
              "      <td>NaN</td>\n",
              "      <td>NaN</td>\n",
              "      <td>NaN</td>\n",
              "    </tr>\n",
              "  </tbody>\n",
              "</table>\n",
              "<p>5 rows × 1090 columns</p>\n",
              "</div>"
            ],
            "text/plain": [
              "analito                                              chave  \\\n",
              "0        000150DB429AFF026ECD130B0A076CEF.644998DCF29A2...   \n",
              "1        00017961865C4F766FDBB3CD8FE0BFB0.B57529234B613...   \n",
              "2        0003B368F65004E14332CD44BEE6E600.1E774FD413636...   \n",
              "3        000F0BC139D2846DB86AA32B8F05B215.25C5241311453...   \n",
              "4        000F0BC139D2846DB86AA32B8F05B215.9D6B251913C9B...   \n",
              "\n",
              "analito 11-Desoxicorticosterona 11-Desoxicortisol 17-Alfa-Hidroxiprog.  \\\n",
              "0                           NaN               NaN                  NaN   \n",
              "1                           NaN               NaN                  NaN   \n",
              "2                           NaN               NaN                  NaN   \n",
              "3                           NaN               NaN                  NaN   \n",
              "4                           NaN               NaN                  NaN   \n",
              "\n",
              "analito 17-Hidroxi Pregnenolona  183 25OH-Vitamina D Total 25OH-Vitamina D2  \\\n",
              "0                           NaN  NaN                   NaN              NaN   \n",
              "1                           NaN  NaN                   NaN              NaN   \n",
              "2                           NaN  NaN                   NaN              NaN   \n",
              "3                           NaN  NaN                   NaN              NaN   \n",
              "4                           NaN  NaN                   NaN              NaN   \n",
              "\n",
              "analito 25OH-Vitamina D3 5 Hidroxi-indolacetico  ... Ácido aspártico  \\\n",
              "0                    NaN                    NaN  ...             NaN   \n",
              "1                    NaN                    NaN  ...             NaN   \n",
              "2                    NaN                    NaN  ...             NaN   \n",
              "3                    NaN                    NaN  ...             NaN   \n",
              "4                    NaN                    NaN  ...             NaN   \n",
              "\n",
              "analito Ácido fólico Ácido glutâmico Ácido metilmalonico, soro Ácido Úrico  \\\n",
              "0                NaN             NaN                       NaN         NaN   \n",
              "1                NaN             NaN                       NaN         NaN   \n",
              "2                NaN             NaN                       NaN         NaN   \n",
              "3                NaN             NaN                       NaN         6,9   \n",
              "4                NaN             NaN                       NaN         NaN   \n",
              "\n",
              "analito Ácido Úrico, urina Ácido Úrico, urina isolada Ácidos biliares totais  \\\n",
              "0                      NaN                        NaN                    NaN   \n",
              "1                      NaN                        NaN                    NaN   \n",
              "2                      NaN                        NaN                    NaN   \n",
              "3                      NaN                        NaN                    NaN   \n",
              "4                      NaN                        NaN                    NaN   \n",
              "\n",
              "analito Ésteres de Carnitina (EC) Índice de Green & King  \n",
              "0                             NaN                    NaN  \n",
              "1                             NaN                    NaN  \n",
              "2                             NaN                    NaN  \n",
              "3                             NaN                    NaN  \n",
              "4                             NaN                    NaN  \n",
              "\n",
              "[5 rows x 1090 columns]"
            ]
          },
          "execution_count": 213,
          "metadata": {},
          "output_type": "execute_result"
        }
      ],
      "source": [
        "sirio_pivot = sirio2.pivot(index='chave', \n",
        "    \n",
        "                    columns='analito',\n",
        "                                      \n",
        "                    values='resultado').reset_index()\n",
        "\n",
        "print(sirio_pivot.shape)\n",
        "\n",
        "sirio_pivot.head()"
      ]
    },
    {
      "cell_type": "code",
      "execution_count": 214,
      "metadata": {
        "id": "uKZXVuLiqTfZ"
      },
      "outputs": [],
      "source": [
        "#sirio_pivot.to_csv('sirio_pivot.csv', sep='|', encoding='utf-8') # gera csv co"
      ]
    },
    {
      "cell_type": "code",
      "execution_count": 215,
      "metadata": {
        "colab": {
          "base_uri": "https://localhost:8080/",
          "height": 465
        },
        "id": "IyhV8OVN0qyQ",
        "outputId": "58346fa8-1085-450a-c400-054325f79029"
      },
      "outputs": [
        {
          "name": "stdout",
          "output_type": "stream",
          "text": [
            "                   analito   Null\n",
            "1  11-Desoxicorticosterona  76083\n",
            "2        11-Desoxicortisol  76083\n",
            "3     17-Alfa-Hidroxiprog.  75960\n",
            "4  17-Hidroxi Pregnenolona  76070\n",
            "5                      183  71611\n",
            "\n",
            "shape:  (1089, 2) \n",
            "\n"
          ]
        },
        {
          "data": {
            "text/html": [
              "<div>\n",
              "<style scoped>\n",
              "    .dataframe tbody tr th:only-of-type {\n",
              "        vertical-align: middle;\n",
              "    }\n",
              "\n",
              "    .dataframe tbody tr th {\n",
              "        vertical-align: top;\n",
              "    }\n",
              "\n",
              "    .dataframe thead th {\n",
              "        text-align: right;\n",
              "    }\n",
              "</style>\n",
              "<table border=\"1\" class=\"dataframe\">\n",
              "  <thead>\n",
              "    <tr style=\"text-align: right;\">\n",
              "      <th></th>\n",
              "      <th>Null</th>\n",
              "    </tr>\n",
              "  </thead>\n",
              "  <tbody>\n",
              "    <tr>\n",
              "      <th>count</th>\n",
              "      <td>1089.000000</td>\n",
              "    </tr>\n",
              "    <tr>\n",
              "      <th>mean</th>\n",
              "      <td>73682.649219</td>\n",
              "    </tr>\n",
              "    <tr>\n",
              "      <th>std</th>\n",
              "      <td>9115.354287</td>\n",
              "    </tr>\n",
              "    <tr>\n",
              "      <th>min</th>\n",
              "      <td>20501.000000</td>\n",
              "    </tr>\n",
              "    <tr>\n",
              "      <th>25%</th>\n",
              "      <td>75806.000000</td>\n",
              "    </tr>\n",
              "    <tr>\n",
              "      <th>50%</th>\n",
              "      <td>76054.000000</td>\n",
              "    </tr>\n",
              "    <tr>\n",
              "      <th>75%</th>\n",
              "      <td>76079.000000</td>\n",
              "    </tr>\n",
              "    <tr>\n",
              "      <th>max</th>\n",
              "      <td>76083.000000</td>\n",
              "    </tr>\n",
              "  </tbody>\n",
              "</table>\n",
              "</div>"
            ],
            "text/plain": [
              "               Null\n",
              "count   1089.000000\n",
              "mean   73682.649219\n",
              "std     9115.354287\n",
              "min    20501.000000\n",
              "25%    75806.000000\n",
              "50%    76054.000000\n",
              "75%    76079.000000\n",
              "max    76083.000000"
            ]
          },
          "execution_count": 215,
          "metadata": {},
          "output_type": "execute_result"
        }
      ],
      "source": [
        "valores_nulos = pd.DataFrame()\n",
        "\n",
        "valores_nulos['Null'] = sirio_pivot.isnull().sum()\n",
        "\n",
        "valores_nulos = valores_nulos.reset_index()\n",
        "\n",
        "#valores_nulos = valores_nulos.T\n",
        "\n",
        "# Get names of indexes for which column Stock has value No\n",
        "indexNames = valores_nulos[ valores_nulos['analito'] == 'chave' ].index\n",
        "\n",
        "# Delete these row indexes from dataFrame\n",
        "valores_nulos.drop(indexNames , inplace=True)\n",
        "\n",
        "print(valores_nulos.head())\n",
        "\n",
        "print(\"\\nshape: \", valores_nulos.shape, \"\\n\")\n",
        "\n",
        "valores_nulos.describe()"
      ]
    },
    {
      "cell_type": "code",
      "execution_count": 216,
      "metadata": {
        "colab": {
          "base_uri": "https://localhost:8080/"
        },
        "id": "yKhoMzhU3pHd",
        "outputId": "aff25ad6-ecff-48a9-a779-ecd3ec25dbd6"
      },
      "outputs": [
        {
          "name": "stdout",
          "output_type": "stream",
          "text": [
            "Média:  96.84381633326323\n",
            "\n",
            "Desvio padrão:  11.980645453709059\n",
            "\n",
            "Mínimo:  26.94521844277378\n",
            "\n",
            "Máximo:  99.99868566321433\n"
          ]
        }
      ],
      "source": [
        "# No total são 76084 exemplos\n",
        "# Transformando valor absoluto em porcentagem:\n",
        "\n",
        "# Media\n",
        "media_null = (73682.649219 / 76084)*100\n",
        "print(\"Média: \", media_null)\n",
        "\n",
        "# desvio padrão\n",
        "desvio_null = (9115.354287 / 76084)*100\n",
        "print(\"\\nDesvio padrão: \", desvio_null)\n",
        "\n",
        "# mínimo\n",
        "minimo_null = (20501.000000 / 76084)*100\n",
        "print(\"\\nMínimo: \", minimo_null)\n",
        "\n",
        "# máximo\n",
        "maximo_null = (76083.000000 / 76084)*100\n",
        "print(\"\\nMáximo: \", maximo_null)\n"
      ]
    },
    {
      "cell_type": "markdown",
      "metadata": {
        "id": "MVIB7GQ4Ajzm"
      },
      "source": [
        "\n",
        "\n",
        "---\n",
        "\n",
        "#### **FILTRO 1: SELEÇÃO MANUAL DE ATRIBUTOS**\n",
        "\n",
        "\n",
        "\n"
      ]
    },
    {
      "cell_type": "code",
      "execution_count": 217,
      "metadata": {
        "colab": {
          "base_uri": "https://localhost:8080/",
          "height": 347
        },
        "id": "8-tDwM4y3Muo",
        "outputId": "6173f44d-4f0c-49d9-9b61-5075c26152b9"
      },
      "outputs": [
        {
          "name": "stdout",
          "output_type": "stream",
          "text": [
            "(2899573, 15)\n"
          ]
        },
        {
          "data": {
            "text/html": [
              "<div>\n",
              "<style scoped>\n",
              "    .dataframe tbody tr th:only-of-type {\n",
              "        vertical-align: middle;\n",
              "    }\n",
              "\n",
              "    .dataframe tbody tr th {\n",
              "        vertical-align: top;\n",
              "    }\n",
              "\n",
              "    .dataframe thead th {\n",
              "        text-align: right;\n",
              "    }\n",
              "</style>\n",
              "<table border=\"1\" class=\"dataframe\">\n",
              "  <thead>\n",
              "    <tr style=\"text-align: right;\">\n",
              "      <th></th>\n",
              "      <th>ID_PACIENTE</th>\n",
              "      <th>ID_ATENDIMENTO</th>\n",
              "      <th>DT_COLETA</th>\n",
              "      <th>DE_ORIGEM</th>\n",
              "      <th>DE_EXAME</th>\n",
              "      <th>DE_ANALITO</th>\n",
              "      <th>DE_RESULTADO</th>\n",
              "      <th>DT_ATENDIMENTO</th>\n",
              "      <th>DE_TIPO_ATENDIMENTO</th>\n",
              "      <th>ID_CLINICA</th>\n",
              "      <th>DE_CLINICA</th>\n",
              "      <th>DT_DESFECHO</th>\n",
              "      <th>DE_DESFECHO</th>\n",
              "      <th>AA_NASCIMENTO</th>\n",
              "      <th>IC_SEXO</th>\n",
              "    </tr>\n",
              "  </thead>\n",
              "  <tbody>\n",
              "    <tr>\n",
              "      <th>0</th>\n",
              "      <td>9BB15EA1D912994DE467C71E953F6ACC</td>\n",
              "      <td>E7E88B60259AD5C9CF3A837260CB8CC7</td>\n",
              "      <td>22/01/2021</td>\n",
              "      <td>Hemodiálise</td>\n",
              "      <td>17 Hidroxipregnenolona</td>\n",
              "      <td>17-Hidroxi Pregnenolona</td>\n",
              "      <td>23</td>\n",
              "      <td>18/01/2021</td>\n",
              "      <td>Ambulatorial</td>\n",
              "      <td>15.0</td>\n",
              "      <td>Hemodiálise</td>\n",
              "      <td>22/01/2021</td>\n",
              "      <td>Alta Administrativa</td>\n",
              "      <td>1987</td>\n",
              "      <td>F</td>\n",
              "    </tr>\n",
              "    <tr>\n",
              "      <th>1</th>\n",
              "      <td>FB48065512F8BFFAE3FC16530785BB57</td>\n",
              "      <td>E9E678082F3C9EA1C8F00DC5881049F6</td>\n",
              "      <td>24/09/2020</td>\n",
              "      <td>Laboratório de Patologia Clínica</td>\n",
              "      <td>17 Hidroxipregnenolona</td>\n",
              "      <td>17-Hidroxi Pregnenolona</td>\n",
              "      <td>27</td>\n",
              "      <td>24/09/2020</td>\n",
              "      <td>Externo</td>\n",
              "      <td>20.0</td>\n",
              "      <td>Procedimentos</td>\n",
              "      <td>24/09/2020</td>\n",
              "      <td>Alta Administrativa</td>\n",
              "      <td>1994</td>\n",
              "      <td>F</td>\n",
              "    </tr>\n",
              "    <tr>\n",
              "      <th>2</th>\n",
              "      <td>5ABF34B0AE202F876BDAA0F338881BC1</td>\n",
              "      <td>248AD10D114DEC5A0FF184548FAD4EDA</td>\n",
              "      <td>25/02/2021</td>\n",
              "      <td>Recepção do Centro Diagnóstico</td>\n",
              "      <td>17 Hidroxipregnenolona</td>\n",
              "      <td>17-Hidroxi Pregnenolona</td>\n",
              "      <td>50</td>\n",
              "      <td>25/02/2021</td>\n",
              "      <td>Externo</td>\n",
              "      <td>20.0</td>\n",
              "      <td>Procedimentos</td>\n",
              "      <td>25/02/2021</td>\n",
              "      <td>Alta Administrativa</td>\n",
              "      <td>1979</td>\n",
              "      <td>F</td>\n",
              "    </tr>\n",
              "  </tbody>\n",
              "</table>\n",
              "</div>"
            ],
            "text/plain": [
              "                        ID_PACIENTE                    ID_ATENDIMENTO  \\\n",
              "0  9BB15EA1D912994DE467C71E953F6ACC  E7E88B60259AD5C9CF3A837260CB8CC7   \n",
              "1  FB48065512F8BFFAE3FC16530785BB57  E9E678082F3C9EA1C8F00DC5881049F6   \n",
              "2  5ABF34B0AE202F876BDAA0F338881BC1  248AD10D114DEC5A0FF184548FAD4EDA   \n",
              "\n",
              "    DT_COLETA                         DE_ORIGEM                DE_EXAME  \\\n",
              "0  22/01/2021                       Hemodiálise  17 Hidroxipregnenolona   \n",
              "1  24/09/2020  Laboratório de Patologia Clínica  17 Hidroxipregnenolona   \n",
              "2  25/02/2021    Recepção do Centro Diagnóstico  17 Hidroxipregnenolona   \n",
              "\n",
              "                DE_ANALITO DE_RESULTADO DT_ATENDIMENTO DE_TIPO_ATENDIMENTO  \\\n",
              "0  17-Hidroxi Pregnenolona           23     18/01/2021        Ambulatorial   \n",
              "1  17-Hidroxi Pregnenolona           27     24/09/2020             Externo   \n",
              "2  17-Hidroxi Pregnenolona           50     25/02/2021             Externo   \n",
              "\n",
              "   ID_CLINICA     DE_CLINICA DT_DESFECHO          DE_DESFECHO AA_NASCIMENTO  \\\n",
              "0        15.0    Hemodiálise  22/01/2021  Alta Administrativa          1987   \n",
              "1        20.0  Procedimentos  24/09/2020  Alta Administrativa          1994   \n",
              "2        20.0  Procedimentos  25/02/2021  Alta Administrativa          1979   \n",
              "\n",
              "  IC_SEXO  \n",
              "0       F  \n",
              "1       F  \n",
              "2       F  "
            ]
          },
          "execution_count": 217,
          "metadata": {},
          "output_type": "execute_result"
        }
      ],
      "source": [
        "# Excluindo colunas desnecessárias\n",
        "df_sirio = sirio.drop(columns=['CD_UNIDADE', 'DE_VALOR_REFERENCIA'])\n",
        "print(df_sirio.shape)\n",
        "df_sirio.head(3)   "
      ]
    },
    {
      "cell_type": "markdown",
      "metadata": {
        "id": "Ybw5eCeRQWHi"
      },
      "source": [
        "#### DATETIME"
      ]
    },
    {
      "cell_type": "code",
      "execution_count": 218,
      "metadata": {
        "id": "L8t5Wy0e_PZQ"
      },
      "outputs": [
        {
          "name": "stderr",
          "output_type": "stream",
          "text": [
            "C:\\Users\\flopes\\AppData\\Local\\Temp\\ipykernel_21500\\4041537937.py:2: UserWarning: Parsing dates in %d/%m/%Y format when dayfirst=False (the default) was specified. Pass `dayfirst=True` or specify a format to silence this warning.\n",
            "  df_sirio['DT_ATENDIMENTO'] = pd.to_datetime(df_sirio['DT_ATENDIMENTO'])\n",
            "C:\\Users\\flopes\\AppData\\Local\\Temp\\ipykernel_21500\\4041537937.py:3: UserWarning: Parsing dates in %d/%m/%Y format when dayfirst=False (the default) was specified. Pass `dayfirst=True` or specify a format to silence this warning.\n",
            "  df_sirio['DT_COLETA'] = pd.to_datetime(df_sirio['DT_COLETA'])\n"
          ]
        }
      ],
      "source": [
        "#Formato data\n",
        "df_sirio['DT_ATENDIMENTO'] = pd.to_datetime(df_sirio['DT_ATENDIMENTO'])\n",
        "df_sirio['DT_COLETA'] = pd.to_datetime(df_sirio['DT_COLETA'])\n",
        "df_sirio['DT_DESFECHO'] = pd.to_datetime(df_sirio['DT_COLETA'])"
      ]
    },
    {
      "cell_type": "markdown",
      "metadata": {
        "id": "Q8NsdcsVUZwd"
      },
      "source": [
        "#### **FILTRO 2: VERIFICANDO PACIENTES COM COVID POSITIVO**"
      ]
    },
    {
      "cell_type": "code",
      "execution_count": 219,
      "metadata": {
        "colab": {
          "base_uri": "https://localhost:8080/"
        },
        "id": "UWkGRDQ6s5e-",
        "outputId": "3ebc91e5-e96b-480b-c15f-564cebeb418f"
      },
      "outputs": [
        {
          "name": "stdout",
          "output_type": "stream",
          "text": [
            "(776,)\n"
          ]
        },
        {
          "data": {
            "text/plain": [
              "DE_EXAME\n",
              "Hemograma                                                     1270528\n",
              "Calculo da Estimativa da Taxa, de Filtracao Glomular, soro     247639\n",
              "Gasometria Venosa                                              127439\n",
              "Gasometria Arterial                                            103072\n",
              "Urina Tipo I - Jato Medio                                       95539\n",
              "                                                               ...   \n",
              "Ph, urina                                                           1\n",
              "IgE Especifico, rHev b5 latex                                       1\n",
              "Densidade Urinária                                                  1\n",
              "Acido Vanil Mandelico                                               1\n",
              "11-DESOXICORTIcosterona, soro                                       1\n",
              "Name: count, Length: 776, dtype: int64"
            ]
          },
          "execution_count": 219,
          "metadata": {},
          "output_type": "execute_result"
        }
      ],
      "source": [
        "tipos_exames = df_sirio['DE_EXAME'].value_counts()\n",
        "print(tipos_exames.shape)\n",
        "tipos_exames"
      ]
    },
    {
      "cell_type": "code",
      "execution_count": 220,
      "metadata": {
        "id": "BK6hJFfqc32h"
      },
      "outputs": [],
      "source": [
        "tipos_exames.to_csv('tipos_exames.csv', sep='|', encoding='utf-8') # gera csv com os tipos de exame"
      ]
    },
    {
      "cell_type": "code",
      "execution_count": 221,
      "metadata": {
        "id": "0b_JNTZy0EQD"
      },
      "outputs": [],
      "source": [
        "#**Lista de exames de COVID**\n",
        "#Analisando os tipos de exames foram identificados aqueles que são teste de COVID-19 (ls_exames_covid)\n",
        "\n",
        "ls_exames_covid = ['COVID-19-PCR para SARS-COV-2, Vários Materiais (Fleury)', \n",
        "                   'COVID-19-Sorologia IgM e IgG por quimiluminescência, soro', \n",
        "                   'Detecção de Coronavírus (NCoV-2019) POR PCR (Anatomia Patológica)',\n",
        "                   'COVID-19-Teste Rápido (IgM e IgG), soro', \n",
        "                   'COVID-19, anticorpos IGA e IGG, soro', \n",
        "                   'Sars Cov-2, Teste Molecular Rápido Para Detecção, Vários Materiais', \n",
        "                   'Sorologia - Coronavírus, IgG', \n",
        "                   'Sorologia - Coronavírus, IgA']"
      ]
    },
    {
      "cell_type": "code",
      "execution_count": 222,
      "metadata": {
        "colab": {
          "base_uri": "https://localhost:8080/"
        },
        "id": "6hdqBfiAUdTL",
        "outputId": "9b2301fb-8c7b-4813-c565-8bd79f3f6c7b"
      },
      "outputs": [
        {
          "data": {
            "text/plain": [
              "(39132, 15)"
            ]
          },
          "execution_count": 222,
          "metadata": {},
          "output_type": "execute_result"
        }
      ],
      "source": [
        "df_exames_covid = df_sirio.loc[df_sirio['DE_EXAME'].isin(ls_exames_covid)]\n",
        "#df_exames_covid.to_csv('exames_covid', sep='\\t', encoding='utf-8')\n",
        "df_exames_covid.shape"
      ]
    },
    {
      "cell_type": "code",
      "execution_count": 223,
      "metadata": {
        "colab": {
          "base_uri": "https://localhost:8080/"
        },
        "id": "X4-yn0VyLURi",
        "outputId": "09cd0132-d395-4f32-c29f-127c52eec525"
      },
      "outputs": [
        {
          "data": {
            "text/plain": [
              "(836,)"
            ]
          },
          "execution_count": 223,
          "metadata": {},
          "output_type": "execute_result"
        }
      ],
      "source": [
        "# Tipos de resultados para o exame de covid\n",
        "resultados_covid = df_exames_covid['DE_RESULTADO'].value_counts()\n",
        "#resultados_covid.to_csv('tipos_resultados.csv', sep='\\t', encoding='utf-8')\n",
        "resultados_covid.shape"
      ]
    },
    {
      "cell_type": "code",
      "execution_count": 224,
      "metadata": {
        "id": "edVvBhvgT0TT"
      },
      "outputs": [],
      "source": [
        "# Foi realizada uma análise para identificar os resultados que indicam COVID POSITIVOS (ls_resultados_positivos)\n",
        "\n",
        "ls_resultados_positivos = ['DETECTADO',\n",
        "                           'DETECTADO (POSITIVO)',\n",
        "                           'REAGENTE',\n",
        "                           'Detectados anticorpos da classe IgG contra SARS-CoV-2, Este perfil é compatível com infecção pregressa, Estudos demonstram que, sobretudo em pessoas que apresentaram quadro clínico leve ou não apresentaram sintomas, os níveis de anticorpos podem diminuir ao longo do tempo, podendo inclusive, se tornar indetectáveis (negativos), O papel destes anticorpos na proteção contra reinfecção não é completamente estabelecido,',\n",
        "                           'Amostra REAGENTE para IgG contra SARS-CoV-2,',\n",
        "                           'Detectados anticorpos das classes IgM e IgG contra SARS-CoV-2, Este perfil sugere infecção recente, Estudos demonstram que, sobretudo em pessoas que apresentaram quadro clínico leve ou não apresentaram sintomas, os níveis de anticorpos podem diminuir ao longo do tempo, podendo inclusive, se tornar indetectáveis (negativos), O papel destes anticorpos na proteção contra reinfecção não é completamente estabelecido,',\n",
        "                           'Amostra REAGENTE para IgM e IgG contra SARS-CoV-2,',\n",
        "                           'Evidência sorológica de infecção recente por SARS-CoV-2,',\n",
        "                           'Detectados anticorpos da classe IgM contra SARS-CoV-2, Este perfil é compatível com soroconversão inicial ou produção de baixos níveis de anticorpos da classe IgG, Estudos demonstram que, sobretudo em pessoas que apresentaram quadro clínico leve ou não apresentaram sintomas, a soroconversão pode ocorrer mais tardiamente, em baixos níveis de anticorpos, ou mesmo não ocorrer, Sugere-se seguimento sorológico para avaliar a soroconversão de IgG em, no mínimo, 7 dias,',\n",
        "                           'Evidência sorológica de infecção pregressa por SARS-CoV-2,',\n",
        "                           'Detectados anticorpos totais contra SARS-CoV-2, porém não foi possível definir, nesta amostra, a(s) classe(s) de imunoglobulina(s) presente(s) (IgM e/ou IgG), Estudos demonstram que, sobretudo em pessoas que apresentaram quadro clínico leve ou não apresentaram sintomas, a soroconversão pode ocorrer mais tardiamente ou em baixos níveis de anticorpos, A aparente discrepância observada entre as metodologias pode se dever à diferença de sensibilidade ou à utilização de antígenos distintos, Sugere-se o seguimento sorológico em, no mínimo, 7 dias,',\n",
        "                           'Amostra REAGENTE para anticorpos contra SARS-CoV-2,',\n",
        "                           'Amostra REAGENTE para IgM contra SARS-CoV-2,',\n",
        "                           'Detectados anticorpos da classe IgM contra SARS-CoV-2, em apenas uma das metodologias utilizadas, A possibilidade de falsa reatividade não pode ser descartada, Sugere-se seguimento sorológico em, no mínimo, 7 dias,',\n",
        "                           'Amostra REAGENTE para IgG contra SARS-CoV-2, em apenas uma metodologia,',\n",
        "                           'Amostra REAGENTE para IgM contra SARS-CoV-2, em apenas uma metodologia,',\n",
        "                           'Detectados anticorpos da classe IgG contra SARS-CoV-2 em baixos níveis, em apenas uma das metodologias utilizadas, A possibilidade de falsa reatividade não pode ser descartada, embora a aparente discrepância entre as metodologias possa se dever às diferenças de sensibilidade  ou à utilização de antígenos distintos,  Sugere-se seguimento sorológico em, no mínimo, 7 dias,',\n",
        "                           'Possível evidência sorológica de infecção recente por SARS-CoV-2,',\n",
        "                           'Detectados anticorpos da classe IgG contra SARS-CoV-2 em baixos níveis, em apenas uma das metodologias utilizadas, Este perfil pode se dever à soroconversão inicial ou à produção de baixos níveis de anticorpos, contudo, a possibilidade de falsa reatividade não pode ser descartada, Sugere-se seguimento sorológico em, no mínimo, 7 dias,',\n",
        "                           'Detectados anticorpos da classe IgG contra SARS-CoV-2, Este perfil é compatível com infecção pregressa, Estudos mostram que, sobretudo em pessoas que apresentaram quadro clínico leve ou não apresentaram sintomas, os níveis de anticorpos podem diminuir ao longo do tempo, podendo inclusive, tornar-se negativos, O papel destes anticorpos na proteção contra reinfecção não é completamente estabelecido,',\n",
        "                           'Possível evidência sorológica de infecção recente por SARS-COV-2,',\n",
        "                           'O resultado sugere que já tenham transcorrido mais de 3 semanas da infecção aguda, A capacidade protetora dos anticorpos da classe IgG não é completamente estabelecida,;'\n",
        "                           ]"
      ]
    },
    {
      "cell_type": "code",
      "execution_count": 225,
      "metadata": {
        "colab": {
          "base_uri": "https://localhost:8080/"
        },
        "id": "YFT-9RlWU-mA",
        "outputId": "381cf456-83a9-48fd-c65e-143c2e3074d2"
      },
      "outputs": [
        {
          "data": {
            "text/plain": [
              "(19673, 15)"
            ]
          },
          "execution_count": 225,
          "metadata": {},
          "output_type": "execute_result"
        }
      ],
      "source": [
        "df_covid_positivo = df_exames_covid.loc[df_exames_covid['DE_RESULTADO'].isin(ls_resultados_positivos)]\n",
        "\n",
        "df_covid_positivo.shape"
      ]
    },
    {
      "cell_type": "code",
      "execution_count": 226,
      "metadata": {
        "colab": {
          "base_uri": "https://localhost:8080/"
        },
        "id": "-sG8OKmf4Ida",
        "outputId": "3cbc20af-eee5-40ce-b9b1-bcd19f87b6bf"
      },
      "outputs": [
        {
          "data": {
            "text/plain": [
              "14607"
            ]
          },
          "execution_count": 226,
          "metadata": {},
          "output_type": "execute_result"
        }
      ],
      "source": [
        "#número de pacientes com covid positivo\n",
        "df_covid_positivo['ID_PACIENTE'].nunique()"
      ]
    },
    {
      "cell_type": "code",
      "execution_count": 227,
      "metadata": {
        "colab": {
          "base_uri": "https://localhost:8080/"
        },
        "id": "BnehSBNmTy_I",
        "outputId": "343ede37-832f-4082-c92e-651f12900410"
      },
      "outputs": [
        {
          "data": {
            "text/plain": [
              "array(['2F3926F0A9613F3C3CC21D52A3CDB4D9',\n",
              "       'A97694E77A48939D8A6492848F02A07A',\n",
              "       '06BBC5A84F413C4BFD993B8D3B86D922', ...,\n",
              "       '5ACFED7C81229FEF19FDC9FCE47D9967',\n",
              "       '6B67C82A8921DCBB54E89B82E8989127',\n",
              "       '63DC4810BB2AB0CB8745B8AC68F6B180'], dtype=object)"
            ]
          },
          "execution_count": 227,
          "metadata": {},
          "output_type": "execute_result"
        }
      ],
      "source": [
        "#pacientes com covid positivo\n",
        "pacientes_positivos = df_covid_positivo['ID_PACIENTE'].unique()\n",
        "\n",
        "pacientes_positivos"
      ]
    },
    {
      "cell_type": "code",
      "execution_count": 228,
      "metadata": {
        "colab": {
          "base_uri": "https://localhost:8080/"
        },
        "id": "NyNyOKEg6zAo",
        "outputId": "ccc2a02b-bfc5-4093-a66b-787bbfbf9c2b"
      },
      "outputs": [
        {
          "name": "stdout",
          "output_type": "stream",
          "text": [
            "(2884820, 15)\n",
            "Pacientes COM COVID:  14607\n"
          ]
        }
      ],
      "source": [
        "df_covid_positivo = df_sirio.loc[df_sirio['ID_PACIENTE'].isin(pacientes_positivos)]\n",
        "\n",
        "print(df_covid_positivo.shape)\n",
        "\n",
        "print(\"Pacientes COM COVID: \", df_covid_positivo['ID_PACIENTE'].nunique())"
      ]
    },
    {
      "cell_type": "code",
      "execution_count": 229,
      "metadata": {
        "colab": {
          "base_uri": "https://localhost:8080/"
        },
        "id": "8zjR7Qhs8Xcc",
        "outputId": "16dfbf2f-45e3-4dc9-dcbf-d748284bbba2"
      },
      "outputs": [
        {
          "name": "stdout",
          "output_type": "stream",
          "text": [
            "(14753, 15)\n",
            "Pacientes sem COVID:  66\n"
          ]
        }
      ],
      "source": [
        "#pacientes com covid negativo\n",
        "df_covid_negativo = df_sirio.loc[~df_sirio['ID_PACIENTE'].isin(pacientes_positivos)]\n",
        "\n",
        "print(df_covid_negativo.shape)\n",
        "\n",
        "print(\"Pacientes sem COVID: \", df_covid_negativo['ID_PACIENTE'].nunique())"
      ]
    },
    {
      "cell_type": "code",
      "execution_count": 230,
      "metadata": {
        "colab": {
          "base_uri": "https://localhost:8080/"
        },
        "id": "uR3zIrp7BvFG",
        "outputId": "a7261dc2-50fe-403a-9d08-57144a992823"
      },
      "outputs": [
        {
          "data": {
            "text/plain": [
              "DE_DESFECHO\n",
              "Alta médica melhorado                                               5999\n",
              "Óbito nas primeiras 48hs de internação sem necrópsia não agônico    5047\n",
              "Alta Administrativa                                                 2501\n",
              "Alta médica curado                                                   578\n",
              "Assistência Domiciliar                                               382\n",
              "Óbito após 48hs de internação sem necrópsia                          238\n",
              "Alta médica Inalterado                                                 8\n",
              "Name: count, dtype: int64"
            ]
          },
          "execution_count": 230,
          "metadata": {},
          "output_type": "execute_result"
        }
      ],
      "source": [
        "#verificando qual a porcentagem de pacientes para cada desfecho, entre os que não tiveram covid:\n",
        "desfechos_pacientes_sem_covid = df_covid_negativo['DE_DESFECHO'].value_counts()\n",
        "\n",
        "desfechos_pacientes_sem_covid"
      ]
    },
    {
      "cell_type": "code",
      "execution_count": 231,
      "metadata": {
        "colab": {
          "base_uri": "https://localhost:8080/"
        },
        "id": "XhqVu9NjDBtt",
        "outputId": "424b3338-6865-445a-a414-4363e57318d6"
      },
      "outputs": [
        {
          "data": {
            "text/plain": [
              "ID_PACIENTE                       ID_ATENDIMENTO                    DT_COLETA   DE_ORIGEM               DE_EXAME                                                 DE_ANALITO               DE_RESULTADO              DT_ATENDIMENTO  DE_TIPO_ATENDIMENTO  ID_CLINICA  DE_CLINICA      DT_DESFECHO  DE_DESFECHO                                  AA_NASCIMENTO  IC_SEXO\n",
              "D1CFB8DFAAFAA11CC2D6A1B187616206  708F162F3FEF237B9697459B29224343  2020-06-08  Pronto Socorro          Bilirrubinas Total E Fracoes                             Bilirrubina Direta       0,57                      2020-06-08      Internado            1.0         Clínica Médica  2020-06-08   Óbito após 48hs de internação sem necrópsia  1938           M          1\n",
              "                                                                                                                                                                 Bilirrubina Indireta     0,2                       2020-06-08      Internado            1.0         Clínica Médica  2020-06-08   Óbito após 48hs de internação sem necrópsia  1938           M          1\n",
              "                                                                                                                                                                 Bilirrubina Total        0,77                      2020-06-08      Internado            1.0         Clínica Médica  2020-06-08   Óbito após 48hs de internação sem necrópsia  1938           M          1\n",
              "                                                                                                        COVID-19-PCR para SARS-COV-2, Vários Materiais (Fleury)  Coronavírus (2019-nCoV)  NÃO DETECTADO (NEGATIVO)  2020-06-08      Internado            1.0         Clínica Médica  2020-06-08   Óbito após 48hs de internação sem necrópsia  1938           M          1\n",
              "                                                                                                                                                                 Material (2019-nCoV)     swab de nasofaringe       2020-06-08      Internado            1.0         Clínica Médica  2020-06-08   Óbito após 48hs de internação sem necrópsia  1938           M          1\n",
              "                                                                                                                                                                                                                                                                                                                                                                        ..\n",
              "                                                                    2020-06-12  Unidades de Internação  Magnesio                                                 Magnésio                 2,0                       2020-06-08      Internado            1.0         Clínica Médica  2020-06-12   Óbito após 48hs de internação sem necrópsia  1938           M          1\n",
              "                                                                                                        Potássio                                                 Potássio                 3,7                       2020-06-08      Internado            1.0         Clínica Médica  2020-06-12   Óbito após 48hs de internação sem necrópsia  1938           M          1\n",
              "                                                                                                        Proteína C Reativa, plasma                               Proteína C-Reativa       23,07                     2020-06-08      Internado            1.0         Clínica Médica  2020-06-12   Óbito após 48hs de internação sem necrópsia  1938           M          1\n",
              "                                                                                                        Sódio                                                    Sódio                    152                       2020-06-08      Internado            1.0         Clínica Médica  2020-06-12   Óbito após 48hs de internação sem necrópsia  1938           M          1\n",
              "                                                                                                        Uréia                                                    Uréia                    163                       2020-06-08      Internado            1.0         Clínica Médica  2020-06-12   Óbito após 48hs de internação sem necrópsia  1938           M          1\n",
              "Name: count, Length: 238, dtype: int64"
            ]
          },
          "execution_count": 231,
          "metadata": {},
          "output_type": "execute_result"
        }
      ],
      "source": [
        "df_covid_negativo.loc[df_covid_negativo['DE_DESFECHO'] =='Óbito após 48hs de internação sem necrópsia'].value_counts()"
      ]
    },
    {
      "cell_type": "code",
      "execution_count": 232,
      "metadata": {
        "colab": {
          "base_uri": "https://localhost:8080/"
        },
        "id": "CV1RiJifrydL",
        "outputId": "67d994aa-0f5d-4c3c-e5d4-443919df59d3"
      },
      "outputs": [
        {
          "data": {
            "text/plain": [
              "DE_ORIGEM\n",
              "UTI                                                1295158\n",
              "Unidades de Internação                              773226\n",
              "Recepção do Centro Diagnóstico                      282222\n",
              "Pronto Socorro                                      270154\n",
              "Centro de Oncologia                                  38041\n",
              "                                                    ...   \n",
              "Entrega domiciliar de exames - Itaim                     2\n",
              "Saúde Corporativa - Unimed Seguros - Bela Vista          2\n",
              "Apoio Administrativo - Brasília II                       2\n",
              "Secretária do Centro Diagnóstico                         2\n",
              "Capacidade e Operações                                   1\n",
              "Name: count, Length: 113, dtype: int64"
            ]
          },
          "execution_count": 232,
          "metadata": {},
          "output_type": "execute_result"
        }
      ],
      "source": [
        "# PACIENTES POSITIVOS\n",
        "\n",
        "df_hsl = df_covid_positivo\n",
        "\n",
        "df_hsl['DE_ORIGEM'].value_counts()"
      ]
    },
    {
      "cell_type": "code",
      "execution_count": 233,
      "metadata": {
        "colab": {
          "base_uri": "https://localhost:8080/",
          "height": 329
        },
        "id": "eM21S-Lng3Ch",
        "outputId": "fed9096e-8e1b-40c5-9cd4-7bc4c091945f"
      },
      "outputs": [
        {
          "data": {
            "text/html": [
              "<div>\n",
              "<style scoped>\n",
              "    .dataframe tbody tr th:only-of-type {\n",
              "        vertical-align: middle;\n",
              "    }\n",
              "\n",
              "    .dataframe tbody tr th {\n",
              "        vertical-align: top;\n",
              "    }\n",
              "\n",
              "    .dataframe thead th {\n",
              "        text-align: right;\n",
              "    }\n",
              "</style>\n",
              "<table border=\"1\" class=\"dataframe\">\n",
              "  <thead>\n",
              "    <tr style=\"text-align: right;\">\n",
              "      <th></th>\n",
              "      <th>ID_PACIENTE</th>\n",
              "      <th>ID_ATENDIMENTO</th>\n",
              "      <th>DT_COLETA</th>\n",
              "      <th>DE_ORIGEM</th>\n",
              "      <th>DE_EXAME</th>\n",
              "      <th>DE_ANALITO</th>\n",
              "      <th>DE_RESULTADO</th>\n",
              "      <th>DT_ATENDIMENTO</th>\n",
              "      <th>DE_TIPO_ATENDIMENTO</th>\n",
              "      <th>ID_CLINICA</th>\n",
              "      <th>DE_CLINICA</th>\n",
              "      <th>DT_DESFECHO</th>\n",
              "      <th>DE_DESFECHO</th>\n",
              "      <th>AA_NASCIMENTO</th>\n",
              "      <th>IC_SEXO</th>\n",
              "    </tr>\n",
              "  </thead>\n",
              "  <tbody>\n",
              "    <tr>\n",
              "      <th>0</th>\n",
              "      <td>9BB15EA1D912994DE467C71E953F6ACC</td>\n",
              "      <td>E7E88B60259AD5C9CF3A837260CB8CC7</td>\n",
              "      <td>2021-01-22</td>\n",
              "      <td>Hemodiálise</td>\n",
              "      <td>17 Hidroxipregnenolona</td>\n",
              "      <td>17-Hidroxi Pregnenolona</td>\n",
              "      <td>23</td>\n",
              "      <td>2021-01-18</td>\n",
              "      <td>Ambulatorial</td>\n",
              "      <td>15.0</td>\n",
              "      <td>Hemodiálise</td>\n",
              "      <td>2021-01-22</td>\n",
              "      <td>Alta Administrativa</td>\n",
              "      <td>1987</td>\n",
              "      <td>F</td>\n",
              "    </tr>\n",
              "    <tr>\n",
              "      <th>1</th>\n",
              "      <td>FB48065512F8BFFAE3FC16530785BB57</td>\n",
              "      <td>E9E678082F3C9EA1C8F00DC5881049F6</td>\n",
              "      <td>2020-09-24</td>\n",
              "      <td>Laboratório de Patologia Clínica</td>\n",
              "      <td>17 Hidroxipregnenolona</td>\n",
              "      <td>17-Hidroxi Pregnenolona</td>\n",
              "      <td>27</td>\n",
              "      <td>2020-09-24</td>\n",
              "      <td>Externo</td>\n",
              "      <td>20.0</td>\n",
              "      <td>Procedimentos</td>\n",
              "      <td>2020-09-24</td>\n",
              "      <td>Alta Administrativa</td>\n",
              "      <td>1994</td>\n",
              "      <td>F</td>\n",
              "    </tr>\n",
              "    <tr>\n",
              "      <th>2</th>\n",
              "      <td>5ABF34B0AE202F876BDAA0F338881BC1</td>\n",
              "      <td>248AD10D114DEC5A0FF184548FAD4EDA</td>\n",
              "      <td>2021-02-25</td>\n",
              "      <td>Recepção do Centro Diagnóstico</td>\n",
              "      <td>17 Hidroxipregnenolona</td>\n",
              "      <td>17-Hidroxi Pregnenolona</td>\n",
              "      <td>50</td>\n",
              "      <td>2021-02-25</td>\n",
              "      <td>Externo</td>\n",
              "      <td>20.0</td>\n",
              "      <td>Procedimentos</td>\n",
              "      <td>2021-02-25</td>\n",
              "      <td>Alta Administrativa</td>\n",
              "      <td>1979</td>\n",
              "      <td>F</td>\n",
              "    </tr>\n",
              "  </tbody>\n",
              "</table>\n",
              "</div>"
            ],
            "text/plain": [
              "                        ID_PACIENTE                    ID_ATENDIMENTO  \\\n",
              "0  9BB15EA1D912994DE467C71E953F6ACC  E7E88B60259AD5C9CF3A837260CB8CC7   \n",
              "1  FB48065512F8BFFAE3FC16530785BB57  E9E678082F3C9EA1C8F00DC5881049F6   \n",
              "2  5ABF34B0AE202F876BDAA0F338881BC1  248AD10D114DEC5A0FF184548FAD4EDA   \n",
              "\n",
              "   DT_COLETA                         DE_ORIGEM                DE_EXAME  \\\n",
              "0 2021-01-22                       Hemodiálise  17 Hidroxipregnenolona   \n",
              "1 2020-09-24  Laboratório de Patologia Clínica  17 Hidroxipregnenolona   \n",
              "2 2021-02-25    Recepção do Centro Diagnóstico  17 Hidroxipregnenolona   \n",
              "\n",
              "                DE_ANALITO DE_RESULTADO DT_ATENDIMENTO DE_TIPO_ATENDIMENTO  \\\n",
              "0  17-Hidroxi Pregnenolona           23     2021-01-18        Ambulatorial   \n",
              "1  17-Hidroxi Pregnenolona           27     2020-09-24             Externo   \n",
              "2  17-Hidroxi Pregnenolona           50     2021-02-25             Externo   \n",
              "\n",
              "   ID_CLINICA     DE_CLINICA DT_DESFECHO          DE_DESFECHO AA_NASCIMENTO  \\\n",
              "0        15.0    Hemodiálise  2021-01-22  Alta Administrativa          1987   \n",
              "1        20.0  Procedimentos  2020-09-24  Alta Administrativa          1994   \n",
              "2        20.0  Procedimentos  2021-02-25  Alta Administrativa          1979   \n",
              "\n",
              "  IC_SEXO  \n",
              "0       F  \n",
              "1       F  \n",
              "2       F  "
            ]
          },
          "execution_count": 233,
          "metadata": {},
          "output_type": "execute_result"
        }
      ],
      "source": [
        "df_hsl.head(3)"
      ]
    },
    {
      "cell_type": "code",
      "execution_count": 234,
      "metadata": {
        "colab": {
          "base_uri": "https://localhost:8080/",
          "height": 143
        },
        "id": "RrMwMwpijhP3",
        "outputId": "32bbac4f-5789-4090-91de-5058a5609e2d"
      },
      "outputs": [
        {
          "data": {
            "text/html": [
              "<div>\n",
              "<style scoped>\n",
              "    .dataframe tbody tr th:only-of-type {\n",
              "        vertical-align: middle;\n",
              "    }\n",
              "\n",
              "    .dataframe tbody tr th {\n",
              "        vertical-align: top;\n",
              "    }\n",
              "\n",
              "    .dataframe thead th {\n",
              "        text-align: right;\n",
              "    }\n",
              "</style>\n",
              "<table border=\"1\" class=\"dataframe\">\n",
              "  <thead>\n",
              "    <tr style=\"text-align: right;\">\n",
              "      <th></th>\n",
              "      <th>ID_PACIENTE</th>\n",
              "      <th>DT_ATENDIMENTO_MAXIMA</th>\n",
              "    </tr>\n",
              "  </thead>\n",
              "  <tbody>\n",
              "    <tr>\n",
              "      <th>0</th>\n",
              "      <td>000150DB429AFF026ECD130B0A076CEF</td>\n",
              "      <td>2020-12-03</td>\n",
              "    </tr>\n",
              "    <tr>\n",
              "      <th>1</th>\n",
              "      <td>00017961865C4F766FDBB3CD8FE0BFB0</td>\n",
              "      <td>2020-08-25</td>\n",
              "    </tr>\n",
              "    <tr>\n",
              "      <th>2</th>\n",
              "      <td>0003B368F65004E14332CD44BEE6E600</td>\n",
              "      <td>2020-12-28</td>\n",
              "    </tr>\n",
              "  </tbody>\n",
              "</table>\n",
              "</div>"
            ],
            "text/plain": [
              "                        ID_PACIENTE DT_ATENDIMENTO_MAXIMA\n",
              "0  000150DB429AFF026ECD130B0A076CEF            2020-12-03\n",
              "1  00017961865C4F766FDBB3CD8FE0BFB0            2020-08-25\n",
              "2  0003B368F65004E14332CD44BEE6E600            2020-12-28"
            ]
          },
          "execution_count": 234,
          "metadata": {},
          "output_type": "execute_result"
        }
      ],
      "source": [
        "#agrupando pacientes para verificar última data de atendimento, para pacientes com mais de uma data de atendimento\n",
        "atendimento_paciente = df_hsl.groupby(['ID_PACIENTE']).agg({'DT_ATENDIMENTO': ['max']}).reset_index()\n",
        "atendimento_paciente.columns=['ID_PACIENTE', 'DT_ATENDIMENTO_MAXIMA']\n",
        "atendimento_paciente['DT_ATENDIMENTO_MAXIMA'] = pd.to_datetime(atendimento_paciente['DT_ATENDIMENTO_MAXIMA'])\n",
        "atendimento_paciente.head(3)"
      ]
    },
    {
      "cell_type": "code",
      "execution_count": 235,
      "metadata": {
        "colab": {
          "base_uri": "https://localhost:8080/",
          "height": 329
        },
        "id": "1CwGBnQslDVM",
        "outputId": "bc8c4b4e-0b9c-4fc6-8f78-d4e6bb435c6b"
      },
      "outputs": [
        {
          "data": {
            "text/html": [
              "<div>\n",
              "<style scoped>\n",
              "    .dataframe tbody tr th:only-of-type {\n",
              "        vertical-align: middle;\n",
              "    }\n",
              "\n",
              "    .dataframe tbody tr th {\n",
              "        vertical-align: top;\n",
              "    }\n",
              "\n",
              "    .dataframe thead th {\n",
              "        text-align: right;\n",
              "    }\n",
              "</style>\n",
              "<table border=\"1\" class=\"dataframe\">\n",
              "  <thead>\n",
              "    <tr style=\"text-align: right;\">\n",
              "      <th></th>\n",
              "      <th>ID_PACIENTE</th>\n",
              "      <th>ID_ATENDIMENTO</th>\n",
              "      <th>DT_COLETA</th>\n",
              "      <th>DE_ORIGEM</th>\n",
              "      <th>DE_EXAME</th>\n",
              "      <th>DE_ANALITO</th>\n",
              "      <th>DE_RESULTADO</th>\n",
              "      <th>DT_ATENDIMENTO</th>\n",
              "      <th>DE_TIPO_ATENDIMENTO</th>\n",
              "      <th>ID_CLINICA</th>\n",
              "      <th>DE_CLINICA</th>\n",
              "      <th>DT_DESFECHO</th>\n",
              "      <th>DE_DESFECHO</th>\n",
              "      <th>AA_NASCIMENTO</th>\n",
              "      <th>IC_SEXO</th>\n",
              "      <th>DT_ATENDIMENTO_MAXIMA</th>\n",
              "    </tr>\n",
              "  </thead>\n",
              "  <tbody>\n",
              "    <tr>\n",
              "      <th>0</th>\n",
              "      <td>9BB15EA1D912994DE467C71E953F6ACC</td>\n",
              "      <td>E7E88B60259AD5C9CF3A837260CB8CC7</td>\n",
              "      <td>2021-01-22</td>\n",
              "      <td>Hemodiálise</td>\n",
              "      <td>17 Hidroxipregnenolona</td>\n",
              "      <td>17-Hidroxi Pregnenolona</td>\n",
              "      <td>23</td>\n",
              "      <td>2021-01-18</td>\n",
              "      <td>Ambulatorial</td>\n",
              "      <td>15.0</td>\n",
              "      <td>Hemodiálise</td>\n",
              "      <td>2021-01-22</td>\n",
              "      <td>Alta Administrativa</td>\n",
              "      <td>1987</td>\n",
              "      <td>F</td>\n",
              "      <td>2021-05-31</td>\n",
              "    </tr>\n",
              "    <tr>\n",
              "      <th>1</th>\n",
              "      <td>FB48065512F8BFFAE3FC16530785BB57</td>\n",
              "      <td>E9E678082F3C9EA1C8F00DC5881049F6</td>\n",
              "      <td>2020-09-24</td>\n",
              "      <td>Laboratório de Patologia Clínica</td>\n",
              "      <td>17 Hidroxipregnenolona</td>\n",
              "      <td>17-Hidroxi Pregnenolona</td>\n",
              "      <td>27</td>\n",
              "      <td>2020-09-24</td>\n",
              "      <td>Externo</td>\n",
              "      <td>20.0</td>\n",
              "      <td>Procedimentos</td>\n",
              "      <td>2020-09-24</td>\n",
              "      <td>Alta Administrativa</td>\n",
              "      <td>1994</td>\n",
              "      <td>F</td>\n",
              "      <td>2021-06-11</td>\n",
              "    </tr>\n",
              "    <tr>\n",
              "      <th>2</th>\n",
              "      <td>5ABF34B0AE202F876BDAA0F338881BC1</td>\n",
              "      <td>248AD10D114DEC5A0FF184548FAD4EDA</td>\n",
              "      <td>2021-02-25</td>\n",
              "      <td>Recepção do Centro Diagnóstico</td>\n",
              "      <td>17 Hidroxipregnenolona</td>\n",
              "      <td>17-Hidroxi Pregnenolona</td>\n",
              "      <td>50</td>\n",
              "      <td>2021-02-25</td>\n",
              "      <td>Externo</td>\n",
              "      <td>20.0</td>\n",
              "      <td>Procedimentos</td>\n",
              "      <td>2021-02-25</td>\n",
              "      <td>Alta Administrativa</td>\n",
              "      <td>1979</td>\n",
              "      <td>F</td>\n",
              "      <td>2021-04-22</td>\n",
              "    </tr>\n",
              "  </tbody>\n",
              "</table>\n",
              "</div>"
            ],
            "text/plain": [
              "                        ID_PACIENTE                    ID_ATENDIMENTO  \\\n",
              "0  9BB15EA1D912994DE467C71E953F6ACC  E7E88B60259AD5C9CF3A837260CB8CC7   \n",
              "1  FB48065512F8BFFAE3FC16530785BB57  E9E678082F3C9EA1C8F00DC5881049F6   \n",
              "2  5ABF34B0AE202F876BDAA0F338881BC1  248AD10D114DEC5A0FF184548FAD4EDA   \n",
              "\n",
              "   DT_COLETA                         DE_ORIGEM                DE_EXAME  \\\n",
              "0 2021-01-22                       Hemodiálise  17 Hidroxipregnenolona   \n",
              "1 2020-09-24  Laboratório de Patologia Clínica  17 Hidroxipregnenolona   \n",
              "2 2021-02-25    Recepção do Centro Diagnóstico  17 Hidroxipregnenolona   \n",
              "\n",
              "                DE_ANALITO DE_RESULTADO DT_ATENDIMENTO DE_TIPO_ATENDIMENTO  \\\n",
              "0  17-Hidroxi Pregnenolona           23     2021-01-18        Ambulatorial   \n",
              "1  17-Hidroxi Pregnenolona           27     2020-09-24             Externo   \n",
              "2  17-Hidroxi Pregnenolona           50     2021-02-25             Externo   \n",
              "\n",
              "   ID_CLINICA     DE_CLINICA DT_DESFECHO          DE_DESFECHO AA_NASCIMENTO  \\\n",
              "0        15.0    Hemodiálise  2021-01-22  Alta Administrativa          1987   \n",
              "1        20.0  Procedimentos  2020-09-24  Alta Administrativa          1994   \n",
              "2        20.0  Procedimentos  2021-02-25  Alta Administrativa          1979   \n",
              "\n",
              "  IC_SEXO DT_ATENDIMENTO_MAXIMA  \n",
              "0       F            2021-05-31  \n",
              "1       F            2021-06-11  \n",
              "2       F            2021-04-22  "
            ]
          },
          "execution_count": 235,
          "metadata": {},
          "output_type": "execute_result"
        }
      ],
      "source": [
        "#juntando datasets para auxiliar próximo filtro que é Exame covid até 15 dias após DT_ATENDIMENTO_MAXIMA\n",
        "\n",
        "df_hsl_temp = df_hsl.merge(atendimento_paciente, on=['ID_PACIENTE'], how='left')\n",
        "df_hsl_temp.head(3)"
      ]
    },
    {
      "cell_type": "code",
      "execution_count": 236,
      "metadata": {
        "colab": {
          "base_uri": "https://localhost:8080/",
          "height": 329
        },
        "id": "FDDtNR9gm2HP",
        "outputId": "0c058216-7ee3-4990-efb8-34e587e8c5ac"
      },
      "outputs": [
        {
          "data": {
            "text/html": [
              "<div>\n",
              "<style scoped>\n",
              "    .dataframe tbody tr th:only-of-type {\n",
              "        vertical-align: middle;\n",
              "    }\n",
              "\n",
              "    .dataframe tbody tr th {\n",
              "        vertical-align: top;\n",
              "    }\n",
              "\n",
              "    .dataframe thead th {\n",
              "        text-align: right;\n",
              "    }\n",
              "</style>\n",
              "<table border=\"1\" class=\"dataframe\">\n",
              "  <thead>\n",
              "    <tr style=\"text-align: right;\">\n",
              "      <th></th>\n",
              "      <th>ID_PACIENTE</th>\n",
              "      <th>ID_ATENDIMENTO</th>\n",
              "      <th>DT_COLETA</th>\n",
              "      <th>DE_ORIGEM</th>\n",
              "      <th>DE_EXAME</th>\n",
              "      <th>DE_ANALITO</th>\n",
              "      <th>DE_RESULTADO</th>\n",
              "      <th>DT_ATENDIMENTO</th>\n",
              "      <th>DE_TIPO_ATENDIMENTO</th>\n",
              "      <th>ID_CLINICA</th>\n",
              "      <th>DE_CLINICA</th>\n",
              "      <th>DT_DESFECHO</th>\n",
              "      <th>DE_DESFECHO</th>\n",
              "      <th>AA_NASCIMENTO</th>\n",
              "      <th>IC_SEXO</th>\n",
              "      <th>DT_ATENDIMENTO_MAXIMA</th>\n",
              "      <th>delta_dt_atendimento</th>\n",
              "    </tr>\n",
              "  </thead>\n",
              "  <tbody>\n",
              "    <tr>\n",
              "      <th>0</th>\n",
              "      <td>9BB15EA1D912994DE467C71E953F6ACC</td>\n",
              "      <td>E7E88B60259AD5C9CF3A837260CB8CC7</td>\n",
              "      <td>2021-01-22</td>\n",
              "      <td>Hemodiálise</td>\n",
              "      <td>17 Hidroxipregnenolona</td>\n",
              "      <td>17-Hidroxi Pregnenolona</td>\n",
              "      <td>23</td>\n",
              "      <td>2021-01-18</td>\n",
              "      <td>Ambulatorial</td>\n",
              "      <td>15.0</td>\n",
              "      <td>Hemodiálise</td>\n",
              "      <td>2021-01-22</td>\n",
              "      <td>Alta Administrativa</td>\n",
              "      <td>1987</td>\n",
              "      <td>F</td>\n",
              "      <td>2021-05-31</td>\n",
              "      <td>133.0</td>\n",
              "    </tr>\n",
              "    <tr>\n",
              "      <th>1</th>\n",
              "      <td>FB48065512F8BFFAE3FC16530785BB57</td>\n",
              "      <td>E9E678082F3C9EA1C8F00DC5881049F6</td>\n",
              "      <td>2020-09-24</td>\n",
              "      <td>Laboratório de Patologia Clínica</td>\n",
              "      <td>17 Hidroxipregnenolona</td>\n",
              "      <td>17-Hidroxi Pregnenolona</td>\n",
              "      <td>27</td>\n",
              "      <td>2020-09-24</td>\n",
              "      <td>Externo</td>\n",
              "      <td>20.0</td>\n",
              "      <td>Procedimentos</td>\n",
              "      <td>2020-09-24</td>\n",
              "      <td>Alta Administrativa</td>\n",
              "      <td>1994</td>\n",
              "      <td>F</td>\n",
              "      <td>2021-06-11</td>\n",
              "      <td>260.0</td>\n",
              "    </tr>\n",
              "    <tr>\n",
              "      <th>2</th>\n",
              "      <td>5ABF34B0AE202F876BDAA0F338881BC1</td>\n",
              "      <td>248AD10D114DEC5A0FF184548FAD4EDA</td>\n",
              "      <td>2021-02-25</td>\n",
              "      <td>Recepção do Centro Diagnóstico</td>\n",
              "      <td>17 Hidroxipregnenolona</td>\n",
              "      <td>17-Hidroxi Pregnenolona</td>\n",
              "      <td>50</td>\n",
              "      <td>2021-02-25</td>\n",
              "      <td>Externo</td>\n",
              "      <td>20.0</td>\n",
              "      <td>Procedimentos</td>\n",
              "      <td>2021-02-25</td>\n",
              "      <td>Alta Administrativa</td>\n",
              "      <td>1979</td>\n",
              "      <td>F</td>\n",
              "      <td>2021-04-22</td>\n",
              "      <td>56.0</td>\n",
              "    </tr>\n",
              "  </tbody>\n",
              "</table>\n",
              "</div>"
            ],
            "text/plain": [
              "                        ID_PACIENTE                    ID_ATENDIMENTO  \\\n",
              "0  9BB15EA1D912994DE467C71E953F6ACC  E7E88B60259AD5C9CF3A837260CB8CC7   \n",
              "1  FB48065512F8BFFAE3FC16530785BB57  E9E678082F3C9EA1C8F00DC5881049F6   \n",
              "2  5ABF34B0AE202F876BDAA0F338881BC1  248AD10D114DEC5A0FF184548FAD4EDA   \n",
              "\n",
              "   DT_COLETA                         DE_ORIGEM                DE_EXAME  \\\n",
              "0 2021-01-22                       Hemodiálise  17 Hidroxipregnenolona   \n",
              "1 2020-09-24  Laboratório de Patologia Clínica  17 Hidroxipregnenolona   \n",
              "2 2021-02-25    Recepção do Centro Diagnóstico  17 Hidroxipregnenolona   \n",
              "\n",
              "                DE_ANALITO DE_RESULTADO DT_ATENDIMENTO DE_TIPO_ATENDIMENTO  \\\n",
              "0  17-Hidroxi Pregnenolona           23     2021-01-18        Ambulatorial   \n",
              "1  17-Hidroxi Pregnenolona           27     2020-09-24             Externo   \n",
              "2  17-Hidroxi Pregnenolona           50     2021-02-25             Externo   \n",
              "\n",
              "   ID_CLINICA     DE_CLINICA DT_DESFECHO          DE_DESFECHO AA_NASCIMENTO  \\\n",
              "0        15.0    Hemodiálise  2021-01-22  Alta Administrativa          1987   \n",
              "1        20.0  Procedimentos  2020-09-24  Alta Administrativa          1994   \n",
              "2        20.0  Procedimentos  2021-02-25  Alta Administrativa          1979   \n",
              "\n",
              "  IC_SEXO DT_ATENDIMENTO_MAXIMA  delta_dt_atendimento  \n",
              "0       F            2021-05-31                 133.0  \n",
              "1       F            2021-06-11                 260.0  \n",
              "2       F            2021-04-22                  56.0  "
            ]
          },
          "execution_count": 236,
          "metadata": {},
          "output_type": "execute_result"
        }
      ],
      "source": [
        "#verificando se existe diferença entre DT_COLETA e DT_COLETA_MAXIMA\n",
        "df_hsl_temp['delta_dt_atendimento'] = (df_hsl_temp['DT_ATENDIMENTO_MAXIMA']-df_hsl_temp['DT_ATENDIMENTO']).dt.days\n",
        "df_hsl_temp.head(3)"
      ]
    },
    {
      "cell_type": "code",
      "execution_count": 237,
      "metadata": {
        "colab": {
          "base_uri": "https://localhost:8080/"
        },
        "id": "ApwNqBNYgjA4",
        "outputId": "c9a96055-33cf-49a7-9e59-1dd1c09ca96b"
      },
      "outputs": [
        {
          "name": "stdout",
          "output_type": "stream",
          "text": [
            "delta_covid_positivo\n",
            " 0.0      368675\n",
            " 1.0       81613\n",
            " 2.0       57977\n",
            " 3.0       55890\n",
            " 4.0       52712\n",
            "           ...  \n",
            " 309.0         2\n",
            " 323.0         2\n",
            " 312.0         2\n",
            "-460.0         2\n",
            " 354.0         1\n",
            "Name: count, Length: 781, dtype: int64\n"
          ]
        }
      ],
      "source": [
        "# Filtrando apenas pacientes com COVID confirmado até 15 dias após o atendimento\n",
        "\n",
        "df_hsl_temp['delta_covid_positivo'] = (df_hsl_temp['DT_COLETA'] - df_hsl_temp['DT_ATENDIMENTO_MAXIMA']).dt.days\n",
        "\n",
        "print(df_hsl_temp['delta_covid_positivo'].value_counts())"
      ]
    },
    {
      "cell_type": "code",
      "execution_count": 238,
      "metadata": {
        "id": "cjhGoA9KrsMQ"
      },
      "outputs": [],
      "source": [
        "#delta_covid_positivo = df_hsl_temp['delta_covid_positivo'].value_counts()\n",
        "#delta_covid_positivo.to_csv('Delta_covid_positivo.csv', sep='|', encoding='utf8')"
      ]
    },
    {
      "cell_type": "code",
      "execution_count": 239,
      "metadata": {
        "colab": {
          "base_uri": "https://localhost:8080/"
        },
        "id": "YK1meGHutkMr",
        "outputId": "f6f9cf79-51b3-4148-85df-0045fffb44a0"
      },
      "outputs": [
        {
          "name": "stdout",
          "output_type": "stream",
          "text": [
            "(994661, 18)\n"
          ]
        },
        {
          "data": {
            "text/plain": [
              "delta_covid_positivo\n",
              "0.0     368675\n",
              "1.0      81613\n",
              "2.0      57977\n",
              "3.0      55890\n",
              "4.0      52712\n",
              "5.0      48492\n",
              "6.0      46055\n",
              "7.0      43436\n",
              "8.0      39106\n",
              "9.0      36609\n",
              "10.0     32967\n",
              "11.0     30172\n",
              "12.0     27715\n",
              "13.0     26199\n",
              "14.0     24914\n",
              "15.0     22129\n",
              "Name: count, dtype: int64"
            ]
          },
          "execution_count": 239,
          "metadata": {},
          "output_type": "execute_result"
        }
      ],
      "source": [
        "#Selecionando apenas exemplos com delta_covid_positivo <= 15 para selecionar esses pacientes\n",
        "quinze_dias = df_hsl_temp[df_hsl_temp['delta_covid_positivo']<=15]\n",
        "quinze_dias = quinze_dias[quinze_dias['delta_covid_positivo']>=0]\n",
        "print(quinze_dias.shape)\n",
        "quinze_dias['delta_covid_positivo'].value_counts()"
      ]
    },
    {
      "cell_type": "code",
      "execution_count": 240,
      "metadata": {
        "colab": {
          "base_uri": "https://localhost:8080/"
        },
        "id": "65JMNlBVta_C",
        "outputId": "5c072293-2e70-4f28-c88e-c7c1c7f8794b"
      },
      "outputs": [
        {
          "name": "stdout",
          "output_type": "stream",
          "text": [
            "(14548,)\n"
          ]
        },
        {
          "data": {
            "text/plain": [
              "array(['F59A53116E97CB53C79DF6C69C04E605',\n",
              "       'EACD2EA6DA8329C02CA5EBFF5FDC8AAA',\n",
              "       'B8DC44F94CAA79BB1B5CCC951F59489A', ...,\n",
              "       '327BC173C1CACCE8148CD7508591B4AB',\n",
              "       'E4B3D0A56E394DDEEC83BBF5688981F9',\n",
              "       '8ACDC305025C1B06CE125634CAA07549'], dtype=object)"
            ]
          },
          "execution_count": 240,
          "metadata": {},
          "output_type": "execute_result"
        }
      ],
      "source": [
        "pacientes_quinze_dias = quinze_dias['ID_PACIENTE'].unique()\n",
        "print(pacientes_quinze_dias.shape)\n",
        "pacientes_quinze_dias"
      ]
    },
    {
      "cell_type": "code",
      "execution_count": 241,
      "metadata": {
        "colab": {
          "base_uri": "https://localhost:8080/",
          "height": 347
        },
        "id": "L4gxPU-uvn70",
        "outputId": "d10a68b1-7425-40bc-b2a3-6fdc244d13c1"
      },
      "outputs": [
        {
          "name": "stdout",
          "output_type": "stream",
          "text": [
            "14548\n"
          ]
        },
        {
          "data": {
            "text/html": [
              "<div>\n",
              "<style scoped>\n",
              "    .dataframe tbody tr th:only-of-type {\n",
              "        vertical-align: middle;\n",
              "    }\n",
              "\n",
              "    .dataframe tbody tr th {\n",
              "        vertical-align: top;\n",
              "    }\n",
              "\n",
              "    .dataframe thead th {\n",
              "        text-align: right;\n",
              "    }\n",
              "</style>\n",
              "<table border=\"1\" class=\"dataframe\">\n",
              "  <thead>\n",
              "    <tr style=\"text-align: right;\">\n",
              "      <th></th>\n",
              "      <th>ID_PACIENTE</th>\n",
              "      <th>ID_ATENDIMENTO</th>\n",
              "      <th>DT_COLETA</th>\n",
              "      <th>DE_ORIGEM</th>\n",
              "      <th>DE_EXAME</th>\n",
              "      <th>DE_ANALITO</th>\n",
              "      <th>DE_RESULTADO</th>\n",
              "      <th>DT_ATENDIMENTO</th>\n",
              "      <th>DE_TIPO_ATENDIMENTO</th>\n",
              "      <th>ID_CLINICA</th>\n",
              "      <th>DE_CLINICA</th>\n",
              "      <th>DT_DESFECHO</th>\n",
              "      <th>DE_DESFECHO</th>\n",
              "      <th>AA_NASCIMENTO</th>\n",
              "      <th>IC_SEXO</th>\n",
              "    </tr>\n",
              "  </thead>\n",
              "  <tbody>\n",
              "    <tr>\n",
              "      <th>0</th>\n",
              "      <td>9BB15EA1D912994DE467C71E953F6ACC</td>\n",
              "      <td>E7E88B60259AD5C9CF3A837260CB8CC7</td>\n",
              "      <td>2021-01-22</td>\n",
              "      <td>Hemodiálise</td>\n",
              "      <td>17 Hidroxipregnenolona</td>\n",
              "      <td>17-Hidroxi Pregnenolona</td>\n",
              "      <td>23</td>\n",
              "      <td>2021-01-18</td>\n",
              "      <td>Ambulatorial</td>\n",
              "      <td>15.0</td>\n",
              "      <td>Hemodiálise</td>\n",
              "      <td>2021-01-22</td>\n",
              "      <td>Alta Administrativa</td>\n",
              "      <td>1987</td>\n",
              "      <td>F</td>\n",
              "    </tr>\n",
              "    <tr>\n",
              "      <th>1</th>\n",
              "      <td>FB48065512F8BFFAE3FC16530785BB57</td>\n",
              "      <td>E9E678082F3C9EA1C8F00DC5881049F6</td>\n",
              "      <td>2020-09-24</td>\n",
              "      <td>Laboratório de Patologia Clínica</td>\n",
              "      <td>17 Hidroxipregnenolona</td>\n",
              "      <td>17-Hidroxi Pregnenolona</td>\n",
              "      <td>27</td>\n",
              "      <td>2020-09-24</td>\n",
              "      <td>Externo</td>\n",
              "      <td>20.0</td>\n",
              "      <td>Procedimentos</td>\n",
              "      <td>2020-09-24</td>\n",
              "      <td>Alta Administrativa</td>\n",
              "      <td>1994</td>\n",
              "      <td>F</td>\n",
              "    </tr>\n",
              "    <tr>\n",
              "      <th>2</th>\n",
              "      <td>5ABF34B0AE202F876BDAA0F338881BC1</td>\n",
              "      <td>248AD10D114DEC5A0FF184548FAD4EDA</td>\n",
              "      <td>2021-02-25</td>\n",
              "      <td>Recepção do Centro Diagnóstico</td>\n",
              "      <td>17 Hidroxipregnenolona</td>\n",
              "      <td>17-Hidroxi Pregnenolona</td>\n",
              "      <td>50</td>\n",
              "      <td>2021-02-25</td>\n",
              "      <td>Externo</td>\n",
              "      <td>20.0</td>\n",
              "      <td>Procedimentos</td>\n",
              "      <td>2021-02-25</td>\n",
              "      <td>Alta Administrativa</td>\n",
              "      <td>1979</td>\n",
              "      <td>F</td>\n",
              "    </tr>\n",
              "  </tbody>\n",
              "</table>\n",
              "</div>"
            ],
            "text/plain": [
              "                        ID_PACIENTE                    ID_ATENDIMENTO  \\\n",
              "0  9BB15EA1D912994DE467C71E953F6ACC  E7E88B60259AD5C9CF3A837260CB8CC7   \n",
              "1  FB48065512F8BFFAE3FC16530785BB57  E9E678082F3C9EA1C8F00DC5881049F6   \n",
              "2  5ABF34B0AE202F876BDAA0F338881BC1  248AD10D114DEC5A0FF184548FAD4EDA   \n",
              "\n",
              "   DT_COLETA                         DE_ORIGEM                DE_EXAME  \\\n",
              "0 2021-01-22                       Hemodiálise  17 Hidroxipregnenolona   \n",
              "1 2020-09-24  Laboratório de Patologia Clínica  17 Hidroxipregnenolona   \n",
              "2 2021-02-25    Recepção do Centro Diagnóstico  17 Hidroxipregnenolona   \n",
              "\n",
              "                DE_ANALITO DE_RESULTADO DT_ATENDIMENTO DE_TIPO_ATENDIMENTO  \\\n",
              "0  17-Hidroxi Pregnenolona           23     2021-01-18        Ambulatorial   \n",
              "1  17-Hidroxi Pregnenolona           27     2020-09-24             Externo   \n",
              "2  17-Hidroxi Pregnenolona           50     2021-02-25             Externo   \n",
              "\n",
              "   ID_CLINICA     DE_CLINICA DT_DESFECHO          DE_DESFECHO AA_NASCIMENTO  \\\n",
              "0        15.0    Hemodiálise  2021-01-22  Alta Administrativa          1987   \n",
              "1        20.0  Procedimentos  2020-09-24  Alta Administrativa          1994   \n",
              "2        20.0  Procedimentos  2021-02-25  Alta Administrativa          1979   \n",
              "\n",
              "  IC_SEXO  \n",
              "0       F  \n",
              "1       F  \n",
              "2       F  "
            ]
          },
          "execution_count": 241,
          "metadata": {},
          "output_type": "execute_result"
        }
      ],
      "source": [
        "# Finalmente base com o filtro de 15 dias (covid positivo)\n",
        "\n",
        "df_hsl = df_hsl.loc[df_hsl['ID_PACIENTE'].isin(pacientes_quinze_dias)]\n",
        "\n",
        "print(df_hsl['ID_PACIENTE'].nunique())\n",
        "\n",
        "df_hsl.head(3)"
      ]
    },
    {
      "cell_type": "markdown",
      "metadata": {
        "id": "Yzfj2fuGstKz"
      },
      "source": [
        "#### **ANALISANDO AS ORIGENS DOS EXAMES PARA DIVISÃO EM GRUPOS**\n",
        "\n",
        "GRUPO_0 - pacientes com exames provindos apenas do pronto socorro (NÃO_GRAVE);\n",
        "\n",
        "GRUPO_1 - pacientes com exames provindos apenas do pronto socorro e internação (NÃO_GRAVE);\n",
        "\n",
        "GRUPO_2 - pacientes com exames provindos do PS e UTI (GRAVE).\n",
        "\n",
        "GRUPO_3 - pacientes com exames provindos do PS, Internação e UTI (GRAVE)."
      ]
    },
    {
      "cell_type": "code",
      "execution_count": 242,
      "metadata": {
        "colab": {
          "base_uri": "https://localhost:8080/",
          "height": 594
        },
        "id": "GOyUHdgcjhM3",
        "outputId": "bc651ff8-a5c1-4915-97a6-dc1b3934f3d0"
      },
      "outputs": [
        {
          "name": "stdout",
          "output_type": "stream",
          "text": [
            "(2861028, 18)\n"
          ]
        },
        {
          "name": "stderr",
          "output_type": "stream",
          "text": [
            "C:\\Users\\flopes\\AppData\\Local\\Temp\\ipykernel_21500\\558813488.py:5: SettingWithCopyWarning: \n",
            "A value is trying to be set on a copy of a slice from a DataFrame.\n",
            "Try using .loc[row_indexer,col_indexer] = value instead\n",
            "\n",
            "See the caveats in the documentation: https://pandas.pydata.org/pandas-docs/stable/user_guide/indexing.html#returning-a-view-versus-a-copy\n",
            "  grupos['UTI'] = 'NaN'  #Cria coluna UTI com valores nulos\n",
            "C:\\Users\\flopes\\AppData\\Local\\Temp\\ipykernel_21500\\558813488.py:7: SettingWithCopyWarning: \n",
            "A value is trying to be set on a copy of a slice from a DataFrame.\n",
            "Try using .loc[row_indexer,col_indexer] = value instead\n",
            "\n",
            "See the caveats in the documentation: https://pandas.pydata.org/pandas-docs/stable/user_guide/indexing.html#returning-a-view-versus-a-copy\n",
            "  grupos['INT'] = 'Nan'  #Cria coluna INT com valores nulos\n",
            "C:\\Users\\flopes\\AppData\\Local\\Temp\\ipykernel_21500\\558813488.py:9: SettingWithCopyWarning: \n",
            "A value is trying to be set on a copy of a slice from a DataFrame.\n",
            "Try using .loc[row_indexer,col_indexer] = value instead\n",
            "\n",
            "See the caveats in the documentation: https://pandas.pydata.org/pandas-docs/stable/user_guide/indexing.html#returning-a-view-versus-a-copy\n",
            "  grupos['PS'] = 'Nan'   #Cria coluna PS com valores nulos\n"
          ]
        },
        {
          "data": {
            "text/html": [
              "<div>\n",
              "<style scoped>\n",
              "    .dataframe tbody tr th:only-of-type {\n",
              "        vertical-align: middle;\n",
              "    }\n",
              "\n",
              "    .dataframe tbody tr th {\n",
              "        vertical-align: top;\n",
              "    }\n",
              "\n",
              "    .dataframe thead th {\n",
              "        text-align: right;\n",
              "    }\n",
              "</style>\n",
              "<table border=\"1\" class=\"dataframe\">\n",
              "  <thead>\n",
              "    <tr style=\"text-align: right;\">\n",
              "      <th></th>\n",
              "      <th>ID_PACIENTE</th>\n",
              "      <th>ID_ATENDIMENTO</th>\n",
              "      <th>DT_COLETA</th>\n",
              "      <th>DE_ORIGEM</th>\n",
              "      <th>DE_EXAME</th>\n",
              "      <th>DE_ANALITO</th>\n",
              "      <th>DE_RESULTADO</th>\n",
              "      <th>DT_ATENDIMENTO</th>\n",
              "      <th>DE_TIPO_ATENDIMENTO</th>\n",
              "      <th>ID_CLINICA</th>\n",
              "      <th>DE_CLINICA</th>\n",
              "      <th>DT_DESFECHO</th>\n",
              "      <th>DE_DESFECHO</th>\n",
              "      <th>AA_NASCIMENTO</th>\n",
              "      <th>IC_SEXO</th>\n",
              "      <th>UTI</th>\n",
              "      <th>INT</th>\n",
              "      <th>PS</th>\n",
              "    </tr>\n",
              "  </thead>\n",
              "  <tbody>\n",
              "    <tr>\n",
              "      <th>0</th>\n",
              "      <td>9BB15EA1D912994DE467C71E953F6ACC</td>\n",
              "      <td>E7E88B60259AD5C9CF3A837260CB8CC7</td>\n",
              "      <td>2021-01-22</td>\n",
              "      <td>Hemodiálise</td>\n",
              "      <td>17 Hidroxipregnenolona</td>\n",
              "      <td>17-Hidroxi Pregnenolona</td>\n",
              "      <td>23</td>\n",
              "      <td>2021-01-18</td>\n",
              "      <td>Ambulatorial</td>\n",
              "      <td>15.0</td>\n",
              "      <td>Hemodiálise</td>\n",
              "      <td>2021-01-22</td>\n",
              "      <td>Alta Administrativa</td>\n",
              "      <td>1987</td>\n",
              "      <td>F</td>\n",
              "      <td>NaN</td>\n",
              "      <td>Nan</td>\n",
              "      <td>Nan</td>\n",
              "    </tr>\n",
              "    <tr>\n",
              "      <th>1</th>\n",
              "      <td>FB48065512F8BFFAE3FC16530785BB57</td>\n",
              "      <td>E9E678082F3C9EA1C8F00DC5881049F6</td>\n",
              "      <td>2020-09-24</td>\n",
              "      <td>Laboratório de Patologia Clínica</td>\n",
              "      <td>17 Hidroxipregnenolona</td>\n",
              "      <td>17-Hidroxi Pregnenolona</td>\n",
              "      <td>27</td>\n",
              "      <td>2020-09-24</td>\n",
              "      <td>Externo</td>\n",
              "      <td>20.0</td>\n",
              "      <td>Procedimentos</td>\n",
              "      <td>2020-09-24</td>\n",
              "      <td>Alta Administrativa</td>\n",
              "      <td>1994</td>\n",
              "      <td>F</td>\n",
              "      <td>NaN</td>\n",
              "      <td>Nan</td>\n",
              "      <td>Nan</td>\n",
              "    </tr>\n",
              "  </tbody>\n",
              "</table>\n",
              "</div>"
            ],
            "text/plain": [
              "                        ID_PACIENTE                    ID_ATENDIMENTO  \\\n",
              "0  9BB15EA1D912994DE467C71E953F6ACC  E7E88B60259AD5C9CF3A837260CB8CC7   \n",
              "1  FB48065512F8BFFAE3FC16530785BB57  E9E678082F3C9EA1C8F00DC5881049F6   \n",
              "\n",
              "   DT_COLETA                         DE_ORIGEM                DE_EXAME  \\\n",
              "0 2021-01-22                       Hemodiálise  17 Hidroxipregnenolona   \n",
              "1 2020-09-24  Laboratório de Patologia Clínica  17 Hidroxipregnenolona   \n",
              "\n",
              "                DE_ANALITO DE_RESULTADO DT_ATENDIMENTO DE_TIPO_ATENDIMENTO  \\\n",
              "0  17-Hidroxi Pregnenolona           23     2021-01-18        Ambulatorial   \n",
              "1  17-Hidroxi Pregnenolona           27     2020-09-24             Externo   \n",
              "\n",
              "   ID_CLINICA     DE_CLINICA DT_DESFECHO          DE_DESFECHO AA_NASCIMENTO  \\\n",
              "0        15.0    Hemodiálise  2021-01-22  Alta Administrativa          1987   \n",
              "1        20.0  Procedimentos  2020-09-24  Alta Administrativa          1994   \n",
              "\n",
              "  IC_SEXO  UTI  INT   PS  \n",
              "0       F  NaN  Nan  Nan  \n",
              "1       F  NaN  Nan  Nan  "
            ]
          },
          "execution_count": 242,
          "metadata": {},
          "output_type": "execute_result"
        }
      ],
      "source": [
        "# Origens categorizadas em três tipos: UTI (Unidade de Terapia Intensiva), INT (Internação) ou PS (Pronto Socorro)\n",
        "\n",
        "grupos = df_hsl\n",
        "\n",
        "grupos['UTI'] = 'NaN'  #Cria coluna UTI com valores nulos\n",
        "\n",
        "grupos['INT'] = 'Nan'  #Cria coluna INT com valores nulos\n",
        "\n",
        "grupos['PS'] = 'Nan'   #Cria coluna PS com valores nulos\n",
        "\n",
        "print(grupos.shape)\n",
        "\n",
        "grupos.head(2)"
      ]
    },
    {
      "cell_type": "code",
      "execution_count": 243,
      "metadata": {
        "colab": {
          "base_uri": "https://localhost:8080/",
          "height": 715
        },
        "id": "MLuJjGLilntm",
        "outputId": "b293d380-f079-47e2-a1ec-c2269607822f"
      },
      "outputs": [
        {
          "name": "stdout",
          "output_type": "stream",
          "text": [
            "total de exemplos UTI:  (1275394, 18)\n",
            "Total de chaves unicas de atendimentos com exames UTI:  (1661,)\n",
            "\n",
            "\n",
            "\n",
            "\n"
          ]
        },
        {
          "name": "stderr",
          "output_type": "stream",
          "text": [
            "C:\\Users\\flopes\\AppData\\Local\\Temp\\ipykernel_21500\\3206388323.py:17: SettingWithCopyWarning: \n",
            "A value is trying to be set on a copy of a slice from a DataFrame.\n",
            "Try using .loc[row_indexer,col_indexer] = value instead\n",
            "\n",
            "See the caveats in the documentation: https://pandas.pydata.org/pandas-docs/stable/user_guide/indexing.html#returning-a-view-versus-a-copy\n",
            "  exemplos_UTI['UTI'] = 1\n",
            "C:\\Users\\flopes\\AppData\\Local\\Temp\\ipykernel_21500\\3206388323.py:19: SettingWithCopyWarning: \n",
            "A value is trying to be set on a copy of a slice from a DataFrame.\n",
            "Try using .loc[row_indexer,col_indexer] = value instead\n",
            "\n",
            "See the caveats in the documentation: https://pandas.pydata.org/pandas-docs/stable/user_guide/indexing.html#returning-a-view-versus-a-copy\n",
            "  exemplos_UTI['INT'] = 0\n",
            "C:\\Users\\flopes\\AppData\\Local\\Temp\\ipykernel_21500\\3206388323.py:21: SettingWithCopyWarning: \n",
            "A value is trying to be set on a copy of a slice from a DataFrame.\n",
            "Try using .loc[row_indexer,col_indexer] = value instead\n",
            "\n",
            "See the caveats in the documentation: https://pandas.pydata.org/pandas-docs/stable/user_guide/indexing.html#returning-a-view-versus-a-copy\n",
            "  exemplos_UTI['PS'] = 0\n"
          ]
        },
        {
          "data": {
            "text/html": [
              "<div>\n",
              "<style scoped>\n",
              "    .dataframe tbody tr th:only-of-type {\n",
              "        vertical-align: middle;\n",
              "    }\n",
              "\n",
              "    .dataframe tbody tr th {\n",
              "        vertical-align: top;\n",
              "    }\n",
              "\n",
              "    .dataframe thead th {\n",
              "        text-align: right;\n",
              "    }\n",
              "</style>\n",
              "<table border=\"1\" class=\"dataframe\">\n",
              "  <thead>\n",
              "    <tr style=\"text-align: right;\">\n",
              "      <th></th>\n",
              "      <th>ID_PACIENTE</th>\n",
              "      <th>ID_ATENDIMENTO</th>\n",
              "      <th>DT_COLETA</th>\n",
              "      <th>DE_ORIGEM</th>\n",
              "      <th>DE_EXAME</th>\n",
              "      <th>DE_ANALITO</th>\n",
              "      <th>DE_RESULTADO</th>\n",
              "      <th>DT_ATENDIMENTO</th>\n",
              "      <th>DE_TIPO_ATENDIMENTO</th>\n",
              "      <th>ID_CLINICA</th>\n",
              "      <th>DE_CLINICA</th>\n",
              "      <th>DT_DESFECHO</th>\n",
              "      <th>DE_DESFECHO</th>\n",
              "      <th>AA_NASCIMENTO</th>\n",
              "      <th>IC_SEXO</th>\n",
              "      <th>UTI</th>\n",
              "      <th>INT</th>\n",
              "      <th>PS</th>\n",
              "    </tr>\n",
              "  </thead>\n",
              "  <tbody>\n",
              "    <tr>\n",
              "      <th>20</th>\n",
              "      <td>5C4832BBECDDFB9FD2D8C94BB5B2B30A</td>\n",
              "      <td>AE1ECB883EDC595FB42C1412B2F91865</td>\n",
              "      <td>2020-10-26</td>\n",
              "      <td>UTI</td>\n",
              "      <td>Acetilcolina, Anticorpos Bloqueadores do Recep...</td>\n",
              "      <td>Acetilcolina - Anticorpos bloqueadores</td>\n",
              "      <td>60</td>\n",
              "      <td>2020-10-26</td>\n",
              "      <td>Internado</td>\n",
              "      <td>1.0</td>\n",
              "      <td>Clínica Médica</td>\n",
              "      <td>2020-10-26</td>\n",
              "      <td>Alta médica melhorado</td>\n",
              "      <td>1945</td>\n",
              "      <td>M</td>\n",
              "      <td>1</td>\n",
              "      <td>0</td>\n",
              "      <td>0</td>\n",
              "    </tr>\n",
              "    <tr>\n",
              "      <th>23</th>\n",
              "      <td>6B67C82A8921DCBB54E89B82E8989127</td>\n",
              "      <td>34CC522989256D37465D8AD2DFF3E5A5</td>\n",
              "      <td>2021-04-16</td>\n",
              "      <td>UTI</td>\n",
              "      <td>Acetona, Sangue Total</td>\n",
              "      <td>Acetona, sangue total</td>\n",
              "      <td>Não detectável</td>\n",
              "      <td>2021-03-02</td>\n",
              "      <td>Internado</td>\n",
              "      <td>1.0</td>\n",
              "      <td>Clínica Médica</td>\n",
              "      <td>2021-04-16</td>\n",
              "      <td>Alta médica melhorado</td>\n",
              "      <td>1955</td>\n",
              "      <td>F</td>\n",
              "      <td>1</td>\n",
              "      <td>0</td>\n",
              "      <td>0</td>\n",
              "    </tr>\n",
              "    <tr>\n",
              "      <th>24</th>\n",
              "      <td>6B67C82A8921DCBB54E89B82E8989127</td>\n",
              "      <td>34CC522989256D37465D8AD2DFF3E5A5</td>\n",
              "      <td>2021-04-19</td>\n",
              "      <td>UTI</td>\n",
              "      <td>Acetona, Sangue Total</td>\n",
              "      <td>Acetona, sangue total</td>\n",
              "      <td>Não detectável</td>\n",
              "      <td>2021-03-02</td>\n",
              "      <td>Internado</td>\n",
              "      <td>1.0</td>\n",
              "      <td>Clínica Médica</td>\n",
              "      <td>2021-04-19</td>\n",
              "      <td>Alta médica melhorado</td>\n",
              "      <td>1955</td>\n",
              "      <td>F</td>\n",
              "      <td>1</td>\n",
              "      <td>0</td>\n",
              "      <td>0</td>\n",
              "    </tr>\n",
              "  </tbody>\n",
              "</table>\n",
              "</div>"
            ],
            "text/plain": [
              "                         ID_PACIENTE                    ID_ATENDIMENTO  \\\n",
              "20  5C4832BBECDDFB9FD2D8C94BB5B2B30A  AE1ECB883EDC595FB42C1412B2F91865   \n",
              "23  6B67C82A8921DCBB54E89B82E8989127  34CC522989256D37465D8AD2DFF3E5A5   \n",
              "24  6B67C82A8921DCBB54E89B82E8989127  34CC522989256D37465D8AD2DFF3E5A5   \n",
              "\n",
              "    DT_COLETA DE_ORIGEM                                           DE_EXAME  \\\n",
              "20 2020-10-26       UTI  Acetilcolina, Anticorpos Bloqueadores do Recep...   \n",
              "23 2021-04-16       UTI                              Acetona, Sangue Total   \n",
              "24 2021-04-19       UTI                              Acetona, Sangue Total   \n",
              "\n",
              "                                DE_ANALITO    DE_RESULTADO DT_ATENDIMENTO  \\\n",
              "20  Acetilcolina - Anticorpos bloqueadores              60     2020-10-26   \n",
              "23                   Acetona, sangue total  Não detectável     2021-03-02   \n",
              "24                   Acetona, sangue total  Não detectável     2021-03-02   \n",
              "\n",
              "   DE_TIPO_ATENDIMENTO  ID_CLINICA      DE_CLINICA DT_DESFECHO  \\\n",
              "20           Internado         1.0  Clínica Médica  2020-10-26   \n",
              "23           Internado         1.0  Clínica Médica  2021-04-16   \n",
              "24           Internado         1.0  Clínica Médica  2021-04-19   \n",
              "\n",
              "              DE_DESFECHO AA_NASCIMENTO IC_SEXO  UTI  INT  PS  \n",
              "20  Alta médica melhorado          1945       M    1    0   0  \n",
              "23  Alta médica melhorado          1955       F    1    0   0  \n",
              "24  Alta médica melhorado          1955       F    1    0   0  "
            ]
          },
          "execution_count": 243,
          "metadata": {},
          "output_type": "execute_result"
        }
      ],
      "source": [
        "# Rotular exemplos provindos de UTI\n",
        "# Toda origem \"UTI\" foi categorizada como UTI, tendo os atributos: \n",
        "# UTI = 1\n",
        "# INT = 0\n",
        "# PS = 0\n",
        "\n",
        "exemplos_UTI = grupos[grupos['DE_ORIGEM']=='UTI']\n",
        "\n",
        "print('total de exemplos UTI: ', exemplos_UTI.shape)\n",
        "\n",
        "atendimentos_UTI = exemplos_UTI['ID_ATENDIMENTO'].unique()\n",
        "\n",
        "print('Total de chaves unicas de atendimentos com exames UTI: ', atendimentos_UTI.shape)\n",
        "print('\\n')\n",
        "print('\\n')\n",
        "\n",
        "exemplos_UTI['UTI'] = 1\n",
        "\n",
        "exemplos_UTI['INT'] = 0\n",
        "\n",
        "exemplos_UTI['PS'] = 0\n",
        "\n",
        "exemplos_UTI.head(3)"
      ]
    },
    {
      "cell_type": "code",
      "execution_count": 244,
      "metadata": {
        "colab": {
          "base_uri": "https://localhost:8080/",
          "height": 642
        },
        "id": "B1TpzzWHxcMm",
        "outputId": "332ca335-52ac-460f-bd8b-69f26db191bc"
      },
      "outputs": [
        {
          "name": "stdout",
          "output_type": "stream",
          "text": [
            "total de exemplos INT:  (770616, 18)\n",
            "Total de chaves unicas de atendimentos com exames em INT:  (3689,)\n"
          ]
        },
        {
          "name": "stderr",
          "output_type": "stream",
          "text": [
            "C:\\Users\\flopes\\AppData\\Local\\Temp\\ipykernel_21500\\800821020.py:15: SettingWithCopyWarning: \n",
            "A value is trying to be set on a copy of a slice from a DataFrame.\n",
            "Try using .loc[row_indexer,col_indexer] = value instead\n",
            "\n",
            "See the caveats in the documentation: https://pandas.pydata.org/pandas-docs/stable/user_guide/indexing.html#returning-a-view-versus-a-copy\n",
            "  exemplos_INT['UTI'] = 0\n",
            "C:\\Users\\flopes\\AppData\\Local\\Temp\\ipykernel_21500\\800821020.py:17: SettingWithCopyWarning: \n",
            "A value is trying to be set on a copy of a slice from a DataFrame.\n",
            "Try using .loc[row_indexer,col_indexer] = value instead\n",
            "\n",
            "See the caveats in the documentation: https://pandas.pydata.org/pandas-docs/stable/user_guide/indexing.html#returning-a-view-versus-a-copy\n",
            "  exemplos_INT['INT'] = 1\n",
            "C:\\Users\\flopes\\AppData\\Local\\Temp\\ipykernel_21500\\800821020.py:19: SettingWithCopyWarning: \n",
            "A value is trying to be set on a copy of a slice from a DataFrame.\n",
            "Try using .loc[row_indexer,col_indexer] = value instead\n",
            "\n",
            "See the caveats in the documentation: https://pandas.pydata.org/pandas-docs/stable/user_guide/indexing.html#returning-a-view-versus-a-copy\n",
            "  exemplos_INT['PS'] = 0\n"
          ]
        },
        {
          "data": {
            "text/html": [
              "<div>\n",
              "<style scoped>\n",
              "    .dataframe tbody tr th:only-of-type {\n",
              "        vertical-align: middle;\n",
              "    }\n",
              "\n",
              "    .dataframe tbody tr th {\n",
              "        vertical-align: top;\n",
              "    }\n",
              "\n",
              "    .dataframe thead th {\n",
              "        text-align: right;\n",
              "    }\n",
              "</style>\n",
              "<table border=\"1\" class=\"dataframe\">\n",
              "  <thead>\n",
              "    <tr style=\"text-align: right;\">\n",
              "      <th></th>\n",
              "      <th>ID_PACIENTE</th>\n",
              "      <th>ID_ATENDIMENTO</th>\n",
              "      <th>DT_COLETA</th>\n",
              "      <th>DE_ORIGEM</th>\n",
              "      <th>DE_EXAME</th>\n",
              "      <th>DE_ANALITO</th>\n",
              "      <th>DE_RESULTADO</th>\n",
              "      <th>DT_ATENDIMENTO</th>\n",
              "      <th>DE_TIPO_ATENDIMENTO</th>\n",
              "      <th>ID_CLINICA</th>\n",
              "      <th>DE_CLINICA</th>\n",
              "      <th>DT_DESFECHO</th>\n",
              "      <th>DE_DESFECHO</th>\n",
              "      <th>AA_NASCIMENTO</th>\n",
              "      <th>IC_SEXO</th>\n",
              "      <th>UTI</th>\n",
              "      <th>INT</th>\n",
              "      <th>PS</th>\n",
              "    </tr>\n",
              "  </thead>\n",
              "  <tbody>\n",
              "    <tr>\n",
              "      <th>17</th>\n",
              "      <td>B8DC44F94CAA79BB1B5CCC951F59489A</td>\n",
              "      <td>077BCC1089F40147207B0CCB6C076EA1</td>\n",
              "      <td>2021-04-24</td>\n",
              "      <td>Unidades de Internação</td>\n",
              "      <td>Acetilcolina, Anticorpo Anti</td>\n",
              "      <td>Acetilcolina</td>\n",
              "      <td>inferior a 0,02</td>\n",
              "      <td>2021-04-23</td>\n",
              "      <td>Internado</td>\n",
              "      <td>1.0</td>\n",
              "      <td>Clínica Médica</td>\n",
              "      <td>2021-04-24</td>\n",
              "      <td>Alta médica melhorado</td>\n",
              "      <td>1954</td>\n",
              "      <td>M</td>\n",
              "      <td>0</td>\n",
              "      <td>1</td>\n",
              "      <td>0</td>\n",
              "    </tr>\n",
              "    <tr>\n",
              "      <th>18</th>\n",
              "      <td>65BB744315B12C3416C53331D4536906</td>\n",
              "      <td>933B6C596FAEB98A9AB3C2CC1E572679</td>\n",
              "      <td>2020-08-16</td>\n",
              "      <td>Unidades de Internação</td>\n",
              "      <td>Acetilcolina, Anticorpo Anti</td>\n",
              "      <td>Acetilcolina</td>\n",
              "      <td>1,71</td>\n",
              "      <td>2020-08-15</td>\n",
              "      <td>Internado</td>\n",
              "      <td>1.0</td>\n",
              "      <td>Clínica Médica</td>\n",
              "      <td>2020-08-16</td>\n",
              "      <td>Alta médica melhorado</td>\n",
              "      <td>1953</td>\n",
              "      <td>M</td>\n",
              "      <td>0</td>\n",
              "      <td>1</td>\n",
              "      <td>0</td>\n",
              "    </tr>\n",
              "    <tr>\n",
              "      <th>19</th>\n",
              "      <td>F7C31F677442199344E667CC161AAE5B</td>\n",
              "      <td>BC8DED1CA1C69E1484B1AA899496939A</td>\n",
              "      <td>2021-01-09</td>\n",
              "      <td>Unidades de Internação</td>\n",
              "      <td>Acetilcolina, Anticorpo Anti</td>\n",
              "      <td>Acetilcolina</td>\n",
              "      <td>inferior a 0,02</td>\n",
              "      <td>2021-01-01</td>\n",
              "      <td>Internado</td>\n",
              "      <td>1.0</td>\n",
              "      <td>Clínica Médica</td>\n",
              "      <td>2021-01-09</td>\n",
              "      <td>Alta médica melhorado</td>\n",
              "      <td>1950</td>\n",
              "      <td>M</td>\n",
              "      <td>0</td>\n",
              "      <td>1</td>\n",
              "      <td>0</td>\n",
              "    </tr>\n",
              "  </tbody>\n",
              "</table>\n",
              "</div>"
            ],
            "text/plain": [
              "                         ID_PACIENTE                    ID_ATENDIMENTO  \\\n",
              "17  B8DC44F94CAA79BB1B5CCC951F59489A  077BCC1089F40147207B0CCB6C076EA1   \n",
              "18  65BB744315B12C3416C53331D4536906  933B6C596FAEB98A9AB3C2CC1E572679   \n",
              "19  F7C31F677442199344E667CC161AAE5B  BC8DED1CA1C69E1484B1AA899496939A   \n",
              "\n",
              "    DT_COLETA               DE_ORIGEM                      DE_EXAME  \\\n",
              "17 2021-04-24  Unidades de Internação  Acetilcolina, Anticorpo Anti   \n",
              "18 2020-08-16  Unidades de Internação  Acetilcolina, Anticorpo Anti   \n",
              "19 2021-01-09  Unidades de Internação  Acetilcolina, Anticorpo Anti   \n",
              "\n",
              "      DE_ANALITO     DE_RESULTADO DT_ATENDIMENTO DE_TIPO_ATENDIMENTO  \\\n",
              "17  Acetilcolina  inferior a 0,02     2021-04-23           Internado   \n",
              "18  Acetilcolina             1,71     2020-08-15           Internado   \n",
              "19  Acetilcolina  inferior a 0,02     2021-01-01           Internado   \n",
              "\n",
              "    ID_CLINICA      DE_CLINICA DT_DESFECHO            DE_DESFECHO  \\\n",
              "17         1.0  Clínica Médica  2021-04-24  Alta médica melhorado   \n",
              "18         1.0  Clínica Médica  2020-08-16  Alta médica melhorado   \n",
              "19         1.0  Clínica Médica  2021-01-09  Alta médica melhorado   \n",
              "\n",
              "   AA_NASCIMENTO IC_SEXO  UTI  INT  PS  \n",
              "17          1954       M    0    1   0  \n",
              "18          1953       M    0    1   0  \n",
              "19          1950       M    0    1   0  "
            ]
          },
          "execution_count": 244,
          "metadata": {},
          "output_type": "execute_result"
        }
      ],
      "source": [
        "# Rotular exemplos provindos da INT\n",
        "# Toda origem \"Unidades de Internação\" ou \"Atendimento - Recepção Internação\" foi categorizada como INT, ou seja: \n",
        "# UTI = 0\n",
        "# INT = 1\n",
        "# PS = 0\n",
        "\n",
        "exemplos_INT = grupos.query('DE_ORIGEM == \"Unidades de Internação\" | DE_ORIGEM == \"Atendimento - Recepção / Internação\"')\n",
        "\n",
        "print('total de exemplos INT: ', exemplos_INT.shape)\n",
        "\n",
        "atendimentos_INT = exemplos_INT['ID_ATENDIMENTO'].unique()\n",
        "\n",
        "print('Total de chaves unicas de atendimentos com exames em INT: ', atendimentos_INT.shape)\n",
        "\n",
        "exemplos_INT['UTI'] = 0\n",
        "\n",
        "exemplos_INT['INT'] = 1\n",
        "\n",
        "exemplos_INT['PS'] = 0\n",
        "\n",
        "exemplos_INT.head(3)\n"
      ]
    },
    {
      "cell_type": "markdown",
      "metadata": {
        "id": "Jx9sISBpwG4f"
      },
      "source": [
        "Todos os outros tipos de origens foram categorizadas como PS, tendo os atributos: \n",
        "\n",
        "UTI = 0\n",
        "\n",
        "INT = 0\n",
        "\n",
        "PS = 1"
      ]
    },
    {
      "cell_type": "code",
      "execution_count": 245,
      "metadata": {
        "colab": {
          "base_uri": "https://localhost:8080/",
          "height": 811
        },
        "id": "9M20SpyNrDd3",
        "outputId": "f5481590-38e9-4873-b128-e94ad90e59fe"
      },
      "outputs": [
        {
          "name": "stdout",
          "output_type": "stream",
          "text": [
            "total de exemplos PS:  (815018, 18)\n",
            "Total de chaves unicas de atendimentos com exame em PS:  (33592,)\n"
          ]
        },
        {
          "name": "stderr",
          "output_type": "stream",
          "text": [
            "C:\\Users\\flopes\\AppData\\Local\\Temp\\ipykernel_21500\\3505802771.py:11: SettingWithCopyWarning: \n",
            "A value is trying to be set on a copy of a slice from a DataFrame.\n",
            "Try using .loc[row_indexer,col_indexer] = value instead\n",
            "\n",
            "See the caveats in the documentation: https://pandas.pydata.org/pandas-docs/stable/user_guide/indexing.html#returning-a-view-versus-a-copy\n",
            "  exemplos_PS['UTI'] = 0\n",
            "C:\\Users\\flopes\\AppData\\Local\\Temp\\ipykernel_21500\\3505802771.py:13: SettingWithCopyWarning: \n",
            "A value is trying to be set on a copy of a slice from a DataFrame.\n",
            "Try using .loc[row_indexer,col_indexer] = value instead\n",
            "\n",
            "See the caveats in the documentation: https://pandas.pydata.org/pandas-docs/stable/user_guide/indexing.html#returning-a-view-versus-a-copy\n",
            "  exemplos_PS['INT'] = 0\n",
            "C:\\Users\\flopes\\AppData\\Local\\Temp\\ipykernel_21500\\3505802771.py:15: SettingWithCopyWarning: \n",
            "A value is trying to be set on a copy of a slice from a DataFrame.\n",
            "Try using .loc[row_indexer,col_indexer] = value instead\n",
            "\n",
            "See the caveats in the documentation: https://pandas.pydata.org/pandas-docs/stable/user_guide/indexing.html#returning-a-view-versus-a-copy\n",
            "  exemplos_PS['PS'] = 1\n"
          ]
        },
        {
          "data": {
            "text/html": [
              "<div>\n",
              "<style scoped>\n",
              "    .dataframe tbody tr th:only-of-type {\n",
              "        vertical-align: middle;\n",
              "    }\n",
              "\n",
              "    .dataframe tbody tr th {\n",
              "        vertical-align: top;\n",
              "    }\n",
              "\n",
              "    .dataframe thead th {\n",
              "        text-align: right;\n",
              "    }\n",
              "</style>\n",
              "<table border=\"1\" class=\"dataframe\">\n",
              "  <thead>\n",
              "    <tr style=\"text-align: right;\">\n",
              "      <th></th>\n",
              "      <th>ID_PACIENTE</th>\n",
              "      <th>ID_ATENDIMENTO</th>\n",
              "      <th>DT_COLETA</th>\n",
              "      <th>DE_ORIGEM</th>\n",
              "      <th>DE_EXAME</th>\n",
              "      <th>DE_ANALITO</th>\n",
              "      <th>DE_RESULTADO</th>\n",
              "      <th>DT_ATENDIMENTO</th>\n",
              "      <th>DE_TIPO_ATENDIMENTO</th>\n",
              "      <th>ID_CLINICA</th>\n",
              "      <th>DE_CLINICA</th>\n",
              "      <th>DT_DESFECHO</th>\n",
              "      <th>DE_DESFECHO</th>\n",
              "      <th>AA_NASCIMENTO</th>\n",
              "      <th>IC_SEXO</th>\n",
              "      <th>UTI</th>\n",
              "      <th>INT</th>\n",
              "      <th>PS</th>\n",
              "    </tr>\n",
              "  </thead>\n",
              "  <tbody>\n",
              "    <tr>\n",
              "      <th>0</th>\n",
              "      <td>9BB15EA1D912994DE467C71E953F6ACC</td>\n",
              "      <td>E7E88B60259AD5C9CF3A837260CB8CC7</td>\n",
              "      <td>2021-01-22</td>\n",
              "      <td>Hemodiálise</td>\n",
              "      <td>17 Hidroxipregnenolona</td>\n",
              "      <td>17-Hidroxi Pregnenolona</td>\n",
              "      <td>23</td>\n",
              "      <td>2021-01-18</td>\n",
              "      <td>Ambulatorial</td>\n",
              "      <td>15.0</td>\n",
              "      <td>Hemodiálise</td>\n",
              "      <td>2021-01-22</td>\n",
              "      <td>Alta Administrativa</td>\n",
              "      <td>1987</td>\n",
              "      <td>F</td>\n",
              "      <td>0</td>\n",
              "      <td>0</td>\n",
              "      <td>1</td>\n",
              "    </tr>\n",
              "    <tr>\n",
              "      <th>1</th>\n",
              "      <td>FB48065512F8BFFAE3FC16530785BB57</td>\n",
              "      <td>E9E678082F3C9EA1C8F00DC5881049F6</td>\n",
              "      <td>2020-09-24</td>\n",
              "      <td>Laboratório de Patologia Clínica</td>\n",
              "      <td>17 Hidroxipregnenolona</td>\n",
              "      <td>17-Hidroxi Pregnenolona</td>\n",
              "      <td>27</td>\n",
              "      <td>2020-09-24</td>\n",
              "      <td>Externo</td>\n",
              "      <td>20.0</td>\n",
              "      <td>Procedimentos</td>\n",
              "      <td>2020-09-24</td>\n",
              "      <td>Alta Administrativa</td>\n",
              "      <td>1994</td>\n",
              "      <td>F</td>\n",
              "      <td>0</td>\n",
              "      <td>0</td>\n",
              "      <td>1</td>\n",
              "    </tr>\n",
              "    <tr>\n",
              "      <th>2</th>\n",
              "      <td>5ABF34B0AE202F876BDAA0F338881BC1</td>\n",
              "      <td>248AD10D114DEC5A0FF184548FAD4EDA</td>\n",
              "      <td>2021-02-25</td>\n",
              "      <td>Recepção do Centro Diagnóstico</td>\n",
              "      <td>17 Hidroxipregnenolona</td>\n",
              "      <td>17-Hidroxi Pregnenolona</td>\n",
              "      <td>50</td>\n",
              "      <td>2021-02-25</td>\n",
              "      <td>Externo</td>\n",
              "      <td>20.0</td>\n",
              "      <td>Procedimentos</td>\n",
              "      <td>2021-02-25</td>\n",
              "      <td>Alta Administrativa</td>\n",
              "      <td>1979</td>\n",
              "      <td>F</td>\n",
              "      <td>0</td>\n",
              "      <td>0</td>\n",
              "      <td>1</td>\n",
              "    </tr>\n",
              "    <tr>\n",
              "      <th>3</th>\n",
              "      <td>9DECD77C85AD8EF58C52F5D747546632</td>\n",
              "      <td>F1C30774A4B98ECA55D2DF430DFA0025</td>\n",
              "      <td>2020-10-06</td>\n",
              "      <td>Recepção do Centro Diagnóstico</td>\n",
              "      <td>17 Hidroxipregnenolona</td>\n",
              "      <td>17-Hidroxi Pregnenolona</td>\n",
              "      <td>44</td>\n",
              "      <td>2020-10-06</td>\n",
              "      <td>Externo</td>\n",
              "      <td>20.0</td>\n",
              "      <td>Procedimentos</td>\n",
              "      <td>2020-10-06</td>\n",
              "      <td>Alta Administrativa</td>\n",
              "      <td>1982</td>\n",
              "      <td>F</td>\n",
              "      <td>0</td>\n",
              "      <td>0</td>\n",
              "      <td>1</td>\n",
              "    </tr>\n",
              "    <tr>\n",
              "      <th>4</th>\n",
              "      <td>F59A53116E97CB53C79DF6C69C04E605</td>\n",
              "      <td>D69D300246722272C2A60C5875CFC2E0</td>\n",
              "      <td>2021-05-20</td>\n",
              "      <td>Recepção do Centro Diagnóstico</td>\n",
              "      <td>17 Hidroxipregnenolona</td>\n",
              "      <td>17-Hidroxi Pregnenolona</td>\n",
              "      <td>inferior a 13</td>\n",
              "      <td>2021-05-20</td>\n",
              "      <td>Externo</td>\n",
              "      <td>20.0</td>\n",
              "      <td>Procedimentos</td>\n",
              "      <td>2021-05-20</td>\n",
              "      <td>Alta Administrativa</td>\n",
              "      <td>1969</td>\n",
              "      <td>M</td>\n",
              "      <td>0</td>\n",
              "      <td>0</td>\n",
              "      <td>1</td>\n",
              "    </tr>\n",
              "  </tbody>\n",
              "</table>\n",
              "</div>"
            ],
            "text/plain": [
              "                        ID_PACIENTE                    ID_ATENDIMENTO  \\\n",
              "0  9BB15EA1D912994DE467C71E953F6ACC  E7E88B60259AD5C9CF3A837260CB8CC7   \n",
              "1  FB48065512F8BFFAE3FC16530785BB57  E9E678082F3C9EA1C8F00DC5881049F6   \n",
              "2  5ABF34B0AE202F876BDAA0F338881BC1  248AD10D114DEC5A0FF184548FAD4EDA   \n",
              "3  9DECD77C85AD8EF58C52F5D747546632  F1C30774A4B98ECA55D2DF430DFA0025   \n",
              "4  F59A53116E97CB53C79DF6C69C04E605  D69D300246722272C2A60C5875CFC2E0   \n",
              "\n",
              "   DT_COLETA                         DE_ORIGEM                DE_EXAME  \\\n",
              "0 2021-01-22                       Hemodiálise  17 Hidroxipregnenolona   \n",
              "1 2020-09-24  Laboratório de Patologia Clínica  17 Hidroxipregnenolona   \n",
              "2 2021-02-25    Recepção do Centro Diagnóstico  17 Hidroxipregnenolona   \n",
              "3 2020-10-06    Recepção do Centro Diagnóstico  17 Hidroxipregnenolona   \n",
              "4 2021-05-20    Recepção do Centro Diagnóstico  17 Hidroxipregnenolona   \n",
              "\n",
              "                DE_ANALITO   DE_RESULTADO DT_ATENDIMENTO DE_TIPO_ATENDIMENTO  \\\n",
              "0  17-Hidroxi Pregnenolona             23     2021-01-18        Ambulatorial   \n",
              "1  17-Hidroxi Pregnenolona             27     2020-09-24             Externo   \n",
              "2  17-Hidroxi Pregnenolona             50     2021-02-25             Externo   \n",
              "3  17-Hidroxi Pregnenolona             44     2020-10-06             Externo   \n",
              "4  17-Hidroxi Pregnenolona  inferior a 13     2021-05-20             Externo   \n",
              "\n",
              "   ID_CLINICA     DE_CLINICA DT_DESFECHO          DE_DESFECHO AA_NASCIMENTO  \\\n",
              "0        15.0    Hemodiálise  2021-01-22  Alta Administrativa          1987   \n",
              "1        20.0  Procedimentos  2020-09-24  Alta Administrativa          1994   \n",
              "2        20.0  Procedimentos  2021-02-25  Alta Administrativa          1979   \n",
              "3        20.0  Procedimentos  2020-10-06  Alta Administrativa          1982   \n",
              "4        20.0  Procedimentos  2021-05-20  Alta Administrativa          1969   \n",
              "\n",
              "  IC_SEXO  UTI  INT  PS  \n",
              "0       F    0    0   1  \n",
              "1       F    0    0   1  \n",
              "2       F    0    0   1  \n",
              "3       F    0    0   1  \n",
              "4       M    0    0   1  "
            ]
          },
          "execution_count": 245,
          "metadata": {},
          "output_type": "execute_result"
        }
      ],
      "source": [
        "#Rotular exemplos provindos do PS\n",
        "\n",
        "exemplos_PS = grupos.query('DE_ORIGEM != \"Unidades de Internação\" & DE_ORIGEM != \"Atendimento - Recepção / Internação\" & DE_ORIGEM != \"UTI\"')\n",
        "\n",
        "print('total de exemplos PS: ', exemplos_PS.shape)\n",
        "\n",
        "atendimentos_PS = exemplos_PS['ID_ATENDIMENTO'].unique()\n",
        "\n",
        "print('Total de chaves unicas de atendimentos com exame em PS: ', atendimentos_PS.shape)\n",
        "\n",
        "exemplos_PS['UTI'] = 0\n",
        "\n",
        "exemplos_PS['INT'] = 0\n",
        "\n",
        "exemplos_PS['PS'] = 1\n",
        "\n",
        "exemplos_PS.head(5)\n"
      ]
    },
    {
      "cell_type": "code",
      "execution_count": 246,
      "metadata": {
        "colab": {
          "base_uri": "https://localhost:8080/",
          "height": 246
        },
        "id": "TjQV57BMzHmW",
        "outputId": "6de1463a-e0c0-4ac8-b9e0-03e73234454d"
      },
      "outputs": [
        {
          "data": {
            "text/html": [
              "<div>\n",
              "<style scoped>\n",
              "    .dataframe tbody tr th:only-of-type {\n",
              "        vertical-align: middle;\n",
              "    }\n",
              "\n",
              "    .dataframe tbody tr th {\n",
              "        vertical-align: top;\n",
              "    }\n",
              "\n",
              "    .dataframe thead th {\n",
              "        text-align: right;\n",
              "    }\n",
              "</style>\n",
              "<table border=\"1\" class=\"dataframe\">\n",
              "  <thead>\n",
              "    <tr style=\"text-align: right;\">\n",
              "      <th></th>\n",
              "      <th>ID_PACIENTE</th>\n",
              "      <th>ID_ATENDIMENTO</th>\n",
              "      <th>DT_COLETA</th>\n",
              "      <th>DE_ORIGEM</th>\n",
              "      <th>DE_EXAME</th>\n",
              "      <th>DE_ANALITO</th>\n",
              "      <th>DE_RESULTADO</th>\n",
              "      <th>DT_ATENDIMENTO</th>\n",
              "      <th>DE_TIPO_ATENDIMENTO</th>\n",
              "      <th>ID_CLINICA</th>\n",
              "      <th>DE_CLINICA</th>\n",
              "      <th>DT_DESFECHO</th>\n",
              "      <th>DE_DESFECHO</th>\n",
              "      <th>AA_NASCIMENTO</th>\n",
              "      <th>IC_SEXO</th>\n",
              "      <th>UTI</th>\n",
              "      <th>INT</th>\n",
              "      <th>PS</th>\n",
              "    </tr>\n",
              "  </thead>\n",
              "  <tbody>\n",
              "    <tr>\n",
              "      <th>20</th>\n",
              "      <td>5C4832BBECDDFB9FD2D8C94BB5B2B30A</td>\n",
              "      <td>AE1ECB883EDC595FB42C1412B2F91865</td>\n",
              "      <td>2020-10-26</td>\n",
              "      <td>UTI</td>\n",
              "      <td>Acetilcolina, Anticorpos Bloqueadores do Recep...</td>\n",
              "      <td>Acetilcolina - Anticorpos bloqueadores</td>\n",
              "      <td>60</td>\n",
              "      <td>2020-10-26</td>\n",
              "      <td>Internado</td>\n",
              "      <td>1.0</td>\n",
              "      <td>Clínica Médica</td>\n",
              "      <td>2020-10-26</td>\n",
              "      <td>Alta médica melhorado</td>\n",
              "      <td>1945</td>\n",
              "      <td>M</td>\n",
              "      <td>1</td>\n",
              "      <td>0</td>\n",
              "      <td>0</td>\n",
              "    </tr>\n",
              "    <tr>\n",
              "      <th>23</th>\n",
              "      <td>6B67C82A8921DCBB54E89B82E8989127</td>\n",
              "      <td>34CC522989256D37465D8AD2DFF3E5A5</td>\n",
              "      <td>2021-04-16</td>\n",
              "      <td>UTI</td>\n",
              "      <td>Acetona, Sangue Total</td>\n",
              "      <td>Acetona, sangue total</td>\n",
              "      <td>Não detectável</td>\n",
              "      <td>2021-03-02</td>\n",
              "      <td>Internado</td>\n",
              "      <td>1.0</td>\n",
              "      <td>Clínica Médica</td>\n",
              "      <td>2021-04-16</td>\n",
              "      <td>Alta médica melhorado</td>\n",
              "      <td>1955</td>\n",
              "      <td>F</td>\n",
              "      <td>1</td>\n",
              "      <td>0</td>\n",
              "      <td>0</td>\n",
              "    </tr>\n",
              "  </tbody>\n",
              "</table>\n",
              "</div>"
            ],
            "text/plain": [
              "                         ID_PACIENTE                    ID_ATENDIMENTO  \\\n",
              "20  5C4832BBECDDFB9FD2D8C94BB5B2B30A  AE1ECB883EDC595FB42C1412B2F91865   \n",
              "23  6B67C82A8921DCBB54E89B82E8989127  34CC522989256D37465D8AD2DFF3E5A5   \n",
              "\n",
              "    DT_COLETA DE_ORIGEM                                           DE_EXAME  \\\n",
              "20 2020-10-26       UTI  Acetilcolina, Anticorpos Bloqueadores do Recep...   \n",
              "23 2021-04-16       UTI                              Acetona, Sangue Total   \n",
              "\n",
              "                                DE_ANALITO    DE_RESULTADO DT_ATENDIMENTO  \\\n",
              "20  Acetilcolina - Anticorpos bloqueadores              60     2020-10-26   \n",
              "23                   Acetona, sangue total  Não detectável     2021-03-02   \n",
              "\n",
              "   DE_TIPO_ATENDIMENTO  ID_CLINICA      DE_CLINICA DT_DESFECHO  \\\n",
              "20           Internado         1.0  Clínica Médica  2020-10-26   \n",
              "23           Internado         1.0  Clínica Médica  2021-04-16   \n",
              "\n",
              "              DE_DESFECHO AA_NASCIMENTO IC_SEXO  UTI  INT  PS  \n",
              "20  Alta médica melhorado          1945       M    1    0   0  \n",
              "23  Alta médica melhorado          1955       F    1    0   0  "
            ]
          },
          "execution_count": 246,
          "metadata": {},
          "output_type": "execute_result"
        }
      ],
      "source": [
        "# juntando os exemplos de UTI, INT e PS em um dataset só\n",
        "\n",
        "df_grupos = pd.concat([exemplos_UTI, exemplos_INT, exemplos_PS])\n",
        "\n",
        "df_grupos[df_grupos['UTI']==1].head(2)"
      ]
    },
    {
      "cell_type": "code",
      "execution_count": 247,
      "metadata": {
        "colab": {
          "base_uri": "https://localhost:8080/",
          "height": 246
        },
        "id": "iIQ8KNMe1c1-",
        "outputId": "aa44bc1f-ec1b-46d3-b6bf-950fca4df1bc"
      },
      "outputs": [
        {
          "data": {
            "text/html": [
              "<div>\n",
              "<style scoped>\n",
              "    .dataframe tbody tr th:only-of-type {\n",
              "        vertical-align: middle;\n",
              "    }\n",
              "\n",
              "    .dataframe tbody tr th {\n",
              "        vertical-align: top;\n",
              "    }\n",
              "\n",
              "    .dataframe thead th {\n",
              "        text-align: right;\n",
              "    }\n",
              "</style>\n",
              "<table border=\"1\" class=\"dataframe\">\n",
              "  <thead>\n",
              "    <tr style=\"text-align: right;\">\n",
              "      <th></th>\n",
              "      <th>ID_PACIENTE</th>\n",
              "      <th>ID_ATENDIMENTO</th>\n",
              "      <th>DT_COLETA</th>\n",
              "      <th>DE_ORIGEM</th>\n",
              "      <th>DE_EXAME</th>\n",
              "      <th>DE_ANALITO</th>\n",
              "      <th>DE_RESULTADO</th>\n",
              "      <th>DT_ATENDIMENTO</th>\n",
              "      <th>DE_TIPO_ATENDIMENTO</th>\n",
              "      <th>ID_CLINICA</th>\n",
              "      <th>DE_CLINICA</th>\n",
              "      <th>DT_DESFECHO</th>\n",
              "      <th>DE_DESFECHO</th>\n",
              "      <th>AA_NASCIMENTO</th>\n",
              "      <th>IC_SEXO</th>\n",
              "      <th>UTI</th>\n",
              "      <th>INT</th>\n",
              "      <th>PS</th>\n",
              "    </tr>\n",
              "  </thead>\n",
              "  <tbody>\n",
              "    <tr>\n",
              "      <th>17</th>\n",
              "      <td>B8DC44F94CAA79BB1B5CCC951F59489A</td>\n",
              "      <td>077BCC1089F40147207B0CCB6C076EA1</td>\n",
              "      <td>2021-04-24</td>\n",
              "      <td>Unidades de Internação</td>\n",
              "      <td>Acetilcolina, Anticorpo Anti</td>\n",
              "      <td>Acetilcolina</td>\n",
              "      <td>inferior a 0,02</td>\n",
              "      <td>2021-04-23</td>\n",
              "      <td>Internado</td>\n",
              "      <td>1.0</td>\n",
              "      <td>Clínica Médica</td>\n",
              "      <td>2021-04-24</td>\n",
              "      <td>Alta médica melhorado</td>\n",
              "      <td>1954</td>\n",
              "      <td>M</td>\n",
              "      <td>0</td>\n",
              "      <td>1</td>\n",
              "      <td>0</td>\n",
              "    </tr>\n",
              "    <tr>\n",
              "      <th>18</th>\n",
              "      <td>65BB744315B12C3416C53331D4536906</td>\n",
              "      <td>933B6C596FAEB98A9AB3C2CC1E572679</td>\n",
              "      <td>2020-08-16</td>\n",
              "      <td>Unidades de Internação</td>\n",
              "      <td>Acetilcolina, Anticorpo Anti</td>\n",
              "      <td>Acetilcolina</td>\n",
              "      <td>1,71</td>\n",
              "      <td>2020-08-15</td>\n",
              "      <td>Internado</td>\n",
              "      <td>1.0</td>\n",
              "      <td>Clínica Médica</td>\n",
              "      <td>2020-08-16</td>\n",
              "      <td>Alta médica melhorado</td>\n",
              "      <td>1953</td>\n",
              "      <td>M</td>\n",
              "      <td>0</td>\n",
              "      <td>1</td>\n",
              "      <td>0</td>\n",
              "    </tr>\n",
              "  </tbody>\n",
              "</table>\n",
              "</div>"
            ],
            "text/plain": [
              "                         ID_PACIENTE                    ID_ATENDIMENTO  \\\n",
              "17  B8DC44F94CAA79BB1B5CCC951F59489A  077BCC1089F40147207B0CCB6C076EA1   \n",
              "18  65BB744315B12C3416C53331D4536906  933B6C596FAEB98A9AB3C2CC1E572679   \n",
              "\n",
              "    DT_COLETA               DE_ORIGEM                      DE_EXAME  \\\n",
              "17 2021-04-24  Unidades de Internação  Acetilcolina, Anticorpo Anti   \n",
              "18 2020-08-16  Unidades de Internação  Acetilcolina, Anticorpo Anti   \n",
              "\n",
              "      DE_ANALITO     DE_RESULTADO DT_ATENDIMENTO DE_TIPO_ATENDIMENTO  \\\n",
              "17  Acetilcolina  inferior a 0,02     2021-04-23           Internado   \n",
              "18  Acetilcolina             1,71     2020-08-15           Internado   \n",
              "\n",
              "    ID_CLINICA      DE_CLINICA DT_DESFECHO            DE_DESFECHO  \\\n",
              "17         1.0  Clínica Médica  2021-04-24  Alta médica melhorado   \n",
              "18         1.0  Clínica Médica  2020-08-16  Alta médica melhorado   \n",
              "\n",
              "   AA_NASCIMENTO IC_SEXO  UTI  INT  PS  \n",
              "17          1954       M    0    1   0  \n",
              "18          1953       M    0    1   0  "
            ]
          },
          "execution_count": 247,
          "metadata": {},
          "output_type": "execute_result"
        }
      ],
      "source": [
        "df_grupos[df_grupos['INT']==1].head(2)"
      ]
    },
    {
      "cell_type": "code",
      "execution_count": 248,
      "metadata": {
        "id": "Odu9FlW06R_q"
      },
      "outputs": [],
      "source": [
        "#Passando para csv\n",
        "#df_grupos.to_csv('dados_grupos.csv', sep='\\t', encoding='utf-8')"
      ]
    },
    {
      "cell_type": "markdown",
      "metadata": {
        "id": "hpXPj6K1gA0l"
      },
      "source": [
        "#### **FILTRO 3: CRIANDO DATAFRAME COM EXAMES APENAS PROVINDOS DO PS**"
      ]
    },
    {
      "cell_type": "code",
      "execution_count": 249,
      "metadata": {
        "colab": {
          "base_uri": "https://localhost:8080/",
          "height": 246
        },
        "id": "1IV6Xnls1fZW",
        "outputId": "886ac601-f7fe-4bbd-d4d1-efd3d78c8b6c"
      },
      "outputs": [
        {
          "data": {
            "text/html": [
              "<div>\n",
              "<style scoped>\n",
              "    .dataframe tbody tr th:only-of-type {\n",
              "        vertical-align: middle;\n",
              "    }\n",
              "\n",
              "    .dataframe tbody tr th {\n",
              "        vertical-align: top;\n",
              "    }\n",
              "\n",
              "    .dataframe thead th {\n",
              "        text-align: right;\n",
              "    }\n",
              "</style>\n",
              "<table border=\"1\" class=\"dataframe\">\n",
              "  <thead>\n",
              "    <tr style=\"text-align: right;\">\n",
              "      <th></th>\n",
              "      <th>ID_PACIENTE</th>\n",
              "      <th>ID_ATENDIMENTO</th>\n",
              "      <th>DT_COLETA</th>\n",
              "      <th>DE_ORIGEM</th>\n",
              "      <th>DE_EXAME</th>\n",
              "      <th>DE_ANALITO</th>\n",
              "      <th>DE_RESULTADO</th>\n",
              "      <th>DT_ATENDIMENTO</th>\n",
              "      <th>DE_TIPO_ATENDIMENTO</th>\n",
              "      <th>ID_CLINICA</th>\n",
              "      <th>DE_CLINICA</th>\n",
              "      <th>DT_DESFECHO</th>\n",
              "      <th>DE_DESFECHO</th>\n",
              "      <th>AA_NASCIMENTO</th>\n",
              "      <th>IC_SEXO</th>\n",
              "      <th>UTI</th>\n",
              "      <th>INT</th>\n",
              "      <th>PS</th>\n",
              "    </tr>\n",
              "  </thead>\n",
              "  <tbody>\n",
              "    <tr>\n",
              "      <th>0</th>\n",
              "      <td>9BB15EA1D912994DE467C71E953F6ACC</td>\n",
              "      <td>E7E88B60259AD5C9CF3A837260CB8CC7</td>\n",
              "      <td>2021-01-22</td>\n",
              "      <td>Hemodiálise</td>\n",
              "      <td>17 Hidroxipregnenolona</td>\n",
              "      <td>17-Hidroxi Pregnenolona</td>\n",
              "      <td>23</td>\n",
              "      <td>2021-01-18</td>\n",
              "      <td>Ambulatorial</td>\n",
              "      <td>15.0</td>\n",
              "      <td>Hemodiálise</td>\n",
              "      <td>2021-01-22</td>\n",
              "      <td>Alta Administrativa</td>\n",
              "      <td>1987</td>\n",
              "      <td>F</td>\n",
              "      <td>0</td>\n",
              "      <td>0</td>\n",
              "      <td>1</td>\n",
              "    </tr>\n",
              "    <tr>\n",
              "      <th>1</th>\n",
              "      <td>FB48065512F8BFFAE3FC16530785BB57</td>\n",
              "      <td>E9E678082F3C9EA1C8F00DC5881049F6</td>\n",
              "      <td>2020-09-24</td>\n",
              "      <td>Laboratório de Patologia Clínica</td>\n",
              "      <td>17 Hidroxipregnenolona</td>\n",
              "      <td>17-Hidroxi Pregnenolona</td>\n",
              "      <td>27</td>\n",
              "      <td>2020-09-24</td>\n",
              "      <td>Externo</td>\n",
              "      <td>20.0</td>\n",
              "      <td>Procedimentos</td>\n",
              "      <td>2020-09-24</td>\n",
              "      <td>Alta Administrativa</td>\n",
              "      <td>1994</td>\n",
              "      <td>F</td>\n",
              "      <td>0</td>\n",
              "      <td>0</td>\n",
              "      <td>1</td>\n",
              "    </tr>\n",
              "  </tbody>\n",
              "</table>\n",
              "</div>"
            ],
            "text/plain": [
              "                        ID_PACIENTE                    ID_ATENDIMENTO  \\\n",
              "0  9BB15EA1D912994DE467C71E953F6ACC  E7E88B60259AD5C9CF3A837260CB8CC7   \n",
              "1  FB48065512F8BFFAE3FC16530785BB57  E9E678082F3C9EA1C8F00DC5881049F6   \n",
              "\n",
              "   DT_COLETA                         DE_ORIGEM                DE_EXAME  \\\n",
              "0 2021-01-22                       Hemodiálise  17 Hidroxipregnenolona   \n",
              "1 2020-09-24  Laboratório de Patologia Clínica  17 Hidroxipregnenolona   \n",
              "\n",
              "                DE_ANALITO DE_RESULTADO DT_ATENDIMENTO DE_TIPO_ATENDIMENTO  \\\n",
              "0  17-Hidroxi Pregnenolona           23     2021-01-18        Ambulatorial   \n",
              "1  17-Hidroxi Pregnenolona           27     2020-09-24             Externo   \n",
              "\n",
              "   ID_CLINICA     DE_CLINICA DT_DESFECHO          DE_DESFECHO AA_NASCIMENTO  \\\n",
              "0        15.0    Hemodiálise  2021-01-22  Alta Administrativa          1987   \n",
              "1        20.0  Procedimentos  2020-09-24  Alta Administrativa          1994   \n",
              "\n",
              "  IC_SEXO  UTI  INT  PS  \n",
              "0       F    0    0   1  \n",
              "1       F    0    0   1  "
            ]
          },
          "execution_count": 249,
          "metadata": {},
          "output_type": "execute_result"
        }
      ],
      "source": [
        "df_PS = df_grupos[df_grupos['PS']==1]\n",
        "\n",
        "df_PS.head(2)"
      ]
    },
    {
      "cell_type": "code",
      "execution_count": 250,
      "metadata": {
        "colab": {
          "base_uri": "https://localhost:8080/"
        },
        "id": "RbAKrr7A-ofW",
        "outputId": "9020e074-22d1-492c-f2f2-8d7521cb0479"
      },
      "outputs": [
        {
          "data": {
            "text/plain": [
              "(815018, 18)"
            ]
          },
          "execution_count": 250,
          "metadata": {},
          "output_type": "execute_result"
        }
      ],
      "source": [
        "df_PS.shape"
      ]
    },
    {
      "cell_type": "code",
      "execution_count": 251,
      "metadata": {
        "colab": {
          "base_uri": "https://localhost:8080/"
        },
        "id": "giyQTfOagk1-",
        "outputId": "8c3bcb59-00e3-4948-b27e-05ab668817e8"
      },
      "outputs": [
        {
          "data": {
            "text/plain": [
              "13688"
            ]
          },
          "execution_count": 251,
          "metadata": {},
          "output_type": "execute_result"
        }
      ],
      "source": [
        "df_PS['ID_PACIENTE'].nunique()"
      ]
    },
    {
      "cell_type": "code",
      "execution_count": 252,
      "metadata": {
        "id": "WjnLRD_R-RDO"
      },
      "outputs": [],
      "source": [
        "#df_PS.to_csv('ps.csv', sep='\\t', encoding='utf-8')"
      ]
    },
    {
      "cell_type": "markdown",
      "metadata": {
        "id": "zfRbLdXoyP1k"
      },
      "source": [
        "#### **PACIENTES vs FLAGS (INT, PS, UTI)**"
      ]
    },
    {
      "cell_type": "code",
      "execution_count": 253,
      "metadata": {
        "colab": {
          "base_uri": "https://localhost:8080/",
          "height": 413
        },
        "id": "XmFOzUf31h5-",
        "outputId": "6d6e9b7f-d96e-423c-d862-70d7ee9817d1"
      },
      "outputs": [
        {
          "name": "stdout",
          "output_type": "stream",
          "text": [
            "(14548, 3)\n"
          ]
        },
        {
          "data": {
            "text/html": [
              "<div>\n",
              "<style scoped>\n",
              "    .dataframe tbody tr th:only-of-type {\n",
              "        vertical-align: middle;\n",
              "    }\n",
              "\n",
              "    .dataframe tbody tr th {\n",
              "        vertical-align: top;\n",
              "    }\n",
              "\n",
              "    .dataframe thead th {\n",
              "        text-align: right;\n",
              "    }\n",
              "</style>\n",
              "<table border=\"1\" class=\"dataframe\">\n",
              "  <thead>\n",
              "    <tr style=\"text-align: right;\">\n",
              "      <th></th>\n",
              "      <th>INT</th>\n",
              "      <th>PS</th>\n",
              "      <th>UTI</th>\n",
              "    </tr>\n",
              "    <tr>\n",
              "      <th>ID_PACIENTE</th>\n",
              "      <th></th>\n",
              "      <th></th>\n",
              "      <th></th>\n",
              "    </tr>\n",
              "  </thead>\n",
              "  <tbody>\n",
              "    <tr>\n",
              "      <th>000150DB429AFF026ECD130B0A076CEF</th>\n",
              "      <td>0</td>\n",
              "      <td>2</td>\n",
              "      <td>0</td>\n",
              "    </tr>\n",
              "    <tr>\n",
              "      <th>00017961865C4F766FDBB3CD8FE0BFB0</th>\n",
              "      <td>0</td>\n",
              "      <td>45</td>\n",
              "      <td>0</td>\n",
              "    </tr>\n",
              "    <tr>\n",
              "      <th>0003B368F65004E14332CD44BEE6E600</th>\n",
              "      <td>0</td>\n",
              "      <td>38</td>\n",
              "      <td>0</td>\n",
              "    </tr>\n",
              "    <tr>\n",
              "      <th>000F0BC139D2846DB86AA32B8F05B215</th>\n",
              "      <td>0</td>\n",
              "      <td>100</td>\n",
              "      <td>0</td>\n",
              "    </tr>\n",
              "    <tr>\n",
              "      <th>00177290279939FB33386B29198C450E</th>\n",
              "      <td>0</td>\n",
              "      <td>1</td>\n",
              "      <td>0</td>\n",
              "    </tr>\n",
              "    <tr>\n",
              "      <th>001BEECDD4D16B6F3ECDBE57F48E7982</th>\n",
              "      <td>0</td>\n",
              "      <td>2</td>\n",
              "      <td>0</td>\n",
              "    </tr>\n",
              "    <tr>\n",
              "      <th>002144A099E84DCF88C63689AE5675B9</th>\n",
              "      <td>0</td>\n",
              "      <td>1</td>\n",
              "      <td>0</td>\n",
              "    </tr>\n",
              "    <tr>\n",
              "      <th>0028785949D91BD93442838FC898E229</th>\n",
              "      <td>0</td>\n",
              "      <td>10</td>\n",
              "      <td>0</td>\n",
              "    </tr>\n",
              "    <tr>\n",
              "      <th>00293E8E4B5FE4DABA62131274B3685A</th>\n",
              "      <td>0</td>\n",
              "      <td>102</td>\n",
              "      <td>0</td>\n",
              "    </tr>\n",
              "    <tr>\n",
              "      <th>002B919CC409B11DE52FB212379BE2CB</th>\n",
              "      <td>0</td>\n",
              "      <td>235</td>\n",
              "      <td>0</td>\n",
              "    </tr>\n",
              "  </tbody>\n",
              "</table>\n",
              "</div>"
            ],
            "text/plain": [
              "                                  INT   PS  UTI\n",
              "ID_PACIENTE                                    \n",
              "000150DB429AFF026ECD130B0A076CEF    0    2    0\n",
              "00017961865C4F766FDBB3CD8FE0BFB0    0   45    0\n",
              "0003B368F65004E14332CD44BEE6E600    0   38    0\n",
              "000F0BC139D2846DB86AA32B8F05B215    0  100    0\n",
              "00177290279939FB33386B29198C450E    0    1    0\n",
              "001BEECDD4D16B6F3ECDBE57F48E7982    0    2    0\n",
              "002144A099E84DCF88C63689AE5675B9    0    1    0\n",
              "0028785949D91BD93442838FC898E229    0   10    0\n",
              "00293E8E4B5FE4DABA62131274B3685A    0  102    0\n",
              "002B919CC409B11DE52FB212379BE2CB    0  235    0"
            ]
          },
          "execution_count": 253,
          "metadata": {},
          "output_type": "execute_result"
        }
      ],
      "source": [
        "#Criando um agrupamento em função do ID_Paciente e agregando valores das flags 'UTI', 'INT' e 'PS'\n",
        "\n",
        "df_hsl_1 = df_grupos.pivot_table(index='ID_PACIENTE', values=['UTI','INT','PS'], columns=[], aggfunc='sum')\n",
        "\n",
        "print(df_hsl_1.shape)\n",
        "\n",
        "df_hsl_1.head(10)\n"
      ]
    },
    {
      "cell_type": "code",
      "execution_count": 254,
      "metadata": {
        "id": "r6qaBZMIBiog"
      },
      "outputs": [],
      "source": [
        "#gera csv\n",
        "#df_hsl_1.to_csv('pacientes_flag.csv', sep='\\t', encoding='utf-8')"
      ]
    },
    {
      "cell_type": "code",
      "execution_count": 255,
      "metadata": {
        "colab": {
          "base_uri": "https://localhost:8080/",
          "height": 206
        },
        "id": "0NNkME1SGIXL",
        "outputId": "912b2369-fc51-4155-c6b1-d572128acaa6"
      },
      "outputs": [
        {
          "data": {
            "text/html": [
              "<div>\n",
              "<style scoped>\n",
              "    .dataframe tbody tr th:only-of-type {\n",
              "        vertical-align: middle;\n",
              "    }\n",
              "\n",
              "    .dataframe tbody tr th {\n",
              "        vertical-align: top;\n",
              "    }\n",
              "\n",
              "    .dataframe thead th {\n",
              "        text-align: right;\n",
              "    }\n",
              "</style>\n",
              "<table border=\"1\" class=\"dataframe\">\n",
              "  <thead>\n",
              "    <tr style=\"text-align: right;\">\n",
              "      <th></th>\n",
              "      <th>ID_PACIENTE</th>\n",
              "      <th>INT</th>\n",
              "      <th>PS</th>\n",
              "      <th>UTI</th>\n",
              "    </tr>\n",
              "  </thead>\n",
              "  <tbody>\n",
              "    <tr>\n",
              "      <th>0</th>\n",
              "      <td>000150DB429AFF026ECD130B0A076CEF</td>\n",
              "      <td>0</td>\n",
              "      <td>2</td>\n",
              "      <td>0</td>\n",
              "    </tr>\n",
              "    <tr>\n",
              "      <th>1</th>\n",
              "      <td>00017961865C4F766FDBB3CD8FE0BFB0</td>\n",
              "      <td>0</td>\n",
              "      <td>45</td>\n",
              "      <td>0</td>\n",
              "    </tr>\n",
              "    <tr>\n",
              "      <th>2</th>\n",
              "      <td>0003B368F65004E14332CD44BEE6E600</td>\n",
              "      <td>0</td>\n",
              "      <td>38</td>\n",
              "      <td>0</td>\n",
              "    </tr>\n",
              "    <tr>\n",
              "      <th>3</th>\n",
              "      <td>000F0BC139D2846DB86AA32B8F05B215</td>\n",
              "      <td>0</td>\n",
              "      <td>100</td>\n",
              "      <td>0</td>\n",
              "    </tr>\n",
              "    <tr>\n",
              "      <th>4</th>\n",
              "      <td>00177290279939FB33386B29198C450E</td>\n",
              "      <td>0</td>\n",
              "      <td>1</td>\n",
              "      <td>0</td>\n",
              "    </tr>\n",
              "  </tbody>\n",
              "</table>\n",
              "</div>"
            ],
            "text/plain": [
              "                        ID_PACIENTE  INT   PS  UTI\n",
              "0  000150DB429AFF026ECD130B0A076CEF    0    2    0\n",
              "1  00017961865C4F766FDBB3CD8FE0BFB0    0   45    0\n",
              "2  0003B368F65004E14332CD44BEE6E600    0   38    0\n",
              "3  000F0BC139D2846DB86AA32B8F05B215    0  100    0\n",
              "4  00177290279939FB33386B29198C450E    0    1    0"
            ]
          },
          "execution_count": 255,
          "metadata": {},
          "output_type": "execute_result"
        }
      ],
      "source": [
        "# transformando o index em uma coluna\n",
        "\n",
        "df_hsl_1 = df_hsl_1.reset_index()\n",
        "\n",
        "df_hsl_1.head()"
      ]
    },
    {
      "cell_type": "markdown",
      "metadata": {
        "id": "nO6CyuHZDsv7"
      },
      "source": [
        "\n",
        "#### **PACIENTES GRUPO_0**"
      ]
    },
    {
      "cell_type": "code",
      "execution_count": 256,
      "metadata": {
        "colab": {
          "base_uri": "https://localhost:8080/"
        },
        "id": "tfdiKCL6DYsJ",
        "outputId": "3315a812-b862-42a2-b490-373f45f930af"
      },
      "outputs": [
        {
          "name": "stdout",
          "output_type": "stream",
          "text": [
            "                        ID_PACIENTE  INT  PS  UTI\n",
            "0  000150DB429AFF026ECD130B0A076CEF    0   2    0\n",
            "1  00017961865C4F766FDBB3CD8FE0BFB0    0  45    0\n",
            "2  0003B368F65004E14332CD44BEE6E600    0  38    0 \n",
            "\n",
            "['000150DB429AFF026ECD130B0A076CEF' '00017961865C4F766FDBB3CD8FE0BFB0'\n",
            " '0003B368F65004E14332CD44BEE6E600' ... 'FFEE2A236442ECF6D9042F39A8EA73FD'\n",
            " 'FFF5753408C98D5E0218931420B6AF85' 'FFFA1AB079C74F2EFEA6BA07E5B5DFC9'] \n",
            "\n",
            "quantidade de pacientes no GRUPO_0:  11565\n"
          ]
        }
      ],
      "source": [
        "# Selecionando pacientes do grupo 0\n",
        "\n",
        "grupo_0 = df_hsl_1.query('PS > 0 & INT == 0 & UTI == 0')\n",
        "\n",
        "print(grupo_0.head(3), '\\n')\n",
        "\n",
        "pacientes_grupo_0 = grupo_0['ID_PACIENTE'].unique()\n",
        "\n",
        "print(pacientes_grupo_0,'\\n')\n",
        "\n",
        "print('quantidade de pacientes no GRUPO_0: ', len(pacientes_grupo_0))\n"
      ]
    },
    {
      "cell_type": "code",
      "execution_count": 257,
      "metadata": {
        "colab": {
          "base_uri": "https://localhost:8080/",
          "height": 373
        },
        "id": "j6V6Pr4HNm-Q",
        "outputId": "903504fc-30a8-46e1-f288-7adf53397e6c"
      },
      "outputs": [
        {
          "name": "stderr",
          "output_type": "stream",
          "text": [
            "C:\\Users\\flopes\\AppData\\Local\\Temp\\ipykernel_21500\\1452213770.py:5: SettingWithCopyWarning: \n",
            "A value is trying to be set on a copy of a slice from a DataFrame.\n",
            "Try using .loc[row_indexer,col_indexer] = value instead\n",
            "\n",
            "See the caveats in the documentation: https://pandas.pydata.org/pandas-docs/stable/user_guide/indexing.html#returning-a-view-versus-a-copy\n",
            "  GRUPO_0['GRUPO'] = 'GRUPO_0'\n"
          ]
        },
        {
          "data": {
            "text/html": [
              "<div>\n",
              "<style scoped>\n",
              "    .dataframe tbody tr th:only-of-type {\n",
              "        vertical-align: middle;\n",
              "    }\n",
              "\n",
              "    .dataframe tbody tr th {\n",
              "        vertical-align: top;\n",
              "    }\n",
              "\n",
              "    .dataframe thead th {\n",
              "        text-align: right;\n",
              "    }\n",
              "</style>\n",
              "<table border=\"1\" class=\"dataframe\">\n",
              "  <thead>\n",
              "    <tr style=\"text-align: right;\">\n",
              "      <th></th>\n",
              "      <th>ID_PACIENTE</th>\n",
              "      <th>ID_ATENDIMENTO</th>\n",
              "      <th>DT_COLETA</th>\n",
              "      <th>DE_ORIGEM</th>\n",
              "      <th>DE_EXAME</th>\n",
              "      <th>DE_ANALITO</th>\n",
              "      <th>DE_RESULTADO</th>\n",
              "      <th>DT_ATENDIMENTO</th>\n",
              "      <th>DE_TIPO_ATENDIMENTO</th>\n",
              "      <th>ID_CLINICA</th>\n",
              "      <th>DE_CLINICA</th>\n",
              "      <th>DT_DESFECHO</th>\n",
              "      <th>DE_DESFECHO</th>\n",
              "      <th>AA_NASCIMENTO</th>\n",
              "      <th>IC_SEXO</th>\n",
              "      <th>UTI</th>\n",
              "      <th>INT</th>\n",
              "      <th>PS</th>\n",
              "      <th>GRUPO</th>\n",
              "    </tr>\n",
              "  </thead>\n",
              "  <tbody>\n",
              "    <tr>\n",
              "      <th>1</th>\n",
              "      <td>FB48065512F8BFFAE3FC16530785BB57</td>\n",
              "      <td>E9E678082F3C9EA1C8F00DC5881049F6</td>\n",
              "      <td>2020-09-24</td>\n",
              "      <td>Laboratório de Patologia Clínica</td>\n",
              "      <td>17 Hidroxipregnenolona</td>\n",
              "      <td>17-Hidroxi Pregnenolona</td>\n",
              "      <td>27</td>\n",
              "      <td>2020-09-24</td>\n",
              "      <td>Externo</td>\n",
              "      <td>20.0</td>\n",
              "      <td>Procedimentos</td>\n",
              "      <td>2020-09-24</td>\n",
              "      <td>Alta Administrativa</td>\n",
              "      <td>1994</td>\n",
              "      <td>F</td>\n",
              "      <td>0</td>\n",
              "      <td>0</td>\n",
              "      <td>1</td>\n",
              "      <td>GRUPO_0</td>\n",
              "    </tr>\n",
              "    <tr>\n",
              "      <th>2</th>\n",
              "      <td>5ABF34B0AE202F876BDAA0F338881BC1</td>\n",
              "      <td>248AD10D114DEC5A0FF184548FAD4EDA</td>\n",
              "      <td>2021-02-25</td>\n",
              "      <td>Recepção do Centro Diagnóstico</td>\n",
              "      <td>17 Hidroxipregnenolona</td>\n",
              "      <td>17-Hidroxi Pregnenolona</td>\n",
              "      <td>50</td>\n",
              "      <td>2021-02-25</td>\n",
              "      <td>Externo</td>\n",
              "      <td>20.0</td>\n",
              "      <td>Procedimentos</td>\n",
              "      <td>2021-02-25</td>\n",
              "      <td>Alta Administrativa</td>\n",
              "      <td>1979</td>\n",
              "      <td>F</td>\n",
              "      <td>0</td>\n",
              "      <td>0</td>\n",
              "      <td>1</td>\n",
              "      <td>GRUPO_0</td>\n",
              "    </tr>\n",
              "  </tbody>\n",
              "</table>\n",
              "</div>"
            ],
            "text/plain": [
              "                        ID_PACIENTE                    ID_ATENDIMENTO  \\\n",
              "1  FB48065512F8BFFAE3FC16530785BB57  E9E678082F3C9EA1C8F00DC5881049F6   \n",
              "2  5ABF34B0AE202F876BDAA0F338881BC1  248AD10D114DEC5A0FF184548FAD4EDA   \n",
              "\n",
              "   DT_COLETA                         DE_ORIGEM                DE_EXAME  \\\n",
              "1 2020-09-24  Laboratório de Patologia Clínica  17 Hidroxipregnenolona   \n",
              "2 2021-02-25    Recepção do Centro Diagnóstico  17 Hidroxipregnenolona   \n",
              "\n",
              "                DE_ANALITO DE_RESULTADO DT_ATENDIMENTO DE_TIPO_ATENDIMENTO  \\\n",
              "1  17-Hidroxi Pregnenolona           27     2020-09-24             Externo   \n",
              "2  17-Hidroxi Pregnenolona           50     2021-02-25             Externo   \n",
              "\n",
              "   ID_CLINICA     DE_CLINICA DT_DESFECHO          DE_DESFECHO AA_NASCIMENTO  \\\n",
              "1        20.0  Procedimentos  2020-09-24  Alta Administrativa          1994   \n",
              "2        20.0  Procedimentos  2021-02-25  Alta Administrativa          1979   \n",
              "\n",
              "  IC_SEXO  UTI  INT  PS    GRUPO  \n",
              "1       F    0    0   1  GRUPO_0  \n",
              "2       F    0    0   1  GRUPO_0  "
            ]
          },
          "execution_count": 257,
          "metadata": {},
          "output_type": "execute_result"
        }
      ],
      "source": [
        "#Criando o Grupo_0 a partir do dataframe df_PS\n",
        "\n",
        "GRUPO_0 = df_PS.loc[df_hsl['ID_PACIENTE'].isin(pacientes_grupo_0)]\n",
        "\n",
        "GRUPO_0['GRUPO'] = 'GRUPO_0'\n",
        "\n",
        "GRUPO_0.head(2)\n"
      ]
    },
    {
      "cell_type": "markdown",
      "metadata": {
        "id": "ZSbiu685K19c"
      },
      "source": [
        "#### **PACIENTES GRUPO_1**"
      ]
    },
    {
      "cell_type": "code",
      "execution_count": 258,
      "metadata": {
        "colab": {
          "base_uri": "https://localhost:8080/"
        },
        "id": "z-VHRORjUuA-",
        "outputId": "af6d6aa7-9bb6-430d-e8e8-5d0a1f3705cc"
      },
      "outputs": [
        {
          "name": "stdout",
          "output_type": "stream",
          "text": [
            "                         ID_PACIENTE  INT   PS  UTI\n",
            "12  003F1F4C194763E4A00FD809AF5FA6AA  176   90    0\n",
            "20  005B118C512EE0B624AB7293F42B1D54  195  341    0\n",
            "34  00A8BD5BE08200635B3494F6277ED78E  146    1    0 \n",
            "\n",
            "quantidade de pacientes no GRUPO_1:  1190\n"
          ]
        }
      ],
      "source": [
        "# Selecionando pacientes do grupo 1\n",
        "\n",
        "grupo_1 = df_hsl_1.query('PS > 0 & INT > 0 & UTI == 0')\n",
        "\n",
        "print(grupo_1.head(3), '\\n')\n",
        "\n",
        "pacientes_grupo_1 = grupo_1['ID_PACIENTE'].unique()\n",
        "\n",
        "#print(pacientes_grupo_1,'\\n')\n",
        "\n",
        "print('quantidade de pacientes no GRUPO_1: ', len(pacientes_grupo_1))"
      ]
    },
    {
      "cell_type": "code",
      "execution_count": 259,
      "metadata": {
        "colab": {
          "base_uri": "https://localhost:8080/",
          "height": 474
        },
        "id": "Iqp40hsjUt2R",
        "outputId": "50c88720-fd2e-455a-c38a-a5e1fdb88546"
      },
      "outputs": [
        {
          "name": "stderr",
          "output_type": "stream",
          "text": [
            "C:\\Users\\flopes\\AppData\\Local\\Temp\\ipykernel_21500\\1104141820.py:5: SettingWithCopyWarning: \n",
            "A value is trying to be set on a copy of a slice from a DataFrame.\n",
            "Try using .loc[row_indexer,col_indexer] = value instead\n",
            "\n",
            "See the caveats in the documentation: https://pandas.pydata.org/pandas-docs/stable/user_guide/indexing.html#returning-a-view-versus-a-copy\n",
            "  GRUPO_1['GRUPO'] = 'GRUPO_1'\n"
          ]
        },
        {
          "data": {
            "text/html": [
              "<div>\n",
              "<style scoped>\n",
              "    .dataframe tbody tr th:only-of-type {\n",
              "        vertical-align: middle;\n",
              "    }\n",
              "\n",
              "    .dataframe tbody tr th {\n",
              "        vertical-align: top;\n",
              "    }\n",
              "\n",
              "    .dataframe thead th {\n",
              "        text-align: right;\n",
              "    }\n",
              "</style>\n",
              "<table border=\"1\" class=\"dataframe\">\n",
              "  <thead>\n",
              "    <tr style=\"text-align: right;\">\n",
              "      <th></th>\n",
              "      <th>ID_PACIENTE</th>\n",
              "      <th>ID_ATENDIMENTO</th>\n",
              "      <th>DT_COLETA</th>\n",
              "      <th>DE_ORIGEM</th>\n",
              "      <th>DE_EXAME</th>\n",
              "      <th>DE_ANALITO</th>\n",
              "      <th>DE_RESULTADO</th>\n",
              "      <th>DT_ATENDIMENTO</th>\n",
              "      <th>DE_TIPO_ATENDIMENTO</th>\n",
              "      <th>ID_CLINICA</th>\n",
              "      <th>DE_CLINICA</th>\n",
              "      <th>DT_DESFECHO</th>\n",
              "      <th>DE_DESFECHO</th>\n",
              "      <th>AA_NASCIMENTO</th>\n",
              "      <th>IC_SEXO</th>\n",
              "      <th>UTI</th>\n",
              "      <th>INT</th>\n",
              "      <th>PS</th>\n",
              "      <th>GRUPO</th>\n",
              "    </tr>\n",
              "  </thead>\n",
              "  <tbody>\n",
              "    <tr>\n",
              "      <th>26</th>\n",
              "      <td>8DD175D23C9F87D2F2DAA34B66B8BEAA</td>\n",
              "      <td>D1D2E8344B6067D3303481DB5CB8E213</td>\n",
              "      <td>2020-08-11</td>\n",
              "      <td>Endoscopia</td>\n",
              "      <td>Acido Ascorbico, plasma</td>\n",
              "      <td>Ácido ascorbico, plasma</td>\n",
              "      <td>0,6</td>\n",
              "      <td>2020-08-11</td>\n",
              "      <td>Externo</td>\n",
              "      <td>20.0</td>\n",
              "      <td>Procedimentos</td>\n",
              "      <td>2020-08-11</td>\n",
              "      <td>Alta Administrativa</td>\n",
              "      <td>1934</td>\n",
              "      <td>F</td>\n",
              "      <td>0</td>\n",
              "      <td>0</td>\n",
              "      <td>1</td>\n",
              "      <td>GRUPO_1</td>\n",
              "    </tr>\n",
              "    <tr>\n",
              "      <th>37</th>\n",
              "      <td>088E5DB68241FC6238CBBBB707D122D2</td>\n",
              "      <td>4B240809AE0C0BE0FDEAD0D9E0D49B24</td>\n",
              "      <td>2021-01-19</td>\n",
              "      <td>Laboratório de Patologia Clínica</td>\n",
              "      <td>Acido Ascorbico, plasma</td>\n",
              "      <td>Ácido ascorbico, plasma</td>\n",
              "      <td>0,8</td>\n",
              "      <td>2021-01-19</td>\n",
              "      <td>Externo</td>\n",
              "      <td>20.0</td>\n",
              "      <td>Procedimentos</td>\n",
              "      <td>2021-01-19</td>\n",
              "      <td>Alta Administrativa</td>\n",
              "      <td>1964</td>\n",
              "      <td>F</td>\n",
              "      <td>0</td>\n",
              "      <td>0</td>\n",
              "      <td>1</td>\n",
              "      <td>GRUPO_1</td>\n",
              "    </tr>\n",
              "    <tr>\n",
              "      <th>47</th>\n",
              "      <td>8DD175D23C9F87D2F2DAA34B66B8BEAA</td>\n",
              "      <td>2FABF4C716BA309920D6B63BEFB90A87</td>\n",
              "      <td>2021-05-17</td>\n",
              "      <td>Laboratório de Patologia Clínica</td>\n",
              "      <td>Acido Ascorbico, plasma</td>\n",
              "      <td>Ácido ascorbico, plasma</td>\n",
              "      <td>0,8</td>\n",
              "      <td>2021-05-16</td>\n",
              "      <td>Externo</td>\n",
              "      <td>31.0</td>\n",
              "      <td>Exames</td>\n",
              "      <td>2021-05-17</td>\n",
              "      <td>Alta Administrativa</td>\n",
              "      <td>1934</td>\n",
              "      <td>F</td>\n",
              "      <td>0</td>\n",
              "      <td>0</td>\n",
              "      <td>1</td>\n",
              "      <td>GRUPO_1</td>\n",
              "    </tr>\n",
              "  </tbody>\n",
              "</table>\n",
              "</div>"
            ],
            "text/plain": [
              "                         ID_PACIENTE                    ID_ATENDIMENTO  \\\n",
              "26  8DD175D23C9F87D2F2DAA34B66B8BEAA  D1D2E8344B6067D3303481DB5CB8E213   \n",
              "37  088E5DB68241FC6238CBBBB707D122D2  4B240809AE0C0BE0FDEAD0D9E0D49B24   \n",
              "47  8DD175D23C9F87D2F2DAA34B66B8BEAA  2FABF4C716BA309920D6B63BEFB90A87   \n",
              "\n",
              "    DT_COLETA                         DE_ORIGEM                 DE_EXAME  \\\n",
              "26 2020-08-11                        Endoscopia  Acido Ascorbico, plasma   \n",
              "37 2021-01-19  Laboratório de Patologia Clínica  Acido Ascorbico, plasma   \n",
              "47 2021-05-17  Laboratório de Patologia Clínica  Acido Ascorbico, plasma   \n",
              "\n",
              "                 DE_ANALITO DE_RESULTADO DT_ATENDIMENTO DE_TIPO_ATENDIMENTO  \\\n",
              "26  Ácido ascorbico, plasma          0,6     2020-08-11             Externo   \n",
              "37  Ácido ascorbico, plasma          0,8     2021-01-19             Externo   \n",
              "47  Ácido ascorbico, plasma          0,8     2021-05-16             Externo   \n",
              "\n",
              "    ID_CLINICA     DE_CLINICA DT_DESFECHO          DE_DESFECHO AA_NASCIMENTO  \\\n",
              "26        20.0  Procedimentos  2020-08-11  Alta Administrativa          1934   \n",
              "37        20.0  Procedimentos  2021-01-19  Alta Administrativa          1964   \n",
              "47        31.0         Exames  2021-05-17  Alta Administrativa          1934   \n",
              "\n",
              "   IC_SEXO  UTI  INT  PS    GRUPO  \n",
              "26       F    0    0   1  GRUPO_1  \n",
              "37       F    0    0   1  GRUPO_1  \n",
              "47       F    0    0   1  GRUPO_1  "
            ]
          },
          "execution_count": 259,
          "metadata": {},
          "output_type": "execute_result"
        }
      ],
      "source": [
        "#Criando o Grupo_1 a partir do dataframe df_PS\n",
        "\n",
        "GRUPO_1 = df_PS.loc[df_hsl['ID_PACIENTE'].isin(pacientes_grupo_1)]\n",
        "\n",
        "GRUPO_1['GRUPO'] = 'GRUPO_1'\n",
        "\n",
        "GRUPO_1.head(3)"
      ]
    },
    {
      "cell_type": "markdown",
      "metadata": {
        "id": "5IY03jv2aBoc"
      },
      "source": [
        "#### **PACIENTES GRUPO_2**"
      ]
    },
    {
      "cell_type": "code",
      "execution_count": 260,
      "metadata": {
        "colab": {
          "base_uri": "https://localhost:8080/"
        },
        "id": "NY69gXExK5Uz",
        "outputId": "dfc23470-5269-4a43-8eca-db3b9f75b898"
      },
      "outputs": [
        {
          "name": "stdout",
          "output_type": "stream",
          "text": [
            "                          ID_PACIENTE  INT   PS   UTI\n",
            "62   00F5BA3CAE9B4462033138372DBC5267    0    1   311\n",
            "231  03EFA96A0168B0FF5CB433E0710491A5    0    1   250\n",
            "448  079EE87C4D56B212F7C618FD0B74218E    0   27  5823\n",
            "503  088557EE5C8A7225C7FBF3AC5CAC4316    0    8   213\n",
            "685  0BF770E4CF7DA296BA6FEAF769746EB8    0  147    88 \n",
            "\n",
            "Quantidade de pacientes no GRUPO_2:  133\n"
          ]
        }
      ],
      "source": [
        "# Selecionando pacientes grupo 2\n",
        "\n",
        "grupo_2 = df_hsl_1.query('INT == 0 & PS > 0 & UTI > 0')\n",
        "\n",
        "print(grupo_2.head(5), '\\n')\n",
        "\n",
        "pacientes_grupo_2 = grupo_2['ID_PACIENTE'].unique()\n",
        "\n",
        "#print(pacientes_grupo_2,'\\n')\n",
        "\n",
        "print('Quantidade de pacientes no GRUPO_2: ', len(pacientes_grupo_2))"
      ]
    },
    {
      "cell_type": "code",
      "execution_count": 261,
      "metadata": {
        "colab": {
          "base_uri": "https://localhost:8080/",
          "height": 458
        },
        "id": "FDhB1MZOO54k",
        "outputId": "0f84b8b1-afd4-4bcc-a6e3-555fd33316c8"
      },
      "outputs": [
        {
          "name": "stdout",
          "output_type": "stream",
          "text": [
            "133 \n",
            "\n"
          ]
        },
        {
          "name": "stderr",
          "output_type": "stream",
          "text": [
            "C:\\Users\\flopes\\AppData\\Local\\Temp\\ipykernel_21500\\3360302570.py:5: SettingWithCopyWarning: \n",
            "A value is trying to be set on a copy of a slice from a DataFrame.\n",
            "Try using .loc[row_indexer,col_indexer] = value instead\n",
            "\n",
            "See the caveats in the documentation: https://pandas.pydata.org/pandas-docs/stable/user_guide/indexing.html#returning-a-view-versus-a-copy\n",
            "  GRUPO_2['GRUPO'] = 'GRUPO_2'\n"
          ]
        },
        {
          "data": {
            "text/html": [
              "<div>\n",
              "<style scoped>\n",
              "    .dataframe tbody tr th:only-of-type {\n",
              "        vertical-align: middle;\n",
              "    }\n",
              "\n",
              "    .dataframe tbody tr th {\n",
              "        vertical-align: top;\n",
              "    }\n",
              "\n",
              "    .dataframe thead th {\n",
              "        text-align: right;\n",
              "    }\n",
              "</style>\n",
              "<table border=\"1\" class=\"dataframe\">\n",
              "  <thead>\n",
              "    <tr style=\"text-align: right;\">\n",
              "      <th></th>\n",
              "      <th>ID_PACIENTE</th>\n",
              "      <th>ID_ATENDIMENTO</th>\n",
              "      <th>DT_COLETA</th>\n",
              "      <th>DE_ORIGEM</th>\n",
              "      <th>DE_EXAME</th>\n",
              "      <th>DE_ANALITO</th>\n",
              "      <th>DE_RESULTADO</th>\n",
              "      <th>DT_ATENDIMENTO</th>\n",
              "      <th>DE_TIPO_ATENDIMENTO</th>\n",
              "      <th>ID_CLINICA</th>\n",
              "      <th>DE_CLINICA</th>\n",
              "      <th>DT_DESFECHO</th>\n",
              "      <th>DE_DESFECHO</th>\n",
              "      <th>AA_NASCIMENTO</th>\n",
              "      <th>IC_SEXO</th>\n",
              "      <th>UTI</th>\n",
              "      <th>INT</th>\n",
              "      <th>PS</th>\n",
              "      <th>GRUPO</th>\n",
              "    </tr>\n",
              "  </thead>\n",
              "  <tbody>\n",
              "    <tr>\n",
              "      <th>15</th>\n",
              "      <td>1F1BAA5B8EDAC74EB4EAA329F14A0361</td>\n",
              "      <td>621B6B4166823E659B1D4F55CAFAE29C</td>\n",
              "      <td>2020-08-20</td>\n",
              "      <td>Ultrassonografia</td>\n",
              "      <td>Acetilcolina, Anticorpo Anti</td>\n",
              "      <td>Acetilcolina</td>\n",
              "      <td>inferior a 0,02</td>\n",
              "      <td>2020-08-20</td>\n",
              "      <td>Externo</td>\n",
              "      <td>20.0</td>\n",
              "      <td>Procedimentos</td>\n",
              "      <td>2020-08-20</td>\n",
              "      <td>Alta Administrativa</td>\n",
              "      <td>1954</td>\n",
              "      <td>M</td>\n",
              "      <td>0</td>\n",
              "      <td>0</td>\n",
              "      <td>1</td>\n",
              "      <td>GRUPO_2</td>\n",
              "    </tr>\n",
              "    <tr>\n",
              "      <th>277</th>\n",
              "      <td>129870EDC9C04FB9F4AD5D463C73206E</td>\n",
              "      <td>D60418C6820773F9CA89165B76BB9AD8</td>\n",
              "      <td>2020-08-05</td>\n",
              "      <td>Densitometria Óssea</td>\n",
              "      <td>Acido Ascorbico, plasma</td>\n",
              "      <td>Ácido ascorbico, plasma</td>\n",
              "      <td>0,9</td>\n",
              "      <td>2020-08-05</td>\n",
              "      <td>Externo</td>\n",
              "      <td>20.0</td>\n",
              "      <td>Procedimentos</td>\n",
              "      <td>2020-08-05</td>\n",
              "      <td>Alta Administrativa</td>\n",
              "      <td>1993</td>\n",
              "      <td>M</td>\n",
              "      <td>0</td>\n",
              "      <td>0</td>\n",
              "      <td>1</td>\n",
              "      <td>GRUPO_2</td>\n",
              "    </tr>\n",
              "    <tr>\n",
              "      <th>309</th>\n",
              "      <td>18BAE859DB0942927BC3D54DE6BC8270</td>\n",
              "      <td>9C5CFBECCDB3F159C8AFC2C41A10D670</td>\n",
              "      <td>2020-08-31</td>\n",
              "      <td>Laboratório de Anatomia Patológica</td>\n",
              "      <td>Acido Fólico</td>\n",
              "      <td>Ácido fólico</td>\n",
              "      <td>9,6</td>\n",
              "      <td>2020-08-31</td>\n",
              "      <td>Externo</td>\n",
              "      <td>20.0</td>\n",
              "      <td>Procedimentos</td>\n",
              "      <td>2020-08-31</td>\n",
              "      <td>Alta Administrativa</td>\n",
              "      <td>1956</td>\n",
              "      <td>M</td>\n",
              "      <td>0</td>\n",
              "      <td>0</td>\n",
              "      <td>1</td>\n",
              "      <td>GRUPO_2</td>\n",
              "    </tr>\n",
              "  </tbody>\n",
              "</table>\n",
              "</div>"
            ],
            "text/plain": [
              "                          ID_PACIENTE                    ID_ATENDIMENTO  \\\n",
              "15   1F1BAA5B8EDAC74EB4EAA329F14A0361  621B6B4166823E659B1D4F55CAFAE29C   \n",
              "277  129870EDC9C04FB9F4AD5D463C73206E  D60418C6820773F9CA89165B76BB9AD8   \n",
              "309  18BAE859DB0942927BC3D54DE6BC8270  9C5CFBECCDB3F159C8AFC2C41A10D670   \n",
              "\n",
              "     DT_COLETA                           DE_ORIGEM  \\\n",
              "15  2020-08-20                    Ultrassonografia   \n",
              "277 2020-08-05                 Densitometria Óssea   \n",
              "309 2020-08-31  Laboratório de Anatomia Patológica   \n",
              "\n",
              "                         DE_EXAME               DE_ANALITO     DE_RESULTADO  \\\n",
              "15   Acetilcolina, Anticorpo Anti             Acetilcolina  inferior a 0,02   \n",
              "277       Acido Ascorbico, plasma  Ácido ascorbico, plasma              0,9   \n",
              "309                  Acido Fólico             Ácido fólico              9,6   \n",
              "\n",
              "    DT_ATENDIMENTO DE_TIPO_ATENDIMENTO  ID_CLINICA     DE_CLINICA DT_DESFECHO  \\\n",
              "15      2020-08-20             Externo        20.0  Procedimentos  2020-08-20   \n",
              "277     2020-08-05             Externo        20.0  Procedimentos  2020-08-05   \n",
              "309     2020-08-31             Externo        20.0  Procedimentos  2020-08-31   \n",
              "\n",
              "             DE_DESFECHO AA_NASCIMENTO IC_SEXO  UTI  INT  PS    GRUPO  \n",
              "15   Alta Administrativa          1954       M    0    0   1  GRUPO_2  \n",
              "277  Alta Administrativa          1993       M    0    0   1  GRUPO_2  \n",
              "309  Alta Administrativa          1956       M    0    0   1  GRUPO_2  "
            ]
          },
          "execution_count": 261,
          "metadata": {},
          "output_type": "execute_result"
        }
      ],
      "source": [
        "#Criando o Grupo_2 a partir do dataframe df_PS\n",
        "\n",
        "GRUPO_2 = df_PS.loc[df_hsl['ID_PACIENTE'].isin(pacientes_grupo_2)]\n",
        "\n",
        "GRUPO_2['GRUPO'] = 'GRUPO_2'\n",
        "\n",
        "print(GRUPO_2['ID_PACIENTE'].nunique(), '\\n')\n",
        "\n",
        "GRUPO_2.head(3)"
      ]
    },
    {
      "cell_type": "markdown",
      "metadata": {
        "id": "WioDeWSLMOiX"
      },
      "source": [
        "#### **PACIENTES GRUPO_3**"
      ]
    },
    {
      "cell_type": "code",
      "execution_count": 262,
      "metadata": {
        "colab": {
          "base_uri": "https://localhost:8080/"
        },
        "id": "WRWYlyKUMQ8x",
        "outputId": "a565cd72-872d-462a-a510-cf99d9274f05"
      },
      "outputs": [
        {
          "name": "stdout",
          "output_type": "stream",
          "text": [
            "                         ID_PACIENTE  INT   PS  UTI\n",
            "14  004688799FD293C3ABE0A07209FD8B75  267  453  899\n",
            "15  0047AF5116BC8AC8EFE6BBB98DA14DFA  211   63  245\n",
            "31  009F0D6B3BA6C0E2D406585697D679EB  384   89  308\n",
            "60  00EF7F6FAFE364CAFFF415FB096A1493  286  130  196\n",
            "68  010AF0C3418C765CDA28B5957210A819  179   77  319 \n",
            "\n",
            "Quantidade de pacientes no GRUPO_3:  800\n"
          ]
        }
      ],
      "source": [
        "# Selecionando pacientes grupo 3\n",
        "\n",
        "grupo_3 = df_hsl_1.query('UTI > 0 & PS > 0 & INT > 0')\n",
        "\n",
        "print(grupo_3.head(5), '\\n')\n",
        "\n",
        "pacientes_grupo_3 = grupo_3['ID_PACIENTE'].unique()\n",
        "\n",
        "#print(pacientes_grupo_3,'\\n')\n",
        "\n",
        "print('Quantidade de pacientes no GRUPO_3: ', len(pacientes_grupo_3))"
      ]
    },
    {
      "cell_type": "code",
      "execution_count": 263,
      "metadata": {
        "colab": {
          "base_uri": "https://localhost:8080/",
          "height": 441
        },
        "id": "EqNmtBBMPT07",
        "outputId": "7a409eb8-6a82-4a7b-fb9c-32156c029a6d"
      },
      "outputs": [
        {
          "name": "stderr",
          "output_type": "stream",
          "text": [
            "C:\\Users\\flopes\\AppData\\Local\\Temp\\ipykernel_21500\\1754976168.py:5: SettingWithCopyWarning: \n",
            "A value is trying to be set on a copy of a slice from a DataFrame.\n",
            "Try using .loc[row_indexer,col_indexer] = value instead\n",
            "\n",
            "See the caveats in the documentation: https://pandas.pydata.org/pandas-docs/stable/user_guide/indexing.html#returning-a-view-versus-a-copy\n",
            "  GRUPO_3['GRUPO'] = 'GRUPO_3'\n"
          ]
        },
        {
          "name": "stdout",
          "output_type": "stream",
          "text": [
            "800 \n",
            "\n"
          ]
        },
        {
          "data": {
            "text/html": [
              "<div>\n",
              "<style scoped>\n",
              "    .dataframe tbody tr th:only-of-type {\n",
              "        vertical-align: middle;\n",
              "    }\n",
              "\n",
              "    .dataframe tbody tr th {\n",
              "        vertical-align: top;\n",
              "    }\n",
              "\n",
              "    .dataframe thead th {\n",
              "        text-align: right;\n",
              "    }\n",
              "</style>\n",
              "<table border=\"1\" class=\"dataframe\">\n",
              "  <thead>\n",
              "    <tr style=\"text-align: right;\">\n",
              "      <th></th>\n",
              "      <th>ID_PACIENTE</th>\n",
              "      <th>ID_ATENDIMENTO</th>\n",
              "      <th>DT_COLETA</th>\n",
              "      <th>DE_ORIGEM</th>\n",
              "      <th>DE_EXAME</th>\n",
              "      <th>DE_ANALITO</th>\n",
              "      <th>DE_RESULTADO</th>\n",
              "      <th>DT_ATENDIMENTO</th>\n",
              "      <th>DE_TIPO_ATENDIMENTO</th>\n",
              "      <th>ID_CLINICA</th>\n",
              "      <th>DE_CLINICA</th>\n",
              "      <th>DT_DESFECHO</th>\n",
              "      <th>DE_DESFECHO</th>\n",
              "      <th>AA_NASCIMENTO</th>\n",
              "      <th>IC_SEXO</th>\n",
              "      <th>UTI</th>\n",
              "      <th>INT</th>\n",
              "      <th>PS</th>\n",
              "      <th>GRUPO</th>\n",
              "    </tr>\n",
              "  </thead>\n",
              "  <tbody>\n",
              "    <tr>\n",
              "      <th>0</th>\n",
              "      <td>9BB15EA1D912994DE467C71E953F6ACC</td>\n",
              "      <td>E7E88B60259AD5C9CF3A837260CB8CC7</td>\n",
              "      <td>2021-01-22</td>\n",
              "      <td>Hemodiálise</td>\n",
              "      <td>17 Hidroxipregnenolona</td>\n",
              "      <td>17-Hidroxi Pregnenolona</td>\n",
              "      <td>23</td>\n",
              "      <td>2021-01-18</td>\n",
              "      <td>Ambulatorial</td>\n",
              "      <td>15.0</td>\n",
              "      <td>Hemodiálise</td>\n",
              "      <td>2021-01-22</td>\n",
              "      <td>Alta Administrativa</td>\n",
              "      <td>1987</td>\n",
              "      <td>F</td>\n",
              "      <td>0</td>\n",
              "      <td>0</td>\n",
              "      <td>1</td>\n",
              "      <td>GRUPO_3</td>\n",
              "    </tr>\n",
              "    <tr>\n",
              "      <th>14</th>\n",
              "      <td>4F17477E5C721FC0BBE302FD5A448270</td>\n",
              "      <td>6B94F8D5766F021A5F21B583BB6B92E5</td>\n",
              "      <td>2020-12-11</td>\n",
              "      <td>Laboratório de Patologia Clínica</td>\n",
              "      <td>Acetilcolina, Anticorpo Anti</td>\n",
              "      <td>Acetilcolina</td>\n",
              "      <td>11,0</td>\n",
              "      <td>2020-12-11</td>\n",
              "      <td>Externo</td>\n",
              "      <td>20.0</td>\n",
              "      <td>Procedimentos</td>\n",
              "      <td>2020-12-11</td>\n",
              "      <td>Alta Administrativa</td>\n",
              "      <td>1953</td>\n",
              "      <td>M</td>\n",
              "      <td>0</td>\n",
              "      <td>0</td>\n",
              "      <td>1</td>\n",
              "      <td>GRUPO_3</td>\n",
              "    </tr>\n",
              "    <tr>\n",
              "      <th>27</th>\n",
              "      <td>9BB15EA1D912994DE467C71E953F6ACC</td>\n",
              "      <td>E9325687C8812A52882B824836FF61EF</td>\n",
              "      <td>2021-02-08</td>\n",
              "      <td>Hemodiálise</td>\n",
              "      <td>Acido Ascorbico, plasma</td>\n",
              "      <td>Ácido ascorbico, plasma</td>\n",
              "      <td>1,0</td>\n",
              "      <td>2021-02-08</td>\n",
              "      <td>Ambulatorial</td>\n",
              "      <td>15.0</td>\n",
              "      <td>Hemodiálise</td>\n",
              "      <td>2021-02-08</td>\n",
              "      <td>Alta Administrativa</td>\n",
              "      <td>1987</td>\n",
              "      <td>F</td>\n",
              "      <td>0</td>\n",
              "      <td>0</td>\n",
              "      <td>1</td>\n",
              "      <td>GRUPO_3</td>\n",
              "    </tr>\n",
              "  </tbody>\n",
              "</table>\n",
              "</div>"
            ],
            "text/plain": [
              "                         ID_PACIENTE                    ID_ATENDIMENTO  \\\n",
              "0   9BB15EA1D912994DE467C71E953F6ACC  E7E88B60259AD5C9CF3A837260CB8CC7   \n",
              "14  4F17477E5C721FC0BBE302FD5A448270  6B94F8D5766F021A5F21B583BB6B92E5   \n",
              "27  9BB15EA1D912994DE467C71E953F6ACC  E9325687C8812A52882B824836FF61EF   \n",
              "\n",
              "    DT_COLETA                         DE_ORIGEM                      DE_EXAME  \\\n",
              "0  2021-01-22                       Hemodiálise        17 Hidroxipregnenolona   \n",
              "14 2020-12-11  Laboratório de Patologia Clínica  Acetilcolina, Anticorpo Anti   \n",
              "27 2021-02-08                       Hemodiálise       Acido Ascorbico, plasma   \n",
              "\n",
              "                 DE_ANALITO DE_RESULTADO DT_ATENDIMENTO DE_TIPO_ATENDIMENTO  \\\n",
              "0   17-Hidroxi Pregnenolona           23     2021-01-18        Ambulatorial   \n",
              "14             Acetilcolina         11,0     2020-12-11             Externo   \n",
              "27  Ácido ascorbico, plasma          1,0     2021-02-08        Ambulatorial   \n",
              "\n",
              "    ID_CLINICA     DE_CLINICA DT_DESFECHO          DE_DESFECHO AA_NASCIMENTO  \\\n",
              "0         15.0    Hemodiálise  2021-01-22  Alta Administrativa          1987   \n",
              "14        20.0  Procedimentos  2020-12-11  Alta Administrativa          1953   \n",
              "27        15.0    Hemodiálise  2021-02-08  Alta Administrativa          1987   \n",
              "\n",
              "   IC_SEXO  UTI  INT  PS    GRUPO  \n",
              "0        F    0    0   1  GRUPO_3  \n",
              "14       M    0    0   1  GRUPO_3  \n",
              "27       F    0    0   1  GRUPO_3  "
            ]
          },
          "execution_count": 263,
          "metadata": {},
          "output_type": "execute_result"
        }
      ],
      "source": [
        "#Criando o Grupo_3 a partir do dataframe df_PS\n",
        "\n",
        "GRUPO_3 = df_PS.loc[df_hsl['ID_PACIENTE'].isin(pacientes_grupo_3)]\n",
        "\n",
        "GRUPO_3['GRUPO'] = 'GRUPO_3'\n",
        "\n",
        "print(GRUPO_3['ID_PACIENTE'].nunique(), '\\n')\n",
        "\n",
        "GRUPO_3.head(3)"
      ]
    },
    {
      "cell_type": "markdown",
      "metadata": {
        "id": "Rm2gA751J3j3"
      },
      "source": [
        "#### **OUTROS PACIENTES**\n",
        "\n",
        "OBS: ESSES PACIENTES SERÃO DESCONSIDERADOS, POIS NÃO POSSUIEM EXAMES QUE INDIQUEM PREDISPOSIÇÃO INCIAL"
      ]
    },
    {
      "cell_type": "code",
      "execution_count": 264,
      "metadata": {
        "colab": {
          "base_uri": "https://localhost:8080/"
        },
        "id": "pVgWylLwJ3O_",
        "outputId": "79f4bc3b-47cc-4a65-cf2f-2afe76168ebd"
      },
      "outputs": [
        {
          "name": "stdout",
          "output_type": "stream",
          "text": [
            "                         ID_PACIENTE   INT  PS   UTI\n",
            "17  004E9DBF2D530CC95F103C5A596C4FD6   197   0     0\n",
            "49  00DCB2411CFD2F3C9FB4CD35C3AACCA1   758   0   893\n",
            "77  013AEBC1C56D166839C2D593971B8073    86   0   951\n",
            "80  01451931334246A7DE4F71DEE7710859   113   0     0\n",
            "91  017CB171B89B8ACCCCFA3CF5762BF21B  2206   0  4386 \n",
            "\n",
            "Quantidade de pacientes no GRUPO_4:  860\n"
          ]
        }
      ],
      "source": [
        "# Verificando os pacientes que não possuem exames em PS, esses pacientes foram desconsiderados\n",
        "\n",
        "grupo_4 = df_hsl_1.query('PS == 0')\n",
        "\n",
        "print(grupo_4.head(5), '\\n')\n",
        "\n",
        "pacientes_grupo_4 = grupo_4['ID_PACIENTE'].unique()\n",
        "\n",
        "#print(pacientes_grupo_2,'\\n')\n",
        "\n",
        "print('Quantidade de pacientes no GRUPO_4: ', len(pacientes_grupo_4))"
      ]
    },
    {
      "cell_type": "markdown",
      "metadata": {
        "id": "MhH2P_YCPqZS"
      },
      "source": [
        "#### **JUNTANDO OS GRUPOS EM UM SÓ DATASET**"
      ]
    },
    {
      "cell_type": "code",
      "execution_count": 265,
      "metadata": {
        "colab": {
          "base_uri": "https://localhost:8080/",
          "height": 263
        },
        "id": "T2UFaz7SH12x",
        "outputId": "b3f2b8e8-0574-4101-f592-76c32c1a0b19"
      },
      "outputs": [
        {
          "data": {
            "text/html": [
              "<div>\n",
              "<style scoped>\n",
              "    .dataframe tbody tr th:only-of-type {\n",
              "        vertical-align: middle;\n",
              "    }\n",
              "\n",
              "    .dataframe tbody tr th {\n",
              "        vertical-align: top;\n",
              "    }\n",
              "\n",
              "    .dataframe thead th {\n",
              "        text-align: right;\n",
              "    }\n",
              "</style>\n",
              "<table border=\"1\" class=\"dataframe\">\n",
              "  <thead>\n",
              "    <tr style=\"text-align: right;\">\n",
              "      <th></th>\n",
              "      <th>ID_PACIENTE</th>\n",
              "      <th>ID_ATENDIMENTO</th>\n",
              "      <th>DT_COLETA</th>\n",
              "      <th>DE_ORIGEM</th>\n",
              "      <th>DE_EXAME</th>\n",
              "      <th>DE_ANALITO</th>\n",
              "      <th>DE_RESULTADO</th>\n",
              "      <th>DT_ATENDIMENTO</th>\n",
              "      <th>DE_TIPO_ATENDIMENTO</th>\n",
              "      <th>ID_CLINICA</th>\n",
              "      <th>DE_CLINICA</th>\n",
              "      <th>DT_DESFECHO</th>\n",
              "      <th>DE_DESFECHO</th>\n",
              "      <th>AA_NASCIMENTO</th>\n",
              "      <th>IC_SEXO</th>\n",
              "      <th>UTI</th>\n",
              "      <th>INT</th>\n",
              "      <th>PS</th>\n",
              "      <th>GRUPO</th>\n",
              "    </tr>\n",
              "  </thead>\n",
              "  <tbody>\n",
              "    <tr>\n",
              "      <th>1</th>\n",
              "      <td>FB48065512F8BFFAE3FC16530785BB57</td>\n",
              "      <td>E9E678082F3C9EA1C8F00DC5881049F6</td>\n",
              "      <td>2020-09-24</td>\n",
              "      <td>Laboratório de Patologia Clínica</td>\n",
              "      <td>17 Hidroxipregnenolona</td>\n",
              "      <td>17-Hidroxi Pregnenolona</td>\n",
              "      <td>27</td>\n",
              "      <td>2020-09-24</td>\n",
              "      <td>Externo</td>\n",
              "      <td>20.0</td>\n",
              "      <td>Procedimentos</td>\n",
              "      <td>2020-09-24</td>\n",
              "      <td>Alta Administrativa</td>\n",
              "      <td>1994</td>\n",
              "      <td>F</td>\n",
              "      <td>0</td>\n",
              "      <td>0</td>\n",
              "      <td>1</td>\n",
              "      <td>GRUPO_0</td>\n",
              "    </tr>\n",
              "    <tr>\n",
              "      <th>2</th>\n",
              "      <td>5ABF34B0AE202F876BDAA0F338881BC1</td>\n",
              "      <td>248AD10D114DEC5A0FF184548FAD4EDA</td>\n",
              "      <td>2021-02-25</td>\n",
              "      <td>Recepção do Centro Diagnóstico</td>\n",
              "      <td>17 Hidroxipregnenolona</td>\n",
              "      <td>17-Hidroxi Pregnenolona</td>\n",
              "      <td>50</td>\n",
              "      <td>2021-02-25</td>\n",
              "      <td>Externo</td>\n",
              "      <td>20.0</td>\n",
              "      <td>Procedimentos</td>\n",
              "      <td>2021-02-25</td>\n",
              "      <td>Alta Administrativa</td>\n",
              "      <td>1979</td>\n",
              "      <td>F</td>\n",
              "      <td>0</td>\n",
              "      <td>0</td>\n",
              "      <td>1</td>\n",
              "      <td>GRUPO_0</td>\n",
              "    </tr>\n",
              "  </tbody>\n",
              "</table>\n",
              "</div>"
            ],
            "text/plain": [
              "                        ID_PACIENTE                    ID_ATENDIMENTO  \\\n",
              "1  FB48065512F8BFFAE3FC16530785BB57  E9E678082F3C9EA1C8F00DC5881049F6   \n",
              "2  5ABF34B0AE202F876BDAA0F338881BC1  248AD10D114DEC5A0FF184548FAD4EDA   \n",
              "\n",
              "   DT_COLETA                         DE_ORIGEM                DE_EXAME  \\\n",
              "1 2020-09-24  Laboratório de Patologia Clínica  17 Hidroxipregnenolona   \n",
              "2 2021-02-25    Recepção do Centro Diagnóstico  17 Hidroxipregnenolona   \n",
              "\n",
              "                DE_ANALITO DE_RESULTADO DT_ATENDIMENTO DE_TIPO_ATENDIMENTO  \\\n",
              "1  17-Hidroxi Pregnenolona           27     2020-09-24             Externo   \n",
              "2  17-Hidroxi Pregnenolona           50     2021-02-25             Externo   \n",
              "\n",
              "   ID_CLINICA     DE_CLINICA DT_DESFECHO          DE_DESFECHO AA_NASCIMENTO  \\\n",
              "1        20.0  Procedimentos  2020-09-24  Alta Administrativa          1994   \n",
              "2        20.0  Procedimentos  2021-02-25  Alta Administrativa          1979   \n",
              "\n",
              "  IC_SEXO  UTI  INT  PS    GRUPO  \n",
              "1       F    0    0   1  GRUPO_0  \n",
              "2       F    0    0   1  GRUPO_0  "
            ]
          },
          "execution_count": 265,
          "metadata": {},
          "output_type": "execute_result"
        }
      ],
      "source": [
        "df_sirio_libanes = pd.concat([GRUPO_0, GRUPO_1, GRUPO_2, GRUPO_3])\n",
        "\n",
        "df_sirio_libanes.head(2)"
      ]
    },
    {
      "cell_type": "code",
      "execution_count": 266,
      "metadata": {
        "colab": {
          "base_uri": "https://localhost:8080/"
        },
        "id": "r-ZunUhZQwdw",
        "outputId": "7eb0b5ef-f6a3-4780-ef9b-b4715bf9886c"
      },
      "outputs": [
        {
          "data": {
            "text/plain": [
              "(815018, 19)"
            ]
          },
          "execution_count": 266,
          "metadata": {},
          "output_type": "execute_result"
        }
      ],
      "source": [
        "df_sirio_libanes.shape"
      ]
    },
    {
      "cell_type": "code",
      "execution_count": 267,
      "metadata": {
        "colab": {
          "base_uri": "https://localhost:8080/"
        },
        "id": "JSjK_G_PID1X",
        "outputId": "acd5a307-a566-47a2-8d00-bfc586df37b5"
      },
      "outputs": [
        {
          "data": {
            "text/plain": [
              "13688"
            ]
          },
          "execution_count": 267,
          "metadata": {},
          "output_type": "execute_result"
        }
      ],
      "source": [
        "df_sirio_libanes['ID_PACIENTE'].nunique()"
      ]
    },
    {
      "cell_type": "code",
      "execution_count": 268,
      "metadata": {
        "colab": {
          "base_uri": "https://localhost:8080/"
        },
        "id": "IFL45sXSQ3vb",
        "outputId": "30efa112-a18a-4b94-bc90-2c710f3bbd2f"
      },
      "outputs": [
        {
          "name": "stdout",
          "output_type": "stream",
          "text": [
            "GRUPO_0:  11565\n",
            "GRUPO_1:  1190\n",
            "GRUPO_2:  133\n",
            "GRUPO_3:  800\n"
          ]
        }
      ],
      "source": [
        "G0 = df_sirio_libanes[df_sirio_libanes['GRUPO']=='GRUPO_0']\n",
        "print('GRUPO_0: ', G0['ID_PACIENTE'].nunique())\n",
        "\n",
        "G1 = df_sirio_libanes[df_sirio_libanes['GRUPO']=='GRUPO_1']\n",
        "print('GRUPO_1: ', G1['ID_PACIENTE'].nunique())\n",
        "\n",
        "G2 = df_sirio_libanes[df_sirio_libanes['GRUPO']=='GRUPO_2']\n",
        "print('GRUPO_2: ', G2['ID_PACIENTE'].nunique())\n",
        "\n",
        "G3 = df_sirio_libanes[df_sirio_libanes['GRUPO']=='GRUPO_3']\n",
        "print('GRUPO_3: ', G3['ID_PACIENTE'].nunique())"
      ]
    },
    {
      "cell_type": "markdown",
      "metadata": {
        "id": "EiyGYhzN_9ys"
      },
      "source": [
        "#### **FILTRO 4: NOVA SELEÇÃO MANUAL DE ATRIBUTOS**"
      ]
    },
    {
      "cell_type": "code",
      "execution_count": 269,
      "metadata": {
        "colab": {
          "base_uri": "https://localhost:8080/",
          "height": 294
        },
        "id": "G1BKyTVeN3Kz",
        "outputId": "5583092d-9b43-4591-cbe0-a947c1ceb12c"
      },
      "outputs": [
        {
          "data": {
            "text/html": [
              "<div>\n",
              "<style scoped>\n",
              "    .dataframe tbody tr th:only-of-type {\n",
              "        vertical-align: middle;\n",
              "    }\n",
              "\n",
              "    .dataframe tbody tr th {\n",
              "        vertical-align: top;\n",
              "    }\n",
              "\n",
              "    .dataframe thead th {\n",
              "        text-align: right;\n",
              "    }\n",
              "</style>\n",
              "<table border=\"1\" class=\"dataframe\">\n",
              "  <thead>\n",
              "    <tr style=\"text-align: right;\">\n",
              "      <th></th>\n",
              "      <th>ID_PACIENTE</th>\n",
              "      <th>DT_COLETA</th>\n",
              "      <th>DE_EXAME</th>\n",
              "      <th>DE_ANALITO</th>\n",
              "      <th>DE_RESULTADO</th>\n",
              "      <th>DT_ATENDIMENTO</th>\n",
              "      <th>DE_TIPO_ATENDIMENTO</th>\n",
              "      <th>DE_DESFECHO</th>\n",
              "      <th>AA_NASCIMENTO</th>\n",
              "      <th>IC_SEXO</th>\n",
              "      <th>GRUPO</th>\n",
              "    </tr>\n",
              "  </thead>\n",
              "  <tbody>\n",
              "    <tr>\n",
              "      <th>1</th>\n",
              "      <td>FB48065512F8BFFAE3FC16530785BB57</td>\n",
              "      <td>2020-09-24</td>\n",
              "      <td>17 Hidroxipregnenolona</td>\n",
              "      <td>17-Hidroxi Pregnenolona</td>\n",
              "      <td>27</td>\n",
              "      <td>2020-09-24</td>\n",
              "      <td>Externo</td>\n",
              "      <td>Alta Administrativa</td>\n",
              "      <td>1994</td>\n",
              "      <td>F</td>\n",
              "      <td>GRUPO_0</td>\n",
              "    </tr>\n",
              "    <tr>\n",
              "      <th>2</th>\n",
              "      <td>5ABF34B0AE202F876BDAA0F338881BC1</td>\n",
              "      <td>2021-02-25</td>\n",
              "      <td>17 Hidroxipregnenolona</td>\n",
              "      <td>17-Hidroxi Pregnenolona</td>\n",
              "      <td>50</td>\n",
              "      <td>2021-02-25</td>\n",
              "      <td>Externo</td>\n",
              "      <td>Alta Administrativa</td>\n",
              "      <td>1979</td>\n",
              "      <td>F</td>\n",
              "      <td>GRUPO_0</td>\n",
              "    </tr>\n",
              "    <tr>\n",
              "      <th>3</th>\n",
              "      <td>9DECD77C85AD8EF58C52F5D747546632</td>\n",
              "      <td>2020-10-06</td>\n",
              "      <td>17 Hidroxipregnenolona</td>\n",
              "      <td>17-Hidroxi Pregnenolona</td>\n",
              "      <td>44</td>\n",
              "      <td>2020-10-06</td>\n",
              "      <td>Externo</td>\n",
              "      <td>Alta Administrativa</td>\n",
              "      <td>1982</td>\n",
              "      <td>F</td>\n",
              "      <td>GRUPO_0</td>\n",
              "    </tr>\n",
              "  </tbody>\n",
              "</table>\n",
              "</div>"
            ],
            "text/plain": [
              "                        ID_PACIENTE  DT_COLETA                DE_EXAME  \\\n",
              "1  FB48065512F8BFFAE3FC16530785BB57 2020-09-24  17 Hidroxipregnenolona   \n",
              "2  5ABF34B0AE202F876BDAA0F338881BC1 2021-02-25  17 Hidroxipregnenolona   \n",
              "3  9DECD77C85AD8EF58C52F5D747546632 2020-10-06  17 Hidroxipregnenolona   \n",
              "\n",
              "                DE_ANALITO DE_RESULTADO DT_ATENDIMENTO DE_TIPO_ATENDIMENTO  \\\n",
              "1  17-Hidroxi Pregnenolona           27     2020-09-24             Externo   \n",
              "2  17-Hidroxi Pregnenolona           50     2021-02-25             Externo   \n",
              "3  17-Hidroxi Pregnenolona           44     2020-10-06             Externo   \n",
              "\n",
              "           DE_DESFECHO AA_NASCIMENTO IC_SEXO    GRUPO  \n",
              "1  Alta Administrativa          1994       F  GRUPO_0  \n",
              "2  Alta Administrativa          1979       F  GRUPO_0  \n",
              "3  Alta Administrativa          1982       F  GRUPO_0  "
            ]
          },
          "execution_count": 269,
          "metadata": {},
          "output_type": "execute_result"
        }
      ],
      "source": [
        "#deletando colunas que não serão mais necesárias\n",
        "\n",
        "df_sirio = df_sirio_libanes.drop(columns=['ID_ATENDIMENTO','DE_ORIGEM','ID_CLINICA','DE_CLINICA', 'DT_DESFECHO', 'UTI','INT','PS'])\n",
        "\n",
        "df_sirio.head(3)"
      ]
    },
    {
      "cell_type": "code",
      "execution_count": 270,
      "metadata": {
        "colab": {
          "base_uri": "https://localhost:8080/"
        },
        "id": "Bo8nHsWwAwbk",
        "outputId": "27574d84-ecbb-43ce-e8dc-7f07a01c16e3"
      },
      "outputs": [
        {
          "data": {
            "text/plain": [
              "(815018, 11)"
            ]
          },
          "execution_count": 270,
          "metadata": {},
          "output_type": "execute_result"
        }
      ],
      "source": [
        "df_sirio.shape"
      ]
    },
    {
      "cell_type": "markdown",
      "metadata": {
        "id": "atBL3qZ7G_Ql"
      },
      "source": [
        "#### **FILTRO 5: SELECIONANDO EXAMES COM ATÉ 3 DIAS APÓS O ATENDIMENTO** \n",
        "\n",
        "(OU SEJA, DATA DE COLETA - DATA DE ATENDIMENTO <= 3 DIAS)"
      ]
    },
    {
      "cell_type": "code",
      "execution_count": 271,
      "metadata": {
        "colab": {
          "base_uri": "https://localhost:8080/",
          "height": 313
        },
        "id": "az9LQqrXG--m",
        "outputId": "f99d5e9b-f50c-417f-a4d9-00bb036e7a53"
      },
      "outputs": [
        {
          "name": "stdout",
          "output_type": "stream",
          "text": [
            "(815018, 12)\n"
          ]
        },
        {
          "data": {
            "text/html": [
              "<div>\n",
              "<style scoped>\n",
              "    .dataframe tbody tr th:only-of-type {\n",
              "        vertical-align: middle;\n",
              "    }\n",
              "\n",
              "    .dataframe tbody tr th {\n",
              "        vertical-align: top;\n",
              "    }\n",
              "\n",
              "    .dataframe thead th {\n",
              "        text-align: right;\n",
              "    }\n",
              "</style>\n",
              "<table border=\"1\" class=\"dataframe\">\n",
              "  <thead>\n",
              "    <tr style=\"text-align: right;\">\n",
              "      <th></th>\n",
              "      <th>ID_PACIENTE</th>\n",
              "      <th>DT_COLETA</th>\n",
              "      <th>DE_EXAME</th>\n",
              "      <th>DE_ANALITO</th>\n",
              "      <th>DE_RESULTADO</th>\n",
              "      <th>DT_ATENDIMENTO</th>\n",
              "      <th>DE_TIPO_ATENDIMENTO</th>\n",
              "      <th>DE_DESFECHO</th>\n",
              "      <th>AA_NASCIMENTO</th>\n",
              "      <th>IC_SEXO</th>\n",
              "      <th>GRUPO</th>\n",
              "      <th>PERIODO_EXAMES</th>\n",
              "    </tr>\n",
              "  </thead>\n",
              "  <tbody>\n",
              "    <tr>\n",
              "      <th>1</th>\n",
              "      <td>FB48065512F8BFFAE3FC16530785BB57</td>\n",
              "      <td>2020-09-24</td>\n",
              "      <td>17 Hidroxipregnenolona</td>\n",
              "      <td>17-Hidroxi Pregnenolona</td>\n",
              "      <td>27</td>\n",
              "      <td>2020-09-24</td>\n",
              "      <td>Externo</td>\n",
              "      <td>Alta Administrativa</td>\n",
              "      <td>1994</td>\n",
              "      <td>F</td>\n",
              "      <td>GRUPO_0</td>\n",
              "      <td>0.0</td>\n",
              "    </tr>\n",
              "    <tr>\n",
              "      <th>2</th>\n",
              "      <td>5ABF34B0AE202F876BDAA0F338881BC1</td>\n",
              "      <td>2021-02-25</td>\n",
              "      <td>17 Hidroxipregnenolona</td>\n",
              "      <td>17-Hidroxi Pregnenolona</td>\n",
              "      <td>50</td>\n",
              "      <td>2021-02-25</td>\n",
              "      <td>Externo</td>\n",
              "      <td>Alta Administrativa</td>\n",
              "      <td>1979</td>\n",
              "      <td>F</td>\n",
              "      <td>GRUPO_0</td>\n",
              "      <td>0.0</td>\n",
              "    </tr>\n",
              "    <tr>\n",
              "      <th>3</th>\n",
              "      <td>9DECD77C85AD8EF58C52F5D747546632</td>\n",
              "      <td>2020-10-06</td>\n",
              "      <td>17 Hidroxipregnenolona</td>\n",
              "      <td>17-Hidroxi Pregnenolona</td>\n",
              "      <td>44</td>\n",
              "      <td>2020-10-06</td>\n",
              "      <td>Externo</td>\n",
              "      <td>Alta Administrativa</td>\n",
              "      <td>1982</td>\n",
              "      <td>F</td>\n",
              "      <td>GRUPO_0</td>\n",
              "      <td>0.0</td>\n",
              "    </tr>\n",
              "  </tbody>\n",
              "</table>\n",
              "</div>"
            ],
            "text/plain": [
              "                        ID_PACIENTE  DT_COLETA                DE_EXAME  \\\n",
              "1  FB48065512F8BFFAE3FC16530785BB57 2020-09-24  17 Hidroxipregnenolona   \n",
              "2  5ABF34B0AE202F876BDAA0F338881BC1 2021-02-25  17 Hidroxipregnenolona   \n",
              "3  9DECD77C85AD8EF58C52F5D747546632 2020-10-06  17 Hidroxipregnenolona   \n",
              "\n",
              "                DE_ANALITO DE_RESULTADO DT_ATENDIMENTO DE_TIPO_ATENDIMENTO  \\\n",
              "1  17-Hidroxi Pregnenolona           27     2020-09-24             Externo   \n",
              "2  17-Hidroxi Pregnenolona           50     2021-02-25             Externo   \n",
              "3  17-Hidroxi Pregnenolona           44     2020-10-06             Externo   \n",
              "\n",
              "           DE_DESFECHO AA_NASCIMENTO IC_SEXO    GRUPO  PERIODO_EXAMES  \n",
              "1  Alta Administrativa          1994       F  GRUPO_0             0.0  \n",
              "2  Alta Administrativa          1979       F  GRUPO_0             0.0  \n",
              "3  Alta Administrativa          1982       F  GRUPO_0             0.0  "
            ]
          },
          "execution_count": 271,
          "metadata": {},
          "output_type": "execute_result"
        }
      ],
      "source": [
        "#criando coluna com período de exames\n",
        "df_sirio['PERIODO_EXAMES'] = (df_sirio['DT_COLETA']-df_sirio['DT_ATENDIMENTO']).dt.days\n",
        "print(df_sirio.shape)\n",
        "df_sirio.head(3)"
      ]
    },
    {
      "cell_type": "code",
      "execution_count": 272,
      "metadata": {
        "colab": {
          "base_uri": "https://localhost:8080/"
        },
        "id": "UNuNNa_GhMUi",
        "outputId": "2ef04295-6c23-48cc-d966-04fa3032d50b"
      },
      "outputs": [
        {
          "name": "stdout",
          "output_type": "stream",
          "text": [
            "(804777, 12)\n"
          ]
        },
        {
          "data": {
            "text/plain": [
              "PERIODO_EXAMES\n",
              " 0.0    762967\n",
              " 1.0     24406\n",
              " 2.0      9494\n",
              " 3.0      7667\n",
              "-1.0       181\n",
              "-3.0        54\n",
              "-2.0         8\n",
              "Name: count, dtype: int64"
            ]
          },
          "execution_count": 272,
          "metadata": {},
          "output_type": "execute_result"
        }
      ],
      "source": [
        "#Selecionando apenas exemplos de exames com até três dias da entrada no hospital\n",
        "\n",
        "tres_dias = df_sirio[df_sirio['PERIODO_EXAMES']<=3]\n",
        "\n",
        "print(tres_dias.shape)\n",
        "\n",
        "tres_dias['PERIODO_EXAMES'].value_counts()"
      ]
    },
    {
      "cell_type": "code",
      "execution_count": 273,
      "metadata": {
        "colab": {
          "base_uri": "https://localhost:8080/",
          "height": 312
        },
        "id": "j5ZvVS4DkFpy",
        "outputId": "6fc2d64e-3a1a-4340-a6de-7134022f7605"
      },
      "outputs": [
        {
          "data": {
            "text/html": [
              "<div>\n",
              "<style scoped>\n",
              "    .dataframe tbody tr th:only-of-type {\n",
              "        vertical-align: middle;\n",
              "    }\n",
              "\n",
              "    .dataframe tbody tr th {\n",
              "        vertical-align: top;\n",
              "    }\n",
              "\n",
              "    .dataframe thead th {\n",
              "        text-align: right;\n",
              "    }\n",
              "</style>\n",
              "<table border=\"1\" class=\"dataframe\">\n",
              "  <thead>\n",
              "    <tr style=\"text-align: right;\">\n",
              "      <th></th>\n",
              "      <th>ID_PACIENTE</th>\n",
              "      <th>DT_COLETA</th>\n",
              "      <th>DE_EXAME</th>\n",
              "      <th>DE_ANALITO</th>\n",
              "      <th>DE_RESULTADO</th>\n",
              "      <th>DT_ATENDIMENTO</th>\n",
              "      <th>DE_TIPO_ATENDIMENTO</th>\n",
              "      <th>DE_DESFECHO</th>\n",
              "      <th>AA_NASCIMENTO</th>\n",
              "      <th>IC_SEXO</th>\n",
              "      <th>GRUPO</th>\n",
              "      <th>PERIODO_EXAMES</th>\n",
              "    </tr>\n",
              "  </thead>\n",
              "  <tbody>\n",
              "    <tr>\n",
              "      <th>3837</th>\n",
              "      <td>B535D01847720B7EDA49C233C73198BE</td>\n",
              "      <td>2021-01-08</td>\n",
              "      <td>Antígeno Carcinoembriogênico (CEA)</td>\n",
              "      <td>CEA</td>\n",
              "      <td>3,2</td>\n",
              "      <td>2021-01-11</td>\n",
              "      <td>Externo</td>\n",
              "      <td>Alta Administrativa</td>\n",
              "      <td>1951</td>\n",
              "      <td>F</td>\n",
              "      <td>GRUPO_0</td>\n",
              "      <td>-3.0</td>\n",
              "    </tr>\n",
              "    <tr>\n",
              "      <th>10676</th>\n",
              "      <td>B27D65A35D11444DC43C11C0D72AE6EB</td>\n",
              "      <td>2020-06-13</td>\n",
              "      <td>Testosterona</td>\n",
              "      <td>Testosterona</td>\n",
              "      <td>377</td>\n",
              "      <td>2020-06-15</td>\n",
              "      <td>Externo</td>\n",
              "      <td>Alta Administrativa</td>\n",
              "      <td>1965</td>\n",
              "      <td>M</td>\n",
              "      <td>GRUPO_0</td>\n",
              "      <td>-2.0</td>\n",
              "    </tr>\n",
              "    <tr>\n",
              "      <th>11889</th>\n",
              "      <td>B27D65A35D11444DC43C11C0D72AE6EB</td>\n",
              "      <td>2020-06-13</td>\n",
              "      <td>Testosterona Livre</td>\n",
              "      <td>SHBG</td>\n",
              "      <td>46</td>\n",
              "      <td>2020-06-15</td>\n",
              "      <td>Externo</td>\n",
              "      <td>Alta Administrativa</td>\n",
              "      <td>1965</td>\n",
              "      <td>M</td>\n",
              "      <td>GRUPO_0</td>\n",
              "      <td>-2.0</td>\n",
              "    </tr>\n",
              "  </tbody>\n",
              "</table>\n",
              "</div>"
            ],
            "text/plain": [
              "                            ID_PACIENTE  DT_COLETA  \\\n",
              "3837   B535D01847720B7EDA49C233C73198BE 2021-01-08   \n",
              "10676  B27D65A35D11444DC43C11C0D72AE6EB 2020-06-13   \n",
              "11889  B27D65A35D11444DC43C11C0D72AE6EB 2020-06-13   \n",
              "\n",
              "                                 DE_EXAME    DE_ANALITO DE_RESULTADO  \\\n",
              "3837   Antígeno Carcinoembriogênico (CEA)           CEA          3,2   \n",
              "10676                        Testosterona  Testosterona          377   \n",
              "11889                  Testosterona Livre          SHBG           46   \n",
              "\n",
              "      DT_ATENDIMENTO DE_TIPO_ATENDIMENTO          DE_DESFECHO AA_NASCIMENTO  \\\n",
              "3837      2021-01-11             Externo  Alta Administrativa          1951   \n",
              "10676     2020-06-15             Externo  Alta Administrativa          1965   \n",
              "11889     2020-06-15             Externo  Alta Administrativa          1965   \n",
              "\n",
              "      IC_SEXO    GRUPO  PERIODO_EXAMES  \n",
              "3837        F  GRUPO_0            -3.0  \n",
              "10676       M  GRUPO_0            -2.0  \n",
              "11889       M  GRUPO_0            -2.0  "
            ]
          },
          "execution_count": 273,
          "metadata": {},
          "output_type": "execute_result"
        }
      ],
      "source": [
        "#investigando 'PERIODO_EXAMES' negativos\n",
        "\n",
        "# Os intervalos negativos significam que DT_COLETA é anterior a DT_ATENDIMENTO.\n",
        "\n",
        "x = tres_dias[tres_dias['PERIODO_EXAMES']<0]\n",
        "\n",
        "x.head(3)"
      ]
    },
    {
      "cell_type": "code",
      "execution_count": 274,
      "metadata": {
        "colab": {
          "base_uri": "https://localhost:8080/",
          "height": 1000
        },
        "id": "acZu1tJ5n2Xa",
        "outputId": "1e4c2048-6a7a-4318-c8db-19f360fce3c7"
      },
      "outputs": [
        {
          "data": {
            "text/html": [
              "<div>\n",
              "<style scoped>\n",
              "    .dataframe tbody tr th:only-of-type {\n",
              "        vertical-align: middle;\n",
              "    }\n",
              "\n",
              "    .dataframe tbody tr th {\n",
              "        vertical-align: top;\n",
              "    }\n",
              "\n",
              "    .dataframe thead th {\n",
              "        text-align: right;\n",
              "    }\n",
              "</style>\n",
              "<table border=\"1\" class=\"dataframe\">\n",
              "  <thead>\n",
              "    <tr style=\"text-align: right;\">\n",
              "      <th></th>\n",
              "      <th>ID_PACIENTE</th>\n",
              "      <th>DT_COLETA</th>\n",
              "      <th>DE_EXAME</th>\n",
              "      <th>DE_ANALITO</th>\n",
              "      <th>DE_RESULTADO</th>\n",
              "      <th>DT_ATENDIMENTO</th>\n",
              "      <th>DE_TIPO_ATENDIMENTO</th>\n",
              "      <th>DE_DESFECHO</th>\n",
              "      <th>AA_NASCIMENTO</th>\n",
              "      <th>IC_SEXO</th>\n",
              "      <th>GRUPO</th>\n",
              "      <th>PERIODO_EXAMES</th>\n",
              "    </tr>\n",
              "  </thead>\n",
              "  <tbody>\n",
              "  </tbody>\n",
              "</table>\n",
              "</div>"
            ],
            "text/plain": [
              "Empty DataFrame\n",
              "Columns: [ID_PACIENTE, DT_COLETA, DE_EXAME, DE_ANALITO, DE_RESULTADO, DT_ATENDIMENTO, DE_TIPO_ATENDIMENTO, DE_DESFECHO, AA_NASCIMENTO, IC_SEXO, GRUPO, PERIODO_EXAMES]\n",
              "Index: []"
            ]
          },
          "execution_count": 274,
          "metadata": {},
          "output_type": "execute_result"
        }
      ],
      "source": [
        "#pegando um paciente como exemplo\n",
        "\n",
        "x[x['ID_PACIENTE']=='A812B082EE43AFA716B6F9C33145F8EE']"
      ]
    },
    {
      "cell_type": "markdown",
      "metadata": {
        "id": "c5KCylTOsfFK"
      },
      "source": [
        "Os pacientes com período_exames negativo possuem data de coleta anterior ao atendimento, o que pode ser uma inconsistência."
      ]
    },
    {
      "cell_type": "code",
      "execution_count": 275,
      "metadata": {
        "colab": {
          "base_uri": "https://localhost:8080/"
        },
        "id": "b0-BmNmbnnZe",
        "outputId": "fb584c93-c950-4c70-fd14-734850e1b664"
      },
      "outputs": [
        {
          "data": {
            "text/plain": [
              "DE_DESFECHO\n",
              "Alta Administrativa    243\n",
              "Name: count, dtype: int64"
            ]
          },
          "execution_count": 275,
          "metadata": {},
          "output_type": "execute_result"
        }
      ],
      "source": [
        "# Verificando quais são os desfechos desses exemplos:\n",
        "x['DE_DESFECHO'].value_counts()"
      ]
    },
    {
      "cell_type": "code",
      "execution_count": 276,
      "metadata": {
        "colab": {
          "base_uri": "https://localhost:8080/"
        },
        "id": "OwRaSnl9mokS",
        "outputId": "86ecf5c4-b814-46b6-adf1-b0baa1e65b14"
      },
      "outputs": [
        {
          "name": "stdout",
          "output_type": "stream",
          "text": [
            "PERIODO_EXAMES\n",
            "0.0    762967\n",
            "1.0     24406\n",
            "2.0      9494\n",
            "3.0      7667\n",
            "Name: count, dtype: int64\n",
            "\n",
            " (804534, 12)\n"
          ]
        }
      ],
      "source": [
        "#eliminando exemplos com 'PERIODO_EXAMES' negativos\n",
        "\n",
        "tres_dias = tres_dias[tres_dias['PERIODO_EXAMES']>=0]\n",
        "\n",
        "print(tres_dias['PERIODO_EXAMES'].value_counts())\n",
        "\n",
        "print('\\n', tres_dias.shape)"
      ]
    },
    {
      "cell_type": "code",
      "execution_count": 277,
      "metadata": {
        "colab": {
          "base_uri": "https://localhost:8080/"
        },
        "id": "w5Ea03FUwVOR",
        "outputId": "8b60c055-f5ce-4ca8-ed5e-7201d6807cf1"
      },
      "outputs": [
        {
          "data": {
            "text/plain": [
              "DE_DESFECHO\n",
              "Alta Administrativa                                                 537397\n",
              "Alta médica melhorado                                               256501\n",
              "Alta a pedido                                                         3964\n",
              "Alta médica Inalterado                                                2561\n",
              "Alta por abandono                                                     1144\n",
              "Alta médica curado                                                     856\n",
              "Transferência Inter-Hospitalar Externa - Serviço de Ambulância         748\n",
              "Óbito após 48hs de internação sem necrópsia                            699\n",
              "Óbito nas primeiras 48hs de internação sem necrópsia não agônico       296\n",
              "Transferência Inter-Hospitalar Externa - Transporte Próprio            120\n",
              "Óbito nas primeiras 48hs de internação sem necrópsia agônico           115\n",
              "Assistência Domiciliar                                                  67\n",
              "Desistência do atendimento                                              66\n",
              "Name: count, dtype: int64"
            ]
          },
          "execution_count": 277,
          "metadata": {},
          "output_type": "execute_result"
        }
      ],
      "source": [
        "tres_dias['DE_DESFECHO'].value_counts()"
      ]
    },
    {
      "cell_type": "code",
      "execution_count": 278,
      "metadata": {
        "colab": {
          "base_uri": "https://localhost:8080/"
        },
        "id": "-BzMe2DNodHD",
        "outputId": "2e09a7e7-6c2c-48c0-f2c7-cb4d3da5a10d"
      },
      "outputs": [
        {
          "name": "stdout",
          "output_type": "stream",
          "text": [
            "Pacientes unicos com exames de 0 a 3 dias:  (13632,) \n",
            "\n"
          ]
        },
        {
          "data": {
            "text/plain": [
              "DE_DESFECHO\n",
              "Alta Administrativa                                                 7935\n",
              "Alta médica melhorado                                               5493\n",
              "Alta médica Inalterado                                                76\n",
              "Alta a pedido                                                         75\n",
              "Alta por abandono                                                     13\n",
              "Alta médica curado                                                    12\n",
              "Óbito após 48hs de internação sem necrópsia                           10\n",
              "Transferência Inter-Hospitalar Externa - Serviço de Ambulância         7\n",
              "Óbito nas primeiras 48hs de internação sem necrópsia não agônico       6\n",
              "Desistência do atendimento                                             3\n",
              "Transferência Inter-Hospitalar Externa - Transporte Próprio            1\n",
              "Óbito nas primeiras 48hs de internação sem necrópsia agônico           1\n",
              "Name: count, dtype: int64"
            ]
          },
          "execution_count": 278,
          "metadata": {},
          "output_type": "execute_result"
        }
      ],
      "source": [
        "#investigando quantos pacientes unicos em cada tipo de desfecho\n",
        "\n",
        "pacientes = tres_dias['ID_PACIENTE'].unique()\n",
        "\n",
        "print('Pacientes unicos com exames de 0 a 3 dias: ', pacientes.shape, '\\n')\n",
        "\n",
        "pacientes = tres_dias.drop_duplicates(subset='ID_PACIENTE', keep='first')\n",
        "\n",
        "pacientes['DE_DESFECHO'].value_counts()\n"
      ]
    },
    {
      "cell_type": "code",
      "execution_count": 279,
      "metadata": {
        "colab": {
          "base_uri": "https://localhost:8080/",
          "height": 228
        },
        "id": "oK003QL2Ujmb",
        "outputId": "f60bc514-bb24-4639-f81f-57f84d97120c"
      },
      "outputs": [
        {
          "data": {
            "text/html": [
              "<div>\n",
              "<style scoped>\n",
              "    .dataframe tbody tr th:only-of-type {\n",
              "        vertical-align: middle;\n",
              "    }\n",
              "\n",
              "    .dataframe tbody tr th {\n",
              "        vertical-align: top;\n",
              "    }\n",
              "\n",
              "    .dataframe thead th {\n",
              "        text-align: right;\n",
              "    }\n",
              "</style>\n",
              "<table border=\"1\" class=\"dataframe\">\n",
              "  <thead>\n",
              "    <tr style=\"text-align: right;\">\n",
              "      <th></th>\n",
              "      <th>ID_PACIENTE</th>\n",
              "      <th>DT_COLETA</th>\n",
              "      <th>DE_EXAME</th>\n",
              "      <th>DE_ANALITO</th>\n",
              "      <th>DE_RESULTADO</th>\n",
              "      <th>DT_ATENDIMENTO</th>\n",
              "      <th>DE_TIPO_ATENDIMENTO</th>\n",
              "      <th>DE_DESFECHO</th>\n",
              "      <th>AA_NASCIMENTO</th>\n",
              "      <th>IC_SEXO</th>\n",
              "      <th>GRUPO</th>\n",
              "      <th>PERIODO_EXAMES</th>\n",
              "    </tr>\n",
              "  </thead>\n",
              "  <tbody>\n",
              "    <tr>\n",
              "      <th>1</th>\n",
              "      <td>FB48065512F8BFFAE3FC16530785BB57</td>\n",
              "      <td>2020-09-24</td>\n",
              "      <td>17 Hidroxipregnenolona</td>\n",
              "      <td>17-Hidroxi Pregnenolona</td>\n",
              "      <td>27</td>\n",
              "      <td>2020-09-24</td>\n",
              "      <td>Externo</td>\n",
              "      <td>Alta Administrativa</td>\n",
              "      <td>1994</td>\n",
              "      <td>F</td>\n",
              "      <td>GRUPO_0</td>\n",
              "      <td>0.0</td>\n",
              "    </tr>\n",
              "    <tr>\n",
              "      <th>2</th>\n",
              "      <td>5ABF34B0AE202F876BDAA0F338881BC1</td>\n",
              "      <td>2021-02-25</td>\n",
              "      <td>17 Hidroxipregnenolona</td>\n",
              "      <td>17-Hidroxi Pregnenolona</td>\n",
              "      <td>50</td>\n",
              "      <td>2021-02-25</td>\n",
              "      <td>Externo</td>\n",
              "      <td>Alta Administrativa</td>\n",
              "      <td>1979</td>\n",
              "      <td>F</td>\n",
              "      <td>GRUPO_0</td>\n",
              "      <td>0.0</td>\n",
              "    </tr>\n",
              "  </tbody>\n",
              "</table>\n",
              "</div>"
            ],
            "text/plain": [
              "                        ID_PACIENTE  DT_COLETA                DE_EXAME  \\\n",
              "1  FB48065512F8BFFAE3FC16530785BB57 2020-09-24  17 Hidroxipregnenolona   \n",
              "2  5ABF34B0AE202F876BDAA0F338881BC1 2021-02-25  17 Hidroxipregnenolona   \n",
              "\n",
              "                DE_ANALITO DE_RESULTADO DT_ATENDIMENTO DE_TIPO_ATENDIMENTO  \\\n",
              "1  17-Hidroxi Pregnenolona           27     2020-09-24             Externo   \n",
              "2  17-Hidroxi Pregnenolona           50     2021-02-25             Externo   \n",
              "\n",
              "           DE_DESFECHO AA_NASCIMENTO IC_SEXO    GRUPO  PERIODO_EXAMES  \n",
              "1  Alta Administrativa          1994       F  GRUPO_0             0.0  \n",
              "2  Alta Administrativa          1979       F  GRUPO_0             0.0  "
            ]
          },
          "execution_count": 279,
          "metadata": {},
          "output_type": "execute_result"
        }
      ],
      "source": [
        "df_hsl = tres_dias\n",
        "\n",
        "df_hsl.head(2)"
      ]
    },
    {
      "cell_type": "code",
      "execution_count": 280,
      "metadata": {
        "colab": {
          "base_uri": "https://localhost:8080/"
        },
        "id": "kcdcOlqjCuEz",
        "outputId": "4c08e736-8e3c-45a4-a57d-14d46fa34666"
      },
      "outputs": [
        {
          "data": {
            "text/plain": [
              "(804534, 12)"
            ]
          },
          "execution_count": 280,
          "metadata": {},
          "output_type": "execute_result"
        }
      ],
      "source": [
        "df_hsl.shape"
      ]
    },
    {
      "cell_type": "code",
      "execution_count": 281,
      "metadata": {
        "colab": {
          "base_uri": "https://localhost:8080/"
        },
        "id": "bmld3kd9Mk72",
        "outputId": "f9f7597e-687e-4900-9627-e2dc60022570"
      },
      "outputs": [
        {
          "data": {
            "text/plain": [
              "13632"
            ]
          },
          "execution_count": 281,
          "metadata": {},
          "output_type": "execute_result"
        }
      ],
      "source": [
        "df_hsl['ID_PACIENTE'].nunique()"
      ]
    },
    {
      "cell_type": "markdown",
      "metadata": {
        "id": "YUtSVgfHqLyu"
      },
      "source": [
        "#### **ÓBITOS**"
      ]
    },
    {
      "cell_type": "code",
      "execution_count": 282,
      "metadata": {
        "colab": {
          "base_uri": "https://localhost:8080/"
        },
        "id": "2CukpEBqqSGS",
        "outputId": "8b08e7a0-e5cf-4056-dbb2-3a704ea4beb3"
      },
      "outputs": [
        {
          "data": {
            "text/plain": [
              "GRUPO\n",
              "GRUPO_3    789\n",
              "GRUPO_2    273\n",
              "GRUPO_1     48\n",
              "Name: count, dtype: int64"
            ]
          },
          "execution_count": 282,
          "metadata": {},
          "output_type": "execute_result"
        }
      ],
      "source": [
        "#Verificando se todos os óbitos estão no grupo grave\n",
        "\n",
        "obitos = ['Óbito após 48hs de internação sem necrópsia',\n",
        "          'Óbito nas primeiras 48hs de internação sem necrópsia não agônico',\n",
        "          'Óbito nas primeiras 48hs de internação sem necrópsia agônico']\n",
        "\n",
        "df_obitos = df_hsl.loc[df_hsl['DE_DESFECHO'].isin(obitos)]\n",
        "\n",
        "df_obitos['GRUPO'].value_counts()"
      ]
    },
    {
      "cell_type": "code",
      "execution_count": 283,
      "metadata": {
        "colab": {
          "base_uri": "https://localhost:8080/"
        },
        "id": "ylBF48Y3ESGZ",
        "outputId": "715a8b5d-50b3-4567-8dcc-e3a792e66abb"
      },
      "outputs": [
        {
          "data": {
            "text/plain": [
              "array(['05221029190B109C8BAC4474F9D639BC',\n",
              "       '32579A7124F2312EFE43FEEF38A0B97B'], dtype=object)"
            ]
          },
          "execution_count": 283,
          "metadata": {},
          "output_type": "execute_result"
        }
      ],
      "source": [
        "obitos_GRUPO_1 = df_obitos[df_obitos['GRUPO']=='GRUPO_1']\n",
        "\n",
        "obitos_GRUPO_1['ID_PACIENTE'].nunique()\n",
        "\n",
        "#esses pacientes precisão passar para o grupo 2, pois dem ter gravidade máxima\n",
        "\n",
        "obitos_GRUPO_1['ID_PACIENTE'].unique()"
      ]
    },
    {
      "cell_type": "code",
      "execution_count": 284,
      "metadata": {
        "colab": {
          "base_uri": "https://localhost:8080/",
          "height": 1000
        },
        "id": "wbQmLk8dwSiB",
        "outputId": "ead6cca8-c745-4143-91f6-480253cf01d0"
      },
      "outputs": [
        {
          "data": {
            "text/html": [
              "<div>\n",
              "<style scoped>\n",
              "    .dataframe tbody tr th:only-of-type {\n",
              "        vertical-align: middle;\n",
              "    }\n",
              "\n",
              "    .dataframe tbody tr th {\n",
              "        vertical-align: top;\n",
              "    }\n",
              "\n",
              "    .dataframe thead th {\n",
              "        text-align: right;\n",
              "    }\n",
              "</style>\n",
              "<table border=\"1\" class=\"dataframe\">\n",
              "  <thead>\n",
              "    <tr style=\"text-align: right;\">\n",
              "      <th></th>\n",
              "      <th>ID_PACIENTE</th>\n",
              "      <th>DT_COLETA</th>\n",
              "      <th>DE_EXAME</th>\n",
              "      <th>DE_ANALITO</th>\n",
              "      <th>DE_RESULTADO</th>\n",
              "      <th>DT_ATENDIMENTO</th>\n",
              "      <th>DE_TIPO_ATENDIMENTO</th>\n",
              "      <th>DE_DESFECHO</th>\n",
              "      <th>AA_NASCIMENTO</th>\n",
              "      <th>IC_SEXO</th>\n",
              "      <th>GRUPO</th>\n",
              "      <th>PERIODO_EXAMES</th>\n",
              "    </tr>\n",
              "  </thead>\n",
              "  <tbody>\n",
              "    <tr>\n",
              "      <th>1</th>\n",
              "      <td>FB48065512F8BFFAE3FC16530785BB57</td>\n",
              "      <td>2020-09-24</td>\n",
              "      <td>17 Hidroxipregnenolona</td>\n",
              "      <td>17-Hidroxi Pregnenolona</td>\n",
              "      <td>27</td>\n",
              "      <td>2020-09-24</td>\n",
              "      <td>Externo</td>\n",
              "      <td>Alta Administrativa</td>\n",
              "      <td>1994</td>\n",
              "      <td>F</td>\n",
              "      <td>GRUPO_0</td>\n",
              "      <td>0.0</td>\n",
              "    </tr>\n",
              "    <tr>\n",
              "      <th>2</th>\n",
              "      <td>5ABF34B0AE202F876BDAA0F338881BC1</td>\n",
              "      <td>2021-02-25</td>\n",
              "      <td>17 Hidroxipregnenolona</td>\n",
              "      <td>17-Hidroxi Pregnenolona</td>\n",
              "      <td>50</td>\n",
              "      <td>2021-02-25</td>\n",
              "      <td>Externo</td>\n",
              "      <td>Alta Administrativa</td>\n",
              "      <td>1979</td>\n",
              "      <td>F</td>\n",
              "      <td>GRUPO_0</td>\n",
              "      <td>0.0</td>\n",
              "    </tr>\n",
              "    <tr>\n",
              "      <th>3</th>\n",
              "      <td>9DECD77C85AD8EF58C52F5D747546632</td>\n",
              "      <td>2020-10-06</td>\n",
              "      <td>17 Hidroxipregnenolona</td>\n",
              "      <td>17-Hidroxi Pregnenolona</td>\n",
              "      <td>44</td>\n",
              "      <td>2020-10-06</td>\n",
              "      <td>Externo</td>\n",
              "      <td>Alta Administrativa</td>\n",
              "      <td>1982</td>\n",
              "      <td>F</td>\n",
              "      <td>GRUPO_0</td>\n",
              "      <td>0.0</td>\n",
              "    </tr>\n",
              "    <tr>\n",
              "      <th>4</th>\n",
              "      <td>F59A53116E97CB53C79DF6C69C04E605</td>\n",
              "      <td>2021-05-20</td>\n",
              "      <td>17 Hidroxipregnenolona</td>\n",
              "      <td>17-Hidroxi Pregnenolona</td>\n",
              "      <td>inferior a 13</td>\n",
              "      <td>2021-05-20</td>\n",
              "      <td>Externo</td>\n",
              "      <td>Alta Administrativa</td>\n",
              "      <td>1969</td>\n",
              "      <td>M</td>\n",
              "      <td>GRUPO_0</td>\n",
              "      <td>0.0</td>\n",
              "    </tr>\n",
              "    <tr>\n",
              "      <th>5</th>\n",
              "      <td>EACD2EA6DA8329C02CA5EBFF5FDC8AAA</td>\n",
              "      <td>2021-02-02</td>\n",
              "      <td>17 Hidroxipregnenolona</td>\n",
              "      <td>17-Hidroxi Pregnenolona</td>\n",
              "      <td>257</td>\n",
              "      <td>2021-02-02</td>\n",
              "      <td>Externo</td>\n",
              "      <td>Alta Administrativa</td>\n",
              "      <td>1987</td>\n",
              "      <td>M</td>\n",
              "      <td>GRUPO_0</td>\n",
              "      <td>0.0</td>\n",
              "    </tr>\n",
              "  </tbody>\n",
              "</table>\n",
              "</div>"
            ],
            "text/plain": [
              "                        ID_PACIENTE  DT_COLETA                DE_EXAME  \\\n",
              "1  FB48065512F8BFFAE3FC16530785BB57 2020-09-24  17 Hidroxipregnenolona   \n",
              "2  5ABF34B0AE202F876BDAA0F338881BC1 2021-02-25  17 Hidroxipregnenolona   \n",
              "3  9DECD77C85AD8EF58C52F5D747546632 2020-10-06  17 Hidroxipregnenolona   \n",
              "4  F59A53116E97CB53C79DF6C69C04E605 2021-05-20  17 Hidroxipregnenolona   \n",
              "5  EACD2EA6DA8329C02CA5EBFF5FDC8AAA 2021-02-02  17 Hidroxipregnenolona   \n",
              "\n",
              "                DE_ANALITO   DE_RESULTADO DT_ATENDIMENTO DE_TIPO_ATENDIMENTO  \\\n",
              "1  17-Hidroxi Pregnenolona             27     2020-09-24             Externo   \n",
              "2  17-Hidroxi Pregnenolona             50     2021-02-25             Externo   \n",
              "3  17-Hidroxi Pregnenolona             44     2020-10-06             Externo   \n",
              "4  17-Hidroxi Pregnenolona  inferior a 13     2021-05-20             Externo   \n",
              "5  17-Hidroxi Pregnenolona            257     2021-02-02             Externo   \n",
              "\n",
              "           DE_DESFECHO AA_NASCIMENTO IC_SEXO    GRUPO  PERIODO_EXAMES  \n",
              "1  Alta Administrativa          1994       F  GRUPO_0             0.0  \n",
              "2  Alta Administrativa          1979       F  GRUPO_0             0.0  \n",
              "3  Alta Administrativa          1982       F  GRUPO_0             0.0  \n",
              "4  Alta Administrativa          1969       M  GRUPO_0             0.0  \n",
              "5  Alta Administrativa          1987       M  GRUPO_0             0.0  "
            ]
          },
          "execution_count": 284,
          "metadata": {},
          "output_type": "execute_result"
        }
      ],
      "source": [
        "df_hsl.head(5)"
      ]
    },
    {
      "cell_type": "markdown",
      "metadata": {
        "id": "2gQDhgjrmQRy"
      },
      "source": [
        "#### **FILTRO 6: ELIMINANDO EXAMES COM RESULTADOS EM FORMA DE TEXTO**"
      ]
    },
    {
      "cell_type": "markdown",
      "metadata": {
        "id": "v1xl2bWrxqhK"
      },
      "source": [
        "https://www.vooo.pro/insights/12-tecnicas-pandas-uteis-em-python-para-manipulacao-de-dados/\n"
      ]
    },
    {
      "cell_type": "code",
      "execution_count": 285,
      "metadata": {
        "id": "8ynHsaX8mZZ7"
      },
      "outputs": [],
      "source": [
        "# Trocando ',' por '.'.\n",
        "\n",
        "df_hsl['DE_RESULTADO'] = [x.replace(',', '.') for x in df_hsl['DE_RESULTADO']]  \n",
        "\n",
        "resultados = df_hsl['DE_RESULTADO'].value_counts()\n",
        "\n",
        "resultados.to_csv('resultados.csv', sep='\\t',encoding='utf-8')"
      ]
    },
    {
      "cell_type": "code",
      "execution_count": 286,
      "metadata": {
        "id": "DREYhV1VrVvd"
      },
      "outputs": [],
      "source": [
        "#  Convertendo a coluna DE_RESULTADO para numérico\n",
        "#  Deu erro, pois existem resultados não numericos\n",
        "#  Então nos próximos passos serão excluídos os resultados não numéricos\n",
        "\n",
        "#df_hsl['DE_RESULTADO'] = df_hsl['DE_RESULTADO'].astype(float)                 \n",
        "#df_final.info()"
      ]
    },
    {
      "cell_type": "code",
      "execution_count": 287,
      "metadata": {
        "colab": {
          "base_uri": "https://localhost:8080/"
        },
        "id": "EhA1UdLZz3cv",
        "outputId": "684a3122-48cf-4f4f-89ea-201a758e0c5c"
      },
      "outputs": [
        {
          "data": {
            "text/plain": [
              "ID_PACIENTE                    object\n",
              "DT_COLETA              datetime64[ns]\n",
              "DE_EXAME                       object\n",
              "DE_ANALITO                     object\n",
              "DE_RESULTADO                   object\n",
              "DT_ATENDIMENTO         datetime64[ns]\n",
              "DE_TIPO_ATENDIMENTO            object\n",
              "DE_DESFECHO                    object\n",
              "AA_NASCIMENTO                  object\n",
              "IC_SEXO                        object\n",
              "GRUPO                          object\n",
              "PERIODO_EXAMES                float64\n",
              "dtype: object"
            ]
          },
          "execution_count": 287,
          "metadata": {},
          "output_type": "execute_result"
        }
      ],
      "source": [
        "df_hsl.dtypes"
      ]
    },
    {
      "cell_type": "code",
      "execution_count": 288,
      "metadata": {
        "id": "bSRqGtvg0jt8"
      },
      "outputs": [],
      "source": [
        "#função para verificar se um variável é numérica\n",
        "\n",
        "def is_number(s):\n",
        "    try:\n",
        "        float(s)\n",
        "        return True\n",
        "    except ValueError:\n",
        "        return False"
      ]
    },
    {
      "cell_type": "code",
      "execution_count": 289,
      "metadata": {
        "colab": {
          "base_uri": "https://localhost:8080/"
        },
        "id": "c2whUb-Y2VQi",
        "outputId": "8797ddb9-272c-439f-a553-cc1fb5c57304"
      },
      "outputs": [
        {
          "data": {
            "text/plain": [
              "True"
            ]
          },
          "execution_count": 289,
          "metadata": {},
          "output_type": "execute_result"
        }
      ],
      "source": [
        "num = '9999.999'\n",
        "\n",
        "is_number(num)"
      ]
    },
    {
      "cell_type": "code",
      "execution_count": 290,
      "metadata": {
        "colab": {
          "base_uri": "https://localhost:8080/",
          "height": 294
        },
        "id": "6Vz-yZmC346d",
        "outputId": "ad77f2db-b246-45b2-d53e-ac457d933b3a"
      },
      "outputs": [
        {
          "data": {
            "text/html": [
              "<div>\n",
              "<style scoped>\n",
              "    .dataframe tbody tr th:only-of-type {\n",
              "        vertical-align: middle;\n",
              "    }\n",
              "\n",
              "    .dataframe tbody tr th {\n",
              "        vertical-align: top;\n",
              "    }\n",
              "\n",
              "    .dataframe thead th {\n",
              "        text-align: right;\n",
              "    }\n",
              "</style>\n",
              "<table border=\"1\" class=\"dataframe\">\n",
              "  <thead>\n",
              "    <tr style=\"text-align: right;\">\n",
              "      <th></th>\n",
              "      <th>ID_PACIENTE</th>\n",
              "      <th>DT_COLETA</th>\n",
              "      <th>DE_EXAME</th>\n",
              "      <th>DE_ANALITO</th>\n",
              "      <th>DE_RESULTADO</th>\n",
              "      <th>DT_ATENDIMENTO</th>\n",
              "      <th>DE_TIPO_ATENDIMENTO</th>\n",
              "      <th>DE_DESFECHO</th>\n",
              "      <th>AA_NASCIMENTO</th>\n",
              "      <th>IC_SEXO</th>\n",
              "      <th>GRUPO</th>\n",
              "      <th>PERIODO_EXAMES</th>\n",
              "      <th>Tipo_resultado</th>\n",
              "    </tr>\n",
              "  </thead>\n",
              "  <tbody>\n",
              "    <tr>\n",
              "      <th>1</th>\n",
              "      <td>FB48065512F8BFFAE3FC16530785BB57</td>\n",
              "      <td>2020-09-24</td>\n",
              "      <td>17 Hidroxipregnenolona</td>\n",
              "      <td>17-Hidroxi Pregnenolona</td>\n",
              "      <td>27</td>\n",
              "      <td>2020-09-24</td>\n",
              "      <td>Externo</td>\n",
              "      <td>Alta Administrativa</td>\n",
              "      <td>1994</td>\n",
              "      <td>F</td>\n",
              "      <td>GRUPO_0</td>\n",
              "      <td>0.0</td>\n",
              "      <td></td>\n",
              "    </tr>\n",
              "    <tr>\n",
              "      <th>2</th>\n",
              "      <td>5ABF34B0AE202F876BDAA0F338881BC1</td>\n",
              "      <td>2021-02-25</td>\n",
              "      <td>17 Hidroxipregnenolona</td>\n",
              "      <td>17-Hidroxi Pregnenolona</td>\n",
              "      <td>50</td>\n",
              "      <td>2021-02-25</td>\n",
              "      <td>Externo</td>\n",
              "      <td>Alta Administrativa</td>\n",
              "      <td>1979</td>\n",
              "      <td>F</td>\n",
              "      <td>GRUPO_0</td>\n",
              "      <td>0.0</td>\n",
              "      <td></td>\n",
              "    </tr>\n",
              "    <tr>\n",
              "      <th>3</th>\n",
              "      <td>9DECD77C85AD8EF58C52F5D747546632</td>\n",
              "      <td>2020-10-06</td>\n",
              "      <td>17 Hidroxipregnenolona</td>\n",
              "      <td>17-Hidroxi Pregnenolona</td>\n",
              "      <td>44</td>\n",
              "      <td>2020-10-06</td>\n",
              "      <td>Externo</td>\n",
              "      <td>Alta Administrativa</td>\n",
              "      <td>1982</td>\n",
              "      <td>F</td>\n",
              "      <td>GRUPO_0</td>\n",
              "      <td>0.0</td>\n",
              "      <td></td>\n",
              "    </tr>\n",
              "  </tbody>\n",
              "</table>\n",
              "</div>"
            ],
            "text/plain": [
              "                        ID_PACIENTE  DT_COLETA                DE_EXAME  \\\n",
              "1  FB48065512F8BFFAE3FC16530785BB57 2020-09-24  17 Hidroxipregnenolona   \n",
              "2  5ABF34B0AE202F876BDAA0F338881BC1 2021-02-25  17 Hidroxipregnenolona   \n",
              "3  9DECD77C85AD8EF58C52F5D747546632 2020-10-06  17 Hidroxipregnenolona   \n",
              "\n",
              "                DE_ANALITO DE_RESULTADO DT_ATENDIMENTO DE_TIPO_ATENDIMENTO  \\\n",
              "1  17-Hidroxi Pregnenolona           27     2020-09-24             Externo   \n",
              "2  17-Hidroxi Pregnenolona           50     2021-02-25             Externo   \n",
              "3  17-Hidroxi Pregnenolona           44     2020-10-06             Externo   \n",
              "\n",
              "           DE_DESFECHO AA_NASCIMENTO IC_SEXO    GRUPO  PERIODO_EXAMES  \\\n",
              "1  Alta Administrativa          1994       F  GRUPO_0             0.0   \n",
              "2  Alta Administrativa          1979       F  GRUPO_0             0.0   \n",
              "3  Alta Administrativa          1982       F  GRUPO_0             0.0   \n",
              "\n",
              "  Tipo_resultado  \n",
              "1                 \n",
              "2                 \n",
              "3                 "
            ]
          },
          "execution_count": 290,
          "metadata": {},
          "output_type": "execute_result"
        }
      ],
      "source": [
        "#Criando uma nova coluna para testar se o resultado é numérico\n",
        "\n",
        "df_hsl['Tipo_resultado'] = ''\n",
        "\n",
        "df_hsl.head(3)"
      ]
    },
    {
      "cell_type": "markdown",
      "metadata": {
        "id": "trDBtCVm6SR_"
      },
      "source": [
        "O código abaixo verifica linha por linha se a variável é numérica, ou seja, se poderá ser convertida em float. "
      ]
    },
    {
      "cell_type": "code",
      "execution_count": 291,
      "metadata": {
        "colab": {
          "base_uri": "https://localhost:8080/",
          "height": 73
        },
        "id": "oZIWFcpe34Zc",
        "outputId": "e57e8b8c-896d-45db-c77e-7e0d81572724"
      },
      "outputs": [],
      "source": [
        "# Este bloco funciona, porém é demorado.\n",
        "\n",
        "# for index, row in df_hsl.iterrows():\n",
        "#         verifica = is_number(row['DE_RESULTADO'])\n",
        "#         if verifica == True:\n",
        "#             df_hsl.loc[index,'Tipo_resultado'] =  True\n",
        "    \n",
        "#         else:\n",
        "#             df_hsl.loc[index,'Tipo_resultado'] = False\n",
        "\n",
        "# # gera arquivo: df_hsl_true_false.csv\n",
        "# df_hsl.to_csv('df_hsl_true_false.csv', sep=';',encoding='utf-8')\n"
      ]
    },
    {
      "cell_type": "code",
      "execution_count": 292,
      "metadata": {
        "id": "9_SxP8BfPvXj"
      },
      "outputs": [],
      "source": [
        "# lê arquivo: df_hsl_true_false.csv\n",
        "df_hsl_1 = pd.read_csv('df_hsl_true_false.csv', sep=';')"
      ]
    },
    {
      "cell_type": "code",
      "execution_count": 293,
      "metadata": {
        "colab": {
          "base_uri": "https://localhost:8080/",
          "height": 312
        },
        "id": "Kg-lFJ7lQaPD",
        "outputId": "ca517938-8062-46d6-95a5-67309e88b2e4"
      },
      "outputs": [
        {
          "data": {
            "text/plain": [
              "Tipo_resultado\n",
              "True     628775\n",
              "False    175759\n",
              "Name: count, dtype: int64"
            ]
          },
          "execution_count": 293,
          "metadata": {},
          "output_type": "execute_result"
        }
      ],
      "source": [
        "df_hsl_1['Tipo_resultado'].value_counts()"
      ]
    },
    {
      "cell_type": "code",
      "execution_count": 294,
      "metadata": {},
      "outputs": [
        {
          "data": {
            "text/html": [
              "<div>\n",
              "<style scoped>\n",
              "    .dataframe tbody tr th:only-of-type {\n",
              "        vertical-align: middle;\n",
              "    }\n",
              "\n",
              "    .dataframe tbody tr th {\n",
              "        vertical-align: top;\n",
              "    }\n",
              "\n",
              "    .dataframe thead th {\n",
              "        text-align: right;\n",
              "    }\n",
              "</style>\n",
              "<table border=\"1\" class=\"dataframe\">\n",
              "  <thead>\n",
              "    <tr style=\"text-align: right;\">\n",
              "      <th></th>\n",
              "      <th>Unnamed: 0</th>\n",
              "      <th>ID_PACIENTE</th>\n",
              "      <th>DT_COLETA</th>\n",
              "      <th>DE_EXAME</th>\n",
              "      <th>DE_ANALITO</th>\n",
              "      <th>DE_RESULTADO</th>\n",
              "      <th>DT_ATENDIMENTO</th>\n",
              "      <th>DE_TIPO_ATENDIMENTO</th>\n",
              "      <th>DE_DESFECHO</th>\n",
              "      <th>AA_NASCIMENTO</th>\n",
              "      <th>IC_SEXO</th>\n",
              "      <th>GRUPO</th>\n",
              "      <th>PERIODO_EXAMES</th>\n",
              "      <th>Tipo_resultado</th>\n",
              "    </tr>\n",
              "  </thead>\n",
              "  <tbody>\n",
              "    <tr>\n",
              "      <th>3</th>\n",
              "      <td>4</td>\n",
              "      <td>F59A53116E97CB53C79DF6C69C04E605</td>\n",
              "      <td>2021-05-20</td>\n",
              "      <td>17 Hidroxipregnenolona</td>\n",
              "      <td>17-Hidroxi Pregnenolona</td>\n",
              "      <td>inferior a 13</td>\n",
              "      <td>2021-05-20</td>\n",
              "      <td>Externo</td>\n",
              "      <td>Alta Administrativa</td>\n",
              "      <td>1969</td>\n",
              "      <td>M</td>\n",
              "      <td>GRUPO_0</td>\n",
              "      <td>0.0</td>\n",
              "      <td>False</td>\n",
              "    </tr>\n",
              "    <tr>\n",
              "      <th>13</th>\n",
              "      <td>16</td>\n",
              "      <td>6990E50284ADD84BC189305A35DCA8F9</td>\n",
              "      <td>2020-03-06</td>\n",
              "      <td>Acetilcolina, Anticorpo Anti</td>\n",
              "      <td>Acetilcolina</td>\n",
              "      <td>inferior a 0.02</td>\n",
              "      <td>2020-03-06</td>\n",
              "      <td>Ambulatorial</td>\n",
              "      <td>Alta Administrativa</td>\n",
              "      <td>1955</td>\n",
              "      <td>F</td>\n",
              "      <td>GRUPO_0</td>\n",
              "      <td>0.0</td>\n",
              "      <td>False</td>\n",
              "    </tr>\n",
              "    <tr>\n",
              "      <th>39</th>\n",
              "      <td>57</td>\n",
              "      <td>F58A3C50641D1E70DE598456CFE2AB3B</td>\n",
              "      <td>2020-09-16</td>\n",
              "      <td>Acido Ascorbico, plasma</td>\n",
              "      <td>Ácido ascorbico, plasma</td>\n",
              "      <td>inferior a 0.25</td>\n",
              "      <td>2020-09-16</td>\n",
              "      <td>Externo</td>\n",
              "      <td>Alta Administrativa</td>\n",
              "      <td>1994</td>\n",
              "      <td>F</td>\n",
              "      <td>GRUPO_0</td>\n",
              "      <td>0.0</td>\n",
              "      <td>False</td>\n",
              "    </tr>\n",
              "    <tr>\n",
              "      <th>72</th>\n",
              "      <td>103</td>\n",
              "      <td>A7A4C4F18A5709279D557A033CA3B27E</td>\n",
              "      <td>2021-03-17</td>\n",
              "      <td>Acido Ascorbico, plasma</td>\n",
              "      <td>Ácido ascorbico, plasma</td>\n",
              "      <td>inferior a 0.25</td>\n",
              "      <td>2021-03-17</td>\n",
              "      <td>Externo</td>\n",
              "      <td>Alta Administrativa</td>\n",
              "      <td>1988</td>\n",
              "      <td>F</td>\n",
              "      <td>GRUPO_0</td>\n",
              "      <td>0.0</td>\n",
              "      <td>False</td>\n",
              "    </tr>\n",
              "    <tr>\n",
              "      <th>168</th>\n",
              "      <td>207</td>\n",
              "      <td>2FA195129FA367C64A6E6717CE58851A</td>\n",
              "      <td>2020-11-24</td>\n",
              "      <td>Acido Ascorbico, plasma</td>\n",
              "      <td>Ácido ascorbico, plasma</td>\n",
              "      <td>inferior a 0.25</td>\n",
              "      <td>2020-11-24</td>\n",
              "      <td>Externo</td>\n",
              "      <td>Alta Administrativa</td>\n",
              "      <td>1969</td>\n",
              "      <td>M</td>\n",
              "      <td>GRUPO_0</td>\n",
              "      <td>0.0</td>\n",
              "      <td>False</td>\n",
              "    </tr>\n",
              "  </tbody>\n",
              "</table>\n",
              "</div>"
            ],
            "text/plain": [
              "     Unnamed: 0                       ID_PACIENTE   DT_COLETA  \\\n",
              "3             4  F59A53116E97CB53C79DF6C69C04E605  2021-05-20   \n",
              "13           16  6990E50284ADD84BC189305A35DCA8F9  2020-03-06   \n",
              "39           57  F58A3C50641D1E70DE598456CFE2AB3B  2020-09-16   \n",
              "72          103  A7A4C4F18A5709279D557A033CA3B27E  2021-03-17   \n",
              "168         207  2FA195129FA367C64A6E6717CE58851A  2020-11-24   \n",
              "\n",
              "                         DE_EXAME               DE_ANALITO     DE_RESULTADO  \\\n",
              "3          17 Hidroxipregnenolona  17-Hidroxi Pregnenolona    inferior a 13   \n",
              "13   Acetilcolina, Anticorpo Anti             Acetilcolina  inferior a 0.02   \n",
              "39        Acido Ascorbico, plasma  Ácido ascorbico, plasma  inferior a 0.25   \n",
              "72        Acido Ascorbico, plasma  Ácido ascorbico, plasma  inferior a 0.25   \n",
              "168       Acido Ascorbico, plasma  Ácido ascorbico, plasma  inferior a 0.25   \n",
              "\n",
              "    DT_ATENDIMENTO DE_TIPO_ATENDIMENTO          DE_DESFECHO AA_NASCIMENTO  \\\n",
              "3       2021-05-20             Externo  Alta Administrativa          1969   \n",
              "13      2020-03-06        Ambulatorial  Alta Administrativa          1955   \n",
              "39      2020-09-16             Externo  Alta Administrativa          1994   \n",
              "72      2021-03-17             Externo  Alta Administrativa          1988   \n",
              "168     2020-11-24             Externo  Alta Administrativa          1969   \n",
              "\n",
              "    IC_SEXO    GRUPO  PERIODO_EXAMES  Tipo_resultado  \n",
              "3         M  GRUPO_0             0.0           False  \n",
              "13        F  GRUPO_0             0.0           False  \n",
              "39        F  GRUPO_0             0.0           False  \n",
              "72        F  GRUPO_0             0.0           False  \n",
              "168       M  GRUPO_0             0.0           False  "
            ]
          },
          "execution_count": 294,
          "metadata": {},
          "output_type": "execute_result"
        }
      ],
      "source": [
        "df_hsl_1[df_hsl_1['Tipo_resultado']==False].head(5)"
      ]
    },
    {
      "cell_type": "code",
      "execution_count": 295,
      "metadata": {
        "colab": {
          "base_uri": "https://localhost:8080/",
          "height": 294
        },
        "id": "lqbBzeDmKo4O",
        "outputId": "6bbe28ed-9aae-4935-f816-070d28c0e72a"
      },
      "outputs": [
        {
          "data": {
            "text/html": [
              "<div>\n",
              "<style scoped>\n",
              "    .dataframe tbody tr th:only-of-type {\n",
              "        vertical-align: middle;\n",
              "    }\n",
              "\n",
              "    .dataframe tbody tr th {\n",
              "        vertical-align: top;\n",
              "    }\n",
              "\n",
              "    .dataframe thead th {\n",
              "        text-align: right;\n",
              "    }\n",
              "</style>\n",
              "<table border=\"1\" class=\"dataframe\">\n",
              "  <thead>\n",
              "    <tr style=\"text-align: right;\">\n",
              "      <th></th>\n",
              "      <th>ID_PACIENTE</th>\n",
              "      <th>DT_COLETA</th>\n",
              "      <th>DE_EXAME</th>\n",
              "      <th>DE_ANALITO</th>\n",
              "      <th>DE_RESULTADO</th>\n",
              "      <th>DT_ATENDIMENTO</th>\n",
              "      <th>DE_TIPO_ATENDIMENTO</th>\n",
              "      <th>DE_DESFECHO</th>\n",
              "      <th>AA_NASCIMENTO</th>\n",
              "      <th>IC_SEXO</th>\n",
              "      <th>GRUPO</th>\n",
              "      <th>PERIODO_EXAMES</th>\n",
              "      <th>Tipo_resultado</th>\n",
              "    </tr>\n",
              "  </thead>\n",
              "  <tbody>\n",
              "    <tr>\n",
              "      <th>0</th>\n",
              "      <td>FB48065512F8BFFAE3FC16530785BB57</td>\n",
              "      <td>2020-09-24</td>\n",
              "      <td>17 Hidroxipregnenolona</td>\n",
              "      <td>17-Hidroxi Pregnenolona</td>\n",
              "      <td>27</td>\n",
              "      <td>2020-09-24</td>\n",
              "      <td>Externo</td>\n",
              "      <td>Alta Administrativa</td>\n",
              "      <td>1994</td>\n",
              "      <td>F</td>\n",
              "      <td>GRUPO_0</td>\n",
              "      <td>0.0</td>\n",
              "      <td>True</td>\n",
              "    </tr>\n",
              "    <tr>\n",
              "      <th>1</th>\n",
              "      <td>5ABF34B0AE202F876BDAA0F338881BC1</td>\n",
              "      <td>2021-02-25</td>\n",
              "      <td>17 Hidroxipregnenolona</td>\n",
              "      <td>17-Hidroxi Pregnenolona</td>\n",
              "      <td>50</td>\n",
              "      <td>2021-02-25</td>\n",
              "      <td>Externo</td>\n",
              "      <td>Alta Administrativa</td>\n",
              "      <td>1979</td>\n",
              "      <td>F</td>\n",
              "      <td>GRUPO_0</td>\n",
              "      <td>0.0</td>\n",
              "      <td>True</td>\n",
              "    </tr>\n",
              "    <tr>\n",
              "      <th>2</th>\n",
              "      <td>9DECD77C85AD8EF58C52F5D747546632</td>\n",
              "      <td>2020-10-06</td>\n",
              "      <td>17 Hidroxipregnenolona</td>\n",
              "      <td>17-Hidroxi Pregnenolona</td>\n",
              "      <td>44</td>\n",
              "      <td>2020-10-06</td>\n",
              "      <td>Externo</td>\n",
              "      <td>Alta Administrativa</td>\n",
              "      <td>1982</td>\n",
              "      <td>F</td>\n",
              "      <td>GRUPO_0</td>\n",
              "      <td>0.0</td>\n",
              "      <td>True</td>\n",
              "    </tr>\n",
              "  </tbody>\n",
              "</table>\n",
              "</div>"
            ],
            "text/plain": [
              "                        ID_PACIENTE   DT_COLETA                DE_EXAME  \\\n",
              "0  FB48065512F8BFFAE3FC16530785BB57  2020-09-24  17 Hidroxipregnenolona   \n",
              "1  5ABF34B0AE202F876BDAA0F338881BC1  2021-02-25  17 Hidroxipregnenolona   \n",
              "2  9DECD77C85AD8EF58C52F5D747546632  2020-10-06  17 Hidroxipregnenolona   \n",
              "\n",
              "                DE_ANALITO DE_RESULTADO DT_ATENDIMENTO DE_TIPO_ATENDIMENTO  \\\n",
              "0  17-Hidroxi Pregnenolona           27     2020-09-24             Externo   \n",
              "1  17-Hidroxi Pregnenolona           50     2021-02-25             Externo   \n",
              "2  17-Hidroxi Pregnenolona           44     2020-10-06             Externo   \n",
              "\n",
              "           DE_DESFECHO AA_NASCIMENTO IC_SEXO    GRUPO  PERIODO_EXAMES  \\\n",
              "0  Alta Administrativa          1994       F  GRUPO_0             0.0   \n",
              "1  Alta Administrativa          1979       F  GRUPO_0             0.0   \n",
              "2  Alta Administrativa          1982       F  GRUPO_0             0.0   \n",
              "\n",
              "   Tipo_resultado  \n",
              "0            True  \n",
              "1            True  \n",
              "2            True  "
            ]
          },
          "execution_count": 295,
          "metadata": {},
          "output_type": "execute_result"
        }
      ],
      "source": [
        "df_hsl_1 = df_hsl_1.drop(columns=['Unnamed: 0'])\n",
        "df_hsl_1.head(3)"
      ]
    },
    {
      "cell_type": "code",
      "execution_count": 296,
      "metadata": {
        "colab": {
          "base_uri": "https://localhost:8080/"
        },
        "id": "Cc3T71nTQfro",
        "outputId": "bf7995a9-b0d3-43db-cfc6-0da0ad86e1ef"
      },
      "outputs": [
        {
          "data": {
            "text/plain": [
              "(804534, 13)"
            ]
          },
          "execution_count": 296,
          "metadata": {},
          "output_type": "execute_result"
        }
      ],
      "source": [
        "df_hsl_1.shape"
      ]
    },
    {
      "cell_type": "code",
      "execution_count": 297,
      "metadata": {
        "colab": {
          "base_uri": "https://localhost:8080/",
          "height": 748
        },
        "id": "BQCc_O4GU0oa",
        "outputId": "e3cffd05-99a7-4ec0-c809-1c38b206e924"
      },
      "outputs": [
        {
          "data": {
            "text/html": [
              "<div>\n",
              "<style scoped>\n",
              "    .dataframe tbody tr th:only-of-type {\n",
              "        vertical-align: middle;\n",
              "    }\n",
              "\n",
              "    .dataframe tbody tr th {\n",
              "        vertical-align: top;\n",
              "    }\n",
              "\n",
              "    .dataframe thead th {\n",
              "        text-align: right;\n",
              "    }\n",
              "</style>\n",
              "<table border=\"1\" class=\"dataframe\">\n",
              "  <thead>\n",
              "    <tr style=\"text-align: right;\">\n",
              "      <th></th>\n",
              "      <th>ID_PACIENTE</th>\n",
              "      <th>DT_COLETA</th>\n",
              "      <th>DE_EXAME</th>\n",
              "      <th>DE_ANALITO</th>\n",
              "      <th>DE_RESULTADO</th>\n",
              "      <th>DT_ATENDIMENTO</th>\n",
              "      <th>DE_TIPO_ATENDIMENTO</th>\n",
              "      <th>DE_DESFECHO</th>\n",
              "      <th>AA_NASCIMENTO</th>\n",
              "      <th>IC_SEXO</th>\n",
              "      <th>GRUPO</th>\n",
              "      <th>PERIODO_EXAMES</th>\n",
              "      <th>Tipo_resultado</th>\n",
              "    </tr>\n",
              "  </thead>\n",
              "  <tbody>\n",
              "    <tr>\n",
              "      <th>3</th>\n",
              "      <td>F59A53116E97CB53C79DF6C69C04E605</td>\n",
              "      <td>2021-05-20</td>\n",
              "      <td>17 Hidroxipregnenolona</td>\n",
              "      <td>17-Hidroxi Pregnenolona</td>\n",
              "      <td>inferior a 13</td>\n",
              "      <td>2021-05-20</td>\n",
              "      <td>Externo</td>\n",
              "      <td>Alta Administrativa</td>\n",
              "      <td>1969</td>\n",
              "      <td>M</td>\n",
              "      <td>GRUPO_0</td>\n",
              "      <td>0.0</td>\n",
              "      <td>False</td>\n",
              "    </tr>\n",
              "    <tr>\n",
              "      <th>13</th>\n",
              "      <td>6990E50284ADD84BC189305A35DCA8F9</td>\n",
              "      <td>2020-03-06</td>\n",
              "      <td>Acetilcolina, Anticorpo Anti</td>\n",
              "      <td>Acetilcolina</td>\n",
              "      <td>inferior a 0.02</td>\n",
              "      <td>2020-03-06</td>\n",
              "      <td>Ambulatorial</td>\n",
              "      <td>Alta Administrativa</td>\n",
              "      <td>1955</td>\n",
              "      <td>F</td>\n",
              "      <td>GRUPO_0</td>\n",
              "      <td>0.0</td>\n",
              "      <td>False</td>\n",
              "    </tr>\n",
              "    <tr>\n",
              "      <th>39</th>\n",
              "      <td>F58A3C50641D1E70DE598456CFE2AB3B</td>\n",
              "      <td>2020-09-16</td>\n",
              "      <td>Acido Ascorbico, plasma</td>\n",
              "      <td>Ácido ascorbico, plasma</td>\n",
              "      <td>inferior a 0.25</td>\n",
              "      <td>2020-09-16</td>\n",
              "      <td>Externo</td>\n",
              "      <td>Alta Administrativa</td>\n",
              "      <td>1994</td>\n",
              "      <td>F</td>\n",
              "      <td>GRUPO_0</td>\n",
              "      <td>0.0</td>\n",
              "      <td>False</td>\n",
              "    </tr>\n",
              "    <tr>\n",
              "      <th>72</th>\n",
              "      <td>A7A4C4F18A5709279D557A033CA3B27E</td>\n",
              "      <td>2021-03-17</td>\n",
              "      <td>Acido Ascorbico, plasma</td>\n",
              "      <td>Ácido ascorbico, plasma</td>\n",
              "      <td>inferior a 0.25</td>\n",
              "      <td>2021-03-17</td>\n",
              "      <td>Externo</td>\n",
              "      <td>Alta Administrativa</td>\n",
              "      <td>1988</td>\n",
              "      <td>F</td>\n",
              "      <td>GRUPO_0</td>\n",
              "      <td>0.0</td>\n",
              "      <td>False</td>\n",
              "    </tr>\n",
              "    <tr>\n",
              "      <th>168</th>\n",
              "      <td>2FA195129FA367C64A6E6717CE58851A</td>\n",
              "      <td>2020-11-24</td>\n",
              "      <td>Acido Ascorbico, plasma</td>\n",
              "      <td>Ácido ascorbico, plasma</td>\n",
              "      <td>inferior a 0.25</td>\n",
              "      <td>2020-11-24</td>\n",
              "      <td>Externo</td>\n",
              "      <td>Alta Administrativa</td>\n",
              "      <td>1969</td>\n",
              "      <td>M</td>\n",
              "      <td>GRUPO_0</td>\n",
              "      <td>0.0</td>\n",
              "      <td>False</td>\n",
              "    </tr>\n",
              "    <tr>\n",
              "      <th>...</th>\n",
              "      <td>...</td>\n",
              "      <td>...</td>\n",
              "      <td>...</td>\n",
              "      <td>...</td>\n",
              "      <td>...</td>\n",
              "      <td>...</td>\n",
              "      <td>...</td>\n",
              "      <td>...</td>\n",
              "      <td>...</td>\n",
              "      <td>...</td>\n",
              "      <td>...</td>\n",
              "      <td>...</td>\n",
              "      <td>...</td>\n",
              "    </tr>\n",
              "    <tr>\n",
              "      <th>804529</th>\n",
              "      <td>A4968C2CC0E043544DC1CC6A95762D5C</td>\n",
              "      <td>2021-05-13</td>\n",
              "      <td>Detecção de Coronavírus (NCoV-2019) POR PCR (A...</td>\n",
              "      <td>Detecção de Coronavírus (NCoV-2019) POR PCR (A...</td>\n",
              "      <td>DETECTADO</td>\n",
              "      <td>2021-05-13</td>\n",
              "      <td>Pronto Atendimento</td>\n",
              "      <td>Alta médica melhorado</td>\n",
              "      <td>2020</td>\n",
              "      <td>F</td>\n",
              "      <td>GRUPO_3</td>\n",
              "      <td>0.0</td>\n",
              "      <td>False</td>\n",
              "    </tr>\n",
              "    <tr>\n",
              "      <th>804530</th>\n",
              "      <td>EA73BBBE72107BD3028B1D47AF7838EF</td>\n",
              "      <td>2021-04-22</td>\n",
              "      <td>Detecção de Coronavírus (NCoV-2019) POR PCR (A...</td>\n",
              "      <td>Detecção de Coronavírus (NCoV-2019) POR PCR (A...</td>\n",
              "      <td>DETECTADO</td>\n",
              "      <td>2021-04-22</td>\n",
              "      <td>Ambulatorial</td>\n",
              "      <td>Alta Administrativa</td>\n",
              "      <td>1965</td>\n",
              "      <td>F</td>\n",
              "      <td>GRUPO_3</td>\n",
              "      <td>0.0</td>\n",
              "      <td>False</td>\n",
              "    </tr>\n",
              "    <tr>\n",
              "      <th>804531</th>\n",
              "      <td>B9AF8525FFA2BAA0CC65DFE42D716779</td>\n",
              "      <td>2021-03-04</td>\n",
              "      <td>Detecção de Coronavírus (NCoV-2019) POR PCR (A...</td>\n",
              "      <td>Detecção de Coronavírus (NCoV-2019) POR PCR (A...</td>\n",
              "      <td>DETECTADO</td>\n",
              "      <td>2021-03-04</td>\n",
              "      <td>Ambulatorial</td>\n",
              "      <td>Alta Administrativa</td>\n",
              "      <td>1974</td>\n",
              "      <td>M</td>\n",
              "      <td>GRUPO_3</td>\n",
              "      <td>0.0</td>\n",
              "      <td>False</td>\n",
              "    </tr>\n",
              "    <tr>\n",
              "      <th>804532</th>\n",
              "      <td>D2CD84EDD45CFBDDE5EDFA808A80A002</td>\n",
              "      <td>2021-02-26</td>\n",
              "      <td>Detecção de Coronavírus (NCoV-2019) POR PCR (A...</td>\n",
              "      <td>Detecção de Coronavírus (NCoV-2019) POR PCR (A...</td>\n",
              "      <td>DETECTADO</td>\n",
              "      <td>2021-02-26</td>\n",
              "      <td>Ambulatorial</td>\n",
              "      <td>Alta Administrativa</td>\n",
              "      <td>1975</td>\n",
              "      <td>F</td>\n",
              "      <td>GRUPO_3</td>\n",
              "      <td>0.0</td>\n",
              "      <td>False</td>\n",
              "    </tr>\n",
              "    <tr>\n",
              "      <th>804533</th>\n",
              "      <td>40CBDCB05D12CC70A9D07D805955A1E8</td>\n",
              "      <td>2021-02-02</td>\n",
              "      <td>Detecção de Coronavírus (NCoV-2019) POR PCR (A...</td>\n",
              "      <td>Detecção de Coronavírus (NCoV-2019) POR PCR (A...</td>\n",
              "      <td>DETECTADO</td>\n",
              "      <td>2021-02-02</td>\n",
              "      <td>Ambulatorial</td>\n",
              "      <td>Alta Administrativa</td>\n",
              "      <td>1980</td>\n",
              "      <td>M</td>\n",
              "      <td>GRUPO_3</td>\n",
              "      <td>0.0</td>\n",
              "      <td>False</td>\n",
              "    </tr>\n",
              "  </tbody>\n",
              "</table>\n",
              "<p>175759 rows × 13 columns</p>\n",
              "</div>"
            ],
            "text/plain": [
              "                             ID_PACIENTE   DT_COLETA  \\\n",
              "3       F59A53116E97CB53C79DF6C69C04E605  2021-05-20   \n",
              "13      6990E50284ADD84BC189305A35DCA8F9  2020-03-06   \n",
              "39      F58A3C50641D1E70DE598456CFE2AB3B  2020-09-16   \n",
              "72      A7A4C4F18A5709279D557A033CA3B27E  2021-03-17   \n",
              "168     2FA195129FA367C64A6E6717CE58851A  2020-11-24   \n",
              "...                                  ...         ...   \n",
              "804529  A4968C2CC0E043544DC1CC6A95762D5C  2021-05-13   \n",
              "804530  EA73BBBE72107BD3028B1D47AF7838EF  2021-04-22   \n",
              "804531  B9AF8525FFA2BAA0CC65DFE42D716779  2021-03-04   \n",
              "804532  D2CD84EDD45CFBDDE5EDFA808A80A002  2021-02-26   \n",
              "804533  40CBDCB05D12CC70A9D07D805955A1E8  2021-02-02   \n",
              "\n",
              "                                                 DE_EXAME  \\\n",
              "3                                  17 Hidroxipregnenolona   \n",
              "13                           Acetilcolina, Anticorpo Anti   \n",
              "39                                Acido Ascorbico, plasma   \n",
              "72                                Acido Ascorbico, plasma   \n",
              "168                               Acido Ascorbico, plasma   \n",
              "...                                                   ...   \n",
              "804529  Detecção de Coronavírus (NCoV-2019) POR PCR (A...   \n",
              "804530  Detecção de Coronavírus (NCoV-2019) POR PCR (A...   \n",
              "804531  Detecção de Coronavírus (NCoV-2019) POR PCR (A...   \n",
              "804532  Detecção de Coronavírus (NCoV-2019) POR PCR (A...   \n",
              "804533  Detecção de Coronavírus (NCoV-2019) POR PCR (A...   \n",
              "\n",
              "                                               DE_ANALITO     DE_RESULTADO  \\\n",
              "3                                 17-Hidroxi Pregnenolona    inferior a 13   \n",
              "13                                           Acetilcolina  inferior a 0.02   \n",
              "39                                Ácido ascorbico, plasma  inferior a 0.25   \n",
              "72                                Ácido ascorbico, plasma  inferior a 0.25   \n",
              "168                               Ácido ascorbico, plasma  inferior a 0.25   \n",
              "...                                                   ...              ...   \n",
              "804529  Detecção de Coronavírus (NCoV-2019) POR PCR (A...        DETECTADO   \n",
              "804530  Detecção de Coronavírus (NCoV-2019) POR PCR (A...        DETECTADO   \n",
              "804531  Detecção de Coronavírus (NCoV-2019) POR PCR (A...        DETECTADO   \n",
              "804532  Detecção de Coronavírus (NCoV-2019) POR PCR (A...        DETECTADO   \n",
              "804533  Detecção de Coronavírus (NCoV-2019) POR PCR (A...        DETECTADO   \n",
              "\n",
              "       DT_ATENDIMENTO DE_TIPO_ATENDIMENTO            DE_DESFECHO  \\\n",
              "3          2021-05-20             Externo    Alta Administrativa   \n",
              "13         2020-03-06        Ambulatorial    Alta Administrativa   \n",
              "39         2020-09-16             Externo    Alta Administrativa   \n",
              "72         2021-03-17             Externo    Alta Administrativa   \n",
              "168        2020-11-24             Externo    Alta Administrativa   \n",
              "...               ...                 ...                    ...   \n",
              "804529     2021-05-13  Pronto Atendimento  Alta médica melhorado   \n",
              "804530     2021-04-22        Ambulatorial    Alta Administrativa   \n",
              "804531     2021-03-04        Ambulatorial    Alta Administrativa   \n",
              "804532     2021-02-26        Ambulatorial    Alta Administrativa   \n",
              "804533     2021-02-02        Ambulatorial    Alta Administrativa   \n",
              "\n",
              "       AA_NASCIMENTO IC_SEXO    GRUPO  PERIODO_EXAMES  Tipo_resultado  \n",
              "3               1969       M  GRUPO_0             0.0           False  \n",
              "13              1955       F  GRUPO_0             0.0           False  \n",
              "39              1994       F  GRUPO_0             0.0           False  \n",
              "72              1988       F  GRUPO_0             0.0           False  \n",
              "168             1969       M  GRUPO_0             0.0           False  \n",
              "...              ...     ...      ...             ...             ...  \n",
              "804529          2020       F  GRUPO_3             0.0           False  \n",
              "804530          1965       F  GRUPO_3             0.0           False  \n",
              "804531          1974       M  GRUPO_3             0.0           False  \n",
              "804532          1975       F  GRUPO_3             0.0           False  \n",
              "804533          1980       M  GRUPO_3             0.0           False  \n",
              "\n",
              "[175759 rows x 13 columns]"
            ]
          },
          "execution_count": 297,
          "metadata": {},
          "output_type": "execute_result"
        }
      ],
      "source": [
        "df_hsl_1[df_hsl_1['Tipo_resultado']==False]"
      ]
    },
    {
      "cell_type": "code",
      "execution_count": 298,
      "metadata": {},
      "outputs": [
        {
          "data": {
            "text/plain": [
              "13632"
            ]
          },
          "execution_count": 298,
          "metadata": {},
          "output_type": "execute_result"
        }
      ],
      "source": [
        "df_hsl_1['ID_PACIENTE'].nunique()"
      ]
    },
    {
      "cell_type": "code",
      "execution_count": 299,
      "metadata": {
        "id": "mOGF1YroUT77"
      },
      "outputs": [],
      "source": [
        "# Apaga linhas em que Resultado não é do tipo numérico\n",
        "\n",
        "df_hsl_1.drop(df_hsl_1.loc[df_hsl_1['Tipo_resultado']==False].index, inplace=True)"
      ]
    },
    {
      "cell_type": "code",
      "execution_count": 300,
      "metadata": {
        "colab": {
          "base_uri": "https://localhost:8080/"
        },
        "id": "zTSgbGwNUkxu",
        "outputId": "8bd65037-9509-4e4d-fa6f-0a1f706f298d"
      },
      "outputs": [
        {
          "data": {
            "text/plain": [
              "(628775, 13)"
            ]
          },
          "execution_count": 300,
          "metadata": {},
          "output_type": "execute_result"
        }
      ],
      "source": [
        "df_hsl_1.shape"
      ]
    },
    {
      "cell_type": "code",
      "execution_count": 301,
      "metadata": {},
      "outputs": [
        {
          "data": {
            "text/plain": [
              "7961"
            ]
          },
          "execution_count": 301,
          "metadata": {},
          "output_type": "execute_result"
        }
      ],
      "source": [
        "df_hsl_1['ID_PACIENTE'].nunique()"
      ]
    },
    {
      "cell_type": "code",
      "execution_count": 302,
      "metadata": {
        "colab": {
          "base_uri": "https://localhost:8080/",
          "height": 113
        },
        "id": "jai9tOYdVNAR",
        "outputId": "1fb38227-2ec4-42bc-b5fc-61225eef4855"
      },
      "outputs": [
        {
          "data": {
            "text/html": [
              "<div>\n",
              "<style scoped>\n",
              "    .dataframe tbody tr th:only-of-type {\n",
              "        vertical-align: middle;\n",
              "    }\n",
              "\n",
              "    .dataframe tbody tr th {\n",
              "        vertical-align: top;\n",
              "    }\n",
              "\n",
              "    .dataframe thead th {\n",
              "        text-align: right;\n",
              "    }\n",
              "</style>\n",
              "<table border=\"1\" class=\"dataframe\">\n",
              "  <thead>\n",
              "    <tr style=\"text-align: right;\">\n",
              "      <th></th>\n",
              "      <th>ID_PACIENTE</th>\n",
              "      <th>DT_COLETA</th>\n",
              "      <th>DE_EXAME</th>\n",
              "      <th>DE_ANALITO</th>\n",
              "      <th>DE_RESULTADO</th>\n",
              "      <th>DT_ATENDIMENTO</th>\n",
              "      <th>DE_TIPO_ATENDIMENTO</th>\n",
              "      <th>DE_DESFECHO</th>\n",
              "      <th>AA_NASCIMENTO</th>\n",
              "      <th>IC_SEXO</th>\n",
              "      <th>GRUPO</th>\n",
              "      <th>PERIODO_EXAMES</th>\n",
              "      <th>Tipo_resultado</th>\n",
              "    </tr>\n",
              "  </thead>\n",
              "  <tbody>\n",
              "  </tbody>\n",
              "</table>\n",
              "</div>"
            ],
            "text/plain": [
              "Empty DataFrame\n",
              "Columns: [ID_PACIENTE, DT_COLETA, DE_EXAME, DE_ANALITO, DE_RESULTADO, DT_ATENDIMENTO, DE_TIPO_ATENDIMENTO, DE_DESFECHO, AA_NASCIMENTO, IC_SEXO, GRUPO, PERIODO_EXAMES, Tipo_resultado]\n",
              "Index: []"
            ]
          },
          "execution_count": 302,
          "metadata": {},
          "output_type": "execute_result"
        }
      ],
      "source": [
        "df_hsl_1[df_hsl_1['Tipo_resultado']==False]"
      ]
    },
    {
      "cell_type": "markdown",
      "metadata": {
        "id": "q6wtK-ZNVXEL"
      },
      "source": [
        "#### **CONVERTENDO RESULTADOS DE STR PARA FLOAT**"
      ]
    },
    {
      "cell_type": "code",
      "execution_count": 303,
      "metadata": {
        "id": "mIN8ssN6VWjD"
      },
      "outputs": [],
      "source": [
        "df_hsl_1['DE_RESULTADO'] = df_hsl_1['DE_RESULTADO'].astype(float) "
      ]
    },
    {
      "cell_type": "markdown",
      "metadata": {
        "id": "77usO6wwCRfT"
      },
      "source": [
        "#### **NOVA SELEÇÃO MANUAL DE ATRIBUTOS**"
      ]
    },
    {
      "cell_type": "code",
      "execution_count": 304,
      "metadata": {
        "id": "Ig7080MzA4kq"
      },
      "outputs": [],
      "source": [
        "pivot_sirio = df_hsl_1.drop(columns=(['DE_EXAME', \n",
        "                                      'DT_ATENDIMENTO', \n",
        "                                      'DE_TIPO_ATENDIMENTO', \n",
        "                                      'DE_DESFECHO', \n",
        "                                      'PERIODO_EXAMES', \n",
        "                                      'Tipo_resultado']))"
      ]
    },
    {
      "cell_type": "code",
      "execution_count": 305,
      "metadata": {
        "colab": {
          "base_uri": "https://localhost:8080/"
        },
        "id": "nJsVlyKaWDhK",
        "outputId": "8f8ff2f0-623c-4241-a380-ea72c569917d"
      },
      "outputs": [
        {
          "data": {
            "text/plain": [
              "ID_PACIENTE\n",
              "875B9333DA03891BE8AE5BC11EF8E982    2719\n",
              "5E46317D5210A201322D0BFE7558A0EA    2380\n",
              "9A2FEF0E972CE7E63B4D268080E58085    1688\n",
              "DA6E436B50A5009D4952C1164454CB81    1589\n",
              "6880A9BD5A7975CD5D211AB850CB070B    1335\n",
              "                                    ... \n",
              "193715EA8E2C9E9C6B7050BA5845E419       1\n",
              "83548F22800FDABA3AC2BEBE7B916D5F       1\n",
              "34896A27B16676055F790F6AC9AA3949       1\n",
              "116C9BC40A7CDCC0E6E32A02E4CA0FF5       1\n",
              "54882BE1F5058A41550F110A8AD8F34F       1\n",
              "Name: count, Length: 7961, dtype: int64"
            ]
          },
          "execution_count": 305,
          "metadata": {},
          "output_type": "execute_result"
        }
      ],
      "source": [
        "pivot_sirio['ID_PACIENTE'].value_counts()"
      ]
    },
    {
      "cell_type": "code",
      "execution_count": 306,
      "metadata": {
        "colab": {
          "base_uri": "https://localhost:8080/",
          "height": 240
        },
        "id": "FnOnNEx5igG8",
        "outputId": "34a14c9a-819a-4821-e525-9506166aea48"
      },
      "outputs": [
        {
          "data": {
            "text/html": [
              "<div>\n",
              "<style scoped>\n",
              "    .dataframe tbody tr th:only-of-type {\n",
              "        vertical-align: middle;\n",
              "    }\n",
              "\n",
              "    .dataframe tbody tr th {\n",
              "        vertical-align: top;\n",
              "    }\n",
              "\n",
              "    .dataframe thead th {\n",
              "        text-align: right;\n",
              "    }\n",
              "</style>\n",
              "<table border=\"1\" class=\"dataframe\">\n",
              "  <thead>\n",
              "    <tr style=\"text-align: right;\">\n",
              "      <th></th>\n",
              "      <th>ID_PACIENTE</th>\n",
              "      <th>DT_COLETA</th>\n",
              "      <th>DE_ANALITO</th>\n",
              "      <th>DE_RESULTADO</th>\n",
              "      <th>AA_NASCIMENTO</th>\n",
              "      <th>IC_SEXO</th>\n",
              "      <th>GRUPO</th>\n",
              "    </tr>\n",
              "  </thead>\n",
              "  <tbody>\n",
              "    <tr>\n",
              "      <th>0</th>\n",
              "      <td>FB48065512F8BFFAE3FC16530785BB57</td>\n",
              "      <td>2020-09-24</td>\n",
              "      <td>17-Hidroxi Pregnenolona</td>\n",
              "      <td>27.0</td>\n",
              "      <td>1994</td>\n",
              "      <td>F</td>\n",
              "      <td>GRUPO_0</td>\n",
              "    </tr>\n",
              "    <tr>\n",
              "      <th>1</th>\n",
              "      <td>5ABF34B0AE202F876BDAA0F338881BC1</td>\n",
              "      <td>2021-02-25</td>\n",
              "      <td>17-Hidroxi Pregnenolona</td>\n",
              "      <td>50.0</td>\n",
              "      <td>1979</td>\n",
              "      <td>F</td>\n",
              "      <td>GRUPO_0</td>\n",
              "    </tr>\n",
              "    <tr>\n",
              "      <th>2</th>\n",
              "      <td>9DECD77C85AD8EF58C52F5D747546632</td>\n",
              "      <td>2020-10-06</td>\n",
              "      <td>17-Hidroxi Pregnenolona</td>\n",
              "      <td>44.0</td>\n",
              "      <td>1982</td>\n",
              "      <td>F</td>\n",
              "      <td>GRUPO_0</td>\n",
              "    </tr>\n",
              "  </tbody>\n",
              "</table>\n",
              "</div>"
            ],
            "text/plain": [
              "                        ID_PACIENTE   DT_COLETA               DE_ANALITO  \\\n",
              "0  FB48065512F8BFFAE3FC16530785BB57  2020-09-24  17-Hidroxi Pregnenolona   \n",
              "1  5ABF34B0AE202F876BDAA0F338881BC1  2021-02-25  17-Hidroxi Pregnenolona   \n",
              "2  9DECD77C85AD8EF58C52F5D747546632  2020-10-06  17-Hidroxi Pregnenolona   \n",
              "\n",
              "   DE_RESULTADO AA_NASCIMENTO IC_SEXO    GRUPO  \n",
              "0          27.0          1994       F  GRUPO_0  \n",
              "1          50.0          1979       F  GRUPO_0  \n",
              "2          44.0          1982       F  GRUPO_0  "
            ]
          },
          "execution_count": 306,
          "metadata": {},
          "output_type": "execute_result"
        }
      ],
      "source": [
        "pivot_sirio.head(3)"
      ]
    },
    {
      "cell_type": "code",
      "execution_count": 307,
      "metadata": {
        "id": "2-iEkFjWiWqH"
      },
      "outputs": [],
      "source": [
        "#pivot_sirio.to_csv(\"ANALISE_SIRIO_FINAL.csv\", encoding=\"utf-8\")"
      ]
    },
    {
      "cell_type": "code",
      "execution_count": 308,
      "metadata": {
        "colab": {
          "base_uri": "https://localhost:8080/"
        },
        "id": "ctGkwGTbiDJK",
        "outputId": "919e524b-66c2-4983-e4cf-1ff0114ed536"
      },
      "outputs": [
        {
          "data": {
            "text/plain": [
              "(628775, 7)"
            ]
          },
          "execution_count": 308,
          "metadata": {},
          "output_type": "execute_result"
        }
      ],
      "source": [
        "pivot_sirio.shape"
      ]
    },
    {
      "cell_type": "code",
      "execution_count": 309,
      "metadata": {},
      "outputs": [
        {
          "data": {
            "text/plain": [
              "7961"
            ]
          },
          "execution_count": 309,
          "metadata": {},
          "output_type": "execute_result"
        }
      ],
      "source": [
        "pivot_sirio['ID_PACIENTE'].nunique()"
      ]
    },
    {
      "cell_type": "markdown",
      "metadata": {
        "id": "Po_QHCGvgjAj"
      },
      "source": [
        "#### **GERANDO DATAFRAME SIRIO_APRENDIZADO**"
      ]
    },
    {
      "cell_type": "code",
      "execution_count": 310,
      "metadata": {
        "colab": {
          "base_uri": "https://localhost:8080/",
          "height": 240
        },
        "id": "ir27XVoRau9J",
        "outputId": "d77725d1-fb4e-46b7-a59f-80c10deda741"
      },
      "outputs": [
        {
          "data": {
            "text/html": [
              "<div>\n",
              "<style scoped>\n",
              "    .dataframe tbody tr th:only-of-type {\n",
              "        vertical-align: middle;\n",
              "    }\n",
              "\n",
              "    .dataframe tbody tr th {\n",
              "        vertical-align: top;\n",
              "    }\n",
              "\n",
              "    .dataframe thead th {\n",
              "        text-align: right;\n",
              "    }\n",
              "</style>\n",
              "<table border=\"1\" class=\"dataframe\">\n",
              "  <thead>\n",
              "    <tr style=\"text-align: right;\">\n",
              "      <th></th>\n",
              "      <th>ID_PACIENTE</th>\n",
              "      <th>DT_COLETA</th>\n",
              "      <th>DE_ANALITO</th>\n",
              "      <th>DE_RESULTADO</th>\n",
              "      <th>AA_NASCIMENTO</th>\n",
              "      <th>IC_SEXO</th>\n",
              "      <th>GRUPO</th>\n",
              "    </tr>\n",
              "  </thead>\n",
              "  <tbody>\n",
              "    <tr>\n",
              "      <th>0</th>\n",
              "      <td>FB48065512F8BFFAE3FC16530785BB57</td>\n",
              "      <td>2020-09-24</td>\n",
              "      <td>17-Hidroxi Pregnenolona</td>\n",
              "      <td>27.0</td>\n",
              "      <td>1994</td>\n",
              "      <td>F</td>\n",
              "      <td>GRUPO_0</td>\n",
              "    </tr>\n",
              "    <tr>\n",
              "      <th>1</th>\n",
              "      <td>5ABF34B0AE202F876BDAA0F338881BC1</td>\n",
              "      <td>2021-02-25</td>\n",
              "      <td>17-Hidroxi Pregnenolona</td>\n",
              "      <td>50.0</td>\n",
              "      <td>1979</td>\n",
              "      <td>F</td>\n",
              "      <td>GRUPO_0</td>\n",
              "    </tr>\n",
              "    <tr>\n",
              "      <th>2</th>\n",
              "      <td>9DECD77C85AD8EF58C52F5D747546632</td>\n",
              "      <td>2020-10-06</td>\n",
              "      <td>17-Hidroxi Pregnenolona</td>\n",
              "      <td>44.0</td>\n",
              "      <td>1982</td>\n",
              "      <td>F</td>\n",
              "      <td>GRUPO_0</td>\n",
              "    </tr>\n",
              "  </tbody>\n",
              "</table>\n",
              "</div>"
            ],
            "text/plain": [
              "                        ID_PACIENTE   DT_COLETA               DE_ANALITO  \\\n",
              "0  FB48065512F8BFFAE3FC16530785BB57  2020-09-24  17-Hidroxi Pregnenolona   \n",
              "1  5ABF34B0AE202F876BDAA0F338881BC1  2021-02-25  17-Hidroxi Pregnenolona   \n",
              "2  9DECD77C85AD8EF58C52F5D747546632  2020-10-06  17-Hidroxi Pregnenolona   \n",
              "\n",
              "   DE_RESULTADO AA_NASCIMENTO IC_SEXO    GRUPO  \n",
              "0          27.0          1994       F  GRUPO_0  \n",
              "1          50.0          1979       F  GRUPO_0  \n",
              "2          44.0          1982       F  GRUPO_0  "
            ]
          },
          "execution_count": 310,
          "metadata": {},
          "output_type": "execute_result"
        }
      ],
      "source": [
        "AL7 = pivot_sirio\n",
        "\n",
        "# AL7 = pd.read_csv('/content/drive/MyDrive/Colab Notebooks/2021 dezembro Artigo/ANALISE_SIRIO_FINAL.csv', sep=',', index_col=0)\n",
        "\n",
        "AL7.head(3)"
      ]
    },
    {
      "cell_type": "markdown",
      "metadata": {
        "id": "1E2w4vfQknN5"
      },
      "source": [
        "#### **FILTRO 8: AGRUPAMENTO DE EXAMES REPETIDOS PARA O MESMO PACIENTE**"
      ]
    },
    {
      "cell_type": "code",
      "execution_count": 311,
      "metadata": {
        "colab": {
          "base_uri": "https://localhost:8080/",
          "height": 175
        },
        "id": "wTAsIVZ4gd4S",
        "outputId": "ffcf77a5-a31b-48ea-9913-cc32bdf08a62"
      },
      "outputs": [
        {
          "data": {
            "text/html": [
              "<div>\n",
              "<style scoped>\n",
              "    .dataframe tbody tr th:only-of-type {\n",
              "        vertical-align: middle;\n",
              "    }\n",
              "\n",
              "    .dataframe tbody tr th {\n",
              "        vertical-align: top;\n",
              "    }\n",
              "\n",
              "    .dataframe thead tr th {\n",
              "        text-align: left;\n",
              "    }\n",
              "</style>\n",
              "<table border=\"1\" class=\"dataframe\">\n",
              "  <thead>\n",
              "    <tr>\n",
              "      <th></th>\n",
              "      <th>ID_PACIENTE</th>\n",
              "      <th>GRUPO</th>\n",
              "      <th>AA_NASCIMENTO</th>\n",
              "      <th>IC_SEXO</th>\n",
              "      <th>DE_ANALITO</th>\n",
              "      <th>DT_COLETA</th>\n",
              "      <th>DE_RESULTADO</th>\n",
              "    </tr>\n",
              "    <tr>\n",
              "      <th></th>\n",
              "      <th></th>\n",
              "      <th></th>\n",
              "      <th></th>\n",
              "      <th></th>\n",
              "      <th></th>\n",
              "      <th>max</th>\n",
              "      <th>last</th>\n",
              "    </tr>\n",
              "  </thead>\n",
              "  <tbody>\n",
              "    <tr>\n",
              "      <th>0</th>\n",
              "      <td>00017961865C4F766FDBB3CD8FE0BFB0</td>\n",
              "      <td>GRUPO_0</td>\n",
              "      <td>1967</td>\n",
              "      <td>M</td>\n",
              "      <td>ALT (TGP)</td>\n",
              "      <td>2020-08-25</td>\n",
              "      <td>26.0</td>\n",
              "    </tr>\n",
              "    <tr>\n",
              "      <th>1</th>\n",
              "      <td>00017961865C4F766FDBB3CD8FE0BFB0</td>\n",
              "      <td>GRUPO_0</td>\n",
              "      <td>1967</td>\n",
              "      <td>M</td>\n",
              "      <td>AST (TGO)</td>\n",
              "      <td>2020-08-25</td>\n",
              "      <td>24.0</td>\n",
              "    </tr>\n",
              "    <tr>\n",
              "      <th>2</th>\n",
              "      <td>00017961865C4F766FDBB3CD8FE0BFB0</td>\n",
              "      <td>GRUPO_0</td>\n",
              "      <td>1967</td>\n",
              "      <td>M</td>\n",
              "      <td>Basófilos</td>\n",
              "      <td>2020-08-25</td>\n",
              "      <td>40.0</td>\n",
              "    </tr>\n",
              "  </tbody>\n",
              "</table>\n",
              "</div>"
            ],
            "text/plain": [
              "                        ID_PACIENTE    GRUPO AA_NASCIMENTO IC_SEXO DE_ANALITO  \\\n",
              "                                                                                \n",
              "0  00017961865C4F766FDBB3CD8FE0BFB0  GRUPO_0          1967       M  ALT (TGP)   \n",
              "1  00017961865C4F766FDBB3CD8FE0BFB0  GRUPO_0          1967       M  AST (TGO)   \n",
              "2  00017961865C4F766FDBB3CD8FE0BFB0  GRUPO_0          1967       M  Basófilos   \n",
              "\n",
              "    DT_COLETA DE_RESULTADO  \n",
              "          max         last  \n",
              "0  2020-08-25         26.0  \n",
              "1  2020-08-25         24.0  \n",
              "2  2020-08-25         40.0  "
            ]
          },
          "execution_count": 311,
          "metadata": {},
          "output_type": "execute_result"
        }
      ],
      "source": [
        "#Considera apenas o último exame no caso de repetidos.\n",
        "\n",
        "AL7 = AL7.groupby(['ID_PACIENTE', 'GRUPO','AA_NASCIMENTO','IC_SEXO','DE_ANALITO']).agg({'DT_COLETA': ['max'], 'DE_RESULTADO' : ['last']}).reset_index()\n",
        "\n",
        "AL7.head(3)"
      ]
    },
    {
      "cell_type": "code",
      "execution_count": 312,
      "metadata": {
        "colab": {
          "base_uri": "https://localhost:8080/",
          "height": 143
        },
        "id": "x4bQObYCdOLP",
        "outputId": "47f8e665-1406-43a4-a489-9546420eef20"
      },
      "outputs": [
        {
          "data": {
            "text/html": [
              "<div>\n",
              "<style scoped>\n",
              "    .dataframe tbody tr th:only-of-type {\n",
              "        vertical-align: middle;\n",
              "    }\n",
              "\n",
              "    .dataframe tbody tr th {\n",
              "        vertical-align: top;\n",
              "    }\n",
              "\n",
              "    .dataframe thead th {\n",
              "        text-align: right;\n",
              "    }\n",
              "</style>\n",
              "<table border=\"1\" class=\"dataframe\">\n",
              "  <thead>\n",
              "    <tr style=\"text-align: right;\">\n",
              "      <th></th>\n",
              "      <th>ID_PACIENTE</th>\n",
              "      <th>GRUPO</th>\n",
              "      <th>Idade</th>\n",
              "      <th>Sexo</th>\n",
              "      <th>DE_ANALITO</th>\n",
              "      <th>DT_COLETA</th>\n",
              "      <th>DE_RESULTADO</th>\n",
              "    </tr>\n",
              "  </thead>\n",
              "  <tbody>\n",
              "    <tr>\n",
              "      <th>0</th>\n",
              "      <td>00017961865C4F766FDBB3CD8FE0BFB0</td>\n",
              "      <td>GRUPO_0</td>\n",
              "      <td>1967</td>\n",
              "      <td>M</td>\n",
              "      <td>ALT (TGP)</td>\n",
              "      <td>2020-08-25</td>\n",
              "      <td>26.0</td>\n",
              "    </tr>\n",
              "    <tr>\n",
              "      <th>1</th>\n",
              "      <td>00017961865C4F766FDBB3CD8FE0BFB0</td>\n",
              "      <td>GRUPO_0</td>\n",
              "      <td>1967</td>\n",
              "      <td>M</td>\n",
              "      <td>AST (TGO)</td>\n",
              "      <td>2020-08-25</td>\n",
              "      <td>24.0</td>\n",
              "    </tr>\n",
              "    <tr>\n",
              "      <th>2</th>\n",
              "      <td>00017961865C4F766FDBB3CD8FE0BFB0</td>\n",
              "      <td>GRUPO_0</td>\n",
              "      <td>1967</td>\n",
              "      <td>M</td>\n",
              "      <td>Basófilos</td>\n",
              "      <td>2020-08-25</td>\n",
              "      <td>40.0</td>\n",
              "    </tr>\n",
              "  </tbody>\n",
              "</table>\n",
              "</div>"
            ],
            "text/plain": [
              "                        ID_PACIENTE    GRUPO Idade Sexo DE_ANALITO  \\\n",
              "0  00017961865C4F766FDBB3CD8FE0BFB0  GRUPO_0  1967    M  ALT (TGP)   \n",
              "1  00017961865C4F766FDBB3CD8FE0BFB0  GRUPO_0  1967    M  AST (TGO)   \n",
              "2  00017961865C4F766FDBB3CD8FE0BFB0  GRUPO_0  1967    M  Basófilos   \n",
              "\n",
              "    DT_COLETA  DE_RESULTADO  \n",
              "0  2020-08-25          26.0  \n",
              "1  2020-08-25          24.0  \n",
              "2  2020-08-25          40.0  "
            ]
          },
          "execution_count": 312,
          "metadata": {},
          "output_type": "execute_result"
        }
      ],
      "source": [
        "AL7.columns = ['ID_PACIENTE', 'GRUPO', 'Idade','Sexo', 'DE_ANALITO','DT_COLETA', 'DE_RESULTADO']\n",
        "\n",
        "AL7.head(3)"
      ]
    },
    {
      "cell_type": "code",
      "execution_count": 313,
      "metadata": {
        "colab": {
          "base_uri": "https://localhost:8080/"
        },
        "id": "7rrJhtroiczU",
        "outputId": "42d9ab61-23a8-4b09-c4ca-eef56f3515b5"
      },
      "outputs": [
        {
          "name": "stdout",
          "output_type": "stream",
          "text": [
            "<class 'pandas.core.frame.DataFrame'>\n",
            "RangeIndex: 341121 entries, 0 to 341120\n",
            "Data columns (total 7 columns):\n",
            " #   Column        Non-Null Count   Dtype  \n",
            "---  ------        --------------   -----  \n",
            " 0   ID_PACIENTE   341121 non-null  object \n",
            " 1   GRUPO         341121 non-null  object \n",
            " 2   Idade         341121 non-null  object \n",
            " 3   Sexo          341121 non-null  object \n",
            " 4   DE_ANALITO    341121 non-null  object \n",
            " 5   DT_COLETA     341121 non-null  object \n",
            " 6   DE_RESULTADO  341121 non-null  float64\n",
            "dtypes: float64(1), object(6)\n",
            "memory usage: 18.2+ MB\n"
          ]
        }
      ],
      "source": [
        "AL7.info()"
      ]
    },
    {
      "cell_type": "code",
      "execution_count": 314,
      "metadata": {
        "colab": {
          "base_uri": "https://localhost:8080/"
        },
        "id": "2qRD0G3Ll5bZ",
        "outputId": "c9c4c00b-453a-4cdf-efe7-2c99742e10b8"
      },
      "outputs": [
        {
          "data": {
            "text/plain": [
              "(341121, 7)"
            ]
          },
          "execution_count": 314,
          "metadata": {},
          "output_type": "execute_result"
        }
      ],
      "source": [
        "AL7.shape"
      ]
    },
    {
      "cell_type": "code",
      "execution_count": 315,
      "metadata": {
        "colab": {
          "base_uri": "https://localhost:8080/"
        },
        "id": "fcnD4c7iq3jB",
        "outputId": "ee8dd056-5a39-41fe-b1d3-6dfd47567f4b"
      },
      "outputs": [
        {
          "data": {
            "text/plain": [
              "7961"
            ]
          },
          "execution_count": 315,
          "metadata": {},
          "output_type": "execute_result"
        }
      ],
      "source": [
        "AL7['ID_PACIENTE'].nunique()"
      ]
    },
    {
      "cell_type": "code",
      "execution_count": 316,
      "metadata": {
        "id": "byJOVnFGNIvO"
      },
      "outputs": [],
      "source": [
        "# Transformando Ano de nascimento em idade\n",
        "# Erro porque pacientes com ano de nascimento = YYYY ou AAAA \n",
        "# Esses exemplos serão removidos nos próximos passos\n",
        "\n",
        "#AL7['Idade'] = AL7['Idade'].astype(int)"
      ]
    },
    {
      "cell_type": "code",
      "execution_count": 317,
      "metadata": {},
      "outputs": [
        {
          "data": {
            "text/html": [
              "<div>\n",
              "<style scoped>\n",
              "    .dataframe tbody tr th:only-of-type {\n",
              "        vertical-align: middle;\n",
              "    }\n",
              "\n",
              "    .dataframe tbody tr th {\n",
              "        vertical-align: top;\n",
              "    }\n",
              "\n",
              "    .dataframe thead th {\n",
              "        text-align: right;\n",
              "    }\n",
              "</style>\n",
              "<table border=\"1\" class=\"dataframe\">\n",
              "  <thead>\n",
              "    <tr style=\"text-align: right;\">\n",
              "      <th></th>\n",
              "      <th>ID_PACIENTE</th>\n",
              "      <th>GRUPO</th>\n",
              "      <th>Idade</th>\n",
              "      <th>Sexo</th>\n",
              "      <th>DE_ANALITO</th>\n",
              "      <th>DT_COLETA</th>\n",
              "      <th>DE_RESULTADO</th>\n",
              "    </tr>\n",
              "  </thead>\n",
              "  <tbody>\n",
              "    <tr>\n",
              "      <th>387</th>\n",
              "      <td>0047AF5116BC8AC8EFE6BBB98DA14DFA</td>\n",
              "      <td>GRUPO_3</td>\n",
              "      <td>AAAA</td>\n",
              "      <td>M</td>\n",
              "      <td>183</td>\n",
              "      <td>2020-04-18</td>\n",
              "      <td>104.00</td>\n",
              "    </tr>\n",
              "    <tr>\n",
              "      <th>388</th>\n",
              "      <td>0047AF5116BC8AC8EFE6BBB98DA14DFA</td>\n",
              "      <td>GRUPO_3</td>\n",
              "      <td>AAAA</td>\n",
              "      <td>M</td>\n",
              "      <td>ALT (TGP)</td>\n",
              "      <td>2020-04-18</td>\n",
              "      <td>8.00</td>\n",
              "    </tr>\n",
              "    <tr>\n",
              "      <th>389</th>\n",
              "      <td>0047AF5116BC8AC8EFE6BBB98DA14DFA</td>\n",
              "      <td>GRUPO_3</td>\n",
              "      <td>AAAA</td>\n",
              "      <td>M</td>\n",
              "      <td>AST (TGO)</td>\n",
              "      <td>2020-04-18</td>\n",
              "      <td>19.00</td>\n",
              "    </tr>\n",
              "    <tr>\n",
              "      <th>390</th>\n",
              "      <td>0047AF5116BC8AC8EFE6BBB98DA14DFA</td>\n",
              "      <td>GRUPO_3</td>\n",
              "      <td>AAAA</td>\n",
              "      <td>M</td>\n",
              "      <td>Basófilos</td>\n",
              "      <td>2020-04-18</td>\n",
              "      <td>20.00</td>\n",
              "    </tr>\n",
              "    <tr>\n",
              "      <th>391</th>\n",
              "      <td>0047AF5116BC8AC8EFE6BBB98DA14DFA</td>\n",
              "      <td>GRUPO_3</td>\n",
              "      <td>AAAA</td>\n",
              "      <td>M</td>\n",
              "      <td>Basófilos (%)</td>\n",
              "      <td>2020-04-18</td>\n",
              "      <td>0.20</td>\n",
              "    </tr>\n",
              "    <tr>\n",
              "      <th>...</th>\n",
              "      <td>...</td>\n",
              "      <td>...</td>\n",
              "      <td>...</td>\n",
              "      <td>...</td>\n",
              "      <td>...</td>\n",
              "      <td>...</td>\n",
              "      <td>...</td>\n",
              "    </tr>\n",
              "    <tr>\n",
              "      <th>337036</th>\n",
              "      <td>FC6DD8FDD8FB85E3BCF0764C115187FA</td>\n",
              "      <td>GRUPO_3</td>\n",
              "      <td>AAAA</td>\n",
              "      <td>F</td>\n",
              "      <td>VCM</td>\n",
              "      <td>2020-07-01</td>\n",
              "      <td>95.40</td>\n",
              "    </tr>\n",
              "    <tr>\n",
              "      <th>337037</th>\n",
              "      <td>FC6DD8FDD8FB85E3BCF0764C115187FA</td>\n",
              "      <td>GRUPO_3</td>\n",
              "      <td>AAAA</td>\n",
              "      <td>F</td>\n",
              "      <td>Volume plaquetário médio</td>\n",
              "      <td>2020-07-01</td>\n",
              "      <td>11.00</td>\n",
              "    </tr>\n",
              "    <tr>\n",
              "      <th>337038</th>\n",
              "      <td>FC6DD8FDD8FB85E3BCF0764C115187FA</td>\n",
              "      <td>GRUPO_3</td>\n",
              "      <td>AAAA</td>\n",
              "      <td>F</td>\n",
              "      <td>pCO2 arterial</td>\n",
              "      <td>2020-07-01</td>\n",
              "      <td>45.00</td>\n",
              "    </tr>\n",
              "    <tr>\n",
              "      <th>337039</th>\n",
              "      <td>FC6DD8FDD8FB85E3BCF0764C115187FA</td>\n",
              "      <td>GRUPO_3</td>\n",
              "      <td>AAAA</td>\n",
              "      <td>F</td>\n",
              "      <td>pH arterial</td>\n",
              "      <td>2020-07-01</td>\n",
              "      <td>7.42</td>\n",
              "    </tr>\n",
              "    <tr>\n",
              "      <th>337040</th>\n",
              "      <td>FC6DD8FDD8FB85E3BCF0764C115187FA</td>\n",
              "      <td>GRUPO_3</td>\n",
              "      <td>AAAA</td>\n",
              "      <td>F</td>\n",
              "      <td>pO2 arterial</td>\n",
              "      <td>2020-07-01</td>\n",
              "      <td>48.00</td>\n",
              "    </tr>\n",
              "  </tbody>\n",
              "</table>\n",
              "<p>2246 rows × 7 columns</p>\n",
              "</div>"
            ],
            "text/plain": [
              "                             ID_PACIENTE    GRUPO Idade Sexo  \\\n",
              "387     0047AF5116BC8AC8EFE6BBB98DA14DFA  GRUPO_3  AAAA    M   \n",
              "388     0047AF5116BC8AC8EFE6BBB98DA14DFA  GRUPO_3  AAAA    M   \n",
              "389     0047AF5116BC8AC8EFE6BBB98DA14DFA  GRUPO_3  AAAA    M   \n",
              "390     0047AF5116BC8AC8EFE6BBB98DA14DFA  GRUPO_3  AAAA    M   \n",
              "391     0047AF5116BC8AC8EFE6BBB98DA14DFA  GRUPO_3  AAAA    M   \n",
              "...                                  ...      ...   ...  ...   \n",
              "337036  FC6DD8FDD8FB85E3BCF0764C115187FA  GRUPO_3  AAAA    F   \n",
              "337037  FC6DD8FDD8FB85E3BCF0764C115187FA  GRUPO_3  AAAA    F   \n",
              "337038  FC6DD8FDD8FB85E3BCF0764C115187FA  GRUPO_3  AAAA    F   \n",
              "337039  FC6DD8FDD8FB85E3BCF0764C115187FA  GRUPO_3  AAAA    F   \n",
              "337040  FC6DD8FDD8FB85E3BCF0764C115187FA  GRUPO_3  AAAA    F   \n",
              "\n",
              "                      DE_ANALITO   DT_COLETA  DE_RESULTADO  \n",
              "387                          183  2020-04-18        104.00  \n",
              "388                    ALT (TGP)  2020-04-18          8.00  \n",
              "389                    AST (TGO)  2020-04-18         19.00  \n",
              "390                    Basófilos  2020-04-18         20.00  \n",
              "391                Basófilos (%)  2020-04-18          0.20  \n",
              "...                          ...         ...           ...  \n",
              "337036                       VCM  2020-07-01         95.40  \n",
              "337037  Volume plaquetário médio  2020-07-01         11.00  \n",
              "337038             pCO2 arterial  2020-07-01         45.00  \n",
              "337039               pH arterial  2020-07-01          7.42  \n",
              "337040              pO2 arterial  2020-07-01         48.00  \n",
              "\n",
              "[2246 rows x 7 columns]"
            ]
          },
          "execution_count": 317,
          "metadata": {},
          "output_type": "execute_result"
        }
      ],
      "source": [
        "AL7[ AL7['Idade'] == 'AAAA']"
      ]
    },
    {
      "cell_type": "code",
      "execution_count": 318,
      "metadata": {},
      "outputs": [
        {
          "data": {
            "text/html": [
              "<div>\n",
              "<style scoped>\n",
              "    .dataframe tbody tr th:only-of-type {\n",
              "        vertical-align: middle;\n",
              "    }\n",
              "\n",
              "    .dataframe tbody tr th {\n",
              "        vertical-align: top;\n",
              "    }\n",
              "\n",
              "    .dataframe thead th {\n",
              "        text-align: right;\n",
              "    }\n",
              "</style>\n",
              "<table border=\"1\" class=\"dataframe\">\n",
              "  <thead>\n",
              "    <tr style=\"text-align: right;\">\n",
              "      <th></th>\n",
              "      <th>ID_PACIENTE</th>\n",
              "      <th>GRUPO</th>\n",
              "      <th>Idade</th>\n",
              "      <th>Sexo</th>\n",
              "      <th>DE_ANALITO</th>\n",
              "      <th>DT_COLETA</th>\n",
              "      <th>DE_RESULTADO</th>\n",
              "    </tr>\n",
              "  </thead>\n",
              "  <tbody>\n",
              "    <tr>\n",
              "      <th>64613</th>\n",
              "      <td>3175533D81D33F2FBABAC67E3C8EE974</td>\n",
              "      <td>GRUPO_0</td>\n",
              "      <td>YYYY</td>\n",
              "      <td>M</td>\n",
              "      <td>Basófilos</td>\n",
              "      <td>2021-01-04</td>\n",
              "      <td>20.00</td>\n",
              "    </tr>\n",
              "    <tr>\n",
              "      <th>64614</th>\n",
              "      <td>3175533D81D33F2FBABAC67E3C8EE974</td>\n",
              "      <td>GRUPO_0</td>\n",
              "      <td>YYYY</td>\n",
              "      <td>M</td>\n",
              "      <td>Basófilos (%)</td>\n",
              "      <td>2021-01-04</td>\n",
              "      <td>0.20</td>\n",
              "    </tr>\n",
              "    <tr>\n",
              "      <th>64615</th>\n",
              "      <td>3175533D81D33F2FBABAC67E3C8EE974</td>\n",
              "      <td>GRUPO_0</td>\n",
              "      <td>YYYY</td>\n",
              "      <td>M</td>\n",
              "      <td>CHCM</td>\n",
              "      <td>2021-01-04</td>\n",
              "      <td>33.10</td>\n",
              "    </tr>\n",
              "    <tr>\n",
              "      <th>64616</th>\n",
              "      <td>3175533D81D33F2FBABAC67E3C8EE974</td>\n",
              "      <td>GRUPO_0</td>\n",
              "      <td>YYYY</td>\n",
              "      <td>M</td>\n",
              "      <td>Creatinina</td>\n",
              "      <td>2021-01-04</td>\n",
              "      <td>1.12</td>\n",
              "    </tr>\n",
              "    <tr>\n",
              "      <th>64617</th>\n",
              "      <td>3175533D81D33F2FBABAC67E3C8EE974</td>\n",
              "      <td>GRUPO_0</td>\n",
              "      <td>YYYY</td>\n",
              "      <td>M</td>\n",
              "      <td>Cálculo p/não afrodescendente CKD-EPI</td>\n",
              "      <td>2021-01-04</td>\n",
              "      <td>83.00</td>\n",
              "    </tr>\n",
              "    <tr>\n",
              "      <th>...</th>\n",
              "      <td>...</td>\n",
              "      <td>...</td>\n",
              "      <td>...</td>\n",
              "      <td>...</td>\n",
              "      <td>...</td>\n",
              "      <td>...</td>\n",
              "      <td>...</td>\n",
              "    </tr>\n",
              "    <tr>\n",
              "      <th>337795</th>\n",
              "      <td>FCB285E2D847F170B2A049D3A7E75E55</td>\n",
              "      <td>GRUPO_3</td>\n",
              "      <td>YYYY</td>\n",
              "      <td>M</td>\n",
              "      <td>Volume plaquetário médio</td>\n",
              "      <td>2020-10-30</td>\n",
              "      <td>9.60</td>\n",
              "    </tr>\n",
              "    <tr>\n",
              "      <th>337796</th>\n",
              "      <td>FCB285E2D847F170B2A049D3A7E75E55</td>\n",
              "      <td>GRUPO_3</td>\n",
              "      <td>YYYY</td>\n",
              "      <td>M</td>\n",
              "      <td>pCO2 venoso</td>\n",
              "      <td>2020-10-30</td>\n",
              "      <td>36.00</td>\n",
              "    </tr>\n",
              "    <tr>\n",
              "      <th>337797</th>\n",
              "      <td>FCB285E2D847F170B2A049D3A7E75E55</td>\n",
              "      <td>GRUPO_3</td>\n",
              "      <td>YYYY</td>\n",
              "      <td>M</td>\n",
              "      <td>pH venoso</td>\n",
              "      <td>2020-10-30</td>\n",
              "      <td>7.30</td>\n",
              "    </tr>\n",
              "    <tr>\n",
              "      <th>337798</th>\n",
              "      <td>FCB285E2D847F170B2A049D3A7E75E55</td>\n",
              "      <td>GRUPO_3</td>\n",
              "      <td>YYYY</td>\n",
              "      <td>M</td>\n",
              "      <td>pH, urina</td>\n",
              "      <td>2020-10-30</td>\n",
              "      <td>5.00</td>\n",
              "    </tr>\n",
              "    <tr>\n",
              "      <th>337799</th>\n",
              "      <td>FCB285E2D847F170B2A049D3A7E75E55</td>\n",
              "      <td>GRUPO_3</td>\n",
              "      <td>YYYY</td>\n",
              "      <td>M</td>\n",
              "      <td>pO2 venoso</td>\n",
              "      <td>2020-10-30</td>\n",
              "      <td>35.00</td>\n",
              "    </tr>\n",
              "  </tbody>\n",
              "</table>\n",
              "<p>567 rows × 7 columns</p>\n",
              "</div>"
            ],
            "text/plain": [
              "                             ID_PACIENTE    GRUPO Idade Sexo  \\\n",
              "64613   3175533D81D33F2FBABAC67E3C8EE974  GRUPO_0  YYYY    M   \n",
              "64614   3175533D81D33F2FBABAC67E3C8EE974  GRUPO_0  YYYY    M   \n",
              "64615   3175533D81D33F2FBABAC67E3C8EE974  GRUPO_0  YYYY    M   \n",
              "64616   3175533D81D33F2FBABAC67E3C8EE974  GRUPO_0  YYYY    M   \n",
              "64617   3175533D81D33F2FBABAC67E3C8EE974  GRUPO_0  YYYY    M   \n",
              "...                                  ...      ...   ...  ...   \n",
              "337795  FCB285E2D847F170B2A049D3A7E75E55  GRUPO_3  YYYY    M   \n",
              "337796  FCB285E2D847F170B2A049D3A7E75E55  GRUPO_3  YYYY    M   \n",
              "337797  FCB285E2D847F170B2A049D3A7E75E55  GRUPO_3  YYYY    M   \n",
              "337798  FCB285E2D847F170B2A049D3A7E75E55  GRUPO_3  YYYY    M   \n",
              "337799  FCB285E2D847F170B2A049D3A7E75E55  GRUPO_3  YYYY    M   \n",
              "\n",
              "                                   DE_ANALITO   DT_COLETA  DE_RESULTADO  \n",
              "64613                               Basófilos  2021-01-04         20.00  \n",
              "64614                           Basófilos (%)  2021-01-04          0.20  \n",
              "64615                                    CHCM  2021-01-04         33.10  \n",
              "64616                              Creatinina  2021-01-04          1.12  \n",
              "64617   Cálculo p/não afrodescendente CKD-EPI  2021-01-04         83.00  \n",
              "...                                       ...         ...           ...  \n",
              "337795               Volume plaquetário médio  2020-10-30          9.60  \n",
              "337796                            pCO2 venoso  2020-10-30         36.00  \n",
              "337797                              pH venoso  2020-10-30          7.30  \n",
              "337798                              pH, urina  2020-10-30          5.00  \n",
              "337799                             pO2 venoso  2020-10-30         35.00  \n",
              "\n",
              "[567 rows x 7 columns]"
            ]
          },
          "execution_count": 318,
          "metadata": {},
          "output_type": "execute_result"
        }
      ],
      "source": [
        "AL7[ AL7['Idade'] == 'YYYY']"
      ]
    },
    {
      "cell_type": "markdown",
      "metadata": {
        "id": "2NRvzI2SrY96"
      },
      "source": [
        "#### **FILTRO 9: ELIMINANDO LINHAS COM DATA DE NASCIMENTO AAAA OU YYYY**"
      ]
    },
    {
      "cell_type": "code",
      "execution_count": 319,
      "metadata": {},
      "outputs": [
        {
          "data": {
            "text/plain": [
              "float"
            ]
          },
          "execution_count": 319,
          "metadata": {},
          "output_type": "execute_result"
        }
      ],
      "source": [
        "type(np.nan)"
      ]
    },
    {
      "cell_type": "code",
      "execution_count": 320,
      "metadata": {
        "id": "cd1_bIEZWfgL"
      },
      "outputs": [],
      "source": [
        "# Elimina linhas com ano de nascimento = 'AAAA' ou 'YYYY'\n",
        "AL7.drop(AL7.loc[AL7['Idade']=='AAAA'].index, inplace=True)\n",
        "AL7.drop(AL7.loc[AL7['Idade']=='YYYY'].index, inplace=True)"
      ]
    },
    {
      "cell_type": "code",
      "execution_count": 321,
      "metadata": {},
      "outputs": [
        {
          "data": {
            "text/plain": [
              "array(['1967', '1968', '1980', '1990', '1948', '1992', '1985', '1956',\n",
              "       '1953', '1977', '1999', '2002', '1970', '1963', '1989', '1965',\n",
              "       '1974', '1987', '1979', '1991', '1945', '1984', '1993', '2000',\n",
              "       '1951', '1964', '1981', '1955', '1982', '1995', '1972', '1997',\n",
              "       '1958', '2008', '1944', '1961', '1983', '1996', '1986', '1957',\n",
              "       '1998', '1938', '1988', '1962', '2013', '1978', '1959', '1976',\n",
              "       '1937', '1975', '1950', '1966', '1946', '1940', '1973', '1949',\n",
              "       '2018', '2014', '1969', '1954', '2004', '1971', '1934', '1943',\n",
              "       '2010', '1942', '1947', '1960', '1994', '1939', '2007', '2012',\n",
              "       '2001', '2009', '1952', '2019', '1941', '1936', '2020', '1935',\n",
              "       '2017', '2005', '2003', '1933', '2016', '2006', '2011', '2015',\n",
              "       '1931', '1932'], dtype=object)"
            ]
          },
          "execution_count": 321,
          "metadata": {},
          "output_type": "execute_result"
        }
      ],
      "source": [
        "AL7['Idade'].unique()"
      ]
    },
    {
      "cell_type": "code",
      "execution_count": 322,
      "metadata": {},
      "outputs": [
        {
          "data": {
            "text/plain": [
              "(0, 7)"
            ]
          },
          "metadata": {},
          "output_type": "display_data"
        },
        {
          "data": {
            "text/html": [
              "<div>\n",
              "<style scoped>\n",
              "    .dataframe tbody tr th:only-of-type {\n",
              "        vertical-align: middle;\n",
              "    }\n",
              "\n",
              "    .dataframe tbody tr th {\n",
              "        vertical-align: top;\n",
              "    }\n",
              "\n",
              "    .dataframe thead th {\n",
              "        text-align: right;\n",
              "    }\n",
              "</style>\n",
              "<table border=\"1\" class=\"dataframe\">\n",
              "  <thead>\n",
              "    <tr style=\"text-align: right;\">\n",
              "      <th></th>\n",
              "      <th>ID_PACIENTE</th>\n",
              "      <th>GRUPO</th>\n",
              "      <th>Idade</th>\n",
              "      <th>Sexo</th>\n",
              "      <th>DE_ANALITO</th>\n",
              "      <th>DT_COLETA</th>\n",
              "      <th>DE_RESULTADO</th>\n",
              "    </tr>\n",
              "  </thead>\n",
              "  <tbody>\n",
              "  </tbody>\n",
              "</table>\n",
              "</div>"
            ],
            "text/plain": [
              "Empty DataFrame\n",
              "Columns: [ID_PACIENTE, GRUPO, Idade, Sexo, DE_ANALITO, DT_COLETA, DE_RESULTADO]\n",
              "Index: []"
            ]
          },
          "execution_count": 322,
          "metadata": {},
          "output_type": "execute_result"
        }
      ],
      "source": [
        "display(AL7[AL7['Idade']!=AL7['Idade']].shape)\n",
        "\n",
        "AL7[AL7['Idade']!=AL7['Idade']]"
      ]
    },
    {
      "cell_type": "code",
      "execution_count": 323,
      "metadata": {
        "id": "9_gChBcIWzPt"
      },
      "outputs": [],
      "source": [
        "AL7['Idade'] = AL7['Idade'].astype(int)"
      ]
    },
    {
      "cell_type": "code",
      "execution_count": 324,
      "metadata": {
        "colab": {
          "base_uri": "https://localhost:8080/",
          "height": 143
        },
        "id": "apIR7jtxQlEW",
        "outputId": "e962fa32-1885-4e6a-9aed-8fc43bd0e7b7"
      },
      "outputs": [
        {
          "data": {
            "text/html": [
              "<div>\n",
              "<style scoped>\n",
              "    .dataframe tbody tr th:only-of-type {\n",
              "        vertical-align: middle;\n",
              "    }\n",
              "\n",
              "    .dataframe tbody tr th {\n",
              "        vertical-align: top;\n",
              "    }\n",
              "\n",
              "    .dataframe thead th {\n",
              "        text-align: right;\n",
              "    }\n",
              "</style>\n",
              "<table border=\"1\" class=\"dataframe\">\n",
              "  <thead>\n",
              "    <tr style=\"text-align: right;\">\n",
              "      <th></th>\n",
              "      <th>ID_PACIENTE</th>\n",
              "      <th>GRUPO</th>\n",
              "      <th>Idade</th>\n",
              "      <th>Sexo</th>\n",
              "      <th>DE_ANALITO</th>\n",
              "      <th>DT_COLETA</th>\n",
              "      <th>DE_RESULTADO</th>\n",
              "    </tr>\n",
              "  </thead>\n",
              "  <tbody>\n",
              "    <tr>\n",
              "      <th>0</th>\n",
              "      <td>00017961865C4F766FDBB3CD8FE0BFB0</td>\n",
              "      <td>GRUPO_0</td>\n",
              "      <td>54</td>\n",
              "      <td>M</td>\n",
              "      <td>ALT (TGP)</td>\n",
              "      <td>2020-08-25</td>\n",
              "      <td>26.0</td>\n",
              "    </tr>\n",
              "    <tr>\n",
              "      <th>1</th>\n",
              "      <td>00017961865C4F766FDBB3CD8FE0BFB0</td>\n",
              "      <td>GRUPO_0</td>\n",
              "      <td>54</td>\n",
              "      <td>M</td>\n",
              "      <td>AST (TGO)</td>\n",
              "      <td>2020-08-25</td>\n",
              "      <td>24.0</td>\n",
              "    </tr>\n",
              "    <tr>\n",
              "      <th>2</th>\n",
              "      <td>00017961865C4F766FDBB3CD8FE0BFB0</td>\n",
              "      <td>GRUPO_0</td>\n",
              "      <td>54</td>\n",
              "      <td>M</td>\n",
              "      <td>Basófilos</td>\n",
              "      <td>2020-08-25</td>\n",
              "      <td>40.0</td>\n",
              "    </tr>\n",
              "  </tbody>\n",
              "</table>\n",
              "</div>"
            ],
            "text/plain": [
              "                        ID_PACIENTE    GRUPO  Idade Sexo DE_ANALITO  \\\n",
              "0  00017961865C4F766FDBB3CD8FE0BFB0  GRUPO_0     54    M  ALT (TGP)   \n",
              "1  00017961865C4F766FDBB3CD8FE0BFB0  GRUPO_0     54    M  AST (TGO)   \n",
              "2  00017961865C4F766FDBB3CD8FE0BFB0  GRUPO_0     54    M  Basófilos   \n",
              "\n",
              "    DT_COLETA  DE_RESULTADO  \n",
              "0  2020-08-25          26.0  \n",
              "1  2020-08-25          24.0  \n",
              "2  2020-08-25          40.0  "
            ]
          },
          "execution_count": 324,
          "metadata": {},
          "output_type": "execute_result"
        }
      ],
      "source": [
        "# Considera-se que o ano de coleta é 2021\n",
        "\n",
        "AL7['Idade'] = 2021 - AL7['Idade']\n",
        "\n",
        "AL7.head(3)"
      ]
    },
    {
      "cell_type": "code",
      "execution_count": 325,
      "metadata": {},
      "outputs": [
        {
          "data": {
            "text/html": [
              "<div>\n",
              "<style scoped>\n",
              "    .dataframe tbody tr th:only-of-type {\n",
              "        vertical-align: middle;\n",
              "    }\n",
              "\n",
              "    .dataframe tbody tr th {\n",
              "        vertical-align: top;\n",
              "    }\n",
              "\n",
              "    .dataframe thead th {\n",
              "        text-align: right;\n",
              "    }\n",
              "</style>\n",
              "<table border=\"1\" class=\"dataframe\">\n",
              "  <thead>\n",
              "    <tr style=\"text-align: right;\">\n",
              "      <th></th>\n",
              "      <th>ID_PACIENTE</th>\n",
              "      <th>GRUPO</th>\n",
              "      <th>Idade</th>\n",
              "      <th>Sexo</th>\n",
              "      <th>DE_ANALITO</th>\n",
              "      <th>DT_COLETA</th>\n",
              "      <th>DE_RESULTADO</th>\n",
              "    </tr>\n",
              "  </thead>\n",
              "  <tbody>\n",
              "  </tbody>\n",
              "</table>\n",
              "</div>"
            ],
            "text/plain": [
              "Empty DataFrame\n",
              "Columns: [ID_PACIENTE, GRUPO, Idade, Sexo, DE_ANALITO, DT_COLETA, DE_RESULTADO]\n",
              "Index: []"
            ]
          },
          "execution_count": 325,
          "metadata": {},
          "output_type": "execute_result"
        }
      ],
      "source": [
        "AL7[AL7['ID_PACIENTE'] == '0047AF5116BC8AC8EFE6BBB98DA14DFA'].head(3)"
      ]
    },
    {
      "cell_type": "code",
      "execution_count": 326,
      "metadata": {},
      "outputs": [
        {
          "data": {
            "text/html": [
              "<div>\n",
              "<style scoped>\n",
              "    .dataframe tbody tr th:only-of-type {\n",
              "        vertical-align: middle;\n",
              "    }\n",
              "\n",
              "    .dataframe tbody tr th {\n",
              "        vertical-align: top;\n",
              "    }\n",
              "\n",
              "    .dataframe thead th {\n",
              "        text-align: right;\n",
              "    }\n",
              "</style>\n",
              "<table border=\"1\" class=\"dataframe\">\n",
              "  <thead>\n",
              "    <tr style=\"text-align: right;\">\n",
              "      <th></th>\n",
              "      <th>ID_PACIENTE</th>\n",
              "      <th>GRUPO</th>\n",
              "      <th>Idade</th>\n",
              "      <th>Sexo</th>\n",
              "      <th>DE_ANALITO</th>\n",
              "      <th>DT_COLETA</th>\n",
              "      <th>DE_RESULTADO</th>\n",
              "    </tr>\n",
              "  </thead>\n",
              "  <tbody>\n",
              "  </tbody>\n",
              "</table>\n",
              "</div>"
            ],
            "text/plain": [
              "Empty DataFrame\n",
              "Columns: [ID_PACIENTE, GRUPO, Idade, Sexo, DE_ANALITO, DT_COLETA, DE_RESULTADO]\n",
              "Index: []"
            ]
          },
          "execution_count": 326,
          "metadata": {},
          "output_type": "execute_result"
        }
      ],
      "source": [
        "AL7[AL7['ID_PACIENTE'] == '0047AF5116BC8AC8EFE6BBB98DA14DFA'].head(3)"
      ]
    },
    {
      "cell_type": "code",
      "execution_count": 327,
      "metadata": {},
      "outputs": [
        {
          "data": {
            "text/html": [
              "<div>\n",
              "<style scoped>\n",
              "    .dataframe tbody tr th:only-of-type {\n",
              "        vertical-align: middle;\n",
              "    }\n",
              "\n",
              "    .dataframe tbody tr th {\n",
              "        vertical-align: top;\n",
              "    }\n",
              "\n",
              "    .dataframe thead th {\n",
              "        text-align: right;\n",
              "    }\n",
              "</style>\n",
              "<table border=\"1\" class=\"dataframe\">\n",
              "  <thead>\n",
              "    <tr style=\"text-align: right;\">\n",
              "      <th></th>\n",
              "      <th>ID_PACIENTE</th>\n",
              "      <th>GRUPO</th>\n",
              "      <th>Idade</th>\n",
              "      <th>Sexo</th>\n",
              "      <th>DE_ANALITO</th>\n",
              "      <th>DT_COLETA</th>\n",
              "      <th>DE_RESULTADO</th>\n",
              "    </tr>\n",
              "  </thead>\n",
              "  <tbody>\n",
              "  </tbody>\n",
              "</table>\n",
              "</div>"
            ],
            "text/plain": [
              "Empty DataFrame\n",
              "Columns: [ID_PACIENTE, GRUPO, Idade, Sexo, DE_ANALITO, DT_COLETA, DE_RESULTADO]\n",
              "Index: []"
            ]
          },
          "execution_count": 327,
          "metadata": {},
          "output_type": "execute_result"
        }
      ],
      "source": [
        "AL7_nan = AL7[AL7['Idade'] != AL7['Idade']]\n",
        "\n",
        "AL7_nan"
      ]
    },
    {
      "cell_type": "code",
      "execution_count": 328,
      "metadata": {},
      "outputs": [
        {
          "data": {
            "text/plain": [
              "0"
            ]
          },
          "execution_count": 328,
          "metadata": {},
          "output_type": "execute_result"
        }
      ],
      "source": [
        "AL7_nan['ID_PACIENTE'].nunique()"
      ]
    },
    {
      "cell_type": "code",
      "execution_count": 329,
      "metadata": {
        "colab": {
          "base_uri": "https://localhost:8080/"
        },
        "id": "SiXbx5f0d2Ix",
        "outputId": "b51bd280-ff99-41d7-d23c-ac5e52b816e2"
      },
      "outputs": [
        {
          "data": {
            "text/plain": [
              "(338308, 7)"
            ]
          },
          "execution_count": 329,
          "metadata": {},
          "output_type": "execute_result"
        }
      ],
      "source": [
        "AL7.shape"
      ]
    },
    {
      "cell_type": "code",
      "execution_count": 330,
      "metadata": {
        "colab": {
          "base_uri": "https://localhost:8080/"
        },
        "id": "ysmCwSHJJslJ",
        "outputId": "e59c6363-0777-4785-ea3e-acf16bb588e2"
      },
      "outputs": [
        {
          "data": {
            "text/plain": [
              "7894"
            ]
          },
          "execution_count": 330,
          "metadata": {},
          "output_type": "execute_result"
        }
      ],
      "source": [
        "AL7['ID_PACIENTE'].nunique()"
      ]
    },
    {
      "cell_type": "code",
      "execution_count": 331,
      "metadata": {
        "id": "XLRSv_xphzZH"
      },
      "outputs": [],
      "source": [
        "#AL7.to_excel(\"ANALISE_SIRIO_FINAL_v2.xlsx\")"
      ]
    },
    {
      "cell_type": "markdown",
      "metadata": {
        "id": "_4VJH9gEkFOm"
      },
      "source": [
        "#### **FILTRO 10: PIVOTAMENTO PARA OS EXAMES SE TORNAREM COLUNAS**"
      ]
    },
    {
      "cell_type": "code",
      "execution_count": 332,
      "metadata": {
        "colab": {
          "base_uri": "https://localhost:8080/",
          "height": 352
        },
        "id": "6aAZloopgduh",
        "outputId": "5584baef-9f41-4a77-fe64-a602ee3acbaa"
      },
      "outputs": [
        {
          "name": "stderr",
          "output_type": "stream",
          "text": [
            "C:\\Users\\flopes\\AppData\\Local\\Temp\\ipykernel_21500\\2783483565.py:1: FutureWarning: The provided callable <function mean at 0x000001EAE65FD620> is currently using DataFrameGroupBy.mean. In a future version of pandas, the provided callable will be used directly. To keep current behavior pass the string \"mean\" instead.\n",
            "  sirio_aprendizado = AL7.pivot_table(index=['ID_PACIENTE','GRUPO','Idade','Sexo'],\n"
          ]
        },
        {
          "data": {
            "text/html": [
              "<div>\n",
              "<style scoped>\n",
              "    .dataframe tbody tr th:only-of-type {\n",
              "        vertical-align: middle;\n",
              "    }\n",
              "\n",
              "    .dataframe tbody tr th {\n",
              "        vertical-align: top;\n",
              "    }\n",
              "\n",
              "    .dataframe thead tr th {\n",
              "        text-align: left;\n",
              "    }\n",
              "</style>\n",
              "<table border=\"1\" class=\"dataframe\">\n",
              "  <thead>\n",
              "    <tr>\n",
              "      <th></th>\n",
              "      <th>ID_PACIENTE</th>\n",
              "      <th>GRUPO</th>\n",
              "      <th>Idade</th>\n",
              "      <th>Sexo</th>\n",
              "      <th colspan=\"17\" halign=\"left\">mean</th>\n",
              "    </tr>\n",
              "    <tr>\n",
              "      <th></th>\n",
              "      <th></th>\n",
              "      <th></th>\n",
              "      <th></th>\n",
              "      <th></th>\n",
              "      <th colspan=\"17\" halign=\"left\">DE_RESULTADO</th>\n",
              "    </tr>\n",
              "    <tr>\n",
              "      <th>DE_ANALITO</th>\n",
              "      <th></th>\n",
              "      <th></th>\n",
              "      <th></th>\n",
              "      <th></th>\n",
              "      <th>11-Desoxicorticosterona</th>\n",
              "      <th>11-Desoxicortisol</th>\n",
              "      <th>17-Alfa-Hidroxiprog.</th>\n",
              "      <th>17-Hidroxi Pregnenolona</th>\n",
              "      <th>183</th>\n",
              "      <th>25OH-Vitamina D Total</th>\n",
              "      <th>...</th>\n",
              "      <th>Ácido ascorbico, plasma</th>\n",
              "      <th>Ácido aspártico</th>\n",
              "      <th>Ácido fólico</th>\n",
              "      <th>Ácido glutâmico</th>\n",
              "      <th>Ácido metilmalonico, soro</th>\n",
              "      <th>Ácido Úrico</th>\n",
              "      <th>Ácido Úrico, urina</th>\n",
              "      <th>Ácidos biliares totais</th>\n",
              "      <th>Ésteres de Carnitina (EC)</th>\n",
              "      <th>Índice de Green &amp; King</th>\n",
              "    </tr>\n",
              "  </thead>\n",
              "  <tbody>\n",
              "    <tr>\n",
              "      <th>0</th>\n",
              "      <td>00017961865C4F766FDBB3CD8FE0BFB0</td>\n",
              "      <td>GRUPO_0</td>\n",
              "      <td>54</td>\n",
              "      <td>M</td>\n",
              "      <td>NaN</td>\n",
              "      <td>NaN</td>\n",
              "      <td>NaN</td>\n",
              "      <td>NaN</td>\n",
              "      <td>NaN</td>\n",
              "      <td>NaN</td>\n",
              "      <td>...</td>\n",
              "      <td>NaN</td>\n",
              "      <td>NaN</td>\n",
              "      <td>NaN</td>\n",
              "      <td>NaN</td>\n",
              "      <td>NaN</td>\n",
              "      <td>NaN</td>\n",
              "      <td>NaN</td>\n",
              "      <td>NaN</td>\n",
              "      <td>NaN</td>\n",
              "      <td>NaN</td>\n",
              "    </tr>\n",
              "    <tr>\n",
              "      <th>1</th>\n",
              "      <td>0003B368F65004E14332CD44BEE6E600</td>\n",
              "      <td>GRUPO_0</td>\n",
              "      <td>53</td>\n",
              "      <td>F</td>\n",
              "      <td>NaN</td>\n",
              "      <td>NaN</td>\n",
              "      <td>NaN</td>\n",
              "      <td>NaN</td>\n",
              "      <td>NaN</td>\n",
              "      <td>NaN</td>\n",
              "      <td>...</td>\n",
              "      <td>NaN</td>\n",
              "      <td>NaN</td>\n",
              "      <td>NaN</td>\n",
              "      <td>NaN</td>\n",
              "      <td>NaN</td>\n",
              "      <td>NaN</td>\n",
              "      <td>NaN</td>\n",
              "      <td>NaN</td>\n",
              "      <td>NaN</td>\n",
              "      <td>NaN</td>\n",
              "    </tr>\n",
              "    <tr>\n",
              "      <th>2</th>\n",
              "      <td>000F0BC139D2846DB86AA32B8F05B215</td>\n",
              "      <td>GRUPO_0</td>\n",
              "      <td>41</td>\n",
              "      <td>M</td>\n",
              "      <td>NaN</td>\n",
              "      <td>NaN</td>\n",
              "      <td>NaN</td>\n",
              "      <td>NaN</td>\n",
              "      <td>NaN</td>\n",
              "      <td>NaN</td>\n",
              "      <td>...</td>\n",
              "      <td>NaN</td>\n",
              "      <td>NaN</td>\n",
              "      <td>NaN</td>\n",
              "      <td>NaN</td>\n",
              "      <td>NaN</td>\n",
              "      <td>6.9</td>\n",
              "      <td>NaN</td>\n",
              "      <td>NaN</td>\n",
              "      <td>NaN</td>\n",
              "      <td>NaN</td>\n",
              "    </tr>\n",
              "  </tbody>\n",
              "</table>\n",
              "<p>3 rows × 582 columns</p>\n",
              "</div>"
            ],
            "text/plain": [
              "                                 ID_PACIENTE    GRUPO Idade Sexo  \\\n",
              "                                                                   \n",
              "DE_ANALITO                                                         \n",
              "0           00017961865C4F766FDBB3CD8FE0BFB0  GRUPO_0    54    M   \n",
              "1           0003B368F65004E14332CD44BEE6E600  GRUPO_0    53    F   \n",
              "2           000F0BC139D2846DB86AA32B8F05B215  GRUPO_0    41    M   \n",
              "\n",
              "                              mean                                         \\\n",
              "                      DE_RESULTADO                                          \n",
              "DE_ANALITO 11-Desoxicorticosterona 11-Desoxicortisol 17-Alfa-Hidroxiprog.   \n",
              "0                              NaN               NaN                  NaN   \n",
              "1                              NaN               NaN                  NaN   \n",
              "2                              NaN               NaN                  NaN   \n",
              "\n",
              "                                                              ...  \\\n",
              "                                                              ...   \n",
              "DE_ANALITO 17-Hidroxi Pregnenolona 183 25OH-Vitamina D Total  ...   \n",
              "0                              NaN NaN                   NaN  ...   \n",
              "1                              NaN NaN                   NaN  ...   \n",
              "2                              NaN NaN                   NaN  ...   \n",
              "\n",
              "                                                                 \\\n",
              "                                                                  \n",
              "DE_ANALITO Ácido ascorbico, plasma Ácido aspártico Ácido fólico   \n",
              "0                              NaN             NaN          NaN   \n",
              "1                              NaN             NaN          NaN   \n",
              "2                              NaN             NaN          NaN   \n",
              "\n",
              "                                                                  \\\n",
              "                                                                   \n",
              "DE_ANALITO Ácido glutâmico Ácido metilmalonico, soro Ácido Úrico   \n",
              "0                      NaN                       NaN         NaN   \n",
              "1                      NaN                       NaN         NaN   \n",
              "2                      NaN                       NaN         6.9   \n",
              "\n",
              "                                                      \\\n",
              "                                                       \n",
              "DE_ANALITO Ácido Úrico, urina Ácidos biliares totais   \n",
              "0                         NaN                    NaN   \n",
              "1                         NaN                    NaN   \n",
              "2                         NaN                    NaN   \n",
              "\n",
              "                                                             \n",
              "                                                             \n",
              "DE_ANALITO Ésteres de Carnitina (EC) Índice de Green & King  \n",
              "0                                NaN                    NaN  \n",
              "1                                NaN                    NaN  \n",
              "2                                NaN                    NaN  \n",
              "\n",
              "[3 rows x 582 columns]"
            ]
          },
          "execution_count": 332,
          "metadata": {},
          "output_type": "execute_result"
        }
      ],
      "source": [
        "sirio_aprendizado = AL7.pivot_table(index=['ID_PACIENTE','GRUPO','Idade','Sexo'], \n",
        "                                      \n",
        "                                      values=['DE_RESULTADO'],\n",
        "\n",
        "                                      columns=['DE_ANALITO'],\n",
        "\n",
        "                                      aggfunc=[np.mean]).reset_index()\n",
        "\n",
        "sirio_aprendizado.head(3)"
      ]
    },
    {
      "cell_type": "code",
      "execution_count": 333,
      "metadata": {},
      "outputs": [
        {
          "data": {
            "text/plain": [
              "7894"
            ]
          },
          "execution_count": 333,
          "metadata": {},
          "output_type": "execute_result"
        }
      ],
      "source": [
        "sirio_aprendizado[\"ID_PACIENTE\"].nunique()"
      ]
    },
    {
      "cell_type": "code",
      "execution_count": 334,
      "metadata": {
        "id": "x3F2PzLKJL5w"
      },
      "outputs": [],
      "source": [
        "sirio_aprendizado.to_csv('pivot_table_V4.csv', sep='|',encoding='utf-8')\n",
        "#analise_sirio_final.to_excel(\"ANALISE_SIRIO_FINAL_v3.xlsx\")"
      ]
    },
    {
      "cell_type": "code",
      "execution_count": 335,
      "metadata": {
        "colab": {
          "base_uri": "https://localhost:8080/",
          "height": 528
        },
        "id": "HKsrOePqLAkX",
        "outputId": "39abdb96-2842-40d1-b9b3-c88e3074c36c"
      },
      "outputs": [
        {
          "name": "stderr",
          "output_type": "stream",
          "text": [
            "C:\\Users\\flopes\\AppData\\Local\\Temp\\ipykernel_21500\\23707804.py:3: DtypeWarning: Columns (0,5,6,7,8,9,10,11,12,13,14,15,16,17,18,19,20,21,22,23,24,25,26,27,28,29,30,31,32,33,34,35,36,37,38,39,40,41,42,43,44,45,46,47,48,49,50,51,52,53,54,55,56,57,58,59,60,61,62,63,64,65,66,67,68,69,70,71,72,73,74,75,76,77,78,79,80,81,82,83,84,85,86,87,88,89,90,91,92,93,94,95,96,97,98,99,100,101,102,103,104,105,106,107,108,109,110,111,112,113,114,115,116,117,118,119,120,121,122,123,124,125,126,127,128,129,130,131,132,133,134,135,136,137,138,139,140,141,142,143,144,145,146,147,148,149,150,151,152,153,154,155,156,157,158,159,160,161,162,163,164,165,166,167,168,169,170,171,172,173,174,175,176,177,178,179,180,181,182,183,184,185,186,187,188,189,190,191,192,193,194,195,196,197,198,199,200,201,202,203,204,205,206,207,208,209,210,211,212,213,214,215,216,217,218,219,220,221,222,223,224,225,226,227,228,229,230,231,232,233,234,235,236,237,238,239,240,241,242,243,244,245,246,247,248,249,250,251,252,253,254,255,256,257,258,259,260,261,262,263,264,265,266,267,268,269,270,271,272,273,274,275,276,277,278,279,280,281,282,283,284,285,286,287,288,289,290,291,292,293,294,295,296,297,298,299,300,301,302,303,304,305,306,307,308,309,310,311,312,313,314,315,316,317,318,319,320,321,322,323,324,325,326,327,328,329,330,331,332,333,334,335,336,337,338,339,340,341,342,343,344,345,346,347,348,349,350,351,352,353,354,355,356,357,358,359,360,361,362,363,364,365,366,367,368,369,370,371,372,373,374,375,376,377,378,379,380,381,382,383,384,385,386,387,388,389,390,391,392,393,394,395,396,397,398,399,400,401,402,403,404,405,406,407,408,409,410,411,412,413,414,415,416,417,418,419,420,421,422,423,424,425,426,427,428,429,430,431,432,433,434,435,436,437,438,439,440,441,442,443,444,445,446,447,448,449,450,451,452,453,454,455,456,457,458,459,460,461,462,463,464,465,466,467,468,469,470,471,472,473,474,475,476,477,478,479,480,481,482,483,484,485,486,487,488,489,490,491,492,493,494,495,496,497,498,499,500,501,502,503,504,505,506,507,508,509,510,511,512,513,514,515,516,517,518,519,520,521,522,523,524,525,526,527,528,529,530,531,532,533,534,535,536,537,538,539,540,541,542,543,544,545,546,547,548,549,550,551,552,553,554,555,556,557,558,559,560,561,562,563,564,565,566,567,568,569,570,571,572,573,574,575,576,577,578,579,580,581,582) have mixed types. Specify dtype option on import or set low_memory=False.\n",
            "  nomes_exames = pd.read_csv('pivot_table_v4.csv', sep='|')\n"
          ]
        },
        {
          "data": {
            "text/html": [
              "<div>\n",
              "<style scoped>\n",
              "    .dataframe tbody tr th:only-of-type {\n",
              "        vertical-align: middle;\n",
              "    }\n",
              "\n",
              "    .dataframe tbody tr th {\n",
              "        vertical-align: top;\n",
              "    }\n",
              "\n",
              "    .dataframe thead th {\n",
              "        text-align: right;\n",
              "    }\n",
              "</style>\n",
              "<table border=\"1\" class=\"dataframe\">\n",
              "  <thead>\n",
              "    <tr style=\"text-align: right;\">\n",
              "      <th></th>\n",
              "      <th>Unnamed: 0</th>\n",
              "      <th>ID_PACIENTE</th>\n",
              "      <th>GRUPO</th>\n",
              "      <th>Idade</th>\n",
              "      <th>Sexo</th>\n",
              "      <th>mean</th>\n",
              "      <th>mean.1</th>\n",
              "      <th>mean.2</th>\n",
              "      <th>mean.3</th>\n",
              "      <th>mean.4</th>\n",
              "      <th>...</th>\n",
              "      <th>mean.568</th>\n",
              "      <th>mean.569</th>\n",
              "      <th>mean.570</th>\n",
              "      <th>mean.571</th>\n",
              "      <th>mean.572</th>\n",
              "      <th>mean.573</th>\n",
              "      <th>mean.574</th>\n",
              "      <th>mean.575</th>\n",
              "      <th>mean.576</th>\n",
              "      <th>mean.577</th>\n",
              "    </tr>\n",
              "  </thead>\n",
              "  <tbody>\n",
              "    <tr>\n",
              "      <th>0</th>\n",
              "      <td>NaN</td>\n",
              "      <td>NaN</td>\n",
              "      <td>NaN</td>\n",
              "      <td>NaN</td>\n",
              "      <td>NaN</td>\n",
              "      <td>DE_RESULTADO</td>\n",
              "      <td>DE_RESULTADO</td>\n",
              "      <td>DE_RESULTADO</td>\n",
              "      <td>DE_RESULTADO</td>\n",
              "      <td>DE_RESULTADO</td>\n",
              "      <td>...</td>\n",
              "      <td>DE_RESULTADO</td>\n",
              "      <td>DE_RESULTADO</td>\n",
              "      <td>DE_RESULTADO</td>\n",
              "      <td>DE_RESULTADO</td>\n",
              "      <td>DE_RESULTADO</td>\n",
              "      <td>DE_RESULTADO</td>\n",
              "      <td>DE_RESULTADO</td>\n",
              "      <td>DE_RESULTADO</td>\n",
              "      <td>DE_RESULTADO</td>\n",
              "      <td>DE_RESULTADO</td>\n",
              "    </tr>\n",
              "    <tr>\n",
              "      <th>1</th>\n",
              "      <td>DE_ANALITO</td>\n",
              "      <td>NaN</td>\n",
              "      <td>NaN</td>\n",
              "      <td>NaN</td>\n",
              "      <td>NaN</td>\n",
              "      <td>11-Desoxicorticosterona</td>\n",
              "      <td>11-Desoxicortisol</td>\n",
              "      <td>17-Alfa-Hidroxiprog.</td>\n",
              "      <td>17-Hidroxi Pregnenolona</td>\n",
              "      <td>183</td>\n",
              "      <td>...</td>\n",
              "      <td>Ácido ascorbico, plasma</td>\n",
              "      <td>Ácido aspártico</td>\n",
              "      <td>Ácido fólico</td>\n",
              "      <td>Ácido glutâmico</td>\n",
              "      <td>Ácido metilmalonico, soro</td>\n",
              "      <td>Ácido Úrico</td>\n",
              "      <td>Ácido Úrico, urina</td>\n",
              "      <td>Ácidos biliares totais</td>\n",
              "      <td>Ésteres de Carnitina (EC)</td>\n",
              "      <td>Índice de Green &amp; King</td>\n",
              "    </tr>\n",
              "    <tr>\n",
              "      <th>2</th>\n",
              "      <td>0</td>\n",
              "      <td>00017961865C4F766FDBB3CD8FE0BFB0</td>\n",
              "      <td>GRUPO_0</td>\n",
              "      <td>54.0</td>\n",
              "      <td>M</td>\n",
              "      <td>NaN</td>\n",
              "      <td>NaN</td>\n",
              "      <td>NaN</td>\n",
              "      <td>NaN</td>\n",
              "      <td>NaN</td>\n",
              "      <td>...</td>\n",
              "      <td>NaN</td>\n",
              "      <td>NaN</td>\n",
              "      <td>NaN</td>\n",
              "      <td>NaN</td>\n",
              "      <td>NaN</td>\n",
              "      <td>NaN</td>\n",
              "      <td>NaN</td>\n",
              "      <td>NaN</td>\n",
              "      <td>NaN</td>\n",
              "      <td>NaN</td>\n",
              "    </tr>\n",
              "    <tr>\n",
              "      <th>3</th>\n",
              "      <td>1</td>\n",
              "      <td>0003B368F65004E14332CD44BEE6E600</td>\n",
              "      <td>GRUPO_0</td>\n",
              "      <td>53.0</td>\n",
              "      <td>F</td>\n",
              "      <td>NaN</td>\n",
              "      <td>NaN</td>\n",
              "      <td>NaN</td>\n",
              "      <td>NaN</td>\n",
              "      <td>NaN</td>\n",
              "      <td>...</td>\n",
              "      <td>NaN</td>\n",
              "      <td>NaN</td>\n",
              "      <td>NaN</td>\n",
              "      <td>NaN</td>\n",
              "      <td>NaN</td>\n",
              "      <td>NaN</td>\n",
              "      <td>NaN</td>\n",
              "      <td>NaN</td>\n",
              "      <td>NaN</td>\n",
              "      <td>NaN</td>\n",
              "    </tr>\n",
              "    <tr>\n",
              "      <th>4</th>\n",
              "      <td>2</td>\n",
              "      <td>000F0BC139D2846DB86AA32B8F05B215</td>\n",
              "      <td>GRUPO_0</td>\n",
              "      <td>41.0</td>\n",
              "      <td>M</td>\n",
              "      <td>NaN</td>\n",
              "      <td>NaN</td>\n",
              "      <td>NaN</td>\n",
              "      <td>NaN</td>\n",
              "      <td>NaN</td>\n",
              "      <td>...</td>\n",
              "      <td>NaN</td>\n",
              "      <td>NaN</td>\n",
              "      <td>NaN</td>\n",
              "      <td>NaN</td>\n",
              "      <td>NaN</td>\n",
              "      <td>6.9</td>\n",
              "      <td>NaN</td>\n",
              "      <td>NaN</td>\n",
              "      <td>NaN</td>\n",
              "      <td>NaN</td>\n",
              "    </tr>\n",
              "    <tr>\n",
              "      <th>5</th>\n",
              "      <td>3</td>\n",
              "      <td>0028785949D91BD93442838FC898E229</td>\n",
              "      <td>GRUPO_0</td>\n",
              "      <td>31.0</td>\n",
              "      <td>F</td>\n",
              "      <td>NaN</td>\n",
              "      <td>NaN</td>\n",
              "      <td>NaN</td>\n",
              "      <td>NaN</td>\n",
              "      <td>NaN</td>\n",
              "      <td>...</td>\n",
              "      <td>NaN</td>\n",
              "      <td>NaN</td>\n",
              "      <td>NaN</td>\n",
              "      <td>NaN</td>\n",
              "      <td>NaN</td>\n",
              "      <td>NaN</td>\n",
              "      <td>NaN</td>\n",
              "      <td>NaN</td>\n",
              "      <td>NaN</td>\n",
              "      <td>NaN</td>\n",
              "    </tr>\n",
              "    <tr>\n",
              "      <th>6</th>\n",
              "      <td>4</td>\n",
              "      <td>00293E8E4B5FE4DABA62131274B3685A</td>\n",
              "      <td>GRUPO_0</td>\n",
              "      <td>73.0</td>\n",
              "      <td>F</td>\n",
              "      <td>NaN</td>\n",
              "      <td>NaN</td>\n",
              "      <td>NaN</td>\n",
              "      <td>NaN</td>\n",
              "      <td>NaN</td>\n",
              "      <td>...</td>\n",
              "      <td>NaN</td>\n",
              "      <td>NaN</td>\n",
              "      <td>NaN</td>\n",
              "      <td>NaN</td>\n",
              "      <td>NaN</td>\n",
              "      <td>NaN</td>\n",
              "      <td>NaN</td>\n",
              "      <td>NaN</td>\n",
              "      <td>NaN</td>\n",
              "      <td>NaN</td>\n",
              "    </tr>\n",
              "    <tr>\n",
              "      <th>7</th>\n",
              "      <td>5</td>\n",
              "      <td>002B919CC409B11DE52FB212379BE2CB</td>\n",
              "      <td>GRUPO_0</td>\n",
              "      <td>41.0</td>\n",
              "      <td>F</td>\n",
              "      <td>NaN</td>\n",
              "      <td>NaN</td>\n",
              "      <td>NaN</td>\n",
              "      <td>NaN</td>\n",
              "      <td>NaN</td>\n",
              "      <td>...</td>\n",
              "      <td>NaN</td>\n",
              "      <td>NaN</td>\n",
              "      <td>19.8</td>\n",
              "      <td>NaN</td>\n",
              "      <td>NaN</td>\n",
              "      <td>NaN</td>\n",
              "      <td>NaN</td>\n",
              "      <td>NaN</td>\n",
              "      <td>NaN</td>\n",
              "      <td>NaN</td>\n",
              "    </tr>\n",
              "    <tr>\n",
              "      <th>8</th>\n",
              "      <td>6</td>\n",
              "      <td>00304A2753E8C45EDA0477375AE41E87</td>\n",
              "      <td>GRUPO_0</td>\n",
              "      <td>29.0</td>\n",
              "      <td>F</td>\n",
              "      <td>NaN</td>\n",
              "      <td>NaN</td>\n",
              "      <td>NaN</td>\n",
              "      <td>NaN</td>\n",
              "      <td>NaN</td>\n",
              "      <td>...</td>\n",
              "      <td>NaN</td>\n",
              "      <td>NaN</td>\n",
              "      <td>NaN</td>\n",
              "      <td>NaN</td>\n",
              "      <td>NaN</td>\n",
              "      <td>NaN</td>\n",
              "      <td>NaN</td>\n",
              "      <td>NaN</td>\n",
              "      <td>NaN</td>\n",
              "      <td>NaN</td>\n",
              "    </tr>\n",
              "    <tr>\n",
              "      <th>9</th>\n",
              "      <td>7</td>\n",
              "      <td>003051C9B19101D1C10C5DC654384017</td>\n",
              "      <td>GRUPO_0</td>\n",
              "      <td>36.0</td>\n",
              "      <td>M</td>\n",
              "      <td>NaN</td>\n",
              "      <td>NaN</td>\n",
              "      <td>NaN</td>\n",
              "      <td>NaN</td>\n",
              "      <td>NaN</td>\n",
              "      <td>...</td>\n",
              "      <td>NaN</td>\n",
              "      <td>NaN</td>\n",
              "      <td>NaN</td>\n",
              "      <td>NaN</td>\n",
              "      <td>NaN</td>\n",
              "      <td>NaN</td>\n",
              "      <td>NaN</td>\n",
              "      <td>NaN</td>\n",
              "      <td>NaN</td>\n",
              "      <td>NaN</td>\n",
              "    </tr>\n",
              "  </tbody>\n",
              "</table>\n",
              "<p>10 rows × 583 columns</p>\n",
              "</div>"
            ],
            "text/plain": [
              "   Unnamed: 0                       ID_PACIENTE    GRUPO  Idade Sexo  \\\n",
              "0         NaN                               NaN      NaN    NaN  NaN   \n",
              "1  DE_ANALITO                               NaN      NaN    NaN  NaN   \n",
              "2           0  00017961865C4F766FDBB3CD8FE0BFB0  GRUPO_0   54.0    M   \n",
              "3           1  0003B368F65004E14332CD44BEE6E600  GRUPO_0   53.0    F   \n",
              "4           2  000F0BC139D2846DB86AA32B8F05B215  GRUPO_0   41.0    M   \n",
              "5           3  0028785949D91BD93442838FC898E229  GRUPO_0   31.0    F   \n",
              "6           4  00293E8E4B5FE4DABA62131274B3685A  GRUPO_0   73.0    F   \n",
              "7           5  002B919CC409B11DE52FB212379BE2CB  GRUPO_0   41.0    F   \n",
              "8           6  00304A2753E8C45EDA0477375AE41E87  GRUPO_0   29.0    F   \n",
              "9           7  003051C9B19101D1C10C5DC654384017  GRUPO_0   36.0    M   \n",
              "\n",
              "                      mean             mean.1                mean.2  \\\n",
              "0             DE_RESULTADO       DE_RESULTADO          DE_RESULTADO   \n",
              "1  11-Desoxicorticosterona  11-Desoxicortisol  17-Alfa-Hidroxiprog.   \n",
              "2                      NaN                NaN                   NaN   \n",
              "3                      NaN                NaN                   NaN   \n",
              "4                      NaN                NaN                   NaN   \n",
              "5                      NaN                NaN                   NaN   \n",
              "6                      NaN                NaN                   NaN   \n",
              "7                      NaN                NaN                   NaN   \n",
              "8                      NaN                NaN                   NaN   \n",
              "9                      NaN                NaN                   NaN   \n",
              "\n",
              "                    mean.3        mean.4  ...                 mean.568  \\\n",
              "0             DE_RESULTADO  DE_RESULTADO  ...             DE_RESULTADO   \n",
              "1  17-Hidroxi Pregnenolona           183  ...  Ácido ascorbico, plasma   \n",
              "2                      NaN           NaN  ...                      NaN   \n",
              "3                      NaN           NaN  ...                      NaN   \n",
              "4                      NaN           NaN  ...                      NaN   \n",
              "5                      NaN           NaN  ...                      NaN   \n",
              "6                      NaN           NaN  ...                      NaN   \n",
              "7                      NaN           NaN  ...                      NaN   \n",
              "8                      NaN           NaN  ...                      NaN   \n",
              "9                      NaN           NaN  ...                      NaN   \n",
              "\n",
              "          mean.569      mean.570         mean.571                   mean.572  \\\n",
              "0     DE_RESULTADO  DE_RESULTADO     DE_RESULTADO               DE_RESULTADO   \n",
              "1  Ácido aspártico  Ácido fólico  Ácido glutâmico  Ácido metilmalonico, soro   \n",
              "2              NaN           NaN              NaN                        NaN   \n",
              "3              NaN           NaN              NaN                        NaN   \n",
              "4              NaN           NaN              NaN                        NaN   \n",
              "5              NaN           NaN              NaN                        NaN   \n",
              "6              NaN           NaN              NaN                        NaN   \n",
              "7              NaN          19.8              NaN                        NaN   \n",
              "8              NaN           NaN              NaN                        NaN   \n",
              "9              NaN           NaN              NaN                        NaN   \n",
              "\n",
              "       mean.573            mean.574                mean.575  \\\n",
              "0  DE_RESULTADO        DE_RESULTADO            DE_RESULTADO   \n",
              "1   Ácido Úrico  Ácido Úrico, urina  Ácidos biliares totais   \n",
              "2           NaN                 NaN                     NaN   \n",
              "3           NaN                 NaN                     NaN   \n",
              "4           6.9                 NaN                     NaN   \n",
              "5           NaN                 NaN                     NaN   \n",
              "6           NaN                 NaN                     NaN   \n",
              "7           NaN                 NaN                     NaN   \n",
              "8           NaN                 NaN                     NaN   \n",
              "9           NaN                 NaN                     NaN   \n",
              "\n",
              "                    mean.576                mean.577  \n",
              "0               DE_RESULTADO            DE_RESULTADO  \n",
              "1  Ésteres de Carnitina (EC)  Índice de Green & King  \n",
              "2                        NaN                     NaN  \n",
              "3                        NaN                     NaN  \n",
              "4                        NaN                     NaN  \n",
              "5                        NaN                     NaN  \n",
              "6                        NaN                     NaN  \n",
              "7                        NaN                     NaN  \n",
              "8                        NaN                     NaN  \n",
              "9                        NaN                     NaN  \n",
              "\n",
              "[10 rows x 583 columns]"
            ]
          },
          "execution_count": 335,
          "metadata": {},
          "output_type": "execute_result"
        }
      ],
      "source": [
        "#nomes_exames = sirio_aprendizado\n",
        "\n",
        "nomes_exames = pd.read_csv('pivot_table_v4.csv', sep='|')\n",
        "\n",
        "nomes_exames.head(10)"
      ]
    },
    {
      "cell_type": "code",
      "execution_count": 336,
      "metadata": {
        "id": "El5RsJjCrNEc"
      },
      "outputs": [],
      "source": [
        "nomes_exames = nomes_exames.T"
      ]
    },
    {
      "cell_type": "code",
      "execution_count": 337,
      "metadata": {
        "colab": {
          "base_uri": "https://localhost:8080/",
          "height": 543
        },
        "id": "NNB6SahecqNv",
        "outputId": "796da095-1aa8-4164-f809-62c426adadd3"
      },
      "outputs": [
        {
          "data": {
            "text/html": [
              "<div>\n",
              "<style scoped>\n",
              "    .dataframe tbody tr th:only-of-type {\n",
              "        vertical-align: middle;\n",
              "    }\n",
              "\n",
              "    .dataframe tbody tr th {\n",
              "        vertical-align: top;\n",
              "    }\n",
              "\n",
              "    .dataframe thead th {\n",
              "        text-align: right;\n",
              "    }\n",
              "</style>\n",
              "<table border=\"1\" class=\"dataframe\">\n",
              "  <thead>\n",
              "    <tr style=\"text-align: right;\">\n",
              "      <th></th>\n",
              "      <th>0</th>\n",
              "      <th>1</th>\n",
              "      <th>2</th>\n",
              "      <th>3</th>\n",
              "      <th>4</th>\n",
              "      <th>5</th>\n",
              "      <th>6</th>\n",
              "      <th>7</th>\n",
              "      <th>8</th>\n",
              "      <th>9</th>\n",
              "      <th>...</th>\n",
              "      <th>7886</th>\n",
              "      <th>7887</th>\n",
              "      <th>7888</th>\n",
              "      <th>7889</th>\n",
              "      <th>7890</th>\n",
              "      <th>7891</th>\n",
              "      <th>7892</th>\n",
              "      <th>7893</th>\n",
              "      <th>7894</th>\n",
              "      <th>7895</th>\n",
              "    </tr>\n",
              "  </thead>\n",
              "  <tbody>\n",
              "    <tr>\n",
              "      <th>Unnamed: 0</th>\n",
              "      <td>NaN</td>\n",
              "      <td>DE_ANALITO</td>\n",
              "      <td>0</td>\n",
              "      <td>1</td>\n",
              "      <td>2</td>\n",
              "      <td>3</td>\n",
              "      <td>4</td>\n",
              "      <td>5</td>\n",
              "      <td>6</td>\n",
              "      <td>7</td>\n",
              "      <td>...</td>\n",
              "      <td>7884</td>\n",
              "      <td>7885</td>\n",
              "      <td>7886</td>\n",
              "      <td>7887</td>\n",
              "      <td>7888</td>\n",
              "      <td>7889</td>\n",
              "      <td>7890</td>\n",
              "      <td>7891</td>\n",
              "      <td>7892</td>\n",
              "      <td>7893</td>\n",
              "    </tr>\n",
              "    <tr>\n",
              "      <th>ID_PACIENTE</th>\n",
              "      <td>NaN</td>\n",
              "      <td>NaN</td>\n",
              "      <td>00017961865C4F766FDBB3CD8FE0BFB0</td>\n",
              "      <td>0003B368F65004E14332CD44BEE6E600</td>\n",
              "      <td>000F0BC139D2846DB86AA32B8F05B215</td>\n",
              "      <td>0028785949D91BD93442838FC898E229</td>\n",
              "      <td>00293E8E4B5FE4DABA62131274B3685A</td>\n",
              "      <td>002B919CC409B11DE52FB212379BE2CB</td>\n",
              "      <td>00304A2753E8C45EDA0477375AE41E87</td>\n",
              "      <td>003051C9B19101D1C10C5DC654384017</td>\n",
              "      <td>...</td>\n",
              "      <td>FFB440876DC059A0359FEFBA1D6FB28C</td>\n",
              "      <td>FFB771BFB8801D66BAA7AE28C9AC64B1</td>\n",
              "      <td>FFC2C69E4C6F4304621E1FFCC37C969C</td>\n",
              "      <td>FFDB2670EBEC7E27312B255796560B40</td>\n",
              "      <td>FFE4155F7729D10532AC0CC17BB61146</td>\n",
              "      <td>FFE724271952607EE4DA68C847297386</td>\n",
              "      <td>FFEC3898BAA04751EB00C108270B8F7E</td>\n",
              "      <td>FFEE2A236442ECF6D9042F39A8EA73FD</td>\n",
              "      <td>FFF5753408C98D5E0218931420B6AF85</td>\n",
              "      <td>FFFA1AB079C74F2EFEA6BA07E5B5DFC9</td>\n",
              "    </tr>\n",
              "    <tr>\n",
              "      <th>GRUPO</th>\n",
              "      <td>NaN</td>\n",
              "      <td>NaN</td>\n",
              "      <td>GRUPO_0</td>\n",
              "      <td>GRUPO_0</td>\n",
              "      <td>GRUPO_0</td>\n",
              "      <td>GRUPO_0</td>\n",
              "      <td>GRUPO_0</td>\n",
              "      <td>GRUPO_0</td>\n",
              "      <td>GRUPO_0</td>\n",
              "      <td>GRUPO_0</td>\n",
              "      <td>...</td>\n",
              "      <td>GRUPO_0</td>\n",
              "      <td>GRUPO_0</td>\n",
              "      <td>GRUPO_0</td>\n",
              "      <td>GRUPO_0</td>\n",
              "      <td>GRUPO_0</td>\n",
              "      <td>GRUPO_0</td>\n",
              "      <td>GRUPO_0</td>\n",
              "      <td>GRUPO_0</td>\n",
              "      <td>GRUPO_0</td>\n",
              "      <td>GRUPO_0</td>\n",
              "    </tr>\n",
              "    <tr>\n",
              "      <th>Idade</th>\n",
              "      <td>NaN</td>\n",
              "      <td>NaN</td>\n",
              "      <td>54.0</td>\n",
              "      <td>53.0</td>\n",
              "      <td>41.0</td>\n",
              "      <td>31.0</td>\n",
              "      <td>73.0</td>\n",
              "      <td>41.0</td>\n",
              "      <td>29.0</td>\n",
              "      <td>36.0</td>\n",
              "      <td>...</td>\n",
              "      <td>20.0</td>\n",
              "      <td>29.0</td>\n",
              "      <td>10.0</td>\n",
              "      <td>69.0</td>\n",
              "      <td>58.0</td>\n",
              "      <td>40.0</td>\n",
              "      <td>39.0</td>\n",
              "      <td>35.0</td>\n",
              "      <td>17.0</td>\n",
              "      <td>54.0</td>\n",
              "    </tr>\n",
              "    <tr>\n",
              "      <th>Sexo</th>\n",
              "      <td>NaN</td>\n",
              "      <td>NaN</td>\n",
              "      <td>M</td>\n",
              "      <td>F</td>\n",
              "      <td>M</td>\n",
              "      <td>F</td>\n",
              "      <td>F</td>\n",
              "      <td>F</td>\n",
              "      <td>F</td>\n",
              "      <td>M</td>\n",
              "      <td>...</td>\n",
              "      <td>M</td>\n",
              "      <td>M</td>\n",
              "      <td>M</td>\n",
              "      <td>M</td>\n",
              "      <td>F</td>\n",
              "      <td>F</td>\n",
              "      <td>M</td>\n",
              "      <td>F</td>\n",
              "      <td>F</td>\n",
              "      <td>F</td>\n",
              "    </tr>\n",
              "    <tr>\n",
              "      <th>mean</th>\n",
              "      <td>DE_RESULTADO</td>\n",
              "      <td>11-Desoxicorticosterona</td>\n",
              "      <td>NaN</td>\n",
              "      <td>NaN</td>\n",
              "      <td>NaN</td>\n",
              "      <td>NaN</td>\n",
              "      <td>NaN</td>\n",
              "      <td>NaN</td>\n",
              "      <td>NaN</td>\n",
              "      <td>NaN</td>\n",
              "      <td>...</td>\n",
              "      <td>NaN</td>\n",
              "      <td>NaN</td>\n",
              "      <td>NaN</td>\n",
              "      <td>NaN</td>\n",
              "      <td>NaN</td>\n",
              "      <td>NaN</td>\n",
              "      <td>NaN</td>\n",
              "      <td>NaN</td>\n",
              "      <td>NaN</td>\n",
              "      <td>NaN</td>\n",
              "    </tr>\n",
              "    <tr>\n",
              "      <th>mean.1</th>\n",
              "      <td>DE_RESULTADO</td>\n",
              "      <td>11-Desoxicortisol</td>\n",
              "      <td>NaN</td>\n",
              "      <td>NaN</td>\n",
              "      <td>NaN</td>\n",
              "      <td>NaN</td>\n",
              "      <td>NaN</td>\n",
              "      <td>NaN</td>\n",
              "      <td>NaN</td>\n",
              "      <td>NaN</td>\n",
              "      <td>...</td>\n",
              "      <td>NaN</td>\n",
              "      <td>NaN</td>\n",
              "      <td>NaN</td>\n",
              "      <td>NaN</td>\n",
              "      <td>NaN</td>\n",
              "      <td>NaN</td>\n",
              "      <td>NaN</td>\n",
              "      <td>NaN</td>\n",
              "      <td>NaN</td>\n",
              "      <td>NaN</td>\n",
              "    </tr>\n",
              "    <tr>\n",
              "      <th>mean.2</th>\n",
              "      <td>DE_RESULTADO</td>\n",
              "      <td>17-Alfa-Hidroxiprog.</td>\n",
              "      <td>NaN</td>\n",
              "      <td>NaN</td>\n",
              "      <td>NaN</td>\n",
              "      <td>NaN</td>\n",
              "      <td>NaN</td>\n",
              "      <td>NaN</td>\n",
              "      <td>NaN</td>\n",
              "      <td>NaN</td>\n",
              "      <td>...</td>\n",
              "      <td>NaN</td>\n",
              "      <td>NaN</td>\n",
              "      <td>NaN</td>\n",
              "      <td>NaN</td>\n",
              "      <td>NaN</td>\n",
              "      <td>NaN</td>\n",
              "      <td>NaN</td>\n",
              "      <td>NaN</td>\n",
              "      <td>NaN</td>\n",
              "      <td>NaN</td>\n",
              "    </tr>\n",
              "    <tr>\n",
              "      <th>mean.3</th>\n",
              "      <td>DE_RESULTADO</td>\n",
              "      <td>17-Hidroxi Pregnenolona</td>\n",
              "      <td>NaN</td>\n",
              "      <td>NaN</td>\n",
              "      <td>NaN</td>\n",
              "      <td>NaN</td>\n",
              "      <td>NaN</td>\n",
              "      <td>NaN</td>\n",
              "      <td>NaN</td>\n",
              "      <td>NaN</td>\n",
              "      <td>...</td>\n",
              "      <td>NaN</td>\n",
              "      <td>NaN</td>\n",
              "      <td>NaN</td>\n",
              "      <td>NaN</td>\n",
              "      <td>NaN</td>\n",
              "      <td>NaN</td>\n",
              "      <td>NaN</td>\n",
              "      <td>NaN</td>\n",
              "      <td>NaN</td>\n",
              "      <td>NaN</td>\n",
              "    </tr>\n",
              "    <tr>\n",
              "      <th>mean.4</th>\n",
              "      <td>DE_RESULTADO</td>\n",
              "      <td>183</td>\n",
              "      <td>NaN</td>\n",
              "      <td>NaN</td>\n",
              "      <td>NaN</td>\n",
              "      <td>NaN</td>\n",
              "      <td>NaN</td>\n",
              "      <td>NaN</td>\n",
              "      <td>NaN</td>\n",
              "      <td>NaN</td>\n",
              "      <td>...</td>\n",
              "      <td>NaN</td>\n",
              "      <td>42.0</td>\n",
              "      <td>NaN</td>\n",
              "      <td>NaN</td>\n",
              "      <td>NaN</td>\n",
              "      <td>NaN</td>\n",
              "      <td>27.0</td>\n",
              "      <td>NaN</td>\n",
              "      <td>NaN</td>\n",
              "      <td>NaN</td>\n",
              "    </tr>\n",
              "  </tbody>\n",
              "</table>\n",
              "<p>10 rows × 7896 columns</p>\n",
              "</div>"
            ],
            "text/plain": [
              "                     0                        1     \\\n",
              "Unnamed: 0            NaN               DE_ANALITO   \n",
              "ID_PACIENTE           NaN                      NaN   \n",
              "GRUPO                 NaN                      NaN   \n",
              "Idade                 NaN                      NaN   \n",
              "Sexo                  NaN                      NaN   \n",
              "mean         DE_RESULTADO  11-Desoxicorticosterona   \n",
              "mean.1       DE_RESULTADO        11-Desoxicortisol   \n",
              "mean.2       DE_RESULTADO     17-Alfa-Hidroxiprog.   \n",
              "mean.3       DE_RESULTADO  17-Hidroxi Pregnenolona   \n",
              "mean.4       DE_RESULTADO                      183   \n",
              "\n",
              "                                         2     \\\n",
              "Unnamed: 0                                  0   \n",
              "ID_PACIENTE  00017961865C4F766FDBB3CD8FE0BFB0   \n",
              "GRUPO                                 GRUPO_0   \n",
              "Idade                                    54.0   \n",
              "Sexo                                        M   \n",
              "mean                                      NaN   \n",
              "mean.1                                    NaN   \n",
              "mean.2                                    NaN   \n",
              "mean.3                                    NaN   \n",
              "mean.4                                    NaN   \n",
              "\n",
              "                                         3     \\\n",
              "Unnamed: 0                                  1   \n",
              "ID_PACIENTE  0003B368F65004E14332CD44BEE6E600   \n",
              "GRUPO                                 GRUPO_0   \n",
              "Idade                                    53.0   \n",
              "Sexo                                        F   \n",
              "mean                                      NaN   \n",
              "mean.1                                    NaN   \n",
              "mean.2                                    NaN   \n",
              "mean.3                                    NaN   \n",
              "mean.4                                    NaN   \n",
              "\n",
              "                                         4     \\\n",
              "Unnamed: 0                                  2   \n",
              "ID_PACIENTE  000F0BC139D2846DB86AA32B8F05B215   \n",
              "GRUPO                                 GRUPO_0   \n",
              "Idade                                    41.0   \n",
              "Sexo                                        M   \n",
              "mean                                      NaN   \n",
              "mean.1                                    NaN   \n",
              "mean.2                                    NaN   \n",
              "mean.3                                    NaN   \n",
              "mean.4                                    NaN   \n",
              "\n",
              "                                         5     \\\n",
              "Unnamed: 0                                  3   \n",
              "ID_PACIENTE  0028785949D91BD93442838FC898E229   \n",
              "GRUPO                                 GRUPO_0   \n",
              "Idade                                    31.0   \n",
              "Sexo                                        F   \n",
              "mean                                      NaN   \n",
              "mean.1                                    NaN   \n",
              "mean.2                                    NaN   \n",
              "mean.3                                    NaN   \n",
              "mean.4                                    NaN   \n",
              "\n",
              "                                         6     \\\n",
              "Unnamed: 0                                  4   \n",
              "ID_PACIENTE  00293E8E4B5FE4DABA62131274B3685A   \n",
              "GRUPO                                 GRUPO_0   \n",
              "Idade                                    73.0   \n",
              "Sexo                                        F   \n",
              "mean                                      NaN   \n",
              "mean.1                                    NaN   \n",
              "mean.2                                    NaN   \n",
              "mean.3                                    NaN   \n",
              "mean.4                                    NaN   \n",
              "\n",
              "                                         7     \\\n",
              "Unnamed: 0                                  5   \n",
              "ID_PACIENTE  002B919CC409B11DE52FB212379BE2CB   \n",
              "GRUPO                                 GRUPO_0   \n",
              "Idade                                    41.0   \n",
              "Sexo                                        F   \n",
              "mean                                      NaN   \n",
              "mean.1                                    NaN   \n",
              "mean.2                                    NaN   \n",
              "mean.3                                    NaN   \n",
              "mean.4                                    NaN   \n",
              "\n",
              "                                         8     \\\n",
              "Unnamed: 0                                  6   \n",
              "ID_PACIENTE  00304A2753E8C45EDA0477375AE41E87   \n",
              "GRUPO                                 GRUPO_0   \n",
              "Idade                                    29.0   \n",
              "Sexo                                        F   \n",
              "mean                                      NaN   \n",
              "mean.1                                    NaN   \n",
              "mean.2                                    NaN   \n",
              "mean.3                                    NaN   \n",
              "mean.4                                    NaN   \n",
              "\n",
              "                                         9     ...  \\\n",
              "Unnamed: 0                                  7  ...   \n",
              "ID_PACIENTE  003051C9B19101D1C10C5DC654384017  ...   \n",
              "GRUPO                                 GRUPO_0  ...   \n",
              "Idade                                    36.0  ...   \n",
              "Sexo                                        M  ...   \n",
              "mean                                      NaN  ...   \n",
              "mean.1                                    NaN  ...   \n",
              "mean.2                                    NaN  ...   \n",
              "mean.3                                    NaN  ...   \n",
              "mean.4                                    NaN  ...   \n",
              "\n",
              "                                         7886  \\\n",
              "Unnamed: 0                               7884   \n",
              "ID_PACIENTE  FFB440876DC059A0359FEFBA1D6FB28C   \n",
              "GRUPO                                 GRUPO_0   \n",
              "Idade                                    20.0   \n",
              "Sexo                                        M   \n",
              "mean                                      NaN   \n",
              "mean.1                                    NaN   \n",
              "mean.2                                    NaN   \n",
              "mean.3                                    NaN   \n",
              "mean.4                                    NaN   \n",
              "\n",
              "                                         7887  \\\n",
              "Unnamed: 0                               7885   \n",
              "ID_PACIENTE  FFB771BFB8801D66BAA7AE28C9AC64B1   \n",
              "GRUPO                                 GRUPO_0   \n",
              "Idade                                    29.0   \n",
              "Sexo                                        M   \n",
              "mean                                      NaN   \n",
              "mean.1                                    NaN   \n",
              "mean.2                                    NaN   \n",
              "mean.3                                    NaN   \n",
              "mean.4                                   42.0   \n",
              "\n",
              "                                         7888  \\\n",
              "Unnamed: 0                               7886   \n",
              "ID_PACIENTE  FFC2C69E4C6F4304621E1FFCC37C969C   \n",
              "GRUPO                                 GRUPO_0   \n",
              "Idade                                    10.0   \n",
              "Sexo                                        M   \n",
              "mean                                      NaN   \n",
              "mean.1                                    NaN   \n",
              "mean.2                                    NaN   \n",
              "mean.3                                    NaN   \n",
              "mean.4                                    NaN   \n",
              "\n",
              "                                         7889  \\\n",
              "Unnamed: 0                               7887   \n",
              "ID_PACIENTE  FFDB2670EBEC7E27312B255796560B40   \n",
              "GRUPO                                 GRUPO_0   \n",
              "Idade                                    69.0   \n",
              "Sexo                                        M   \n",
              "mean                                      NaN   \n",
              "mean.1                                    NaN   \n",
              "mean.2                                    NaN   \n",
              "mean.3                                    NaN   \n",
              "mean.4                                    NaN   \n",
              "\n",
              "                                         7890  \\\n",
              "Unnamed: 0                               7888   \n",
              "ID_PACIENTE  FFE4155F7729D10532AC0CC17BB61146   \n",
              "GRUPO                                 GRUPO_0   \n",
              "Idade                                    58.0   \n",
              "Sexo                                        F   \n",
              "mean                                      NaN   \n",
              "mean.1                                    NaN   \n",
              "mean.2                                    NaN   \n",
              "mean.3                                    NaN   \n",
              "mean.4                                    NaN   \n",
              "\n",
              "                                         7891  \\\n",
              "Unnamed: 0                               7889   \n",
              "ID_PACIENTE  FFE724271952607EE4DA68C847297386   \n",
              "GRUPO                                 GRUPO_0   \n",
              "Idade                                    40.0   \n",
              "Sexo                                        F   \n",
              "mean                                      NaN   \n",
              "mean.1                                    NaN   \n",
              "mean.2                                    NaN   \n",
              "mean.3                                    NaN   \n",
              "mean.4                                    NaN   \n",
              "\n",
              "                                         7892  \\\n",
              "Unnamed: 0                               7890   \n",
              "ID_PACIENTE  FFEC3898BAA04751EB00C108270B8F7E   \n",
              "GRUPO                                 GRUPO_0   \n",
              "Idade                                    39.0   \n",
              "Sexo                                        M   \n",
              "mean                                      NaN   \n",
              "mean.1                                    NaN   \n",
              "mean.2                                    NaN   \n",
              "mean.3                                    NaN   \n",
              "mean.4                                   27.0   \n",
              "\n",
              "                                         7893  \\\n",
              "Unnamed: 0                               7891   \n",
              "ID_PACIENTE  FFEE2A236442ECF6D9042F39A8EA73FD   \n",
              "GRUPO                                 GRUPO_0   \n",
              "Idade                                    35.0   \n",
              "Sexo                                        F   \n",
              "mean                                      NaN   \n",
              "mean.1                                    NaN   \n",
              "mean.2                                    NaN   \n",
              "mean.3                                    NaN   \n",
              "mean.4                                    NaN   \n",
              "\n",
              "                                         7894  \\\n",
              "Unnamed: 0                               7892   \n",
              "ID_PACIENTE  FFF5753408C98D5E0218931420B6AF85   \n",
              "GRUPO                                 GRUPO_0   \n",
              "Idade                                    17.0   \n",
              "Sexo                                        F   \n",
              "mean                                      NaN   \n",
              "mean.1                                    NaN   \n",
              "mean.2                                    NaN   \n",
              "mean.3                                    NaN   \n",
              "mean.4                                    NaN   \n",
              "\n",
              "                                         7895  \n",
              "Unnamed: 0                               7893  \n",
              "ID_PACIENTE  FFFA1AB079C74F2EFEA6BA07E5B5DFC9  \n",
              "GRUPO                                 GRUPO_0  \n",
              "Idade                                    54.0  \n",
              "Sexo                                        F  \n",
              "mean                                      NaN  \n",
              "mean.1                                    NaN  \n",
              "mean.2                                    NaN  \n",
              "mean.3                                    NaN  \n",
              "mean.4                                    NaN  \n",
              "\n",
              "[10 rows x 7896 columns]"
            ]
          },
          "execution_count": 337,
          "metadata": {},
          "output_type": "execute_result"
        }
      ],
      "source": [
        "nomes_exames.head(10)"
      ]
    },
    {
      "cell_type": "code",
      "execution_count": 338,
      "metadata": {
        "id": "Tk6beqmPe9Bn"
      },
      "outputs": [],
      "source": [
        "#nomes_exames = nomes_exames.reset_index()"
      ]
    },
    {
      "cell_type": "code",
      "execution_count": 339,
      "metadata": {
        "id": "CxzPsXvzfBC2"
      },
      "outputs": [],
      "source": [
        "#nomes_exames.head(5)"
      ]
    },
    {
      "cell_type": "code",
      "execution_count": 340,
      "metadata": {
        "id": "Aw13rU1YLtDu"
      },
      "outputs": [],
      "source": [
        "nomes = nomes_exames[1].values.tolist()"
      ]
    },
    {
      "cell_type": "code",
      "execution_count": 341,
      "metadata": {
        "colab": {
          "base_uri": "https://localhost:8080/"
        },
        "id": "Tw-8IguIdi4T",
        "outputId": "f189f6f7-3ec8-420e-dc26-95c1aab6171e"
      },
      "outputs": [
        {
          "data": {
            "text/plain": [
              "['DE_ANALITO',\n",
              " nan,\n",
              " nan,\n",
              " nan,\n",
              " nan,\n",
              " '11-Desoxicorticosterona',\n",
              " '11-Desoxicortisol',\n",
              " '17-Alfa-Hidroxiprog.',\n",
              " '17-Hidroxi Pregnenolona',\n",
              " '183',\n",
              " '25OH-Vitamina D Total',\n",
              " '25OH-Vitamina D3',\n",
              " '5-Nucleotidase',\n",
              " 'ACTH',\n",
              " 'ADA',\n",
              " 'ALT (TGP)',\n",
              " 'ASCA - IgG',\n",
              " 'AST (TGO)',\n",
              " 'Acetilcolina',\n",
              " 'Adrenalina, urina',\n",
              " 'Adrenalina, urina isolada',\n",
              " 'Agreg Plaq - Lag time- Colágeno 1,0 microg/mL',\n",
              " 'Agreg Plaq - Lag time- Colágeno 5,0 microg/mL',\n",
              " 'Agreg Plaq - Máx -Ác Aracdônico 500 microg/mL',\n",
              " 'Agreg Plaq - Máxima - Adrenalina 2,0 microM',\n",
              " 'Agreg Plaq - Máxima - Colágeno 1,0 microg/mL',\n",
              " 'Agreg Plaq - Máxima - Ristocetina 0,5 mg/mL',\n",
              " 'Agreg Plaq - Máxima - Ristocetina 1,2 mg/mL',\n",
              " 'Agreg Plaquetária - Máxima - ADP 10,0 microM',\n",
              " 'Agreg Plaquetária - Máxima - ADP 2,5 microM',\n",
              " 'Agregação Plaquetária',\n",
              " 'Alanina',\n",
              " 'Albumina',\n",
              " 'Albumina/Globulina',\n",
              " 'Albumina/Globulinas',\n",
              " 'Aldolase',\n",
              " 'Aldosterona',\n",
              " 'Alfa Fetoproteína',\n",
              " 'Alfa-1 Anti-tripsina',\n",
              " 'Alfa-1 Glicopr Acida',\n",
              " 'Alfa-1, Antitripsina,soro-Fenotipagem',\n",
              " 'Alumínio',\n",
              " 'Amilase',\n",
              " 'Amilase pancreatica',\n",
              " 'Amilase salivar',\n",
              " 'Amônia',\n",
              " 'Androstenediona',\n",
              " 'Anti-DNA imunoenzimatico',\n",
              " 'Anti-HBs',\n",
              " 'Anti-Insulina']"
            ]
          },
          "execution_count": 341,
          "metadata": {},
          "output_type": "execute_result"
        }
      ],
      "source": [
        "nomes[0:50]"
      ]
    },
    {
      "cell_type": "code",
      "execution_count": 342,
      "metadata": {
        "colab": {
          "base_uri": "https://localhost:8080/"
        },
        "id": "uQkWpoJsOh2W",
        "outputId": "b5a8c873-d465-4508-c751-d0acb69f6ddb"
      },
      "outputs": [
        {
          "data": {
            "text/plain": [
              "['ID_PACIENTE',\n",
              " 'GRUPO',\n",
              " 'Idade',\n",
              " 'Sexo',\n",
              " '11-Desoxicorticosterona',\n",
              " '11-Desoxicortisol',\n",
              " '17-Alfa-Hidroxiprog.',\n",
              " '17-Hidroxi Pregnenolona',\n",
              " '183',\n",
              " '25OH-Vitamina D Total']"
            ]
          },
          "execution_count": 342,
          "metadata": {},
          "output_type": "execute_result"
        }
      ],
      "source": [
        "nomes[0] = 'ID_PACIENTE'\n",
        "nomes[1] = 'GRUPO'\n",
        "nomes[2] = 'Idade'\n",
        "nomes[3] = 'Sexo'\n",
        "del nomes[4] # deleta valor nulo\n",
        "nomes[0:10]"
      ]
    },
    {
      "cell_type": "markdown",
      "metadata": {
        "id": "N8g1r2Cjul8b"
      },
      "source": [
        "#### **TABELA FINAL PARA MANIPULAÇÃO**"
      ]
    },
    {
      "cell_type": "code",
      "execution_count": 343,
      "metadata": {
        "id": "WmZF3mdAQHsT"
      },
      "outputs": [],
      "source": [
        "sirio_aprendizado.columns = nomes"
      ]
    },
    {
      "cell_type": "code",
      "execution_count": 344,
      "metadata": {
        "colab": {
          "base_uri": "https://localhost:8080/",
          "height": 352
        },
        "id": "oTaSVbRAwQbv",
        "outputId": "c741a7df-1c2d-440c-b2c9-006be382ea48"
      },
      "outputs": [
        {
          "data": {
            "text/html": [
              "<div>\n",
              "<style scoped>\n",
              "    .dataframe tbody tr th:only-of-type {\n",
              "        vertical-align: middle;\n",
              "    }\n",
              "\n",
              "    .dataframe tbody tr th {\n",
              "        vertical-align: top;\n",
              "    }\n",
              "\n",
              "    .dataframe thead th {\n",
              "        text-align: right;\n",
              "    }\n",
              "</style>\n",
              "<table border=\"1\" class=\"dataframe\">\n",
              "  <thead>\n",
              "    <tr style=\"text-align: right;\">\n",
              "      <th></th>\n",
              "      <th>ID_PACIENTE</th>\n",
              "      <th>GRUPO</th>\n",
              "      <th>Idade</th>\n",
              "      <th>Sexo</th>\n",
              "      <th>11-Desoxicorticosterona</th>\n",
              "      <th>11-Desoxicortisol</th>\n",
              "      <th>17-Alfa-Hidroxiprog.</th>\n",
              "      <th>17-Hidroxi Pregnenolona</th>\n",
              "      <th>183</th>\n",
              "      <th>25OH-Vitamina D Total</th>\n",
              "      <th>...</th>\n",
              "      <th>Ácido ascorbico, plasma</th>\n",
              "      <th>Ácido aspártico</th>\n",
              "      <th>Ácido fólico</th>\n",
              "      <th>Ácido glutâmico</th>\n",
              "      <th>Ácido metilmalonico, soro</th>\n",
              "      <th>Ácido Úrico</th>\n",
              "      <th>Ácido Úrico, urina</th>\n",
              "      <th>Ácidos biliares totais</th>\n",
              "      <th>Ésteres de Carnitina (EC)</th>\n",
              "      <th>Índice de Green &amp; King</th>\n",
              "    </tr>\n",
              "  </thead>\n",
              "  <tbody>\n",
              "    <tr>\n",
              "      <th>0</th>\n",
              "      <td>00017961865C4F766FDBB3CD8FE0BFB0</td>\n",
              "      <td>GRUPO_0</td>\n",
              "      <td>54</td>\n",
              "      <td>M</td>\n",
              "      <td>NaN</td>\n",
              "      <td>NaN</td>\n",
              "      <td>NaN</td>\n",
              "      <td>NaN</td>\n",
              "      <td>NaN</td>\n",
              "      <td>NaN</td>\n",
              "      <td>...</td>\n",
              "      <td>NaN</td>\n",
              "      <td>NaN</td>\n",
              "      <td>NaN</td>\n",
              "      <td>NaN</td>\n",
              "      <td>NaN</td>\n",
              "      <td>NaN</td>\n",
              "      <td>NaN</td>\n",
              "      <td>NaN</td>\n",
              "      <td>NaN</td>\n",
              "      <td>NaN</td>\n",
              "    </tr>\n",
              "    <tr>\n",
              "      <th>1</th>\n",
              "      <td>0003B368F65004E14332CD44BEE6E600</td>\n",
              "      <td>GRUPO_0</td>\n",
              "      <td>53</td>\n",
              "      <td>F</td>\n",
              "      <td>NaN</td>\n",
              "      <td>NaN</td>\n",
              "      <td>NaN</td>\n",
              "      <td>NaN</td>\n",
              "      <td>NaN</td>\n",
              "      <td>NaN</td>\n",
              "      <td>...</td>\n",
              "      <td>NaN</td>\n",
              "      <td>NaN</td>\n",
              "      <td>NaN</td>\n",
              "      <td>NaN</td>\n",
              "      <td>NaN</td>\n",
              "      <td>NaN</td>\n",
              "      <td>NaN</td>\n",
              "      <td>NaN</td>\n",
              "      <td>NaN</td>\n",
              "      <td>NaN</td>\n",
              "    </tr>\n",
              "    <tr>\n",
              "      <th>2</th>\n",
              "      <td>000F0BC139D2846DB86AA32B8F05B215</td>\n",
              "      <td>GRUPO_0</td>\n",
              "      <td>41</td>\n",
              "      <td>M</td>\n",
              "      <td>NaN</td>\n",
              "      <td>NaN</td>\n",
              "      <td>NaN</td>\n",
              "      <td>NaN</td>\n",
              "      <td>NaN</td>\n",
              "      <td>NaN</td>\n",
              "      <td>...</td>\n",
              "      <td>NaN</td>\n",
              "      <td>NaN</td>\n",
              "      <td>NaN</td>\n",
              "      <td>NaN</td>\n",
              "      <td>NaN</td>\n",
              "      <td>6.9</td>\n",
              "      <td>NaN</td>\n",
              "      <td>NaN</td>\n",
              "      <td>NaN</td>\n",
              "      <td>NaN</td>\n",
              "    </tr>\n",
              "    <tr>\n",
              "      <th>3</th>\n",
              "      <td>0028785949D91BD93442838FC898E229</td>\n",
              "      <td>GRUPO_0</td>\n",
              "      <td>31</td>\n",
              "      <td>F</td>\n",
              "      <td>NaN</td>\n",
              "      <td>NaN</td>\n",
              "      <td>NaN</td>\n",
              "      <td>NaN</td>\n",
              "      <td>NaN</td>\n",
              "      <td>NaN</td>\n",
              "      <td>...</td>\n",
              "      <td>NaN</td>\n",
              "      <td>NaN</td>\n",
              "      <td>NaN</td>\n",
              "      <td>NaN</td>\n",
              "      <td>NaN</td>\n",
              "      <td>NaN</td>\n",
              "      <td>NaN</td>\n",
              "      <td>NaN</td>\n",
              "      <td>NaN</td>\n",
              "      <td>NaN</td>\n",
              "    </tr>\n",
              "    <tr>\n",
              "      <th>4</th>\n",
              "      <td>00293E8E4B5FE4DABA62131274B3685A</td>\n",
              "      <td>GRUPO_0</td>\n",
              "      <td>73</td>\n",
              "      <td>F</td>\n",
              "      <td>NaN</td>\n",
              "      <td>NaN</td>\n",
              "      <td>NaN</td>\n",
              "      <td>NaN</td>\n",
              "      <td>NaN</td>\n",
              "      <td>NaN</td>\n",
              "      <td>...</td>\n",
              "      <td>NaN</td>\n",
              "      <td>NaN</td>\n",
              "      <td>NaN</td>\n",
              "      <td>NaN</td>\n",
              "      <td>NaN</td>\n",
              "      <td>NaN</td>\n",
              "      <td>NaN</td>\n",
              "      <td>NaN</td>\n",
              "      <td>NaN</td>\n",
              "      <td>NaN</td>\n",
              "    </tr>\n",
              "  </tbody>\n",
              "</table>\n",
              "<p>5 rows × 582 columns</p>\n",
              "</div>"
            ],
            "text/plain": [
              "                        ID_PACIENTE    GRUPO  Idade Sexo  \\\n",
              "0  00017961865C4F766FDBB3CD8FE0BFB0  GRUPO_0     54    M   \n",
              "1  0003B368F65004E14332CD44BEE6E600  GRUPO_0     53    F   \n",
              "2  000F0BC139D2846DB86AA32B8F05B215  GRUPO_0     41    M   \n",
              "3  0028785949D91BD93442838FC898E229  GRUPO_0     31    F   \n",
              "4  00293E8E4B5FE4DABA62131274B3685A  GRUPO_0     73    F   \n",
              "\n",
              "   11-Desoxicorticosterona  11-Desoxicortisol  17-Alfa-Hidroxiprog.  \\\n",
              "0                      NaN                NaN                   NaN   \n",
              "1                      NaN                NaN                   NaN   \n",
              "2                      NaN                NaN                   NaN   \n",
              "3                      NaN                NaN                   NaN   \n",
              "4                      NaN                NaN                   NaN   \n",
              "\n",
              "   17-Hidroxi Pregnenolona  183  25OH-Vitamina D Total  ...  \\\n",
              "0                      NaN  NaN                    NaN  ...   \n",
              "1                      NaN  NaN                    NaN  ...   \n",
              "2                      NaN  NaN                    NaN  ...   \n",
              "3                      NaN  NaN                    NaN  ...   \n",
              "4                      NaN  NaN                    NaN  ...   \n",
              "\n",
              "   Ácido ascorbico, plasma  Ácido aspártico  Ácido fólico  Ácido glutâmico  \\\n",
              "0                      NaN              NaN           NaN              NaN   \n",
              "1                      NaN              NaN           NaN              NaN   \n",
              "2                      NaN              NaN           NaN              NaN   \n",
              "3                      NaN              NaN           NaN              NaN   \n",
              "4                      NaN              NaN           NaN              NaN   \n",
              "\n",
              "   Ácido metilmalonico, soro  Ácido Úrico  Ácido Úrico, urina  \\\n",
              "0                        NaN          NaN                 NaN   \n",
              "1                        NaN          NaN                 NaN   \n",
              "2                        NaN          6.9                 NaN   \n",
              "3                        NaN          NaN                 NaN   \n",
              "4                        NaN          NaN                 NaN   \n",
              "\n",
              "   Ácidos biliares totais  Ésteres de Carnitina (EC)  Índice de Green & King  \n",
              "0                     NaN                        NaN                     NaN  \n",
              "1                     NaN                        NaN                     NaN  \n",
              "2                     NaN                        NaN                     NaN  \n",
              "3                     NaN                        NaN                     NaN  \n",
              "4                     NaN                        NaN                     NaN  \n",
              "\n",
              "[5 rows x 582 columns]"
            ]
          },
          "execution_count": 344,
          "metadata": {},
          "output_type": "execute_result"
        }
      ],
      "source": [
        "sirio_aprendizado.head(5)"
      ]
    },
    {
      "cell_type": "code",
      "execution_count": 345,
      "metadata": {
        "id": "D8Hu7R2vA4ed"
      },
      "outputs": [],
      "source": [
        "#sirio_aprendizado.to_excel(\"dados_pre_processado.xlsx\")"
      ]
    },
    {
      "cell_type": "code",
      "execution_count": 346,
      "metadata": {
        "colab": {
          "base_uri": "https://localhost:8080/"
        },
        "id": "842Vk0rVwkvJ",
        "outputId": "7f230e83-711e-4fa5-fb90-5e7dc6d58a31"
      },
      "outputs": [
        {
          "data": {
            "text/plain": [
              "(7894, 582)"
            ]
          },
          "execution_count": 346,
          "metadata": {},
          "output_type": "execute_result"
        }
      ],
      "source": [
        "sirio_aprendizado.shape"
      ]
    },
    {
      "cell_type": "markdown",
      "metadata": {
        "id": "DdKvQ4xAQw_J"
      },
      "source": [
        "#### **VERIFICANDO VALORES NULOS POR EXAME**\n",
        "\n",
        "https://sigmoidal.ai/como-tratar-dados-ausentes-com-pandas/"
      ]
    },
    {
      "cell_type": "code",
      "execution_count": 347,
      "metadata": {},
      "outputs": [
        {
          "data": {
            "text/html": [
              "<div>\n",
              "<style scoped>\n",
              "    .dataframe tbody tr th:only-of-type {\n",
              "        vertical-align: middle;\n",
              "    }\n",
              "\n",
              "    .dataframe tbody tr th {\n",
              "        vertical-align: top;\n",
              "    }\n",
              "\n",
              "    .dataframe thead th {\n",
              "        text-align: right;\n",
              "    }\n",
              "</style>\n",
              "<table border=\"1\" class=\"dataframe\">\n",
              "  <thead>\n",
              "    <tr style=\"text-align: right;\">\n",
              "      <th></th>\n",
              "      <th>ID_PACIENTE</th>\n",
              "      <th>GRUPO</th>\n",
              "      <th>Idade</th>\n",
              "      <th>Sexo</th>\n",
              "      <th>11-Desoxicorticosterona</th>\n",
              "      <th>11-Desoxicortisol</th>\n",
              "      <th>17-Alfa-Hidroxiprog.</th>\n",
              "      <th>17-Hidroxi Pregnenolona</th>\n",
              "      <th>183</th>\n",
              "      <th>25OH-Vitamina D Total</th>\n",
              "      <th>...</th>\n",
              "      <th>Ácido ascorbico, plasma</th>\n",
              "      <th>Ácido aspártico</th>\n",
              "      <th>Ácido fólico</th>\n",
              "      <th>Ácido glutâmico</th>\n",
              "      <th>Ácido metilmalonico, soro</th>\n",
              "      <th>Ácido Úrico</th>\n",
              "      <th>Ácido Úrico, urina</th>\n",
              "      <th>Ácidos biliares totais</th>\n",
              "      <th>Ésteres de Carnitina (EC)</th>\n",
              "      <th>Índice de Green &amp; King</th>\n",
              "    </tr>\n",
              "  </thead>\n",
              "  <tbody>\n",
              "  </tbody>\n",
              "</table>\n",
              "<p>0 rows × 582 columns</p>\n",
              "</div>"
            ],
            "text/plain": [
              "Empty DataFrame\n",
              "Columns: [ID_PACIENTE, GRUPO, Idade, Sexo, 11-Desoxicorticosterona, 11-Desoxicortisol, 17-Alfa-Hidroxiprog., 17-Hidroxi Pregnenolona, 183, 25OH-Vitamina D Total, 25OH-Vitamina D3, 5-Nucleotidase, ACTH, ADA, ALT (TGP), ASCA - IgG, AST (TGO), Acetilcolina, Adrenalina, urina, Adrenalina, urina isolada, Agreg Plaq - Lag time- Colágeno 1,0 microg/mL, Agreg Plaq - Lag time- Colágeno 5,0 microg/mL, Agreg Plaq - Máx -Ác Aracdônico 500 microg/mL, Agreg Plaq - Máxima - Adrenalina 2,0 microM, Agreg Plaq - Máxima - Colágeno 1,0 microg/mL, Agreg Plaq - Máxima - Ristocetina 0,5 mg/mL, Agreg Plaq - Máxima - Ristocetina 1,2 mg/mL, Agreg Plaquetária - Máxima - ADP 10,0 microM, Agreg Plaquetária - Máxima - ADP 2,5 microM, Agregação Plaquetária, Alanina, Albumina, Albumina/Globulina, Albumina/Globulinas, Aldolase, Aldosterona, Alfa Fetoproteína, Alfa-1 Anti-tripsina, Alfa-1 Glicopr Acida, Alfa-1, Antitripsina,soro-Fenotipagem, Alumínio, Amilase, Amilase pancreatica, Amilase salivar, Amônia, Androstenediona, Anti-DNA imunoenzimatico, Anti-HBs, Anti-Insulina, Anti-Leptospira, IgM, Anti-Tiroglobulina, Anti-Tiroperoxidase, Anti-VHA Total, AntiCardiolipina IgA, soro, AntiCardiolipina IgG, AntiCardiolipina IgM, AntiTransglutaminase, Antinucleossomo, Antistreptolisina O, Antitrombina III, Apolipoproteína A-1, Apolipoproteína B, Arginina, Arsenico, sangue, Asparagina, Auto-Anticorpos, RNP, BCR/ABL1(p210), transcritos controle endógeno, BE arterial, BE venoso, BNP, Bacterioscópico - Bacilos C. Mobiluncus-Score, Bacterioscópico - Índice de Nugent, Bacterioscópico-Bacilos Gram Variáveis-Score, Bacterioscópico-Bacilos de Doderlein - Score, Bastonetes, Bastonetes (%), Basófilos, Basófilos (%), Beta 2 Microglobulin, Beta-caroteno, Bilirrubina Direta, Bilirrubina Indireta, Bilirrubina Total, Bilirrubina,urina, Blastos, Blastos (%), C. Cetônicos, urina, C.Cetônicos, urina, C1q, C2, C3, C4, CA 125, CA 15-3, CA 19-9, CA 72-4, CEA, CHCM, CK, CK-MB, ...]\n",
              "Index: []\n",
              "\n",
              "[0 rows x 582 columns]"
            ]
          },
          "execution_count": 347,
          "metadata": {},
          "output_type": "execute_result"
        }
      ],
      "source": [
        "sirio_aprendizado[sirio_aprendizado['Idade']!= sirio_aprendizado['Idade']]"
      ]
    },
    {
      "cell_type": "code",
      "execution_count": 348,
      "metadata": {
        "id": "F-vyjoZYQ4Xg"
      },
      "outputs": [],
      "source": [
        "ausentes = sirio_aprendizado.isnull().sum()\n",
        "\n",
        "ausentes = pd.DataFrame([ausentes])\n",
        "\n",
        "ausentes = ausentes.drop(columns=['ID_PACIENTE', 'GRUPO'])\n",
        "\n",
        "ausentes = ausentes.T"
      ]
    },
    {
      "cell_type": "code",
      "execution_count": 349,
      "metadata": {
        "colab": {
          "base_uri": "https://localhost:8080/",
          "height": 424
        },
        "id": "cL4X6rUxR5h4",
        "outputId": "b973ae5e-becb-4426-84dc-8bc0235287fc"
      },
      "outputs": [
        {
          "data": {
            "text/html": [
              "<div>\n",
              "<style scoped>\n",
              "    .dataframe tbody tr th:only-of-type {\n",
              "        vertical-align: middle;\n",
              "    }\n",
              "\n",
              "    .dataframe tbody tr th {\n",
              "        vertical-align: top;\n",
              "    }\n",
              "\n",
              "    .dataframe thead th {\n",
              "        text-align: right;\n",
              "    }\n",
              "</style>\n",
              "<table border=\"1\" class=\"dataframe\">\n",
              "  <thead>\n",
              "    <tr style=\"text-align: right;\">\n",
              "      <th></th>\n",
              "      <th>0</th>\n",
              "    </tr>\n",
              "  </thead>\n",
              "  <tbody>\n",
              "    <tr>\n",
              "      <th>Idade</th>\n",
              "      <td>0</td>\n",
              "    </tr>\n",
              "    <tr>\n",
              "      <th>Sexo</th>\n",
              "      <td>0</td>\n",
              "    </tr>\n",
              "    <tr>\n",
              "      <th>11-Desoxicorticosterona</th>\n",
              "      <td>7893</td>\n",
              "    </tr>\n",
              "    <tr>\n",
              "      <th>11-Desoxicortisol</th>\n",
              "      <td>7893</td>\n",
              "    </tr>\n",
              "    <tr>\n",
              "      <th>17-Alfa-Hidroxiprog.</th>\n",
              "      <td>7805</td>\n",
              "    </tr>\n",
              "    <tr>\n",
              "      <th>...</th>\n",
              "      <td>...</td>\n",
              "    </tr>\n",
              "    <tr>\n",
              "      <th>Ácido Úrico</th>\n",
              "      <td>6085</td>\n",
              "    </tr>\n",
              "    <tr>\n",
              "      <th>Ácido Úrico, urina</th>\n",
              "      <td>7884</td>\n",
              "    </tr>\n",
              "    <tr>\n",
              "      <th>Ácidos biliares totais</th>\n",
              "      <td>7892</td>\n",
              "    </tr>\n",
              "    <tr>\n",
              "      <th>Ésteres de Carnitina (EC)</th>\n",
              "      <td>7892</td>\n",
              "    </tr>\n",
              "    <tr>\n",
              "      <th>Índice de Green &amp; King</th>\n",
              "      <td>7839</td>\n",
              "    </tr>\n",
              "  </tbody>\n",
              "</table>\n",
              "<p>580 rows × 1 columns</p>\n",
              "</div>"
            ],
            "text/plain": [
              "                              0\n",
              "Idade                         0\n",
              "Sexo                          0\n",
              "11-Desoxicorticosterona    7893\n",
              "11-Desoxicortisol          7893\n",
              "17-Alfa-Hidroxiprog.       7805\n",
              "...                         ...\n",
              "Ácido Úrico                6085\n",
              "Ácido Úrico, urina         7884\n",
              "Ácidos biliares totais     7892\n",
              "Ésteres de Carnitina (EC)  7892\n",
              "Índice de Green & King     7839\n",
              "\n",
              "[580 rows x 1 columns]"
            ]
          },
          "execution_count": 349,
          "metadata": {},
          "output_type": "execute_result"
        }
      ],
      "source": [
        "ausentes"
      ]
    },
    {
      "cell_type": "code",
      "execution_count": 350,
      "metadata": {
        "colab": {
          "base_uri": "https://localhost:8080/",
          "height": 143
        },
        "id": "5Y_rieP3cvNe",
        "outputId": "1bf17912-a1a1-4bbc-acee-0ffd4763e591"
      },
      "outputs": [
        {
          "data": {
            "text/html": [
              "<div>\n",
              "<style scoped>\n",
              "    .dataframe tbody tr th:only-of-type {\n",
              "        vertical-align: middle;\n",
              "    }\n",
              "\n",
              "    .dataframe tbody tr th {\n",
              "        vertical-align: top;\n",
              "    }\n",
              "\n",
              "    .dataframe thead th {\n",
              "        text-align: right;\n",
              "    }\n",
              "</style>\n",
              "<table border=\"1\" class=\"dataframe\">\n",
              "  <thead>\n",
              "    <tr style=\"text-align: right;\">\n",
              "      <th></th>\n",
              "      <th>0</th>\n",
              "      <th>Nulos por cento</th>\n",
              "    </tr>\n",
              "  </thead>\n",
              "  <tbody>\n",
              "    <tr>\n",
              "      <th>Idade</th>\n",
              "      <td>0</td>\n",
              "      <td></td>\n",
              "    </tr>\n",
              "    <tr>\n",
              "      <th>Sexo</th>\n",
              "      <td>0</td>\n",
              "      <td></td>\n",
              "    </tr>\n",
              "    <tr>\n",
              "      <th>11-Desoxicorticosterona</th>\n",
              "      <td>7893</td>\n",
              "      <td></td>\n",
              "    </tr>\n",
              "  </tbody>\n",
              "</table>\n",
              "</div>"
            ],
            "text/plain": [
              "                            0 Nulos por cento\n",
              "Idade                       0                \n",
              "Sexo                        0                \n",
              "11-Desoxicorticosterona  7893                "
            ]
          },
          "execution_count": 350,
          "metadata": {},
          "output_type": "execute_result"
        }
      ],
      "source": [
        "ausentes['Nulos por cento'] = ''\n",
        "\n",
        "ausentes.head(3)"
      ]
    },
    {
      "cell_type": "code",
      "execution_count": 351,
      "metadata": {
        "id": "OHcYVFYZS-Vz"
      },
      "outputs": [],
      "source": [
        "# Quantidade de exemplos no dataset: 7894\n",
        "\n",
        "for index, row in ausentes.iterrows():\n",
        "        porcentagem = round((row[0]/7894)*100, 2)\n",
        "        ausentes.loc[index,'Nulos por cento'] = porcentagem"
      ]
    },
    {
      "cell_type": "code",
      "execution_count": 352,
      "metadata": {
        "id": "NjqbAlyPaaKO"
      },
      "outputs": [],
      "source": [
        "ausentes = ausentes.sort_values(by=[0], ascending=False)"
      ]
    },
    {
      "cell_type": "code",
      "execution_count": 353,
      "metadata": {
        "colab": {
          "base_uri": "https://localhost:8080/",
          "height": 143
        },
        "id": "ElM6zyNGiodW",
        "outputId": "ebbba797-e068-4f9f-ddbf-d17b56196d0d"
      },
      "outputs": [
        {
          "data": {
            "text/html": [
              "<div>\n",
              "<style scoped>\n",
              "    .dataframe tbody tr th:only-of-type {\n",
              "        vertical-align: middle;\n",
              "    }\n",
              "\n",
              "    .dataframe tbody tr th {\n",
              "        vertical-align: top;\n",
              "    }\n",
              "\n",
              "    .dataframe thead th {\n",
              "        text-align: right;\n",
              "    }\n",
              "</style>\n",
              "<table border=\"1\" class=\"dataframe\">\n",
              "  <thead>\n",
              "    <tr style=\"text-align: right;\">\n",
              "      <th></th>\n",
              "      <th>0</th>\n",
              "      <th>Nulos por cento</th>\n",
              "    </tr>\n",
              "  </thead>\n",
              "  <tbody>\n",
              "    <tr>\n",
              "      <th>Triptase</th>\n",
              "      <td>7893</td>\n",
              "      <td>99.99</td>\n",
              "    </tr>\n",
              "    <tr>\n",
              "      <th>Rubeola, IgM</th>\n",
              "      <td>7893</td>\n",
              "      <td>99.99</td>\n",
              "    </tr>\n",
              "    <tr>\n",
              "      <th>TS - 2a Det</th>\n",
              "      <td>7893</td>\n",
              "      <td>99.99</td>\n",
              "    </tr>\n",
              "    <tr>\n",
              "      <th>Sódio, urina isolada</th>\n",
              "      <td>7893</td>\n",
              "      <td>99.99</td>\n",
              "    </tr>\n",
              "    <tr>\n",
              "      <th>Sarampo, Anticorpos IgM</th>\n",
              "      <td>7893</td>\n",
              "      <td>99.99</td>\n",
              "    </tr>\n",
              "    <tr>\n",
              "      <th>...</th>\n",
              "      <td>...</td>\n",
              "      <td>...</td>\n",
              "    </tr>\n",
              "    <tr>\n",
              "      <th>Hematócrito</th>\n",
              "      <td>629</td>\n",
              "      <td>7.97</td>\n",
              "    </tr>\n",
              "    <tr>\n",
              "      <th>Hemoglobina</th>\n",
              "      <td>623</td>\n",
              "      <td>7.89</td>\n",
              "    </tr>\n",
              "    <tr>\n",
              "      <th>Plaquetas</th>\n",
              "      <td>621</td>\n",
              "      <td>7.87</td>\n",
              "    </tr>\n",
              "    <tr>\n",
              "      <th>Sexo</th>\n",
              "      <td>0</td>\n",
              "      <td>0.0</td>\n",
              "    </tr>\n",
              "    <tr>\n",
              "      <th>Idade</th>\n",
              "      <td>0</td>\n",
              "      <td>0.0</td>\n",
              "    </tr>\n",
              "  </tbody>\n",
              "</table>\n",
              "<p>580 rows × 2 columns</p>\n",
              "</div>"
            ],
            "text/plain": [
              "                            0 Nulos por cento\n",
              "Triptase                 7893           99.99\n",
              "Rubeola, IgM             7893           99.99\n",
              "TS - 2a Det              7893           99.99\n",
              "Sódio, urina isolada     7893           99.99\n",
              "Sarampo, Anticorpos IgM  7893           99.99\n",
              "...                       ...             ...\n",
              "Hematócrito               629            7.97\n",
              "Hemoglobina               623            7.89\n",
              "Plaquetas                 621            7.87\n",
              "Sexo                        0             0.0\n",
              "Idade                       0             0.0\n",
              "\n",
              "[580 rows x 2 columns]"
            ]
          },
          "execution_count": 353,
          "metadata": {},
          "output_type": "execute_result"
        }
      ],
      "source": [
        "ausentes"
      ]
    },
    {
      "cell_type": "code",
      "execution_count": 354,
      "metadata": {
        "id": "hpo3bW52lHEx"
      },
      "outputs": [],
      "source": [
        "ausentes.reset_index(inplace=True, drop=False)"
      ]
    },
    {
      "cell_type": "code",
      "execution_count": 355,
      "metadata": {
        "colab": {
          "base_uri": "https://localhost:8080/",
          "height": 206
        },
        "id": "JNQInkk3iCs4",
        "outputId": "7438a98f-2176-4c9a-ea1b-41c3eb5fe2ce"
      },
      "outputs": [
        {
          "data": {
            "text/html": [
              "<div>\n",
              "<style scoped>\n",
              "    .dataframe tbody tr th:only-of-type {\n",
              "        vertical-align: middle;\n",
              "    }\n",
              "\n",
              "    .dataframe tbody tr th {\n",
              "        vertical-align: top;\n",
              "    }\n",
              "\n",
              "    .dataframe thead th {\n",
              "        text-align: right;\n",
              "    }\n",
              "</style>\n",
              "<table border=\"1\" class=\"dataframe\">\n",
              "  <thead>\n",
              "    <tr style=\"text-align: right;\">\n",
              "      <th></th>\n",
              "      <th>index</th>\n",
              "      <th>0</th>\n",
              "      <th>Nulos por cento</th>\n",
              "    </tr>\n",
              "  </thead>\n",
              "  <tbody>\n",
              "    <tr>\n",
              "      <th>0</th>\n",
              "      <td>Triptase</td>\n",
              "      <td>7893</td>\n",
              "      <td>99.99</td>\n",
              "    </tr>\n",
              "    <tr>\n",
              "      <th>1</th>\n",
              "      <td>Rubeola, IgM</td>\n",
              "      <td>7893</td>\n",
              "      <td>99.99</td>\n",
              "    </tr>\n",
              "    <tr>\n",
              "      <th>2</th>\n",
              "      <td>TS - 2a Det</td>\n",
              "      <td>7893</td>\n",
              "      <td>99.99</td>\n",
              "    </tr>\n",
              "    <tr>\n",
              "      <th>3</th>\n",
              "      <td>Sódio, urina isolada</td>\n",
              "      <td>7893</td>\n",
              "      <td>99.99</td>\n",
              "    </tr>\n",
              "    <tr>\n",
              "      <th>4</th>\n",
              "      <td>Sarampo, Anticorpos IgM</td>\n",
              "      <td>7893</td>\n",
              "      <td>99.99</td>\n",
              "    </tr>\n",
              "  </tbody>\n",
              "</table>\n",
              "</div>"
            ],
            "text/plain": [
              "                     index     0 Nulos por cento\n",
              "0                 Triptase  7893           99.99\n",
              "1             Rubeola, IgM  7893           99.99\n",
              "2              TS - 2a Det  7893           99.99\n",
              "3     Sódio, urina isolada  7893           99.99\n",
              "4  Sarampo, Anticorpos IgM  7893           99.99"
            ]
          },
          "execution_count": 355,
          "metadata": {},
          "output_type": "execute_result"
        }
      ],
      "source": [
        "ausentes.head()"
      ]
    },
    {
      "cell_type": "code",
      "execution_count": 356,
      "metadata": {
        "id": "hD8r8ydPhRbu"
      },
      "outputs": [],
      "source": [
        "ausentes.to_csv('ausentes.csv', sep='|', encoding='utf-8')"
      ]
    },
    {
      "cell_type": "markdown",
      "metadata": {
        "id": "7miSVakpkzZy"
      },
      "source": [
        "#### **FILTRO 11: ELIMINANDO EXAMES AUSENTES EM MAIS DE 50% DOS PACIENTES**"
      ]
    },
    {
      "cell_type": "code",
      "execution_count": 357,
      "metadata": {
        "id": "AwWxQJA9kPyH"
      },
      "outputs": [],
      "source": [
        "ausentes.drop(ausentes.loc[ausentes['Nulos por cento']<75].index, inplace=True)"
      ]
    },
    {
      "cell_type": "code",
      "execution_count": 358,
      "metadata": {
        "colab": {
          "base_uri": "https://localhost:8080/",
          "height": 424
        },
        "id": "vj4s8R4ImAL-",
        "outputId": "8752643a-7ffc-426e-a35a-8dce4be12890"
      },
      "outputs": [
        {
          "data": {
            "text/html": [
              "<div>\n",
              "<style scoped>\n",
              "    .dataframe tbody tr th:only-of-type {\n",
              "        vertical-align: middle;\n",
              "    }\n",
              "\n",
              "    .dataframe tbody tr th {\n",
              "        vertical-align: top;\n",
              "    }\n",
              "\n",
              "    .dataframe thead th {\n",
              "        text-align: right;\n",
              "    }\n",
              "</style>\n",
              "<table border=\"1\" class=\"dataframe\">\n",
              "  <thead>\n",
              "    <tr style=\"text-align: right;\">\n",
              "      <th></th>\n",
              "      <th>index</th>\n",
              "      <th>0</th>\n",
              "      <th>Nulos por cento</th>\n",
              "    </tr>\n",
              "  </thead>\n",
              "  <tbody>\n",
              "    <tr>\n",
              "      <th>0</th>\n",
              "      <td>Triptase</td>\n",
              "      <td>7893</td>\n",
              "      <td>99.99</td>\n",
              "    </tr>\n",
              "    <tr>\n",
              "      <th>1</th>\n",
              "      <td>Rubeola, IgM</td>\n",
              "      <td>7893</td>\n",
              "      <td>99.99</td>\n",
              "    </tr>\n",
              "    <tr>\n",
              "      <th>2</th>\n",
              "      <td>TS - 2a Det</td>\n",
              "      <td>7893</td>\n",
              "      <td>99.99</td>\n",
              "    </tr>\n",
              "    <tr>\n",
              "      <th>3</th>\n",
              "      <td>Sódio, urina isolada</td>\n",
              "      <td>7893</td>\n",
              "      <td>99.99</td>\n",
              "    </tr>\n",
              "    <tr>\n",
              "      <th>4</th>\n",
              "      <td>Sarampo, Anticorpos IgM</td>\n",
              "      <td>7893</td>\n",
              "      <td>99.99</td>\n",
              "    </tr>\n",
              "    <tr>\n",
              "      <th>...</th>\n",
              "      <td>...</td>\n",
              "      <td>...</td>\n",
              "      <td>...</td>\n",
              "    </tr>\n",
              "    <tr>\n",
              "      <th>522</th>\n",
              "      <td>TTPA</td>\n",
              "      <td>6043</td>\n",
              "      <td>76.55</td>\n",
              "    </tr>\n",
              "    <tr>\n",
              "      <th>523</th>\n",
              "      <td>TTPA-Normal do dia</td>\n",
              "      <td>6042</td>\n",
              "      <td>76.54</td>\n",
              "    </tr>\n",
              "    <tr>\n",
              "      <th>524</th>\n",
              "      <td>Magnésio</td>\n",
              "      <td>6024</td>\n",
              "      <td>76.31</td>\n",
              "    </tr>\n",
              "    <tr>\n",
              "      <th>525</th>\n",
              "      <td>DHL</td>\n",
              "      <td>6013</td>\n",
              "      <td>76.17</td>\n",
              "    </tr>\n",
              "    <tr>\n",
              "      <th>526</th>\n",
              "      <td>Hormônio Tiroestimulante</td>\n",
              "      <td>6007</td>\n",
              "      <td>76.1</td>\n",
              "    </tr>\n",
              "  </tbody>\n",
              "</table>\n",
              "<p>527 rows × 3 columns</p>\n",
              "</div>"
            ],
            "text/plain": [
              "                        index     0 Nulos por cento\n",
              "0                    Triptase  7893           99.99\n",
              "1                Rubeola, IgM  7893           99.99\n",
              "2                 TS - 2a Det  7893           99.99\n",
              "3        Sódio, urina isolada  7893           99.99\n",
              "4     Sarampo, Anticorpos IgM  7893           99.99\n",
              "..                        ...   ...             ...\n",
              "522                      TTPA  6043           76.55\n",
              "523        TTPA-Normal do dia  6042           76.54\n",
              "524                  Magnésio  6024           76.31\n",
              "525                       DHL  6013           76.17\n",
              "526  Hormônio Tiroestimulante  6007            76.1\n",
              "\n",
              "[527 rows x 3 columns]"
            ]
          },
          "execution_count": 358,
          "metadata": {},
          "output_type": "execute_result"
        }
      ],
      "source": [
        "ausentes"
      ]
    },
    {
      "cell_type": "code",
      "execution_count": 359,
      "metadata": {
        "id": "eE5sBMXPnCIb"
      },
      "outputs": [
        {
          "data": {
            "text/plain": [
              "527"
            ]
          },
          "execution_count": 359,
          "metadata": {},
          "output_type": "execute_result"
        }
      ],
      "source": [
        "exames_eliminar = ausentes['index'].values.tolist()\n",
        "\n",
        "len(exames_eliminar)"
      ]
    },
    {
      "cell_type": "code",
      "execution_count": 360,
      "metadata": {
        "colab": {
          "base_uri": "https://localhost:8080/"
        },
        "id": "54dAAdlSoejk",
        "outputId": "c6d19ebd-c3f7-4733-b4c3-c9a8cb070799"
      },
      "outputs": [
        {
          "data": {
            "text/plain": [
              "['Triptase',\n",
              " 'Rubeola, IgM',\n",
              " 'TS - 2a Det',\n",
              " 'Sódio, urina isolada',\n",
              " 'Sarampo, Anticorpos IgM',\n",
              " 'Proteínas, urina 1J',\n",
              " 'Rast - FX5 - Alimentos',\n",
              " 'Rast - F232 - nGal d 2 Ovoalbumina',\n",
              " 'Alfa-1, Antitripsina,soro-Fenotipagem',\n",
              " 'Rast - H2 - Pó doméstico']"
            ]
          },
          "execution_count": 360,
          "metadata": {},
          "output_type": "execute_result"
        }
      ],
      "source": [
        "exames_eliminar[0:10]"
      ]
    },
    {
      "cell_type": "code",
      "execution_count": 361,
      "metadata": {
        "id": "AxTLTATsooBn"
      },
      "outputs": [],
      "source": [
        "sirio_aprendizado = sirio_aprendizado.drop(columns=(exames_eliminar))"
      ]
    },
    {
      "cell_type": "code",
      "execution_count": 362,
      "metadata": {
        "colab": {
          "base_uri": "https://localhost:8080/",
          "height": 272
        },
        "id": "fBYggzSmgJlI",
        "outputId": "de2440fb-d6e1-474e-d651-34beb5538769"
      },
      "outputs": [
        {
          "data": {
            "text/html": [
              "<div>\n",
              "<style scoped>\n",
              "    .dataframe tbody tr th:only-of-type {\n",
              "        vertical-align: middle;\n",
              "    }\n",
              "\n",
              "    .dataframe tbody tr th {\n",
              "        vertical-align: top;\n",
              "    }\n",
              "\n",
              "    .dataframe thead th {\n",
              "        text-align: right;\n",
              "    }\n",
              "</style>\n",
              "<table border=\"1\" class=\"dataframe\">\n",
              "  <thead>\n",
              "    <tr style=\"text-align: right;\">\n",
              "      <th></th>\n",
              "      <th>ID_PACIENTE</th>\n",
              "      <th>GRUPO</th>\n",
              "      <th>Idade</th>\n",
              "      <th>Sexo</th>\n",
              "      <th>25OH-Vitamina D Total</th>\n",
              "      <th>ALT (TGP)</th>\n",
              "      <th>AST (TGO)</th>\n",
              "      <th>Basófilos</th>\n",
              "      <th>Basófilos (%)</th>\n",
              "      <th>Bilirrubina Direta</th>\n",
              "      <th>...</th>\n",
              "      <th>RDW</th>\n",
              "      <th>Sódio</th>\n",
              "      <th>T4 Livre</th>\n",
              "      <th>TP/INR</th>\n",
              "      <th>Tempo de Protrombina</th>\n",
              "      <th>Triglicérides</th>\n",
              "      <th>Uréia</th>\n",
              "      <th>VCM</th>\n",
              "      <th>Volume plaquetário médio</th>\n",
              "      <th>pH, urina</th>\n",
              "    </tr>\n",
              "  </thead>\n",
              "  <tbody>\n",
              "    <tr>\n",
              "      <th>0</th>\n",
              "      <td>00017961865C4F766FDBB3CD8FE0BFB0</td>\n",
              "      <td>GRUPO_0</td>\n",
              "      <td>54</td>\n",
              "      <td>M</td>\n",
              "      <td>NaN</td>\n",
              "      <td>26.0</td>\n",
              "      <td>24.0</td>\n",
              "      <td>40.0</td>\n",
              "      <td>0.6</td>\n",
              "      <td>0.13</td>\n",
              "      <td>...</td>\n",
              "      <td>13.1</td>\n",
              "      <td>138.0</td>\n",
              "      <td>NaN</td>\n",
              "      <td>NaN</td>\n",
              "      <td>NaN</td>\n",
              "      <td>NaN</td>\n",
              "      <td>35.0</td>\n",
              "      <td>86.0</td>\n",
              "      <td>9.8</td>\n",
              "      <td>NaN</td>\n",
              "    </tr>\n",
              "    <tr>\n",
              "      <th>1</th>\n",
              "      <td>0003B368F65004E14332CD44BEE6E600</td>\n",
              "      <td>GRUPO_0</td>\n",
              "      <td>53</td>\n",
              "      <td>F</td>\n",
              "      <td>NaN</td>\n",
              "      <td>14.0</td>\n",
              "      <td>20.0</td>\n",
              "      <td>10.0</td>\n",
              "      <td>0.2</td>\n",
              "      <td>NaN</td>\n",
              "      <td>...</td>\n",
              "      <td>14.1</td>\n",
              "      <td>141.0</td>\n",
              "      <td>NaN</td>\n",
              "      <td>NaN</td>\n",
              "      <td>NaN</td>\n",
              "      <td>NaN</td>\n",
              "      <td>29.0</td>\n",
              "      <td>92.7</td>\n",
              "      <td>9.8</td>\n",
              "      <td>NaN</td>\n",
              "    </tr>\n",
              "    <tr>\n",
              "      <th>2</th>\n",
              "      <td>000F0BC139D2846DB86AA32B8F05B215</td>\n",
              "      <td>GRUPO_0</td>\n",
              "      <td>41</td>\n",
              "      <td>M</td>\n",
              "      <td>NaN</td>\n",
              "      <td>NaN</td>\n",
              "      <td>NaN</td>\n",
              "      <td>20.0</td>\n",
              "      <td>0.4</td>\n",
              "      <td>NaN</td>\n",
              "      <td>...</td>\n",
              "      <td>14.0</td>\n",
              "      <td>142.0</td>\n",
              "      <td>NaN</td>\n",
              "      <td>NaN</td>\n",
              "      <td>NaN</td>\n",
              "      <td>142.0</td>\n",
              "      <td>33.0</td>\n",
              "      <td>83.2</td>\n",
              "      <td>10.0</td>\n",
              "      <td>5.0</td>\n",
              "    </tr>\n",
              "  </tbody>\n",
              "</table>\n",
              "<p>3 rows × 55 columns</p>\n",
              "</div>"
            ],
            "text/plain": [
              "                        ID_PACIENTE    GRUPO  Idade Sexo  \\\n",
              "0  00017961865C4F766FDBB3CD8FE0BFB0  GRUPO_0     54    M   \n",
              "1  0003B368F65004E14332CD44BEE6E600  GRUPO_0     53    F   \n",
              "2  000F0BC139D2846DB86AA32B8F05B215  GRUPO_0     41    M   \n",
              "\n",
              "   25OH-Vitamina D Total  ALT (TGP)  AST (TGO)  Basófilos  Basófilos (%)  \\\n",
              "0                    NaN       26.0       24.0       40.0            0.6   \n",
              "1                    NaN       14.0       20.0       10.0            0.2   \n",
              "2                    NaN        NaN        NaN       20.0            0.4   \n",
              "\n",
              "   Bilirrubina Direta  ...   RDW  Sódio  T4 Livre  TP/INR  \\\n",
              "0                0.13  ...  13.1  138.0       NaN     NaN   \n",
              "1                 NaN  ...  14.1  141.0       NaN     NaN   \n",
              "2                 NaN  ...  14.0  142.0       NaN     NaN   \n",
              "\n",
              "   Tempo de Protrombina  Triglicérides  Uréia   VCM  Volume plaquetário médio  \\\n",
              "0                   NaN            NaN   35.0  86.0                       9.8   \n",
              "1                   NaN            NaN   29.0  92.7                       9.8   \n",
              "2                   NaN          142.0   33.0  83.2                      10.0   \n",
              "\n",
              "   pH, urina  \n",
              "0        NaN  \n",
              "1        NaN  \n",
              "2        5.0  \n",
              "\n",
              "[3 rows x 55 columns]"
            ]
          },
          "execution_count": 362,
          "metadata": {},
          "output_type": "execute_result"
        }
      ],
      "source": [
        "sirio_aprendizado.head(3)"
      ]
    },
    {
      "cell_type": "markdown",
      "metadata": {
        "id": "sqQRGwBGd6Y6"
      },
      "source": [
        "##### Substituindo sexo feminino por 0 e sexo masculino por 1"
      ]
    },
    {
      "cell_type": "code",
      "execution_count": 363,
      "metadata": {
        "id": "Db4Yh9RweIXJ"
      },
      "outputs": [],
      "source": [
        "sirio_aprendizado['SEXO'] = ''\n",
        "\n",
        "for index, row in sirio_aprendizado.iterrows():\n",
        "        if row['Sexo'] == 'F':\n",
        "            sirio_aprendizado.loc[index,'SEXO'] = 0\n",
        "    \n",
        "        else:\n",
        "            sirio_aprendizado.loc[index,'SEXO'] = 1\n"
      ]
    },
    {
      "cell_type": "code",
      "execution_count": 364,
      "metadata": {
        "colab": {
          "base_uri": "https://localhost:8080/"
        },
        "id": "C4dchovIN2Uc",
        "outputId": "fc745947-98ce-4813-b970-d5eda75dd87f"
      },
      "outputs": [
        {
          "data": {
            "text/plain": [
              "Sexo\n",
              "F    4060\n",
              "M    3834\n",
              "Name: count, dtype: int64"
            ]
          },
          "execution_count": 364,
          "metadata": {},
          "output_type": "execute_result"
        }
      ],
      "source": [
        "sirio_aprendizado['Sexo'].value_counts()"
      ]
    },
    {
      "cell_type": "code",
      "execution_count": 365,
      "metadata": {
        "colab": {
          "base_uri": "https://localhost:8080/"
        },
        "id": "V-ZiwhGGN6Hn",
        "outputId": "a4219d82-b3d7-4367-8378-f83f57a5256d"
      },
      "outputs": [
        {
          "data": {
            "text/plain": [
              "SEXO\n",
              "0    4060\n",
              "1    3834\n",
              "Name: count, dtype: int64"
            ]
          },
          "execution_count": 365,
          "metadata": {},
          "output_type": "execute_result"
        }
      ],
      "source": [
        "sirio_aprendizado['SEXO'].value_counts()"
      ]
    },
    {
      "cell_type": "code",
      "execution_count": 366,
      "metadata": {
        "id": "8mmlQ1YFOLtM"
      },
      "outputs": [],
      "source": [
        "#Converto Sexo para int\n",
        "\n",
        "sirio_aprendizado['SEXO'] = sirio_aprendizado['SEXO'].astype(int) "
      ]
    },
    {
      "cell_type": "code",
      "execution_count": 367,
      "metadata": {
        "colab": {
          "base_uri": "https://localhost:8080/",
          "height": 491
        },
        "id": "ylOCIQzseITP",
        "outputId": "8f715a44-3ede-401a-ca73-1221a500104d"
      },
      "outputs": [
        {
          "data": {
            "text/html": [
              "<div>\n",
              "<style scoped>\n",
              "    .dataframe tbody tr th:only-of-type {\n",
              "        vertical-align: middle;\n",
              "    }\n",
              "\n",
              "    .dataframe tbody tr th {\n",
              "        vertical-align: top;\n",
              "    }\n",
              "\n",
              "    .dataframe thead th {\n",
              "        text-align: right;\n",
              "    }\n",
              "</style>\n",
              "<table border=\"1\" class=\"dataframe\">\n",
              "  <thead>\n",
              "    <tr style=\"text-align: right;\">\n",
              "      <th></th>\n",
              "      <th>ID_PACIENTE</th>\n",
              "      <th>GRUPO</th>\n",
              "      <th>Idade</th>\n",
              "      <th>Sexo</th>\n",
              "      <th>25OH-Vitamina D Total</th>\n",
              "      <th>ALT (TGP)</th>\n",
              "      <th>AST (TGO)</th>\n",
              "      <th>Basófilos</th>\n",
              "      <th>Basófilos (%)</th>\n",
              "      <th>Bilirrubina Direta</th>\n",
              "      <th>...</th>\n",
              "      <th>Sódio</th>\n",
              "      <th>T4 Livre</th>\n",
              "      <th>TP/INR</th>\n",
              "      <th>Tempo de Protrombina</th>\n",
              "      <th>Triglicérides</th>\n",
              "      <th>Uréia</th>\n",
              "      <th>VCM</th>\n",
              "      <th>Volume plaquetário médio</th>\n",
              "      <th>pH, urina</th>\n",
              "      <th>SEXO</th>\n",
              "    </tr>\n",
              "  </thead>\n",
              "  <tbody>\n",
              "    <tr>\n",
              "      <th>0</th>\n",
              "      <td>00017961865C4F766FDBB3CD8FE0BFB0</td>\n",
              "      <td>GRUPO_0</td>\n",
              "      <td>54</td>\n",
              "      <td>M</td>\n",
              "      <td>NaN</td>\n",
              "      <td>26.0</td>\n",
              "      <td>24.0</td>\n",
              "      <td>40.0</td>\n",
              "      <td>0.6</td>\n",
              "      <td>0.13</td>\n",
              "      <td>...</td>\n",
              "      <td>138.0</td>\n",
              "      <td>NaN</td>\n",
              "      <td>NaN</td>\n",
              "      <td>NaN</td>\n",
              "      <td>NaN</td>\n",
              "      <td>35.0</td>\n",
              "      <td>86.0</td>\n",
              "      <td>9.8</td>\n",
              "      <td>NaN</td>\n",
              "      <td>1</td>\n",
              "    </tr>\n",
              "    <tr>\n",
              "      <th>1</th>\n",
              "      <td>0003B368F65004E14332CD44BEE6E600</td>\n",
              "      <td>GRUPO_0</td>\n",
              "      <td>53</td>\n",
              "      <td>F</td>\n",
              "      <td>NaN</td>\n",
              "      <td>14.0</td>\n",
              "      <td>20.0</td>\n",
              "      <td>10.0</td>\n",
              "      <td>0.2</td>\n",
              "      <td>NaN</td>\n",
              "      <td>...</td>\n",
              "      <td>141.0</td>\n",
              "      <td>NaN</td>\n",
              "      <td>NaN</td>\n",
              "      <td>NaN</td>\n",
              "      <td>NaN</td>\n",
              "      <td>29.0</td>\n",
              "      <td>92.7</td>\n",
              "      <td>9.8</td>\n",
              "      <td>NaN</td>\n",
              "      <td>0</td>\n",
              "    </tr>\n",
              "    <tr>\n",
              "      <th>2</th>\n",
              "      <td>000F0BC139D2846DB86AA32B8F05B215</td>\n",
              "      <td>GRUPO_0</td>\n",
              "      <td>41</td>\n",
              "      <td>M</td>\n",
              "      <td>NaN</td>\n",
              "      <td>NaN</td>\n",
              "      <td>NaN</td>\n",
              "      <td>20.0</td>\n",
              "      <td>0.4</td>\n",
              "      <td>NaN</td>\n",
              "      <td>...</td>\n",
              "      <td>142.0</td>\n",
              "      <td>NaN</td>\n",
              "      <td>NaN</td>\n",
              "      <td>NaN</td>\n",
              "      <td>142.0</td>\n",
              "      <td>33.0</td>\n",
              "      <td>83.2</td>\n",
              "      <td>10.0</td>\n",
              "      <td>5.0</td>\n",
              "      <td>1</td>\n",
              "    </tr>\n",
              "    <tr>\n",
              "      <th>3</th>\n",
              "      <td>0028785949D91BD93442838FC898E229</td>\n",
              "      <td>GRUPO_0</td>\n",
              "      <td>31</td>\n",
              "      <td>F</td>\n",
              "      <td>NaN</td>\n",
              "      <td>NaN</td>\n",
              "      <td>NaN</td>\n",
              "      <td>NaN</td>\n",
              "      <td>NaN</td>\n",
              "      <td>NaN</td>\n",
              "      <td>...</td>\n",
              "      <td>NaN</td>\n",
              "      <td>NaN</td>\n",
              "      <td>NaN</td>\n",
              "      <td>NaN</td>\n",
              "      <td>NaN</td>\n",
              "      <td>NaN</td>\n",
              "      <td>NaN</td>\n",
              "      <td>NaN</td>\n",
              "      <td>NaN</td>\n",
              "      <td>0</td>\n",
              "    </tr>\n",
              "    <tr>\n",
              "      <th>4</th>\n",
              "      <td>00293E8E4B5FE4DABA62131274B3685A</td>\n",
              "      <td>GRUPO_0</td>\n",
              "      <td>73</td>\n",
              "      <td>F</td>\n",
              "      <td>NaN</td>\n",
              "      <td>NaN</td>\n",
              "      <td>NaN</td>\n",
              "      <td>20.0</td>\n",
              "      <td>0.5</td>\n",
              "      <td>NaN</td>\n",
              "      <td>...</td>\n",
              "      <td>137.0</td>\n",
              "      <td>NaN</td>\n",
              "      <td>NaN</td>\n",
              "      <td>NaN</td>\n",
              "      <td>NaN</td>\n",
              "      <td>35.0</td>\n",
              "      <td>77.4</td>\n",
              "      <td>10.3</td>\n",
              "      <td>NaN</td>\n",
              "      <td>0</td>\n",
              "    </tr>\n",
              "    <tr>\n",
              "      <th>5</th>\n",
              "      <td>002B919CC409B11DE52FB212379BE2CB</td>\n",
              "      <td>GRUPO_0</td>\n",
              "      <td>41</td>\n",
              "      <td>F</td>\n",
              "      <td>29.0</td>\n",
              "      <td>26.0</td>\n",
              "      <td>26.0</td>\n",
              "      <td>60.0</td>\n",
              "      <td>0.8</td>\n",
              "      <td>NaN</td>\n",
              "      <td>...</td>\n",
              "      <td>139.0</td>\n",
              "      <td>0.8</td>\n",
              "      <td>1.00</td>\n",
              "      <td>11.9</td>\n",
              "      <td>53.0</td>\n",
              "      <td>30.0</td>\n",
              "      <td>88.1</td>\n",
              "      <td>10.9</td>\n",
              "      <td>5.0</td>\n",
              "      <td>0</td>\n",
              "    </tr>\n",
              "    <tr>\n",
              "      <th>6</th>\n",
              "      <td>00304A2753E8C45EDA0477375AE41E87</td>\n",
              "      <td>GRUPO_0</td>\n",
              "      <td>29</td>\n",
              "      <td>F</td>\n",
              "      <td>NaN</td>\n",
              "      <td>NaN</td>\n",
              "      <td>NaN</td>\n",
              "      <td>NaN</td>\n",
              "      <td>NaN</td>\n",
              "      <td>NaN</td>\n",
              "      <td>...</td>\n",
              "      <td>NaN</td>\n",
              "      <td>NaN</td>\n",
              "      <td>NaN</td>\n",
              "      <td>NaN</td>\n",
              "      <td>NaN</td>\n",
              "      <td>NaN</td>\n",
              "      <td>NaN</td>\n",
              "      <td>NaN</td>\n",
              "      <td>NaN</td>\n",
              "      <td>0</td>\n",
              "    </tr>\n",
              "    <tr>\n",
              "      <th>7</th>\n",
              "      <td>003051C9B19101D1C10C5DC654384017</td>\n",
              "      <td>GRUPO_0</td>\n",
              "      <td>36</td>\n",
              "      <td>M</td>\n",
              "      <td>NaN</td>\n",
              "      <td>27.0</td>\n",
              "      <td>18.0</td>\n",
              "      <td>20.0</td>\n",
              "      <td>0.4</td>\n",
              "      <td>NaN</td>\n",
              "      <td>...</td>\n",
              "      <td>140.0</td>\n",
              "      <td>NaN</td>\n",
              "      <td>NaN</td>\n",
              "      <td>NaN</td>\n",
              "      <td>NaN</td>\n",
              "      <td>26.0</td>\n",
              "      <td>82.1</td>\n",
              "      <td>10.2</td>\n",
              "      <td>NaN</td>\n",
              "      <td>1</td>\n",
              "    </tr>\n",
              "    <tr>\n",
              "      <th>8</th>\n",
              "      <td>003F1F4C194763E4A00FD809AF5FA6AA</td>\n",
              "      <td>GRUPO_1</td>\n",
              "      <td>65</td>\n",
              "      <td>M</td>\n",
              "      <td>NaN</td>\n",
              "      <td>79.0</td>\n",
              "      <td>76.0</td>\n",
              "      <td>20.0</td>\n",
              "      <td>0.3</td>\n",
              "      <td>0.29</td>\n",
              "      <td>...</td>\n",
              "      <td>135.0</td>\n",
              "      <td>NaN</td>\n",
              "      <td>NaN</td>\n",
              "      <td>NaN</td>\n",
              "      <td>NaN</td>\n",
              "      <td>25.0</td>\n",
              "      <td>91.8</td>\n",
              "      <td>10.2</td>\n",
              "      <td>NaN</td>\n",
              "      <td>1</td>\n",
              "    </tr>\n",
              "    <tr>\n",
              "      <th>9</th>\n",
              "      <td>004688799FD293C3ABE0A07209FD8B75</td>\n",
              "      <td>GRUPO_3</td>\n",
              "      <td>68</td>\n",
              "      <td>M</td>\n",
              "      <td>29.0</td>\n",
              "      <td>31.0</td>\n",
              "      <td>21.0</td>\n",
              "      <td>30.0</td>\n",
              "      <td>0.4</td>\n",
              "      <td>0.20</td>\n",
              "      <td>...</td>\n",
              "      <td>143.0</td>\n",
              "      <td>1.2</td>\n",
              "      <td>0.83</td>\n",
              "      <td>9.5</td>\n",
              "      <td>165.0</td>\n",
              "      <td>86.0</td>\n",
              "      <td>96.9</td>\n",
              "      <td>10.4</td>\n",
              "      <td>6.0</td>\n",
              "      <td>1</td>\n",
              "    </tr>\n",
              "  </tbody>\n",
              "</table>\n",
              "<p>10 rows × 56 columns</p>\n",
              "</div>"
            ],
            "text/plain": [
              "                        ID_PACIENTE    GRUPO  Idade Sexo  \\\n",
              "0  00017961865C4F766FDBB3CD8FE0BFB0  GRUPO_0     54    M   \n",
              "1  0003B368F65004E14332CD44BEE6E600  GRUPO_0     53    F   \n",
              "2  000F0BC139D2846DB86AA32B8F05B215  GRUPO_0     41    M   \n",
              "3  0028785949D91BD93442838FC898E229  GRUPO_0     31    F   \n",
              "4  00293E8E4B5FE4DABA62131274B3685A  GRUPO_0     73    F   \n",
              "5  002B919CC409B11DE52FB212379BE2CB  GRUPO_0     41    F   \n",
              "6  00304A2753E8C45EDA0477375AE41E87  GRUPO_0     29    F   \n",
              "7  003051C9B19101D1C10C5DC654384017  GRUPO_0     36    M   \n",
              "8  003F1F4C194763E4A00FD809AF5FA6AA  GRUPO_1     65    M   \n",
              "9  004688799FD293C3ABE0A07209FD8B75  GRUPO_3     68    M   \n",
              "\n",
              "   25OH-Vitamina D Total  ALT (TGP)  AST (TGO)  Basófilos  Basófilos (%)  \\\n",
              "0                    NaN       26.0       24.0       40.0            0.6   \n",
              "1                    NaN       14.0       20.0       10.0            0.2   \n",
              "2                    NaN        NaN        NaN       20.0            0.4   \n",
              "3                    NaN        NaN        NaN        NaN            NaN   \n",
              "4                    NaN        NaN        NaN       20.0            0.5   \n",
              "5                   29.0       26.0       26.0       60.0            0.8   \n",
              "6                    NaN        NaN        NaN        NaN            NaN   \n",
              "7                    NaN       27.0       18.0       20.0            0.4   \n",
              "8                    NaN       79.0       76.0       20.0            0.3   \n",
              "9                   29.0       31.0       21.0       30.0            0.4   \n",
              "\n",
              "   Bilirrubina Direta  ...  Sódio  T4 Livre  TP/INR  Tempo de Protrombina  \\\n",
              "0                0.13  ...  138.0       NaN     NaN                   NaN   \n",
              "1                 NaN  ...  141.0       NaN     NaN                   NaN   \n",
              "2                 NaN  ...  142.0       NaN     NaN                   NaN   \n",
              "3                 NaN  ...    NaN       NaN     NaN                   NaN   \n",
              "4                 NaN  ...  137.0       NaN     NaN                   NaN   \n",
              "5                 NaN  ...  139.0       0.8    1.00                  11.9   \n",
              "6                 NaN  ...    NaN       NaN     NaN                   NaN   \n",
              "7                 NaN  ...  140.0       NaN     NaN                   NaN   \n",
              "8                0.29  ...  135.0       NaN     NaN                   NaN   \n",
              "9                0.20  ...  143.0       1.2    0.83                   9.5   \n",
              "\n",
              "   Triglicérides  Uréia   VCM  Volume plaquetário médio  pH, urina  SEXO  \n",
              "0            NaN   35.0  86.0                       9.8        NaN     1  \n",
              "1            NaN   29.0  92.7                       9.8        NaN     0  \n",
              "2          142.0   33.0  83.2                      10.0        5.0     1  \n",
              "3            NaN    NaN   NaN                       NaN        NaN     0  \n",
              "4            NaN   35.0  77.4                      10.3        NaN     0  \n",
              "5           53.0   30.0  88.1                      10.9        5.0     0  \n",
              "6            NaN    NaN   NaN                       NaN        NaN     0  \n",
              "7            NaN   26.0  82.1                      10.2        NaN     1  \n",
              "8            NaN   25.0  91.8                      10.2        NaN     1  \n",
              "9          165.0   86.0  96.9                      10.4        6.0     1  \n",
              "\n",
              "[10 rows x 56 columns]"
            ]
          },
          "execution_count": 367,
          "metadata": {},
          "output_type": "execute_result"
        }
      ],
      "source": [
        "sirio_aprendizado.head(10)"
      ]
    },
    {
      "cell_type": "code",
      "execution_count": 368,
      "metadata": {},
      "outputs": [
        {
          "data": {
            "text/plain": [
              "7894"
            ]
          },
          "execution_count": 368,
          "metadata": {},
          "output_type": "execute_result"
        }
      ],
      "source": [
        "sirio_aprendizado[\"ID_PACIENTE\"].nunique()"
      ]
    },
    {
      "cell_type": "code",
      "execution_count": 369,
      "metadata": {},
      "outputs": [],
      "source": [
        "# Criando a variável target\n",
        "# A variável target será 0 para os grupos 0 e 1, e 1 para os grupos 2 e 3\n",
        "\n",
        "sirio_aprendizado['target'] = ''\n",
        "\n",
        "for index, row in sirio_aprendizado.iterrows():\n",
        "        if row['GRUPO'] == 'GRUPO_0':\n",
        "            sirio_aprendizado.loc[index,'target'] = 0\n",
        "\n",
        "        elif row['GRUPO'] == 'GRUPO_1':\n",
        "            sirio_aprendizado.loc[index,'target'] = 0\n",
        "    \n",
        "        else:\n",
        "            sirio_aprendizado.loc[index,'target'] = 1"
      ]
    },
    {
      "cell_type": "code",
      "execution_count": 370,
      "metadata": {},
      "outputs": [
        {
          "data": {
            "text/html": [
              "<div>\n",
              "<style scoped>\n",
              "    .dataframe tbody tr th:only-of-type {\n",
              "        vertical-align: middle;\n",
              "    }\n",
              "\n",
              "    .dataframe tbody tr th {\n",
              "        vertical-align: top;\n",
              "    }\n",
              "\n",
              "    .dataframe thead th {\n",
              "        text-align: right;\n",
              "    }\n",
              "</style>\n",
              "<table border=\"1\" class=\"dataframe\">\n",
              "  <thead>\n",
              "    <tr style=\"text-align: right;\">\n",
              "      <th></th>\n",
              "      <th>ID_PACIENTE</th>\n",
              "      <th>GRUPO</th>\n",
              "      <th>Idade</th>\n",
              "      <th>Sexo</th>\n",
              "      <th>25OH-Vitamina D Total</th>\n",
              "      <th>ALT (TGP)</th>\n",
              "      <th>AST (TGO)</th>\n",
              "      <th>Basófilos</th>\n",
              "      <th>Basófilos (%)</th>\n",
              "      <th>Bilirrubina Direta</th>\n",
              "      <th>...</th>\n",
              "      <th>T4 Livre</th>\n",
              "      <th>TP/INR</th>\n",
              "      <th>Tempo de Protrombina</th>\n",
              "      <th>Triglicérides</th>\n",
              "      <th>Uréia</th>\n",
              "      <th>VCM</th>\n",
              "      <th>Volume plaquetário médio</th>\n",
              "      <th>pH, urina</th>\n",
              "      <th>SEXO</th>\n",
              "      <th>target</th>\n",
              "    </tr>\n",
              "  </thead>\n",
              "  <tbody>\n",
              "    <tr>\n",
              "      <th>0</th>\n",
              "      <td>00017961865C4F766FDBB3CD8FE0BFB0</td>\n",
              "      <td>GRUPO_0</td>\n",
              "      <td>54</td>\n",
              "      <td>M</td>\n",
              "      <td>NaN</td>\n",
              "      <td>26.0</td>\n",
              "      <td>24.0</td>\n",
              "      <td>40.0</td>\n",
              "      <td>0.6</td>\n",
              "      <td>0.13</td>\n",
              "      <td>...</td>\n",
              "      <td>NaN</td>\n",
              "      <td>NaN</td>\n",
              "      <td>NaN</td>\n",
              "      <td>NaN</td>\n",
              "      <td>35.0</td>\n",
              "      <td>86.0</td>\n",
              "      <td>9.8</td>\n",
              "      <td>NaN</td>\n",
              "      <td>1</td>\n",
              "      <td>0</td>\n",
              "    </tr>\n",
              "    <tr>\n",
              "      <th>1</th>\n",
              "      <td>0003B368F65004E14332CD44BEE6E600</td>\n",
              "      <td>GRUPO_0</td>\n",
              "      <td>53</td>\n",
              "      <td>F</td>\n",
              "      <td>NaN</td>\n",
              "      <td>14.0</td>\n",
              "      <td>20.0</td>\n",
              "      <td>10.0</td>\n",
              "      <td>0.2</td>\n",
              "      <td>NaN</td>\n",
              "      <td>...</td>\n",
              "      <td>NaN</td>\n",
              "      <td>NaN</td>\n",
              "      <td>NaN</td>\n",
              "      <td>NaN</td>\n",
              "      <td>29.0</td>\n",
              "      <td>92.7</td>\n",
              "      <td>9.8</td>\n",
              "      <td>NaN</td>\n",
              "      <td>0</td>\n",
              "      <td>0</td>\n",
              "    </tr>\n",
              "    <tr>\n",
              "      <th>2</th>\n",
              "      <td>000F0BC139D2846DB86AA32B8F05B215</td>\n",
              "      <td>GRUPO_0</td>\n",
              "      <td>41</td>\n",
              "      <td>M</td>\n",
              "      <td>NaN</td>\n",
              "      <td>NaN</td>\n",
              "      <td>NaN</td>\n",
              "      <td>20.0</td>\n",
              "      <td>0.4</td>\n",
              "      <td>NaN</td>\n",
              "      <td>...</td>\n",
              "      <td>NaN</td>\n",
              "      <td>NaN</td>\n",
              "      <td>NaN</td>\n",
              "      <td>142.0</td>\n",
              "      <td>33.0</td>\n",
              "      <td>83.2</td>\n",
              "      <td>10.0</td>\n",
              "      <td>5.0</td>\n",
              "      <td>1</td>\n",
              "      <td>0</td>\n",
              "    </tr>\n",
              "    <tr>\n",
              "      <th>3</th>\n",
              "      <td>0028785949D91BD93442838FC898E229</td>\n",
              "      <td>GRUPO_0</td>\n",
              "      <td>31</td>\n",
              "      <td>F</td>\n",
              "      <td>NaN</td>\n",
              "      <td>NaN</td>\n",
              "      <td>NaN</td>\n",
              "      <td>NaN</td>\n",
              "      <td>NaN</td>\n",
              "      <td>NaN</td>\n",
              "      <td>...</td>\n",
              "      <td>NaN</td>\n",
              "      <td>NaN</td>\n",
              "      <td>NaN</td>\n",
              "      <td>NaN</td>\n",
              "      <td>NaN</td>\n",
              "      <td>NaN</td>\n",
              "      <td>NaN</td>\n",
              "      <td>NaN</td>\n",
              "      <td>0</td>\n",
              "      <td>0</td>\n",
              "    </tr>\n",
              "    <tr>\n",
              "      <th>4</th>\n",
              "      <td>00293E8E4B5FE4DABA62131274B3685A</td>\n",
              "      <td>GRUPO_0</td>\n",
              "      <td>73</td>\n",
              "      <td>F</td>\n",
              "      <td>NaN</td>\n",
              "      <td>NaN</td>\n",
              "      <td>NaN</td>\n",
              "      <td>20.0</td>\n",
              "      <td>0.5</td>\n",
              "      <td>NaN</td>\n",
              "      <td>...</td>\n",
              "      <td>NaN</td>\n",
              "      <td>NaN</td>\n",
              "      <td>NaN</td>\n",
              "      <td>NaN</td>\n",
              "      <td>35.0</td>\n",
              "      <td>77.4</td>\n",
              "      <td>10.3</td>\n",
              "      <td>NaN</td>\n",
              "      <td>0</td>\n",
              "      <td>0</td>\n",
              "    </tr>\n",
              "    <tr>\n",
              "      <th>5</th>\n",
              "      <td>002B919CC409B11DE52FB212379BE2CB</td>\n",
              "      <td>GRUPO_0</td>\n",
              "      <td>41</td>\n",
              "      <td>F</td>\n",
              "      <td>29.0</td>\n",
              "      <td>26.0</td>\n",
              "      <td>26.0</td>\n",
              "      <td>60.0</td>\n",
              "      <td>0.8</td>\n",
              "      <td>NaN</td>\n",
              "      <td>...</td>\n",
              "      <td>0.8</td>\n",
              "      <td>1.00</td>\n",
              "      <td>11.9</td>\n",
              "      <td>53.0</td>\n",
              "      <td>30.0</td>\n",
              "      <td>88.1</td>\n",
              "      <td>10.9</td>\n",
              "      <td>5.0</td>\n",
              "      <td>0</td>\n",
              "      <td>0</td>\n",
              "    </tr>\n",
              "    <tr>\n",
              "      <th>6</th>\n",
              "      <td>00304A2753E8C45EDA0477375AE41E87</td>\n",
              "      <td>GRUPO_0</td>\n",
              "      <td>29</td>\n",
              "      <td>F</td>\n",
              "      <td>NaN</td>\n",
              "      <td>NaN</td>\n",
              "      <td>NaN</td>\n",
              "      <td>NaN</td>\n",
              "      <td>NaN</td>\n",
              "      <td>NaN</td>\n",
              "      <td>...</td>\n",
              "      <td>NaN</td>\n",
              "      <td>NaN</td>\n",
              "      <td>NaN</td>\n",
              "      <td>NaN</td>\n",
              "      <td>NaN</td>\n",
              "      <td>NaN</td>\n",
              "      <td>NaN</td>\n",
              "      <td>NaN</td>\n",
              "      <td>0</td>\n",
              "      <td>0</td>\n",
              "    </tr>\n",
              "    <tr>\n",
              "      <th>7</th>\n",
              "      <td>003051C9B19101D1C10C5DC654384017</td>\n",
              "      <td>GRUPO_0</td>\n",
              "      <td>36</td>\n",
              "      <td>M</td>\n",
              "      <td>NaN</td>\n",
              "      <td>27.0</td>\n",
              "      <td>18.0</td>\n",
              "      <td>20.0</td>\n",
              "      <td>0.4</td>\n",
              "      <td>NaN</td>\n",
              "      <td>...</td>\n",
              "      <td>NaN</td>\n",
              "      <td>NaN</td>\n",
              "      <td>NaN</td>\n",
              "      <td>NaN</td>\n",
              "      <td>26.0</td>\n",
              "      <td>82.1</td>\n",
              "      <td>10.2</td>\n",
              "      <td>NaN</td>\n",
              "      <td>1</td>\n",
              "      <td>0</td>\n",
              "    </tr>\n",
              "    <tr>\n",
              "      <th>8</th>\n",
              "      <td>003F1F4C194763E4A00FD809AF5FA6AA</td>\n",
              "      <td>GRUPO_1</td>\n",
              "      <td>65</td>\n",
              "      <td>M</td>\n",
              "      <td>NaN</td>\n",
              "      <td>79.0</td>\n",
              "      <td>76.0</td>\n",
              "      <td>20.0</td>\n",
              "      <td>0.3</td>\n",
              "      <td>0.29</td>\n",
              "      <td>...</td>\n",
              "      <td>NaN</td>\n",
              "      <td>NaN</td>\n",
              "      <td>NaN</td>\n",
              "      <td>NaN</td>\n",
              "      <td>25.0</td>\n",
              "      <td>91.8</td>\n",
              "      <td>10.2</td>\n",
              "      <td>NaN</td>\n",
              "      <td>1</td>\n",
              "      <td>0</td>\n",
              "    </tr>\n",
              "    <tr>\n",
              "      <th>9</th>\n",
              "      <td>004688799FD293C3ABE0A07209FD8B75</td>\n",
              "      <td>GRUPO_3</td>\n",
              "      <td>68</td>\n",
              "      <td>M</td>\n",
              "      <td>29.0</td>\n",
              "      <td>31.0</td>\n",
              "      <td>21.0</td>\n",
              "      <td>30.0</td>\n",
              "      <td>0.4</td>\n",
              "      <td>0.20</td>\n",
              "      <td>...</td>\n",
              "      <td>1.2</td>\n",
              "      <td>0.83</td>\n",
              "      <td>9.5</td>\n",
              "      <td>165.0</td>\n",
              "      <td>86.0</td>\n",
              "      <td>96.9</td>\n",
              "      <td>10.4</td>\n",
              "      <td>6.0</td>\n",
              "      <td>1</td>\n",
              "      <td>1</td>\n",
              "    </tr>\n",
              "  </tbody>\n",
              "</table>\n",
              "<p>10 rows × 57 columns</p>\n",
              "</div>"
            ],
            "text/plain": [
              "                        ID_PACIENTE    GRUPO  Idade Sexo  \\\n",
              "0  00017961865C4F766FDBB3CD8FE0BFB0  GRUPO_0     54    M   \n",
              "1  0003B368F65004E14332CD44BEE6E600  GRUPO_0     53    F   \n",
              "2  000F0BC139D2846DB86AA32B8F05B215  GRUPO_0     41    M   \n",
              "3  0028785949D91BD93442838FC898E229  GRUPO_0     31    F   \n",
              "4  00293E8E4B5FE4DABA62131274B3685A  GRUPO_0     73    F   \n",
              "5  002B919CC409B11DE52FB212379BE2CB  GRUPO_0     41    F   \n",
              "6  00304A2753E8C45EDA0477375AE41E87  GRUPO_0     29    F   \n",
              "7  003051C9B19101D1C10C5DC654384017  GRUPO_0     36    M   \n",
              "8  003F1F4C194763E4A00FD809AF5FA6AA  GRUPO_1     65    M   \n",
              "9  004688799FD293C3ABE0A07209FD8B75  GRUPO_3     68    M   \n",
              "\n",
              "   25OH-Vitamina D Total  ALT (TGP)  AST (TGO)  Basófilos  Basófilos (%)  \\\n",
              "0                    NaN       26.0       24.0       40.0            0.6   \n",
              "1                    NaN       14.0       20.0       10.0            0.2   \n",
              "2                    NaN        NaN        NaN       20.0            0.4   \n",
              "3                    NaN        NaN        NaN        NaN            NaN   \n",
              "4                    NaN        NaN        NaN       20.0            0.5   \n",
              "5                   29.0       26.0       26.0       60.0            0.8   \n",
              "6                    NaN        NaN        NaN        NaN            NaN   \n",
              "7                    NaN       27.0       18.0       20.0            0.4   \n",
              "8                    NaN       79.0       76.0       20.0            0.3   \n",
              "9                   29.0       31.0       21.0       30.0            0.4   \n",
              "\n",
              "   Bilirrubina Direta  ...  T4 Livre  TP/INR  Tempo de Protrombina  \\\n",
              "0                0.13  ...       NaN     NaN                   NaN   \n",
              "1                 NaN  ...       NaN     NaN                   NaN   \n",
              "2                 NaN  ...       NaN     NaN                   NaN   \n",
              "3                 NaN  ...       NaN     NaN                   NaN   \n",
              "4                 NaN  ...       NaN     NaN                   NaN   \n",
              "5                 NaN  ...       0.8    1.00                  11.9   \n",
              "6                 NaN  ...       NaN     NaN                   NaN   \n",
              "7                 NaN  ...       NaN     NaN                   NaN   \n",
              "8                0.29  ...       NaN     NaN                   NaN   \n",
              "9                0.20  ...       1.2    0.83                   9.5   \n",
              "\n",
              "   Triglicérides  Uréia   VCM  Volume plaquetário médio  pH, urina  SEXO  \\\n",
              "0            NaN   35.0  86.0                       9.8        NaN     1   \n",
              "1            NaN   29.0  92.7                       9.8        NaN     0   \n",
              "2          142.0   33.0  83.2                      10.0        5.0     1   \n",
              "3            NaN    NaN   NaN                       NaN        NaN     0   \n",
              "4            NaN   35.0  77.4                      10.3        NaN     0   \n",
              "5           53.0   30.0  88.1                      10.9        5.0     0   \n",
              "6            NaN    NaN   NaN                       NaN        NaN     0   \n",
              "7            NaN   26.0  82.1                      10.2        NaN     1   \n",
              "8            NaN   25.0  91.8                      10.2        NaN     1   \n",
              "9          165.0   86.0  96.9                      10.4        6.0     1   \n",
              "\n",
              "   target  \n",
              "0       0  \n",
              "1       0  \n",
              "2       0  \n",
              "3       0  \n",
              "4       0  \n",
              "5       0  \n",
              "6       0  \n",
              "7       0  \n",
              "8       0  \n",
              "9       1  \n",
              "\n",
              "[10 rows x 57 columns]"
            ]
          },
          "execution_count": 370,
          "metadata": {},
          "output_type": "execute_result"
        }
      ],
      "source": [
        "sirio_aprendizado.head(10)"
      ]
    },
    {
      "cell_type": "code",
      "execution_count": 371,
      "metadata": {},
      "outputs": [
        {
          "data": {
            "text/plain": [
              "target\n",
              "0    7138\n",
              "1     756\n",
              "Name: count, dtype: int64"
            ]
          },
          "execution_count": 371,
          "metadata": {},
          "output_type": "execute_result"
        }
      ],
      "source": [
        "sirio_aprendizado['target'].value_counts()"
      ]
    },
    {
      "cell_type": "code",
      "execution_count": 372,
      "metadata": {},
      "outputs": [
        {
          "data": {
            "text/html": [
              "<div>\n",
              "<style scoped>\n",
              "    .dataframe tbody tr th:only-of-type {\n",
              "        vertical-align: middle;\n",
              "    }\n",
              "\n",
              "    .dataframe tbody tr th {\n",
              "        vertical-align: top;\n",
              "    }\n",
              "\n",
              "    .dataframe thead th {\n",
              "        text-align: right;\n",
              "    }\n",
              "</style>\n",
              "<table border=\"1\" class=\"dataframe\">\n",
              "  <thead>\n",
              "    <tr style=\"text-align: right;\">\n",
              "      <th></th>\n",
              "      <th>ID_PACIENTE</th>\n",
              "      <th>Idade</th>\n",
              "      <th>25OH-Vitamina D Total</th>\n",
              "      <th>ALT (TGP)</th>\n",
              "      <th>AST (TGO)</th>\n",
              "      <th>Basófilos</th>\n",
              "      <th>Basófilos (%)</th>\n",
              "      <th>Bilirrubina Direta</th>\n",
              "      <th>Bilirrubina Indireta</th>\n",
              "      <th>Bilirrubina Total</th>\n",
              "      <th>...</th>\n",
              "      <th>T4 Livre</th>\n",
              "      <th>TP/INR</th>\n",
              "      <th>Tempo de Protrombina</th>\n",
              "      <th>Triglicérides</th>\n",
              "      <th>Uréia</th>\n",
              "      <th>VCM</th>\n",
              "      <th>Volume plaquetário médio</th>\n",
              "      <th>pH, urina</th>\n",
              "      <th>SEXO</th>\n",
              "      <th>target</th>\n",
              "    </tr>\n",
              "  </thead>\n",
              "  <tbody>\n",
              "    <tr>\n",
              "      <th>0</th>\n",
              "      <td>00017961865C4F766FDBB3CD8FE0BFB0</td>\n",
              "      <td>54</td>\n",
              "      <td>NaN</td>\n",
              "      <td>26.0</td>\n",
              "      <td>24.0</td>\n",
              "      <td>40.0</td>\n",
              "      <td>0.6</td>\n",
              "      <td>0.13</td>\n",
              "      <td>0.17</td>\n",
              "      <td>0.30</td>\n",
              "      <td>...</td>\n",
              "      <td>NaN</td>\n",
              "      <td>NaN</td>\n",
              "      <td>NaN</td>\n",
              "      <td>NaN</td>\n",
              "      <td>35.0</td>\n",
              "      <td>86.0</td>\n",
              "      <td>9.8</td>\n",
              "      <td>NaN</td>\n",
              "      <td>1</td>\n",
              "      <td>0</td>\n",
              "    </tr>\n",
              "    <tr>\n",
              "      <th>1</th>\n",
              "      <td>0003B368F65004E14332CD44BEE6E600</td>\n",
              "      <td>53</td>\n",
              "      <td>NaN</td>\n",
              "      <td>14.0</td>\n",
              "      <td>20.0</td>\n",
              "      <td>10.0</td>\n",
              "      <td>0.2</td>\n",
              "      <td>NaN</td>\n",
              "      <td>NaN</td>\n",
              "      <td>NaN</td>\n",
              "      <td>...</td>\n",
              "      <td>NaN</td>\n",
              "      <td>NaN</td>\n",
              "      <td>NaN</td>\n",
              "      <td>NaN</td>\n",
              "      <td>29.0</td>\n",
              "      <td>92.7</td>\n",
              "      <td>9.8</td>\n",
              "      <td>NaN</td>\n",
              "      <td>0</td>\n",
              "      <td>0</td>\n",
              "    </tr>\n",
              "    <tr>\n",
              "      <th>2</th>\n",
              "      <td>000F0BC139D2846DB86AA32B8F05B215</td>\n",
              "      <td>41</td>\n",
              "      <td>NaN</td>\n",
              "      <td>NaN</td>\n",
              "      <td>NaN</td>\n",
              "      <td>20.0</td>\n",
              "      <td>0.4</td>\n",
              "      <td>NaN</td>\n",
              "      <td>NaN</td>\n",
              "      <td>NaN</td>\n",
              "      <td>...</td>\n",
              "      <td>NaN</td>\n",
              "      <td>NaN</td>\n",
              "      <td>NaN</td>\n",
              "      <td>142.0</td>\n",
              "      <td>33.0</td>\n",
              "      <td>83.2</td>\n",
              "      <td>10.0</td>\n",
              "      <td>5.0</td>\n",
              "      <td>1</td>\n",
              "      <td>0</td>\n",
              "    </tr>\n",
              "    <tr>\n",
              "      <th>3</th>\n",
              "      <td>0028785949D91BD93442838FC898E229</td>\n",
              "      <td>31</td>\n",
              "      <td>NaN</td>\n",
              "      <td>NaN</td>\n",
              "      <td>NaN</td>\n",
              "      <td>NaN</td>\n",
              "      <td>NaN</td>\n",
              "      <td>NaN</td>\n",
              "      <td>NaN</td>\n",
              "      <td>NaN</td>\n",
              "      <td>...</td>\n",
              "      <td>NaN</td>\n",
              "      <td>NaN</td>\n",
              "      <td>NaN</td>\n",
              "      <td>NaN</td>\n",
              "      <td>NaN</td>\n",
              "      <td>NaN</td>\n",
              "      <td>NaN</td>\n",
              "      <td>NaN</td>\n",
              "      <td>0</td>\n",
              "      <td>0</td>\n",
              "    </tr>\n",
              "    <tr>\n",
              "      <th>4</th>\n",
              "      <td>00293E8E4B5FE4DABA62131274B3685A</td>\n",
              "      <td>73</td>\n",
              "      <td>NaN</td>\n",
              "      <td>NaN</td>\n",
              "      <td>NaN</td>\n",
              "      <td>20.0</td>\n",
              "      <td>0.5</td>\n",
              "      <td>NaN</td>\n",
              "      <td>NaN</td>\n",
              "      <td>NaN</td>\n",
              "      <td>...</td>\n",
              "      <td>NaN</td>\n",
              "      <td>NaN</td>\n",
              "      <td>NaN</td>\n",
              "      <td>NaN</td>\n",
              "      <td>35.0</td>\n",
              "      <td>77.4</td>\n",
              "      <td>10.3</td>\n",
              "      <td>NaN</td>\n",
              "      <td>0</td>\n",
              "      <td>0</td>\n",
              "    </tr>\n",
              "    <tr>\n",
              "      <th>5</th>\n",
              "      <td>002B919CC409B11DE52FB212379BE2CB</td>\n",
              "      <td>41</td>\n",
              "      <td>29.0</td>\n",
              "      <td>26.0</td>\n",
              "      <td>26.0</td>\n",
              "      <td>60.0</td>\n",
              "      <td>0.8</td>\n",
              "      <td>NaN</td>\n",
              "      <td>NaN</td>\n",
              "      <td>NaN</td>\n",
              "      <td>...</td>\n",
              "      <td>0.8</td>\n",
              "      <td>1.00</td>\n",
              "      <td>11.9</td>\n",
              "      <td>53.0</td>\n",
              "      <td>30.0</td>\n",
              "      <td>88.1</td>\n",
              "      <td>10.9</td>\n",
              "      <td>5.0</td>\n",
              "      <td>0</td>\n",
              "      <td>0</td>\n",
              "    </tr>\n",
              "    <tr>\n",
              "      <th>6</th>\n",
              "      <td>00304A2753E8C45EDA0477375AE41E87</td>\n",
              "      <td>29</td>\n",
              "      <td>NaN</td>\n",
              "      <td>NaN</td>\n",
              "      <td>NaN</td>\n",
              "      <td>NaN</td>\n",
              "      <td>NaN</td>\n",
              "      <td>NaN</td>\n",
              "      <td>NaN</td>\n",
              "      <td>NaN</td>\n",
              "      <td>...</td>\n",
              "      <td>NaN</td>\n",
              "      <td>NaN</td>\n",
              "      <td>NaN</td>\n",
              "      <td>NaN</td>\n",
              "      <td>NaN</td>\n",
              "      <td>NaN</td>\n",
              "      <td>NaN</td>\n",
              "      <td>NaN</td>\n",
              "      <td>0</td>\n",
              "      <td>0</td>\n",
              "    </tr>\n",
              "    <tr>\n",
              "      <th>7</th>\n",
              "      <td>003051C9B19101D1C10C5DC654384017</td>\n",
              "      <td>36</td>\n",
              "      <td>NaN</td>\n",
              "      <td>27.0</td>\n",
              "      <td>18.0</td>\n",
              "      <td>20.0</td>\n",
              "      <td>0.4</td>\n",
              "      <td>NaN</td>\n",
              "      <td>NaN</td>\n",
              "      <td>NaN</td>\n",
              "      <td>...</td>\n",
              "      <td>NaN</td>\n",
              "      <td>NaN</td>\n",
              "      <td>NaN</td>\n",
              "      <td>NaN</td>\n",
              "      <td>26.0</td>\n",
              "      <td>82.1</td>\n",
              "      <td>10.2</td>\n",
              "      <td>NaN</td>\n",
              "      <td>1</td>\n",
              "      <td>0</td>\n",
              "    </tr>\n",
              "    <tr>\n",
              "      <th>8</th>\n",
              "      <td>003F1F4C194763E4A00FD809AF5FA6AA</td>\n",
              "      <td>65</td>\n",
              "      <td>NaN</td>\n",
              "      <td>79.0</td>\n",
              "      <td>76.0</td>\n",
              "      <td>20.0</td>\n",
              "      <td>0.3</td>\n",
              "      <td>0.29</td>\n",
              "      <td>0.15</td>\n",
              "      <td>0.44</td>\n",
              "      <td>...</td>\n",
              "      <td>NaN</td>\n",
              "      <td>NaN</td>\n",
              "      <td>NaN</td>\n",
              "      <td>NaN</td>\n",
              "      <td>25.0</td>\n",
              "      <td>91.8</td>\n",
              "      <td>10.2</td>\n",
              "      <td>NaN</td>\n",
              "      <td>1</td>\n",
              "      <td>0</td>\n",
              "    </tr>\n",
              "    <tr>\n",
              "      <th>9</th>\n",
              "      <td>004688799FD293C3ABE0A07209FD8B75</td>\n",
              "      <td>68</td>\n",
              "      <td>29.0</td>\n",
              "      <td>31.0</td>\n",
              "      <td>21.0</td>\n",
              "      <td>30.0</td>\n",
              "      <td>0.4</td>\n",
              "      <td>0.20</td>\n",
              "      <td>0.35</td>\n",
              "      <td>0.55</td>\n",
              "      <td>...</td>\n",
              "      <td>1.2</td>\n",
              "      <td>0.83</td>\n",
              "      <td>9.5</td>\n",
              "      <td>165.0</td>\n",
              "      <td>86.0</td>\n",
              "      <td>96.9</td>\n",
              "      <td>10.4</td>\n",
              "      <td>6.0</td>\n",
              "      <td>1</td>\n",
              "      <td>1</td>\n",
              "    </tr>\n",
              "  </tbody>\n",
              "</table>\n",
              "<p>10 rows × 55 columns</p>\n",
              "</div>"
            ],
            "text/plain": [
              "                        ID_PACIENTE  Idade  25OH-Vitamina D Total  ALT (TGP)  \\\n",
              "0  00017961865C4F766FDBB3CD8FE0BFB0     54                    NaN       26.0   \n",
              "1  0003B368F65004E14332CD44BEE6E600     53                    NaN       14.0   \n",
              "2  000F0BC139D2846DB86AA32B8F05B215     41                    NaN        NaN   \n",
              "3  0028785949D91BD93442838FC898E229     31                    NaN        NaN   \n",
              "4  00293E8E4B5FE4DABA62131274B3685A     73                    NaN        NaN   \n",
              "5  002B919CC409B11DE52FB212379BE2CB     41                   29.0       26.0   \n",
              "6  00304A2753E8C45EDA0477375AE41E87     29                    NaN        NaN   \n",
              "7  003051C9B19101D1C10C5DC654384017     36                    NaN       27.0   \n",
              "8  003F1F4C194763E4A00FD809AF5FA6AA     65                    NaN       79.0   \n",
              "9  004688799FD293C3ABE0A07209FD8B75     68                   29.0       31.0   \n",
              "\n",
              "   AST (TGO)  Basófilos  Basófilos (%)  Bilirrubina Direta  \\\n",
              "0       24.0       40.0            0.6                0.13   \n",
              "1       20.0       10.0            0.2                 NaN   \n",
              "2        NaN       20.0            0.4                 NaN   \n",
              "3        NaN        NaN            NaN                 NaN   \n",
              "4        NaN       20.0            0.5                 NaN   \n",
              "5       26.0       60.0            0.8                 NaN   \n",
              "6        NaN        NaN            NaN                 NaN   \n",
              "7       18.0       20.0            0.4                 NaN   \n",
              "8       76.0       20.0            0.3                0.29   \n",
              "9       21.0       30.0            0.4                0.20   \n",
              "\n",
              "   Bilirrubina Indireta  Bilirrubina Total  ...  T4 Livre  TP/INR  \\\n",
              "0                  0.17               0.30  ...       NaN     NaN   \n",
              "1                   NaN                NaN  ...       NaN     NaN   \n",
              "2                   NaN                NaN  ...       NaN     NaN   \n",
              "3                   NaN                NaN  ...       NaN     NaN   \n",
              "4                   NaN                NaN  ...       NaN     NaN   \n",
              "5                   NaN                NaN  ...       0.8    1.00   \n",
              "6                   NaN                NaN  ...       NaN     NaN   \n",
              "7                   NaN                NaN  ...       NaN     NaN   \n",
              "8                  0.15               0.44  ...       NaN     NaN   \n",
              "9                  0.35               0.55  ...       1.2    0.83   \n",
              "\n",
              "   Tempo de Protrombina  Triglicérides  Uréia   VCM  Volume plaquetário médio  \\\n",
              "0                   NaN            NaN   35.0  86.0                       9.8   \n",
              "1                   NaN            NaN   29.0  92.7                       9.8   \n",
              "2                   NaN          142.0   33.0  83.2                      10.0   \n",
              "3                   NaN            NaN    NaN   NaN                       NaN   \n",
              "4                   NaN            NaN   35.0  77.4                      10.3   \n",
              "5                  11.9           53.0   30.0  88.1                      10.9   \n",
              "6                   NaN            NaN    NaN   NaN                       NaN   \n",
              "7                   NaN            NaN   26.0  82.1                      10.2   \n",
              "8                   NaN            NaN   25.0  91.8                      10.2   \n",
              "9                   9.5          165.0   86.0  96.9                      10.4   \n",
              "\n",
              "   pH, urina  SEXO  target  \n",
              "0        NaN     1       0  \n",
              "1        NaN     0       0  \n",
              "2        5.0     1       0  \n",
              "3        NaN     0       0  \n",
              "4        NaN     0       0  \n",
              "5        5.0     0       0  \n",
              "6        NaN     0       0  \n",
              "7        NaN     1       0  \n",
              "8        NaN     1       0  \n",
              "9        6.0     1       1  \n",
              "\n",
              "[10 rows x 55 columns]"
            ]
          },
          "execution_count": 372,
          "metadata": {},
          "output_type": "execute_result"
        }
      ],
      "source": [
        "sirio_aprendizado.drop(columns=['GRUPO', 'Sexo'], inplace=True)\n",
        "\n",
        "sirio_aprendizado.head(10)"
      ]
    },
    {
      "cell_type": "code",
      "execution_count": 373,
      "metadata": {
        "id": "PPLmdz_u7KK9"
      },
      "outputs": [],
      "source": [
        "#Gerando arquivo csv\n",
        "\n",
        "sirio_aprendizado.to_csv('sirio_aprendizado_v4.csv', sep='|', encoding='utf-8')"
      ]
    },
    {
      "cell_type": "code",
      "execution_count": 374,
      "metadata": {},
      "outputs": [
        {
          "data": {
            "text/plain": [
              "target\n",
              "0    7138\n",
              "1     756\n",
              "Name: count, dtype: int64"
            ]
          },
          "execution_count": 374,
          "metadata": {},
          "output_type": "execute_result"
        }
      ],
      "source": [
        "sirio_aprendizado['target'].value_counts()"
      ]
    },
    {
      "cell_type": "markdown",
      "metadata": {
        "id": "IecIiQ-NDKp-"
      },
      "source": [
        "## **ANÁLISE DOS DADOS**"
      ]
    },
    {
      "cell_type": "code",
      "execution_count": 375,
      "metadata": {
        "colab": {
          "base_uri": "https://localhost:8080/"
        },
        "id": "4rXXRyYANihR",
        "outputId": "ed361689-4247-4395-e535-182bc8826d67"
      },
      "outputs": [
        {
          "name": "stdout",
          "output_type": "stream",
          "text": [
            "<class 'pandas.core.frame.DataFrame'>\n",
            "RangeIndex: 7894 entries, 0 to 7893\n",
            "Data columns (total 55 columns):\n",
            " #   Column                                 Non-Null Count  Dtype  \n",
            "---  ------                                 --------------  -----  \n",
            " 0   ID_PACIENTE                            7894 non-null   object \n",
            " 1   Idade                                  7894 non-null   int64  \n",
            " 2   25OH-Vitamina D Total                  2249 non-null   float64\n",
            " 3   ALT (TGP)                              5389 non-null   float64\n",
            " 4   AST (TGO)                              5360 non-null   float64\n",
            " 5   Basófilos                              7260 non-null   float64\n",
            " 6   Basófilos (%)                          7260 non-null   float64\n",
            " 7   Bilirrubina Direta                     2622 non-null   float64\n",
            " 8   Bilirrubina Indireta                   2622 non-null   float64\n",
            " 9   Bilirrubina Total                      2622 non-null   float64\n",
            " 10  CHCM                                   7260 non-null   float64\n",
            " 11  CK                                     2557 non-null   float64\n",
            " 12  Colesterol total                       2837 non-null   float64\n",
            " 13  Creatinina                             6553 non-null   float64\n",
            " 14  Cálculo p/afrodescendente CKD-EPI      1994 non-null   float64\n",
            " 15  Cálculo p/não afrodescendente CKD-EPI  3462 non-null   float64\n",
            " 16  DHL - IFCC                             2192 non-null   float64\n",
            " 17  Densidade, urina                       2650 non-null   float64\n",
            " 18  Dimeros D, quant                       3640 non-null   float64\n",
            " 19  Eosinófilos                            7260 non-null   float64\n",
            " 20  Eosinófilos (%)                        7260 non-null   float64\n",
            " 21  Eritrócitos                            7263 non-null   float64\n",
            " 22  Eritrócitos, urina                     2620 non-null   float64\n",
            " 23  Ferritina                              2673 non-null   float64\n",
            " 24  Fosfatase Alcalina                     2779 non-null   float64\n",
            " 25  Gama-GT                                3451 non-null   float64\n",
            " 26  Glicose                                4263 non-null   float64\n",
            " 27  HCM                                    7260 non-null   float64\n",
            " 28  Hematócrito                            7265 non-null   float64\n",
            " 29  Hemoglobina                            7271 non-null   float64\n",
            " 30  Hemoglobina Glicada                    2394 non-null   float64\n",
            " 31  LDL Colesterol                         2789 non-null   float64\n",
            " 32  Leucócitos                             7262 non-null   float64\n",
            " 33  Leucócitos, urina                      2641 non-null   float64\n",
            " 34  Linfócitos                             7260 non-null   float64\n",
            " 35  Linfócitos (%)                         7260 non-null   float64\n",
            " 36  Monócitos                              7260 non-null   float64\n",
            " 37  Monócitos (%)                          7260 non-null   float64\n",
            " 38  Neutrófilos                            7260 non-null   float64\n",
            " 39  Neutrófilos (%)                        7257 non-null   float64\n",
            " 40  Plaquetas                              7273 non-null   float64\n",
            " 41  Potássio                               5499 non-null   float64\n",
            " 42  Proteína C-Reativa                     5724 non-null   float64\n",
            " 43  RDW                                    7263 non-null   float64\n",
            " 44  Sódio                                  5383 non-null   float64\n",
            " 45  T4 Livre                               2531 non-null   float64\n",
            " 46  TP/INR                                 2027 non-null   float64\n",
            " 47  Tempo de Protrombina                   2027 non-null   float64\n",
            " 48  Triglicérides                          2854 non-null   float64\n",
            " 49  Uréia                                  6181 non-null   float64\n",
            " 50  VCM                                    7263 non-null   float64\n",
            " 51  Volume plaquetário médio               7189 non-null   float64\n",
            " 52  pH, urina                              2652 non-null   float64\n",
            " 53  SEXO                                   7894 non-null   int64  \n",
            " 54  target                                 7894 non-null   object \n",
            "dtypes: float64(51), int64(2), object(2)\n",
            "memory usage: 3.3+ MB\n"
          ]
        }
      ],
      "source": [
        "sirio_aprendizado.info()"
      ]
    },
    {
      "cell_type": "code",
      "execution_count": 376,
      "metadata": {
        "colab": {
          "base_uri": "https://localhost:8080/"
        },
        "id": "T2SM6fDmpLe_",
        "outputId": "87eac4a6-ad26-4711-d770-d0e0ffda0965"
      },
      "outputs": [
        {
          "data": {
            "text/plain": [
              "(7894, 55)"
            ]
          },
          "execution_count": 376,
          "metadata": {},
          "output_type": "execute_result"
        }
      ],
      "source": [
        "sirio_aprendizado.shape"
      ]
    },
    {
      "cell_type": "code",
      "execution_count": 377,
      "metadata": {
        "colab": {
          "base_uri": "https://localhost:8080/",
          "height": 334
        },
        "id": "8oWRKXoTpGwu",
        "outputId": "fc5d456f-e41c-4e43-fd83-123c86bc8f49"
      },
      "outputs": [
        {
          "data": {
            "text/html": [
              "<div>\n",
              "<style scoped>\n",
              "    .dataframe tbody tr th:only-of-type {\n",
              "        vertical-align: middle;\n",
              "    }\n",
              "\n",
              "    .dataframe tbody tr th {\n",
              "        vertical-align: top;\n",
              "    }\n",
              "\n",
              "    .dataframe thead th {\n",
              "        text-align: right;\n",
              "    }\n",
              "</style>\n",
              "<table border=\"1\" class=\"dataframe\">\n",
              "  <thead>\n",
              "    <tr style=\"text-align: right;\">\n",
              "      <th></th>\n",
              "      <th>ID_PACIENTE</th>\n",
              "      <th>Idade</th>\n",
              "      <th>25OH-Vitamina D Total</th>\n",
              "      <th>ALT (TGP)</th>\n",
              "      <th>AST (TGO)</th>\n",
              "      <th>Basófilos</th>\n",
              "      <th>Basófilos (%)</th>\n",
              "      <th>Bilirrubina Direta</th>\n",
              "      <th>Bilirrubina Indireta</th>\n",
              "      <th>Bilirrubina Total</th>\n",
              "      <th>...</th>\n",
              "      <th>T4 Livre</th>\n",
              "      <th>TP/INR</th>\n",
              "      <th>Tempo de Protrombina</th>\n",
              "      <th>Triglicérides</th>\n",
              "      <th>Uréia</th>\n",
              "      <th>VCM</th>\n",
              "      <th>Volume plaquetário médio</th>\n",
              "      <th>pH, urina</th>\n",
              "      <th>SEXO</th>\n",
              "      <th>target</th>\n",
              "    </tr>\n",
              "  </thead>\n",
              "  <tbody>\n",
              "    <tr>\n",
              "      <th>0</th>\n",
              "      <td>00017961865C4F766FDBB3CD8FE0BFB0</td>\n",
              "      <td>54</td>\n",
              "      <td>NaN</td>\n",
              "      <td>26.0</td>\n",
              "      <td>24.0</td>\n",
              "      <td>40.0</td>\n",
              "      <td>0.6</td>\n",
              "      <td>0.13</td>\n",
              "      <td>0.17</td>\n",
              "      <td>0.3</td>\n",
              "      <td>...</td>\n",
              "      <td>NaN</td>\n",
              "      <td>NaN</td>\n",
              "      <td>NaN</td>\n",
              "      <td>NaN</td>\n",
              "      <td>35.0</td>\n",
              "      <td>86.0</td>\n",
              "      <td>9.8</td>\n",
              "      <td>NaN</td>\n",
              "      <td>1</td>\n",
              "      <td>0</td>\n",
              "    </tr>\n",
              "    <tr>\n",
              "      <th>1</th>\n",
              "      <td>0003B368F65004E14332CD44BEE6E600</td>\n",
              "      <td>53</td>\n",
              "      <td>NaN</td>\n",
              "      <td>14.0</td>\n",
              "      <td>20.0</td>\n",
              "      <td>10.0</td>\n",
              "      <td>0.2</td>\n",
              "      <td>NaN</td>\n",
              "      <td>NaN</td>\n",
              "      <td>NaN</td>\n",
              "      <td>...</td>\n",
              "      <td>NaN</td>\n",
              "      <td>NaN</td>\n",
              "      <td>NaN</td>\n",
              "      <td>NaN</td>\n",
              "      <td>29.0</td>\n",
              "      <td>92.7</td>\n",
              "      <td>9.8</td>\n",
              "      <td>NaN</td>\n",
              "      <td>0</td>\n",
              "      <td>0</td>\n",
              "    </tr>\n",
              "    <tr>\n",
              "      <th>2</th>\n",
              "      <td>000F0BC139D2846DB86AA32B8F05B215</td>\n",
              "      <td>41</td>\n",
              "      <td>NaN</td>\n",
              "      <td>NaN</td>\n",
              "      <td>NaN</td>\n",
              "      <td>20.0</td>\n",
              "      <td>0.4</td>\n",
              "      <td>NaN</td>\n",
              "      <td>NaN</td>\n",
              "      <td>NaN</td>\n",
              "      <td>...</td>\n",
              "      <td>NaN</td>\n",
              "      <td>NaN</td>\n",
              "      <td>NaN</td>\n",
              "      <td>142.0</td>\n",
              "      <td>33.0</td>\n",
              "      <td>83.2</td>\n",
              "      <td>10.0</td>\n",
              "      <td>5.0</td>\n",
              "      <td>1</td>\n",
              "      <td>0</td>\n",
              "    </tr>\n",
              "    <tr>\n",
              "      <th>3</th>\n",
              "      <td>0028785949D91BD93442838FC898E229</td>\n",
              "      <td>31</td>\n",
              "      <td>NaN</td>\n",
              "      <td>NaN</td>\n",
              "      <td>NaN</td>\n",
              "      <td>NaN</td>\n",
              "      <td>NaN</td>\n",
              "      <td>NaN</td>\n",
              "      <td>NaN</td>\n",
              "      <td>NaN</td>\n",
              "      <td>...</td>\n",
              "      <td>NaN</td>\n",
              "      <td>NaN</td>\n",
              "      <td>NaN</td>\n",
              "      <td>NaN</td>\n",
              "      <td>NaN</td>\n",
              "      <td>NaN</td>\n",
              "      <td>NaN</td>\n",
              "      <td>NaN</td>\n",
              "      <td>0</td>\n",
              "      <td>0</td>\n",
              "    </tr>\n",
              "    <tr>\n",
              "      <th>4</th>\n",
              "      <td>00293E8E4B5FE4DABA62131274B3685A</td>\n",
              "      <td>73</td>\n",
              "      <td>NaN</td>\n",
              "      <td>NaN</td>\n",
              "      <td>NaN</td>\n",
              "      <td>20.0</td>\n",
              "      <td>0.5</td>\n",
              "      <td>NaN</td>\n",
              "      <td>NaN</td>\n",
              "      <td>NaN</td>\n",
              "      <td>...</td>\n",
              "      <td>NaN</td>\n",
              "      <td>NaN</td>\n",
              "      <td>NaN</td>\n",
              "      <td>NaN</td>\n",
              "      <td>35.0</td>\n",
              "      <td>77.4</td>\n",
              "      <td>10.3</td>\n",
              "      <td>NaN</td>\n",
              "      <td>0</td>\n",
              "      <td>0</td>\n",
              "    </tr>\n",
              "  </tbody>\n",
              "</table>\n",
              "<p>5 rows × 55 columns</p>\n",
              "</div>"
            ],
            "text/plain": [
              "                        ID_PACIENTE  Idade  25OH-Vitamina D Total  ALT (TGP)  \\\n",
              "0  00017961865C4F766FDBB3CD8FE0BFB0     54                    NaN       26.0   \n",
              "1  0003B368F65004E14332CD44BEE6E600     53                    NaN       14.0   \n",
              "2  000F0BC139D2846DB86AA32B8F05B215     41                    NaN        NaN   \n",
              "3  0028785949D91BD93442838FC898E229     31                    NaN        NaN   \n",
              "4  00293E8E4B5FE4DABA62131274B3685A     73                    NaN        NaN   \n",
              "\n",
              "   AST (TGO)  Basófilos  Basófilos (%)  Bilirrubina Direta  \\\n",
              "0       24.0       40.0            0.6                0.13   \n",
              "1       20.0       10.0            0.2                 NaN   \n",
              "2        NaN       20.0            0.4                 NaN   \n",
              "3        NaN        NaN            NaN                 NaN   \n",
              "4        NaN       20.0            0.5                 NaN   \n",
              "\n",
              "   Bilirrubina Indireta  Bilirrubina Total  ...  T4 Livre  TP/INR  \\\n",
              "0                  0.17                0.3  ...       NaN     NaN   \n",
              "1                   NaN                NaN  ...       NaN     NaN   \n",
              "2                   NaN                NaN  ...       NaN     NaN   \n",
              "3                   NaN                NaN  ...       NaN     NaN   \n",
              "4                   NaN                NaN  ...       NaN     NaN   \n",
              "\n",
              "   Tempo de Protrombina  Triglicérides  Uréia   VCM  Volume plaquetário médio  \\\n",
              "0                   NaN            NaN   35.0  86.0                       9.8   \n",
              "1                   NaN            NaN   29.0  92.7                       9.8   \n",
              "2                   NaN          142.0   33.0  83.2                      10.0   \n",
              "3                   NaN            NaN    NaN   NaN                       NaN   \n",
              "4                   NaN            NaN   35.0  77.4                      10.3   \n",
              "\n",
              "   pH, urina  SEXO  target  \n",
              "0        NaN     1       0  \n",
              "1        NaN     0       0  \n",
              "2        5.0     1       0  \n",
              "3        NaN     0       0  \n",
              "4        NaN     0       0  \n",
              "\n",
              "[5 rows x 55 columns]"
            ]
          },
          "execution_count": 377,
          "metadata": {},
          "output_type": "execute_result"
        }
      ],
      "source": [
        "sirio_aprendizado.head()"
      ]
    },
    {
      "cell_type": "code",
      "execution_count": 378,
      "metadata": {
        "colab": {
          "base_uri": "https://localhost:8080/"
        },
        "id": "46btgVeZyWPK",
        "outputId": "29ccce1b-4099-4e61-9813-135601eac339"
      },
      "outputs": [
        {
          "data": {
            "text/plain": [
              "ID_PACIENTE                                 0\n",
              "Idade                                       0\n",
              "25OH-Vitamina D Total                    5645\n",
              "ALT (TGP)                                2505\n",
              "AST (TGO)                                2534\n",
              "Basófilos                                 634\n",
              "Basófilos (%)                             634\n",
              "Bilirrubina Direta                       5272\n",
              "Bilirrubina Indireta                     5272\n",
              "Bilirrubina Total                        5272\n",
              "CHCM                                      634\n",
              "CK                                       5337\n",
              "Colesterol total                         5057\n",
              "Creatinina                               1341\n",
              "Cálculo p/afrodescendente CKD-EPI        5900\n",
              "Cálculo p/não afrodescendente CKD-EPI    4432\n",
              "DHL - IFCC                               5702\n",
              "Densidade, urina                         5244\n",
              "Dimeros D, quant                         4254\n",
              "Eosinófilos                               634\n",
              "Eosinófilos (%)                           634\n",
              "Eritrócitos                               631\n",
              "Eritrócitos, urina                       5274\n",
              "Ferritina                                5221\n",
              "Fosfatase Alcalina                       5115\n",
              "Gama-GT                                  4443\n",
              "Glicose                                  3631\n",
              "HCM                                       634\n",
              "Hematócrito                               629\n",
              "Hemoglobina                               623\n",
              "Hemoglobina Glicada                      5500\n",
              "LDL Colesterol                           5105\n",
              "Leucócitos                                632\n",
              "Leucócitos, urina                        5253\n",
              "Linfócitos                                634\n",
              "Linfócitos (%)                            634\n",
              "Monócitos                                 634\n",
              "Monócitos (%)                             634\n",
              "Neutrófilos                               634\n",
              "Neutrófilos (%)                           637\n",
              "Plaquetas                                 621\n",
              "Potássio                                 2395\n",
              "Proteína C-Reativa                       2170\n",
              "RDW                                       631\n",
              "Sódio                                    2511\n",
              "T4 Livre                                 5363\n",
              "TP/INR                                   5867\n",
              "Tempo de Protrombina                     5867\n",
              "Triglicérides                            5040\n",
              "Uréia                                    1713\n",
              "VCM                                       631\n",
              "Volume plaquetário médio                  705\n",
              "pH, urina                                5242\n",
              "SEXO                                        0\n",
              "target                                      0\n",
              "dtype: int64"
            ]
          },
          "execution_count": 378,
          "metadata": {},
          "output_type": "execute_result"
        }
      ],
      "source": [
        "# Valores ausentes por exames\n",
        "mi = sirio_aprendizado.isnull().sum()\n",
        "\n",
        "#mi = mi.sort()\n",
        "\n",
        "mi"
      ]
    },
    {
      "cell_type": "code",
      "execution_count": 379,
      "metadata": {
        "id": "aBAwMnWIsQcj"
      },
      "outputs": [
        {
          "data": {
            "image/png": "[encoded data removed]",
            "text/plain": [
              "<Figure size 1500x300 with 1 Axes>"
            ]
          },
          "metadata": {},
          "output_type": "display_data"
        }
      ],
      "source": [
        "mi = pd.Series(mi)\n",
        "#mi.index = X_train.columns\n",
        "mi=mi.sort_values(ascending = False)\n",
        "my_colors = ['r', 'g', 'b', 'k', 'y', 'm', 'c']\n",
        "plt.rcParams['xtick.labelsize'] = 14\n",
        "plt.rcParams['ytick.labelsize'] = 14\n",
        "mi.plot(kind='bar', color=my_colors, figsize=(15,3))\n",
        "plt.show()"
      ]
    },
    {
      "cell_type": "markdown",
      "metadata": {
        "id": "qJFn15TJli2W"
      },
      "source": [
        "#### **DESCRIBE**"
      ]
    },
    {
      "cell_type": "code",
      "execution_count": null,
      "metadata": {
        "id": "DtJe_hoBvmCn"
      },
      "outputs": [],
      "source": [
        "#! pip install https://github.com/pandas-profiling/pandas-profiling/archive/master.zip"
      ]
    },
    {
      "cell_type": "code",
      "execution_count": 382,
      "metadata": {
        "id": "rgmNmSxgR1U3"
      },
      "outputs": [
        {
          "data": {
            "application/vnd.jupyter.widget-view+json": {
              "model_id": "f51bb472e43247a8a32070c875d3ead2",
              "version_major": 2,
              "version_minor": 0
            },
            "text/plain": [
              "Summarize dataset:   0%|          | 0/5 [00:00<?, ?it/s]"
            ]
          },
          "metadata": {},
          "output_type": "display_data"
        },
        {
          "name": "stderr",
          "output_type": "stream",
          "text": [
            "100%|██████████| 55/55 [00:00<?, ?it/s]\n"
          ]
        },
        {
          "data": {
            "application/vnd.jupyter.widget-view+json": {
              "model_id": "3fbe2727b91e41e4aa7919a73200d3b7",
              "version_major": 2,
              "version_minor": 0
            },
            "text/plain": [
              "Generate report structure:   0%|          | 0/1 [00:00<?, ?it/s]"
            ]
          },
          "metadata": {},
          "output_type": "display_data"
        },
        {
          "data": {
            "application/vnd.jupyter.widget-view+json": {
              "model_id": "35c67fedf2bb4e1494d760c7d3de881a",
              "version_major": 2,
              "version_minor": 0
            },
            "text/plain": [
              "Render HTML:   0%|          | 0/1 [00:00<?, ?it/s]"
            ]
          },
          "metadata": {},
          "output_type": "display_data"
        },
        {
          "data": {
            "application/vnd.jupyter.widget-view+json": {
              "model_id": "010d0d6c43d1419580008f624b5d5135",
              "version_major": 2,
              "version_minor": 0
            },
            "text/plain": [
              "Export report to file:   0%|          | 0/1 [00:00<?, ?it/s]"
            ]
          },
          "metadata": {},
          "output_type": "display_data"
        }
      ],
      "source": [
        "profile = sirio_aprendizado.profile_report(title=\"RELATORIO\")\n",
        "profile.to_file(output_file=\"RELATORIO.html\")"
      ]
    }
  ],
  "metadata": {
    "colab": {
      "collapsed_sections": [
        "ZJw8Itgov-N1",
        "qoOivusmkJsx",
        "3iDhgCRJnU0y",
        "qMI9F-oQoJXN"
      ],
      "name": "Integracao_por_origem_exame_HSL_v3.ipynb",
      "provenance": [],
      "toc_visible": true
    },
    "kernelspec": {
      "display_name": "Python 3",
      "name": "python3"
    },
    "language_info": {
      "codemirror_mode": {
        "name": "ipython",
        "version": 3
      },
      "file_extension": ".py",
      "mimetype": "text/x-python",
      "name": "python",
      "nbconvert_exporter": "python",
      "pygments_lexer": "ipython3",
      "version": "3.11.9"
    }
  },
  "nbformat": 4,
  "nbformat_minor": 0
}
